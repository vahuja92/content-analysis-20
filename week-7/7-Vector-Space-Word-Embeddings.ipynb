{
 "cells": [
  {
   "cell_type": "markdown",
   "metadata": {},
   "source": [
    "# Week 7 - Vector Space Word Embeddings\n",
    "\n",
    "This week, we build on last week's topic modeling techniques by taking a text corpus we have developed, specifying an underlying number of dimensions, and training a model with a neural network auto-encoder (one of Google's word2vec  algorithms) that best describes corpus words in their local linguistic contexts, and exploring their locations in the resulting space to learn about the discursive culture that produced them. Documents here are represented as densely indexed locations in dimensions, rather than sparse mixtures of topics (as in LDA topic modeling), so that distances between those documents (and words) are consistently superior, though they require the full vector of dimension loadings (rather than just a few selected topic loadings) to describe. We will explore these spaces to understand complex, semantic relationships between words, index documents with descriptive words, identify the likelihood that a given document would have been produced by a given vector model, and explore how semantic categories can help us understand the cultures that produced them.\n",
    "\n",
    "For this notebook we will be using the following packages"
   ]
  },
  {
   "cell_type": "code",
   "execution_count": 7,
   "metadata": {},
   "outputs": [],
   "source": [
    "#All these packages need to be installed from pip\n",
    "import gensim#For word2vec, etc\n",
    "import requests #For downloading our datasets\n",
    "import lucem_illud_2020\n",
    "\n",
    "import numpy as np #For arrays\n",
    "import pandas #Gives us DataFrames\n",
    "import matplotlib.pyplot as plt #For graphics\n",
    "import seaborn #Makes the graphics look nicer\n",
    "import sklearn.metrics.pairwise #For cosine similarity\n",
    "import sklearn.manifold #For T-SNE\n",
    "import sklearn.decomposition #For PCA\n",
    "\n",
    "#This 'magic' command makes the plots work better\n",
    "#in the notebook, don't use it outside of a notebook.\n",
    "#Also you can ignore the warning\n",
    "%matplotlib inline\n",
    "\n",
    "import os #For looking through files\n",
    "import os.path #For managing file paths\n",
    "import pandas as pd"
   ]
  },
  {
   "cell_type": "markdown",
   "metadata": {},
   "source": [
    "# Loading my corpora"
   ]
  },
  {
   "cell_type": "code",
   "execution_count": 8,
   "metadata": {},
   "outputs": [],
   "source": [
    "coca_corpus = pd.read_csv(\"../week-6/1990_2011_coca_corpus.csv\")"
   ]
  },
  {
   "cell_type": "markdown",
   "metadata": {},
   "source": [
    "### I pick a random sample of my corpus for computational ease (will run on full corpus for my final project)"
   ]
  },
  {
   "cell_type": "code",
   "execution_count": 9,
   "metadata": {},
   "outputs": [],
   "source": [
    "text_df = coca_corpus.sample(n=2000, random_state=1)"
   ]
  },
  {
   "cell_type": "markdown",
   "metadata": {},
   "source": [
    "## <span style=\"color:red\">*Exercise 1*</span>\n",
    "\n",
    "<span style=\"color:red\">Construct cells immediately below this that embed documents related to your final project using at least two different specification of `word2vec`, and visualize them each with two separate visualization layout specifications (e.g., TSNE, PCA). Then interrogate critical word vectors within your corpus in terms of the most similar words, analogies, and other additions and subtractions that reveal the structure of similarity and difference within your semantic space. What does this pattern reveal about the semantic organization of words in your corpora? Which estimation and visualization specification generate the most insight and appear the most robustly supported and why? \n",
    "\n",
    "<span style=\"color:red\">***Stretch***: Explore different vector calculations beyond addition and subtraction, such as multiplication, division or some other function. What does this exploration reveal about the semantic structure of your corpus?"
   ]
  },
  {
   "cell_type": "markdown",
   "metadata": {},
   "source": [
    "# Getting our corpora\n",
    "\n",
    "Instead of downloading our corpora, we have download them in advance; a subset of the [senate press releases](https://github.com/lintool/GrimmerSenatePressReleases) are in `grimmerPressReleases`. We will load them into a DataFrame, but first we need to define a function to convert directories of text files into DataFrames:"
   ]
  },
  {
   "cell_type": "code",
   "execution_count": 10,
   "metadata": {},
   "outputs": [],
   "source": [
    "def loadDir(targetDir, category):\n",
    "    allFileNames = os.listdir(targetDir)\n",
    "    #We need to make them into useable paths and filter out hidden files\n",
    "    filePaths = [os.path.join(targetDir, fname) for fname in allFileNames if fname[0] != '.']\n",
    "\n",
    "    #The dict that will become the DataFrame\n",
    "    senDict = {\n",
    "        'category' : [category] * len(filePaths),\n",
    "        'filePath' : [],\n",
    "        'text' : [],\n",
    "    }\n",
    "\n",
    "    for fPath in filePaths:\n",
    "        with open(fPath) as f:\n",
    "            senDict['text'].append(f.read())\n",
    "            senDict['filePath'].append(fPath)\n",
    "\n",
    "    return pandas.DataFrame(senDict)"
   ]
  },
  {
   "cell_type": "markdown",
   "metadata": {},
   "source": [
    "Now we can use the function in all the directories in `data/grimmerPressReleases`"
   ]
  },
  {
   "cell_type": "markdown",
   "metadata": {},
   "source": [
    "Word2Vec needs to retain the sentence structure so as to capture a \"continuous bag of words (CBOW)\" and all of the skip-grams within a word window. The algorithm tries to preserve the distances induced by one of these two local structures. This is very different from clustering and LDA topic modeling which extract unordered words alone.\n",
    "\n",
    "When we normalize here, we don't use the lematized form of the word because we might lose information. Note the paramter in the normalize tokens function."
   ]
  },
  {
   "cell_type": "code",
   "execution_count": 11,
   "metadata": {},
   "outputs": [
    {
     "data": {
      "text/plain": [
       "(2000, 5)"
      ]
     },
     "execution_count": 11,
     "metadata": {},
     "output_type": "execute_result"
    }
   ],
   "source": [
    "text_df.shape"
   ]
  },
  {
   "cell_type": "code",
   "execution_count": 12,
   "metadata": {},
   "outputs": [
    {
     "data": {
      "text/html": [
       "<div>\n",
       "<style scoped>\n",
       "    .dataframe tbody tr th:only-of-type {\n",
       "        vertical-align: middle;\n",
       "    }\n",
       "\n",
       "    .dataframe tbody tr th {\n",
       "        vertical-align: top;\n",
       "    }\n",
       "\n",
       "    .dataframe thead th {\n",
       "        text-align: right;\n",
       "    }\n",
       "</style>\n",
       "<table border=\"1\" class=\"dataframe\">\n",
       "  <thead>\n",
       "    <tr style=\"text-align: right;\">\n",
       "      <th></th>\n",
       "      <th>Unnamed: 0</th>\n",
       "      <th>year</th>\n",
       "      <th>genre</th>\n",
       "      <th>text</th>\n",
       "      <th>tokenized_text</th>\n",
       "      <th>tokenized_sents</th>\n",
       "      <th>normalized_sents</th>\n",
       "    </tr>\n",
       "  </thead>\n",
       "  <tbody>\n",
       "    <tr>\n",
       "      <td>13598</td>\n",
       "      <td>13598</td>\n",
       "      <td>2007</td>\n",
       "      <td>spok</td>\n",
       "      <td>##244801 !PAULA-ZAHN-CNN-AN : Good evening , e...</td>\n",
       "      <td>['PAULA', 'ZAHN', 'CNN', 'AN', 'Good', 'evenin...</td>\n",
       "      <td>[[244801], [PAULA, ZAHN, CNN, AN], [Good, even...</td>\n",
       "      <td>[[], [paula, zahn, cnn], [good, evening, every...</td>\n",
       "    </tr>\n",
       "    <tr>\n",
       "      <td>13297</td>\n",
       "      <td>13297</td>\n",
       "      <td>2007</td>\n",
       "      <td>spok</td>\n",
       "      <td>##237499 !CONTENT : ARNOLD SCHWARZENEGGER , ' ...</td>\n",
       "      <td>['CONTENT', 'ARNOLD', 'SCHWARZENEGGER', 'NEWSW...</td>\n",
       "      <td>[[237499], [CONTENT], [ARNOLD, SCHWARZENEGGER,...</td>\n",
       "      <td>[[], [content], [arnold, schwarzenegger, newsw...</td>\n",
       "    </tr>\n",
       "    <tr>\n",
       "      <td>2124</td>\n",
       "      <td>2124</td>\n",
       "      <td>2012</td>\n",
       "      <td>mag</td>\n",
       "      <td>4151949 FROM THE EDITOR # I LOVE MY SISTER ; H...</td>\n",
       "      <td>['FROM', 'THE', 'EDITOR', 'I', 'LOVE', 'MY', '...</td>\n",
       "      <td>[[4151949, FROM, THE, EDITOR, I, LOVE, MY, SIS...</td>\n",
       "      <td>[[editor, love, sister, hate, politics], [let,...</td>\n",
       "    </tr>\n",
       "    <tr>\n",
       "      <td>18398</td>\n",
       "      <td>18398</td>\n",
       "      <td>2003</td>\n",
       "      <td>fic</td>\n",
       "      <td>##1010364 Extra Play Headnote A basketball pla...</td>\n",
       "      <td>['Extra', 'Play', 'Headnote', 'A', 'basketball...</td>\n",
       "      <td>[[1010364, Extra, Play], [Headnote, A, basketb...</td>\n",
       "      <td>[[extra, play], [headnote, basketball, player,...</td>\n",
       "    </tr>\n",
       "    <tr>\n",
       "      <td>9352</td>\n",
       "      <td>9352</td>\n",
       "      <td>2000</td>\n",
       "      <td>spok</td>\n",
       "      <td>##215892 KYRA PHILLIPS , CNN ANCHOR : We turn ...</td>\n",
       "      <td>['KYRA', 'PHILLIPS', 'CNN', 'ANCHOR', 'We', 't...</td>\n",
       "      <td>[[215892, KYRA, PHILLIPS, CNN, ANCHOR], [We, t...</td>\n",
       "      <td>[[kyra, phillips, cnn, anchor], [turn, latest,...</td>\n",
       "    </tr>\n",
       "    <tr>\n",
       "      <td>9520</td>\n",
       "      <td>9520</td>\n",
       "      <td>2000</td>\n",
       "      <td>spok</td>\n",
       "      <td>##218254 ANDRIA HALL , CNN ANCHOR : Twenty-fou...</td>\n",
       "      <td>['ANDRIA', 'HALL', 'CNN', 'ANCHOR', 'Twenty', ...</td>\n",
       "      <td>[[218254, ANDRIA, HALL, CNN, ANCHOR], [Twenty,...</td>\n",
       "      <td>[[andria, hall, cnn, anchor], [year, old, tige...</td>\n",
       "    </tr>\n",
       "    <tr>\n",
       "      <td>21839</td>\n",
       "      <td>21839</td>\n",
       "      <td>2013</td>\n",
       "      <td>fic</td>\n",
       "      <td>4163042 At the Early Music Institute , Rachael...</td>\n",
       "      <td>['At', 'the', 'Early', 'Music', 'Institute', '...</td>\n",
       "      <td>[[4163042], [At, the, Early, Music, Institute,...</td>\n",
       "      <td>[[], [early, music, institute, rachael, began,...</td>\n",
       "    </tr>\n",
       "    <tr>\n",
       "      <td>21834</td>\n",
       "      <td>21834</td>\n",
       "      <td>2013</td>\n",
       "      <td>fic</td>\n",
       "      <td>4163016 Miranda the Elephant Girl was the firs...</td>\n",
       "      <td>['Miranda', 'the', 'Elephant', 'Girl', 'was', ...</td>\n",
       "      <td>[[4163016], [Miranda], [the, Elephant, Girl, w...</td>\n",
       "      <td>[[], [miranda], [elephant, girl], [trevor, hir...</td>\n",
       "    </tr>\n",
       "    <tr>\n",
       "      <td>11695</td>\n",
       "      <td>11695</td>\n",
       "      <td>1999</td>\n",
       "      <td>news</td>\n",
       "      <td>##3043169  Every day for nearly three months ,...</td>\n",
       "      <td>['Every', 'day', 'for', 'nearly', 'three', 'mo...</td>\n",
       "      <td>[[3043169], [Every, day, for, nearly, three, m...</td>\n",
       "      <td>[[], [day, nearly, months, pentagon, displayed...</td>\n",
       "    </tr>\n",
       "    <tr>\n",
       "      <td>13899</td>\n",
       "      <td>13899</td>\n",
       "      <td>2007</td>\n",
       "      <td>spok</td>\n",
       "      <td>##246436 !HANNAH-STORM-co-h : The August issue...</td>\n",
       "      <td>['HANNAH', 'STORM', 'co', 'h', 'The', 'August'...</td>\n",
       "      <td>[[246436], [HANNAH, STORM, co, h], [The, Augus...</td>\n",
       "      <td>[[], [hannah, storm, co, h], [august, issue, f...</td>\n",
       "    </tr>\n",
       "  </tbody>\n",
       "</table>\n",
       "</div>"
      ],
      "text/plain": [
       "       Unnamed: 0  year genre  \\\n",
       "13598       13598  2007  spok   \n",
       "13297       13297  2007  spok   \n",
       "2124         2124  2012   mag   \n",
       "18398       18398  2003   fic   \n",
       "9352         9352  2000  spok   \n",
       "9520         9520  2000  spok   \n",
       "21839       21839  2013   fic   \n",
       "21834       21834  2013   fic   \n",
       "11695       11695  1999  news   \n",
       "13899       13899  2007  spok   \n",
       "\n",
       "                                                    text  \\\n",
       "13598  ##244801 !PAULA-ZAHN-CNN-AN : Good evening , e...   \n",
       "13297  ##237499 !CONTENT : ARNOLD SCHWARZENEGGER , ' ...   \n",
       "2124   4151949 FROM THE EDITOR # I LOVE MY SISTER ; H...   \n",
       "18398  ##1010364 Extra Play Headnote A basketball pla...   \n",
       "9352   ##215892 KYRA PHILLIPS , CNN ANCHOR : We turn ...   \n",
       "9520   ##218254 ANDRIA HALL , CNN ANCHOR : Twenty-fou...   \n",
       "21839  4163042 At the Early Music Institute , Rachael...   \n",
       "21834  4163016 Miranda the Elephant Girl was the firs...   \n",
       "11695  ##3043169  Every day for nearly three months ,...   \n",
       "13899  ##246436 !HANNAH-STORM-co-h : The August issue...   \n",
       "\n",
       "                                          tokenized_text  \\\n",
       "13598  ['PAULA', 'ZAHN', 'CNN', 'AN', 'Good', 'evenin...   \n",
       "13297  ['CONTENT', 'ARNOLD', 'SCHWARZENEGGER', 'NEWSW...   \n",
       "2124   ['FROM', 'THE', 'EDITOR', 'I', 'LOVE', 'MY', '...   \n",
       "18398  ['Extra', 'Play', 'Headnote', 'A', 'basketball...   \n",
       "9352   ['KYRA', 'PHILLIPS', 'CNN', 'ANCHOR', 'We', 't...   \n",
       "9520   ['ANDRIA', 'HALL', 'CNN', 'ANCHOR', 'Twenty', ...   \n",
       "21839  ['At', 'the', 'Early', 'Music', 'Institute', '...   \n",
       "21834  ['Miranda', 'the', 'Elephant', 'Girl', 'was', ...   \n",
       "11695  ['Every', 'day', 'for', 'nearly', 'three', 'mo...   \n",
       "13899  ['HANNAH', 'STORM', 'co', 'h', 'The', 'August'...   \n",
       "\n",
       "                                         tokenized_sents  \\\n",
       "13598  [[244801], [PAULA, ZAHN, CNN, AN], [Good, even...   \n",
       "13297  [[237499], [CONTENT], [ARNOLD, SCHWARZENEGGER,...   \n",
       "2124   [[4151949, FROM, THE, EDITOR, I, LOVE, MY, SIS...   \n",
       "18398  [[1010364, Extra, Play], [Headnote, A, basketb...   \n",
       "9352   [[215892, KYRA, PHILLIPS, CNN, ANCHOR], [We, t...   \n",
       "9520   [[218254, ANDRIA, HALL, CNN, ANCHOR], [Twenty,...   \n",
       "21839  [[4163042], [At, the, Early, Music, Institute,...   \n",
       "21834  [[4163016], [Miranda], [the, Elephant, Girl, w...   \n",
       "11695  [[3043169], [Every, day, for, nearly, three, m...   \n",
       "13899  [[246436], [HANNAH, STORM, co, h], [The, Augus...   \n",
       "\n",
       "                                        normalized_sents  \n",
       "13598  [[], [paula, zahn, cnn], [good, evening, every...  \n",
       "13297  [[], [content], [arnold, schwarzenegger, newsw...  \n",
       "2124   [[editor, love, sister, hate, politics], [let,...  \n",
       "18398  [[extra, play], [headnote, basketball, player,...  \n",
       "9352   [[kyra, phillips, cnn, anchor], [turn, latest,...  \n",
       "9520   [[andria, hall, cnn, anchor], [year, old, tige...  \n",
       "21839  [[], [early, music, institute, rachael, began,...  \n",
       "21834  [[], [miranda], [elephant, girl], [trevor, hir...  \n",
       "11695  [[], [day, nearly, months, pentagon, displayed...  \n",
       "13899  [[], [hannah, storm, co, h], [august, issue, f...  "
      ]
     },
     "execution_count": 12,
     "metadata": {},
     "output_type": "execute_result"
    }
   ],
   "source": [
    "text_df['tokenized_sents'] = text_df['text'].apply(lambda x: [lucem_illud_2020.word_tokenize(s) for s in lucem_illud_2020.sent_tokenize(x)])\n",
    "text_df['normalized_sents'] = text_df['tokenized_sents'].apply(lambda x: [lucem_illud_2020.normalizeTokens(s, lemma=False) for s in x])\n",
    "\n",
    "text_df[:100:10]"
   ]
  },
  {
   "cell_type": "code",
   "execution_count": 13,
   "metadata": {},
   "outputs": [
    {
     "data": {
      "text/html": [
       "<div>\n",
       "<style scoped>\n",
       "    .dataframe tbody tr th:only-of-type {\n",
       "        vertical-align: middle;\n",
       "    }\n",
       "\n",
       "    .dataframe tbody tr th {\n",
       "        vertical-align: top;\n",
       "    }\n",
       "\n",
       "    .dataframe thead th {\n",
       "        text-align: right;\n",
       "    }\n",
       "</style>\n",
       "<table border=\"1\" class=\"dataframe\">\n",
       "  <thead>\n",
       "    <tr style=\"text-align: right;\">\n",
       "      <th></th>\n",
       "      <th>Unnamed: 0</th>\n",
       "      <th>year</th>\n",
       "      <th>genre</th>\n",
       "      <th>text</th>\n",
       "      <th>tokenized_text</th>\n",
       "      <th>tokenized_sents</th>\n",
       "      <th>normalized_sents</th>\n",
       "    </tr>\n",
       "  </thead>\n",
       "  <tbody>\n",
       "    <tr>\n",
       "      <td>13598</td>\n",
       "      <td>13598</td>\n",
       "      <td>2007</td>\n",
       "      <td>spok</td>\n",
       "      <td>##244801 !PAULA-ZAHN-CNN-AN : Good evening , e...</td>\n",
       "      <td>['PAULA', 'ZAHN', 'CNN', 'AN', 'Good', 'evenin...</td>\n",
       "      <td>[[244801], [PAULA, ZAHN, CNN, AN], [Good, even...</td>\n",
       "      <td>[[], [paula, zahn, cnn], [good, evening, every...</td>\n",
       "    </tr>\n",
       "    <tr>\n",
       "      <td>484</td>\n",
       "      <td>484</td>\n",
       "      <td>1998</td>\n",
       "      <td>fic</td>\n",
       "      <td>##1006010 At the Baby Shower  Three good witch...</td>\n",
       "      <td>['At', 'the', 'Baby', 'Shower', 'Three', 'good...</td>\n",
       "      <td>[[1006010, At, the, Baby, Shower, Three, good,...</td>\n",
       "      <td>[[baby, shower, good, witches, talk, veins, vo...</td>\n",
       "    </tr>\n",
       "    <tr>\n",
       "      <td>11683</td>\n",
       "      <td>11683</td>\n",
       "      <td>1999</td>\n",
       "      <td>news</td>\n",
       "      <td>##3043155  U.S. Ambassador James Sasser emerge...</td>\n",
       "      <td>['U.S.', 'Ambassador', 'James', 'Sasser', 'eme...</td>\n",
       "      <td>[[3043155, U.S., Ambassador, James, Sasser, em...</td>\n",
       "      <td>[[u.s, ambassador, james, sasser, emerged, emb...</td>\n",
       "    </tr>\n",
       "    <tr>\n",
       "      <td>168</td>\n",
       "      <td>168</td>\n",
       "      <td>1998</td>\n",
       "      <td>fic</td>\n",
       "      <td>##1005357 My teacher told me to be really crea...</td>\n",
       "      <td>['My', 'teacher', 'told', 'me', 'to', 'be', 'r...</td>\n",
       "      <td>[[1005357], [My, teacher, told, me, to, be, re...</td>\n",
       "      <td>[[], [teacher, told, creative, project], [gues...</td>\n",
       "    </tr>\n",
       "    <tr>\n",
       "      <td>14619</td>\n",
       "      <td>14619</td>\n",
       "      <td>2007</td>\n",
       "      <td>spok</td>\n",
       "      <td>##249349 JOE WITTE , announcer : MAKE YOUR LIF...</td>\n",
       "      <td>['JOE', 'WITTE', 'announcer', 'MAKE', 'YOUR', ...</td>\n",
       "      <td>[[249349, JOE, WITTE, announcer, MAKE, YOUR, L...</td>\n",
       "      <td>[[joe, witte, announcer, life], [better, today...</td>\n",
       "    </tr>\n",
       "  </tbody>\n",
       "</table>\n",
       "</div>"
      ],
      "text/plain": [
       "       Unnamed: 0  year genre  \\\n",
       "13598       13598  2007  spok   \n",
       "484           484  1998   fic   \n",
       "11683       11683  1999  news   \n",
       "168           168  1998   fic   \n",
       "14619       14619  2007  spok   \n",
       "\n",
       "                                                    text  \\\n",
       "13598  ##244801 !PAULA-ZAHN-CNN-AN : Good evening , e...   \n",
       "484    ##1006010 At the Baby Shower  Three good witch...   \n",
       "11683  ##3043155  U.S. Ambassador James Sasser emerge...   \n",
       "168    ##1005357 My teacher told me to be really crea...   \n",
       "14619  ##249349 JOE WITTE , announcer : MAKE YOUR LIF...   \n",
       "\n",
       "                                          tokenized_text  \\\n",
       "13598  ['PAULA', 'ZAHN', 'CNN', 'AN', 'Good', 'evenin...   \n",
       "484    ['At', 'the', 'Baby', 'Shower', 'Three', 'good...   \n",
       "11683  ['U.S.', 'Ambassador', 'James', 'Sasser', 'eme...   \n",
       "168    ['My', 'teacher', 'told', 'me', 'to', 'be', 'r...   \n",
       "14619  ['JOE', 'WITTE', 'announcer', 'MAKE', 'YOUR', ...   \n",
       "\n",
       "                                         tokenized_sents  \\\n",
       "13598  [[244801], [PAULA, ZAHN, CNN, AN], [Good, even...   \n",
       "484    [[1006010, At, the, Baby, Shower, Three, good,...   \n",
       "11683  [[3043155, U.S., Ambassador, James, Sasser, em...   \n",
       "168    [[1005357], [My, teacher, told, me, to, be, re...   \n",
       "14619  [[249349, JOE, WITTE, announcer, MAKE, YOUR, L...   \n",
       "\n",
       "                                        normalized_sents  \n",
       "13598  [[], [paula, zahn, cnn], [good, evening, every...  \n",
       "484    [[baby, shower, good, witches, talk, veins, vo...  \n",
       "11683  [[u.s, ambassador, james, sasser, emerged, emb...  \n",
       "168    [[], [teacher, told, creative, project], [gues...  \n",
       "14619  [[joe, witte, announcer, life], [better, today...  "
      ]
     },
     "execution_count": 13,
     "metadata": {},
     "output_type": "execute_result"
    }
   ],
   "source": [
    "text_df.head()"
   ]
  },
  {
   "cell_type": "markdown",
   "metadata": {},
   "source": [
    "# Word2Vec\n",
    "\n",
    "We will be using the gensim implementation of [Word2Vec](https://radimrehurek.com/gensim/models/word2vec.html#gensim.models.word2vec.Word2Vec).\n",
    "\n",
    "To load our data our data we give all the sentences to the trainer:"
   ]
  },
  {
   "cell_type": "code",
   "execution_count": 14,
   "metadata": {},
   "outputs": [],
   "source": [
    "cocaW2V = gensim.models.word2vec.Word2Vec(text_df['normalized_sents'].sum())"
   ]
  },
  {
   "cell_type": "markdown",
   "metadata": {},
   "source": [
    "Inside the word2vec object the words each have a vector. To access the vector directly, use the square braces (`__getitem__`) method:"
   ]
  },
  {
   "cell_type": "code",
   "execution_count": 15,
   "metadata": {},
   "outputs": [
    {
     "data": {
      "text/plain": [
       "array([-2.124575  , -0.38336155, -1.4120934 ,  0.17954277, -0.2861045 ,\n",
       "        0.06077972, -1.5907365 , -0.3495018 , -0.4385633 , -1.1720854 ],\n",
       "      dtype=float32)"
      ]
     },
     "execution_count": 15,
     "metadata": {},
     "output_type": "execute_result"
    }
   ],
   "source": [
    "cocaW2V['president'][:10] #Shortening because it's very large"
   ]
  },
  {
   "cell_type": "markdown",
   "metadata": {},
   "source": [
    "If you want the full matrix, `syn0` stores all the vectors:"
   ]
  },
  {
   "cell_type": "code",
   "execution_count": 16,
   "metadata": {},
   "outputs": [
    {
     "data": {
      "text/plain": [
       "array([[-4.3506989e-01, -2.8963628e-01, -1.1344562e+00, ...,\n",
       "        -1.2372959e+00,  6.2197179e-01,  1.0143734e+00],\n",
       "       [-1.6691570e-01,  1.0025809e+00, -5.4623419e-01, ...,\n",
       "        -1.8586802e+00, -2.4483444e-01, -7.7783793e-01],\n",
       "       [-8.6120355e-01,  4.6783185e-01, -8.0488950e-01, ...,\n",
       "        -9.1696352e-01,  6.9020301e-01,  2.0757066e-01],\n",
       "       ...,\n",
       "       [-6.7859612e-02,  2.0899067e-02, -4.9442824e-02, ...,\n",
       "        -7.8263264e-03,  6.4643510e-02,  2.6075633e-02],\n",
       "       [-3.7910730e-02, -9.7107114e-03, -3.3526689e-02, ...,\n",
       "        -8.8902013e-03,  2.1692639e-02,  1.1975950e-02],\n",
       "       [-1.0889875e-02,  9.7387200e-03, -5.3918011e-02, ...,\n",
       "         1.8274339e-03,  3.2114260e-02, -2.1593893e-02]], dtype=float32)"
      ]
     },
     "execution_count": 16,
     "metadata": {},
     "output_type": "execute_result"
    }
   ],
   "source": [
    "cocaW2V.wv.syn0"
   ]
  },
  {
   "cell_type": "markdown",
   "metadata": {},
   "source": [
    "Then, `index2word` lets you translate from the matrix to words:"
   ]
  },
  {
   "cell_type": "markdown",
   "metadata": {},
   "source": [
    "Now we can look at a few things that come from the word vectors. The first is to find similar vectors (cosine similarity):"
   ]
  },
  {
   "cell_type": "code",
   "execution_count": 17,
   "metadata": {},
   "outputs": [
    {
     "data": {
      "text/plain": [
       "[('victims', 0.8948145508766174),\n",
       " ('committed', 0.8868284225463867),\n",
       " ('sex', 0.8715177774429321),\n",
       " ('custody', 0.8714843988418579),\n",
       " ('marriage', 0.8641161918640137),\n",
       " ('lesbian', 0.861140251159668),\n",
       " ('elderly', 0.8473095297813416),\n",
       " ('abused', 0.8470059633255005),\n",
       " ('crimes', 0.8464812636375427),\n",
       " ('fathers', 0.8463036417961121)]"
      ]
     },
     "execution_count": 17,
     "metadata": {},
     "output_type": "execute_result"
    }
   ],
   "source": [
    "cocaW2V.most_similar('gay')"
   ]
  },
  {
   "cell_type": "code",
   "execution_count": 18,
   "metadata": {},
   "outputs": [
    {
     "data": {
      "text/plain": [
       "[('orphan', 0.9737105369567871),\n",
       " ('storyteller', 0.9676104784011841),\n",
       " ('repellent', 0.9659920930862427),\n",
       " ('czanne', 0.9655430316925049),\n",
       " ('mamma', 0.9640189409255981),\n",
       " ('fife', 0.9633916616439819),\n",
       " ('ay', 0.9627771973609924),\n",
       " ('coy', 0.9622266888618469),\n",
       " ('gwenlian', 0.9618932604789734),\n",
       " ('adored', 0.960946798324585)]"
      ]
     },
     "execution_count": 18,
     "metadata": {},
     "output_type": "execute_result"
    }
   ],
   "source": [
    "cocaW2V.most_similar('queer')"
   ]
  },
  {
   "cell_type": "code",
   "execution_count": 19,
   "metadata": {},
   "outputs": [
    {
     "data": {
      "text/plain": [
       "[('disordered', 0.9542534947395325),\n",
       " ('marovola', 0.9506003260612488),\n",
       " ('autism', 0.9476722478866577),\n",
       " ('sads', 0.9472212791442871),\n",
       " ('intersex', 0.9465662240982056),\n",
       " ('premarital', 0.9465093612670898),\n",
       " ('sexually', 0.9462610483169556),\n",
       " ('unprotected', 0.9461438059806824),\n",
       " ('offender', 0.9459463357925415),\n",
       " ('affection', 0.9453954100608826)]"
      ]
     },
     "execution_count": 19,
     "metadata": {},
     "output_type": "execute_result"
    }
   ],
   "source": [
    "cocaW2V.most_similar('lesbian')"
   ]
  },
  {
   "cell_type": "code",
   "execution_count": 20,
   "metadata": {},
   "outputs": [
    {
     "data": {
      "text/plain": [
       "[('heroes', 0.9311326146125793),\n",
       " ('talented', 0.9286059141159058),\n",
       " ('obsessed', 0.9271259307861328),\n",
       " ('blessings', 0.9261050224304199),\n",
       " ('smartest', 0.9180395603179932),\n",
       " ('innumerable', 0.9142353534698486),\n",
       " ('stereotype', 0.9119947552680969),\n",
       " ('victimized', 0.9111699461936951),\n",
       " ('belong', 0.9086943864822388),\n",
       " ('racist', 0.9079829454421997)]"
      ]
     },
     "execution_count": 20,
     "metadata": {},
     "output_type": "execute_result"
    }
   ],
   "source": [
    "cocaW2V.most_similar('transgender')"
   ]
  },
  {
   "cell_type": "code",
   "execution_count": 21,
   "metadata": {},
   "outputs": [
    {
     "data": {
      "text/plain": [
       "[('spousal', 0.9448100328445435),\n",
       " ('heterosexual', 0.9433070421218872),\n",
       " ('molestation', 0.935267984867096),\n",
       " ('incarcerated', 0.9301466941833496),\n",
       " ('unprotected', 0.9290422797203064),\n",
       " ('lesbians', 0.9289318919181824),\n",
       " ('alzheimer', 0.9288617372512817),\n",
       " ('lesbian', 0.9254568815231323),\n",
       " ('anal', 0.9204820990562439),\n",
       " ('incarceration', 0.9204396605491638)]"
      ]
     },
     "execution_count": 21,
     "metadata": {},
     "output_type": "execute_result"
    }
   ],
   "source": [
    "cocaW2V.most_similar('bisexual')"
   ]
  },
  {
   "cell_type": "markdown",
   "metadata": {},
   "source": [
    "Find which word least matches the others within a word set (cosine similarity):"
   ]
  },
  {
   "cell_type": "code",
   "execution_count": 22,
   "metadata": {},
   "outputs": [
    {
     "data": {
      "text/plain": [
       "'queer'"
      ]
     },
     "execution_count": 22,
     "metadata": {},
     "output_type": "execute_result"
    }
   ],
   "source": [
    "cocaW2V.doesnt_match(['lesbian', 'gay', 'bisexual', 'transgender', 'queer'])"
   ]
  },
  {
   "cell_type": "markdown",
   "metadata": {},
   "source": [
    "Find which word best matches the result of a semantic *equation* (here, we seek the words whose vectors best fit the missing entry from the equation: **X + Y - Z = _**."
   ]
  },
  {
   "cell_type": "code",
   "execution_count": 23,
   "metadata": {},
   "outputs": [
    {
     "data": {
      "text/plain": [
       "[('victims', 0.8487998247146606),\n",
       " ('violent', 0.845077395439148),\n",
       " ('concerned', 0.8364559412002563),\n",
       " ('blacks', 0.8124948143959045),\n",
       " ('helping', 0.8115602135658264),\n",
       " ('committed', 0.811277449131012),\n",
       " ('marriage', 0.7858964204788208),\n",
       " ('americans', 0.7858339548110962),\n",
       " ('responsible', 0.7840207815170288),\n",
       " ('believed', 0.7780913710594177)]"
      ]
     },
     "execution_count": 23,
     "metadata": {},
     "output_type": "execute_result"
    }
   ],
   "source": [
    "cocaW2V.most_similar(positive=['gay', 'republican'], negative = ['democrat'])"
   ]
  },
  {
   "cell_type": "code",
   "execution_count": 24,
   "metadata": {},
   "outputs": [
    {
     "data": {
      "text/plain": [
       "[('lesbian', 0.8749213814735413),\n",
       " ('rape', 0.8602331876754761),\n",
       " ('parent', 0.8570713996887207),\n",
       " ('custody', 0.8534472584724426),\n",
       " ('charged', 0.848920464515686),\n",
       " ('partner', 0.8425595164299011),\n",
       " ('convicted', 0.837567925453186),\n",
       " ('elderly', 0.8354145288467407),\n",
       " ('entitled', 0.83445805311203),\n",
       " ('professors', 0.8330812454223633)]"
      ]
     },
     "execution_count": 24,
     "metadata": {},
     "output_type": "execute_result"
    }
   ],
   "source": [
    "cocaW2V.most_similar(positive=['gay', 'democrat'], negative = ['republican'])"
   ]
  },
  {
   "cell_type": "markdown",
   "metadata": {},
   "source": [
    "Here we see that **Clinton + Republican - Democrat = Bush**. In other words, in this dataset, **Clinton** is to **Democrat** as **Bush** is to **Republican**. Whoah!"
   ]
  },
  {
   "cell_type": "markdown",
   "metadata": {},
   "source": [
    "We can also save the vectors for later use:"
   ]
  },
  {
   "cell_type": "markdown",
   "metadata": {},
   "source": [
    "We can also use dimension reduction to visulize the vectors. We will start by selecting a subset we want to plot. Let's look at the top words from the set:"
   ]
  },
  {
   "cell_type": "code",
   "execution_count": 25,
   "metadata": {},
   "outputs": [],
   "source": [
    "numWords = 50\n",
    "targetWords = cocaW2V.wv.index2word[:numWords]"
   ]
  },
  {
   "cell_type": "markdown",
   "metadata": {},
   "source": [
    "We can then extract their vectors and create our own smaller matrix that preserved the distances from the original:"
   ]
  },
  {
   "cell_type": "code",
   "execution_count": 26,
   "metadata": {},
   "outputs": [
    {
     "data": {
      "text/plain": [
       "array([[-0.4350699 , -0.28963628, -1.1344562 , ..., -1.2372959 ,\n",
       "         0.6219718 ,  1.0143734 ],\n",
       "       [-0.1669157 ,  1.0025809 , -0.5462342 , ..., -1.8586802 ,\n",
       "        -0.24483444, -0.77783793],\n",
       "       [-0.86120355,  0.46783185, -0.8048895 , ..., -0.9169635 ,\n",
       "         0.690203  ,  0.20757066],\n",
       "       ...,\n",
       "       [-0.9599868 , -1.341454  , -0.9174761 , ...,  1.3590432 ,\n",
       "         0.34070253,  0.5546812 ],\n",
       "       [ 1.0634817 , -1.0545511 , -0.3862999 , ..., -0.29860273,\n",
       "         0.6845003 ,  0.25161946],\n",
       "       [-2.352158  , -2.8851264 , -0.9134009 , ..., -0.23810758,\n",
       "         0.7743509 , -1.0635043 ]], dtype=float32)"
      ]
     },
     "execution_count": 26,
     "metadata": {},
     "output_type": "execute_result"
    }
   ],
   "source": [
    "wordsSubMatrix = []\n",
    "for word in targetWords:\n",
    "    wordsSubMatrix.append(cocaW2V[word])\n",
    "wordsSubMatrix = np.array(wordsSubMatrix)\n",
    "wordsSubMatrix"
   ]
  },
  {
   "cell_type": "markdown",
   "metadata": {},
   "source": [
    "Then we can use PCA to reduce the dimesions (e.g., to 50), and T-SNE to project them down to the two we will visualize. We note that this is nondeterministic process, and so you can repeat and achieve alternative projectsions/visualizations of the words:"
   ]
  },
  {
   "cell_type": "code",
   "execution_count": 27,
   "metadata": {},
   "outputs": [],
   "source": [
    "pcaWords = sklearn.decomposition.PCA(n_components = 50).fit(wordsSubMatrix)\n",
    "reducedPCA_data = pcaWords.transform(wordsSubMatrix)\n",
    "#T-SNE is theoretically better, but you should experiment\n",
    "tsneWords = sklearn.manifold.TSNE(n_components = 2).fit_transform(reducedPCA_data)"
   ]
  },
  {
   "cell_type": "markdown",
   "metadata": {},
   "source": [
    "### TSNE Visualization "
   ]
  },
  {
   "cell_type": "markdown",
   "metadata": {},
   "source": [
    "We now can plot the points"
   ]
  },
  {
   "cell_type": "code",
   "execution_count": 73,
   "metadata": {},
   "outputs": [
    {
     "data": {
      "image/png": "[encoded data removed]",
      "text/plain": [
       "<Figure size 720x432 with 1 Axes>"
      ]
     },
     "metadata": {},
     "output_type": "display_data"
    }
   ],
   "source": [
    "fig = plt.figure(figsize = (10,6))\n",
    "ax = fig.add_subplot(111)\n",
    "ax.set_frame_on(False)\n",
    "plt.scatter(tsneWords[:, 0], tsneWords[:, 1], alpha = 0)#Making the points invisible \n",
    "for i, word in enumerate(targetWords):\n",
    "    ax.annotate(word, (tsneWords[:, 0][i],tsneWords[:, 1][i]), size =  20 * (numWords - i) / numWords)\n",
    "plt.xticks(())\n",
    "plt.yticks(())\n",
    "plt.show()"
   ]
  },
  {
   "cell_type": "markdown",
   "metadata": {},
   "source": [
    "### PCA Visualization"
   ]
  },
  {
   "cell_type": "code",
   "execution_count": 76,
   "metadata": {},
   "outputs": [
    {
     "data": {
      "image/png": "[encoded data removed]",
      "text/plain": [
       "<Figure size 720x432 with 1 Axes>"
      ]
     },
     "metadata": {},
     "output_type": "display_data"
    }
   ],
   "source": [
    "fig = plt.figure(figsize = (10,6))\n",
    "ax = fig.add_subplot(111)\n",
    "ax.set_frame_on(False)\n",
    "plt.scatter(reducedPCA_data[:, 0], reducedPCA_data[:, 1], alpha = 0)#Making the points invisible \n",
    "for i, word in enumerate(targetWords):\n",
    "    ax.annotate(word, (reducedPCA_data[:, 0][i],reducedPCA_data[:, 1][i]), size =  20 * (numWords - i) / numWords)\n",
    "plt.xticks(())\n",
    "plt.yticks(())\n",
    "plt.show()"
   ]
  },
  {
   "cell_type": "markdown",
   "metadata": {},
   "source": [
    "## <span style=\"color:red\">*Exercise 1 Write Up*</span>\n",
    "\n",
    "Queer seems to be associated with artists and storytellers, while the context around lesbian and gay is more political, with similar words being “disordered”, “offenders,” “abused”, “victims,” and “marriage.” Interestingly the majority of  words most similar to transgender have a positive connotation, like “blessings,” “talented” “spokespeople,” “likable” and “motivates.” “Victimized” is also on the list. The top words most similar to bisexual are mostly negative, and include “suicides” which is not on the list of gay and lesbian. \n",
    "\n",
    "Queer is the most different from the LGBT words, which is also reflected in how different the similar words to queer are to the rest of the keywords - they mostly describe artists. \n",
    "\n",
    "The semantic equations reveal interesting patterns. Gay + republican minus democrat reveal very political or crime related words - violent, victims, Americans as well as “blacks.” The racial component to this is interesting - it could have to do with hate crimes towards the LGBT community targeted at black individuals.\n",
    "\n",
    "Gay + democrat - republican\t reveal “rape,” as well as words involving family and children - custody, parent, entitled, youth, educated. This could be due to a democratic push for education about LGBT issues in schools.\n",
    "\n",
    "The visualization of the top words in my corpus is not very illuminating - though the TSNE visualization is more telling than the PCA. This is because a large number of words are clumped together with the PCA visual."
   ]
  },
  {
   "cell_type": "markdown",
   "metadata": {},
   "source": [
    "## <span style=\"color:red\">*Exercise 2*</span>\n"
   ]
  },
  {
   "cell_type": "markdown",
   "metadata": {},
   "source": [
    "# Doc2Vec"
   ]
  },
  {
   "cell_type": "markdown",
   "metadata": {
    "collapsed": true
   },
   "source": [
    "Instead of just looking at just how words embed within in the space, we can look at how the different documents relate to each other within the space. First lets load our data--abstracts of most U.S. physics papers from the 1950s."
   ]
  },
  {
   "cell_type": "markdown",
   "metadata": {},
   "source": [
    "We will load these as documents into Word2Vec, but first we need to normalize and pick some tags."
   ]
  },
  {
   "cell_type": "code",
   "execution_count": 27,
   "metadata": {},
   "outputs": [],
   "source": [
    "keywords = ['lesbian', 'gay', 'bisexual', 'transgender', 'queer', 'feminist']"
   ]
  },
  {
   "cell_type": "code",
   "execution_count": 32,
   "metadata": {},
   "outputs": [],
   "source": [
    "text_df['tokenized_words'] = text_df['text'].apply(lambda x: lucem_illud_2020.word_tokenize(x))\n",
    "text_df['normalized_words'] = text_df['tokenized_words'].apply(lambda x: lucem_illud_2020.normalizeTokens(x, lemma=False))"
   ]
  },
  {
   "cell_type": "code",
   "execution_count": 37,
   "metadata": {},
   "outputs": [
    {
     "data": {
      "text/plain": [
       "Index(['Unnamed: 0', 'year', 'genre', 'text', 'tokenized_text',\n",
       "       'tokenized_sents', 'normalized_sents', 'tokenized_words',\n",
       "       'normalized_words'],\n",
       "      dtype='object')"
      ]
     },
     "execution_count": 37,
     "metadata": {},
     "output_type": "execute_result"
    }
   ],
   "source": [
    "text_df.columns"
   ]
  },
  {
   "cell_type": "code",
   "execution_count": 40,
   "metadata": {},
   "outputs": [],
   "source": [
    "taggedDocs = []\n",
    "for index, row in text_df.iterrows():\n",
    "    #Just doing a simple keyword assignment\n",
    "    docKeywords = [s for s in keywords if s in row['normalized_words']]\n",
    "    docKeywords.append(row['year'])\n",
    "    docKeywords.append(row['Unnamed: 0']) #This lets us extract individual documnets since doi's are unique\n",
    "    taggedDocs.append(gensim.models.doc2vec.LabeledSentence(words = row['normalized_words'], tags = docKeywords))\n",
    "text_df['TaggedDocs'] = taggedDocs"
   ]
  },
  {
   "cell_type": "markdown",
   "metadata": {},
   "source": [
    "Now we can train a Doc2Vec model:"
   ]
  },
  {
   "cell_type": "code",
   "execution_count": 43,
   "metadata": {},
   "outputs": [
    {
     "name": "stderr",
     "output_type": "stream",
     "text": [
      "/opt/anaconda3/lib/python3.7/site-packages/gensim/models/doc2vec.py:574: UserWarning: The parameter `size` is deprecated, will be removed in 4.0.0, use `vector_size` instead.\n",
      "  warnings.warn(\"The parameter `size` is deprecated, will be removed in 4.0.0, use `vector_size` instead.\")\n"
     ]
    }
   ],
   "source": [
    "textD2V = gensim.models.doc2vec.Doc2Vec(text_df['TaggedDocs'], size = 100) #Limiting to 100 dimensions"
   ]
  },
  {
   "cell_type": "markdown",
   "metadata": {},
   "source": [
    "We can get vectors for the tags/documents, just as we did with words. Documents are actually the centroids (high dimensional average points) of their words. "
   ]
  },
  {
   "cell_type": "code",
   "execution_count": 44,
   "metadata": {
    "scrolled": true
   },
   "outputs": [
    {
     "data": {
      "text/plain": [
       "array([-2.2106853e-03, -2.8810115e-04,  3.1314220e-03, -1.8931351e-03,\n",
       "        2.0936187e-03,  1.9517489e-03,  6.5059745e-04,  4.1946312e-03,\n",
       "       -1.3786848e-04,  2.0853630e-03,  5.8347272e-04, -1.9919320e-03,\n",
       "        3.3254749e-03,  5.8096705e-04, -1.7260752e-03,  2.8609997e-03,\n",
       "       -2.0371648e-03, -1.8727782e-04, -7.1250362e-04,  4.8874412e-03,\n",
       "       -3.5937158e-03,  1.4416155e-04, -1.5235859e-03,  9.0628432e-04,\n",
       "       -3.3306344e-03, -3.1643906e-03, -2.2111677e-05,  3.7955586e-04,\n",
       "       -2.1456832e-03, -2.0720523e-03, -2.6564818e-04,  4.1149748e-03,\n",
       "        1.1780569e-03,  3.7739349e-03,  8.1132277e-04,  2.7450223e-03,\n",
       "        1.0878182e-03,  2.3827103e-03, -4.4600102e-03, -2.0542606e-03,\n",
       "        2.2199466e-03,  1.1940511e-03, -1.1555841e-03,  4.9625440e-03,\n",
       "        4.2246492e-03,  2.9613869e-03,  3.5723543e-03,  4.7441255e-03,\n",
       "        6.5149373e-04,  4.7186208e-03, -3.3505487e-03, -2.5939203e-03,\n",
       "        8.7934015e-05,  3.8475425e-03, -3.2882436e-04,  2.5409616e-03,\n",
       "       -3.4855902e-03, -1.4989744e-03, -1.7424169e-03,  1.8693557e-03,\n",
       "        1.1311321e-03, -3.8081158e-03, -3.6587522e-03, -5.2563788e-04,\n",
       "        2.0693361e-03, -2.5780562e-03,  1.9866405e-03,  3.4950853e-03,\n",
       "        1.7279143e-03, -2.2621509e-03,  1.4273076e-03, -4.8070224e-03,\n",
       "        6.4133876e-04,  7.9607038e-04, -2.8415127e-03, -8.7749696e-04,\n",
       "       -3.2224567e-03,  2.8460515e-03,  3.4333704e-04, -1.6291345e-03,\n",
       "       -4.9978085e-03,  4.2866333e-03, -4.0169768e-03,  3.4126363e-04,\n",
       "       -4.6429532e-03, -3.7051402e-03, -4.5982419e-04,  3.3942450e-04,\n",
       "       -3.2795647e-03,  1.2608607e-03,  2.6827096e-03, -1.4004720e-03,\n",
       "       -3.4013328e-03,  1.2197440e-04, -1.6650916e-03,  3.9241218e-05,\n",
       "        2.6578030e-03,  1.6771357e-03, -2.3593577e-03, -2.0510412e-03],\n",
       "      dtype=float32)"
      ]
     },
     "execution_count": 44,
     "metadata": {},
     "output_type": "execute_result"
    }
   ],
   "source": [
    "textD2V.docvecs[1952]"
   ]
  },
  {
   "cell_type": "markdown",
   "metadata": {},
   "source": [
    "The words can still be accessed in the same way:"
   ]
  },
  {
   "cell_type": "markdown",
   "metadata": {},
   "source": [
    "We can still use the ``most_similar`` command to perform simple semantic equations:"
   ]
  },
  {
   "cell_type": "code",
   "execution_count": 85,
   "metadata": {},
   "outputs": [
    {
     "data": {
      "text/plain": [
       "[('homosexual', 0.8946688771247864)]"
      ]
     },
     "execution_count": 85,
     "metadata": {},
     "output_type": "execute_result"
    }
   ],
   "source": [
    "textD2V.most_similar(positive = ['gay','republican'], negative = ['democrat'], topn = 1)"
   ]
  },
  {
   "cell_type": "code",
   "execution_count": 86,
   "metadata": {},
   "outputs": [
    {
     "data": {
      "text/plain": [
       "[('secretaries', 0.8992776274681091)]"
      ]
     },
     "execution_count": 86,
     "metadata": {},
     "output_type": "execute_result"
    }
   ],
   "source": [
    "textD2V.most_similar(positive = ['gay','democrat'], negative = ['republican'], topn = 1)"
   ]
  },
  {
   "cell_type": "code",
   "execution_count": 87,
   "metadata": {},
   "outputs": [
    {
     "data": {
      "text/plain": [
       "[('young', 0.7967769503593445)]"
      ]
     },
     "execution_count": 87,
     "metadata": {},
     "output_type": "execute_result"
    }
   ],
   "source": [
    "textD2V.most_similar(positive = ['gay','black'], negative = ['republican'], topn = 1)"
   ]
  },
  {
   "cell_type": "code",
   "execution_count": 88,
   "metadata": {},
   "outputs": [
    {
     "data": {
      "text/plain": [
       "[('young', 0.7764955163002014)]"
      ]
     },
     "execution_count": 88,
     "metadata": {},
     "output_type": "execute_result"
    }
   ],
   "source": [
    "textD2V.most_similar(positive = ['gay','white'], negative = ['republican'], topn = 1)"
   ]
  },
  {
   "cell_type": "code",
   "execution_count": 46,
   "metadata": {},
   "outputs": [
    {
     "data": {
      "text/plain": [
       "[('selves', 0.9456351399421692)]"
      ]
     },
     "execution_count": 46,
     "metadata": {},
     "output_type": "execute_result"
    }
   ],
   "source": [
    "textD2V.most_similar(positive = ['lesbian','gay'], negative = ['bisexual'], topn = 1)"
   ]
  },
  {
   "cell_type": "code",
   "execution_count": 47,
   "metadata": {},
   "outputs": [
    {
     "data": {
      "text/plain": [
       "[('chiiori', 0.935426652431488)]"
      ]
     },
     "execution_count": 47,
     "metadata": {},
     "output_type": "execute_result"
    }
   ],
   "source": [
    "textD2V.most_similar(positive = ['lesbian','queer'], negative = ['bisexual'], topn = 1)"
   ]
  },
  {
   "cell_type": "code",
   "execution_count": 52,
   "metadata": {},
   "outputs": [
    {
     "data": {
      "text/plain": [
       "[('religiously', 0.8509823083877563)]"
      ]
     },
     "execution_count": 52,
     "metadata": {},
     "output_type": "execute_result"
    }
   ],
   "source": [
    "textD2V.most_similar(positive = ['transgender','activist'], negative = ['gay'], topn = 1)"
   ]
  },
  {
   "cell_type": "code",
   "execution_count": 89,
   "metadata": {},
   "outputs": [
    {
     "data": {
      "text/plain": [
       "[('disagreed', 0.9055215120315552)]"
      ]
     },
     "execution_count": 89,
     "metadata": {},
     "output_type": "execute_result"
    }
   ],
   "source": [
    "textD2V.most_similar(positive = ['gay','activist'], negative = ['lesbian'], topn = 1)"
   ]
  },
  {
   "cell_type": "code",
   "execution_count": 90,
   "metadata": {},
   "outputs": [
    {
     "data": {
      "text/plain": [
       "[('ballet', 0.912246823310852)]"
      ]
     },
     "execution_count": 90,
     "metadata": {},
     "output_type": "execute_result"
    }
   ],
   "source": [
    "textD2V.most_similar(positive = ['lesbian','activist'], negative = ['gay'], topn = 1)"
   ]
  },
  {
   "cell_type": "code",
   "execution_count": 53,
   "metadata": {},
   "outputs": [
    {
     "data": {
      "text/plain": [
       "array([[0.8077253]], dtype=float32)"
      ]
     },
     "execution_count": 53,
     "metadata": {},
     "output_type": "execute_result"
    }
   ],
   "source": [
    "sklearn.metrics.pairwise.cosine_similarity(textD2V['lesbian'].reshape(1,-1), textD2V['gay'].reshape(1,-1))\n",
    "#We reorient the vectors with .reshape(1, -1) so that they can be computed without a warning in sklearn"
   ]
  },
  {
   "cell_type": "markdown",
   "metadata": {},
   "source": [
    "In the doc2vec model, the documents have vectors just as the words do, so that we can compare documents with each other and also with words (similar to how a search engine locates a webpage with a query). First, we will calculate the distance between a word and documents in the dataset:"
   ]
  },
  {
   "cell_type": "code",
   "execution_count": 55,
   "metadata": {},
   "outputs": [
    {
     "data": {
      "text/plain": [
       "[(17009, 0.8594299554824829),\n",
       " (17128, 0.8265509605407715),\n",
       " (14350, 0.8102418780326843),\n",
       " (5793, 0.790878176689148),\n",
       " (694, 0.784736156463623)]"
      ]
     },
     "execution_count": 55,
     "metadata": {},
     "output_type": "execute_result"
    }
   ],
   "source": [
    "textD2V.docvecs.most_similar([textD2V['gay'] ], topn=5 )"
   ]
  },
  {
   "cell_type": "markdown",
   "metadata": {},
   "source": [
    "If we search for the first of these on the web (these are doi codes), we find the following...a pretty good match:"
   ]
  },
  {
   "cell_type": "markdown",
   "metadata": {},
   "source": [
    "Now let's go the other way around and find words most similar to this document:"
   ]
  },
  {
   "cell_type": "code",
   "execution_count": 61,
   "metadata": {},
   "outputs": [
    {
     "data": {
      "text/plain": [
       "[('volunteer', 0.9517915844917297),\n",
       " ('instruct', 0.9211146831512451),\n",
       " ('feds', 0.9197677969932556),\n",
       " ('behalf', 0.9151511192321777),\n",
       " ('parishioners', 0.9130622148513794)]"
      ]
     },
     "execution_count": 61,
     "metadata": {},
     "output_type": "execute_result"
    }
   ],
   "source": [
    "textD2V.most_similar( [textD2V.docvecs[17009] ], topn=5) "
   ]
  },
  {
   "cell_type": "code",
   "execution_count": 62,
   "metadata": {},
   "outputs": [
    {
     "data": {
      "text/plain": [
       "[('outlawed', 0.8883382081985474),\n",
       " ('outnumber', 0.8874961137771606),\n",
       " ('harms', 0.8785619735717773),\n",
       " ('ordination', 0.8769969940185547),\n",
       " ('neglect', 0.8760952949523926)]"
      ]
     },
     "execution_count": 62,
     "metadata": {},
     "output_type": "execute_result"
    }
   ],
   "source": [
    "textD2V.most_similar( [textD2V.docvecs[17128] ], topn=5) "
   ]
  },
  {
   "cell_type": "code",
   "execution_count": 63,
   "metadata": {},
   "outputs": [
    {
     "data": {
      "text/plain": [
       "[('interestingly', 0.9391205310821533),\n",
       " ('championed', 0.9286332726478577),\n",
       " ('redford-1', 0.9282410144805908),\n",
       " ('hardest', 0.9201706647872925),\n",
       " ('assuming', 0.9198492765426636)]"
      ]
     },
     "execution_count": 63,
     "metadata": {},
     "output_type": "execute_result"
    }
   ],
   "source": [
    "textD2V.most_similar( [textD2V.docvecs[14350] ], topn=5) "
   ]
  },
  {
   "cell_type": "markdown",
   "metadata": {},
   "source": [
    "We can even look for documents most like a query composed of multiple words:"
   ]
  },
  {
   "cell_type": "code",
   "execution_count": 60,
   "metadata": {},
   "outputs": [
    {
     "data": {
      "text/plain": [
       "[(17009, 0.8558980226516724),\n",
       " (5793, 0.8502899408340454),\n",
       " (17128, 0.837268054485321),\n",
       " (694, 0.8214755058288574),\n",
       " (14350, 0.7843897342681885)]"
      ]
     },
     "execution_count": 60,
     "metadata": {},
     "output_type": "execute_result"
    }
   ],
   "source": [
    "textD2V.docvecs.most_similar([ textD2V['gay']+textD2V['lesbian']+textD2V['bisexual']], topn=5)"
   ]
  },
  {
   "cell_type": "code",
   "execution_count": 91,
   "metadata": {},
   "outputs": [
    {
     "data": {
      "text/plain": [
       "[('informants', 0.9678157567977905),\n",
       " ('phinney', 0.9674370884895325),\n",
       " ('positively', 0.9534955024719238),\n",
       " ('collinearity', 0.9528471231460571),\n",
       " ('descriptors', 0.9516963958740234)]"
      ]
     },
     "execution_count": 91,
     "metadata": {},
     "output_type": "execute_result"
    }
   ],
   "source": [
    "textD2V.most_similar( [textD2V.docvecs[5793] ], topn=5) "
   ]
  },
  {
   "cell_type": "markdown",
   "metadata": {},
   "source": [
    "Now let's plot some words and documents against one another with a heatmap:"
   ]
  },
  {
   "cell_type": "code",
   "execution_count": 64,
   "metadata": {},
   "outputs": [],
   "source": [
    "heatmapMatrix = []\n",
    "for tagOuter in keywords:\n",
    "    column = []\n",
    "    tagVec = textD2V.docvecs[tagOuter].reshape(1, -1)\n",
    "    for tagInner in keywords:\n",
    "        column.append(sklearn.metrics.pairwise.cosine_similarity(tagVec, textD2V.docvecs[tagInner].reshape(1, -1))[0][0])\n",
    "    heatmapMatrix.append(column)\n",
    "heatmapMatrix = np.array(heatmapMatrix)"
   ]
  },
  {
   "cell_type": "code",
   "execution_count": 65,
   "metadata": {
    "scrolled": true
   },
   "outputs": [
    {
     "data": {
      "image/png": "[encoded data removed]",
      "text/plain": [
       "<Figure size 432x288 with 2 Axes>"
      ]
     },
     "metadata": {
      "needs_background": "light"
     },
     "output_type": "display_data"
    }
   ],
   "source": [
    "fig, ax = plt.subplots()\n",
    "hmap = ax.pcolor(heatmapMatrix, cmap='terrain')\n",
    "cbar = plt.colorbar(hmap)\n",
    "\n",
    "cbar.set_label('cosine similarity', rotation=270)\n",
    "a = ax.set_xticks(np.arange(heatmapMatrix.shape[1]) + 0.5, minor=False)\n",
    "a = ax.set_yticks(np.arange(heatmapMatrix.shape[0]) + 0.5, minor=False)\n",
    "\n",
    "a = ax.set_xticklabels(keywords, minor=False, rotation=270)\n",
    "a = ax.set_yticklabels(keywords, minor=False)"
   ]
  },
  {
   "cell_type": "markdown",
   "metadata": {},
   "source": [
    "Now let's look at a heatmap of similarities between the first ten documents in the corpus:"
   ]
  },
  {
   "cell_type": "code",
   "execution_count": 67,
   "metadata": {},
   "outputs": [],
   "source": [
    "targetDocs = text_df['Unnamed: 0'][:10]\n",
    "\n",
    "heatmapMatrixD = []\n",
    "\n",
    "for tagOuter in targetDocs:\n",
    "    column = []\n",
    "    tagVec = textD2V.docvecs[tagOuter].reshape(1, -1)\n",
    "    for tagInner in targetDocs:\n",
    "        column.append(sklearn.metrics.pairwise.cosine_similarity(tagVec, textD2V.docvecs[tagInner].reshape(1, -1))[0][0])\n",
    "    heatmapMatrixD.append(column)\n",
    "heatmapMatrixD = np.array(heatmapMatrixD)"
   ]
  },
  {
   "cell_type": "code",
   "execution_count": 68,
   "metadata": {},
   "outputs": [
    {
     "data": {
      "image/png": "[encoded data removed]",
      "text/plain": [
       "<Figure size 432x288 with 2 Axes>"
      ]
     },
     "metadata": {
      "needs_background": "light"
     },
     "output_type": "display_data"
    }
   ],
   "source": [
    "fig, ax = plt.subplots()\n",
    "hmap = ax.pcolor(heatmapMatrixD, cmap='terrain')\n",
    "cbar = plt.colorbar(hmap)\n",
    "\n",
    "cbar.set_label('cosine similarity', rotation=270)\n",
    "a = ax.set_xticks(np.arange(heatmapMatrixD.shape[1]) + 0.5, minor=False)\n",
    "a = ax.set_yticks(np.arange(heatmapMatrixD.shape[0]) + 0.5, minor=False)\n",
    "\n",
    "a = ax.set_xticklabels(targetDocs, minor=False, rotation=270)\n",
    "a = ax.set_yticklabels(targetDocs, minor=False)"
   ]
  },
  {
   "cell_type": "markdown",
   "metadata": {},
   "source": [
    "Now let's look at a heatmap of similarities between the first ten documents and our keywords:"
   ]
  },
  {
   "cell_type": "code",
   "execution_count": 69,
   "metadata": {},
   "outputs": [],
   "source": [
    "heatmapMatrixC = []\n",
    "\n",
    "for tagOuter in targetDocs:\n",
    "    column = []\n",
    "    tagVec = textD2V.docvecs[tagOuter].reshape(1, -1)\n",
    "    for tagInner in keywords:\n",
    "        column.append(sklearn.metrics.pairwise.cosine_similarity(tagVec, textD2V.docvecs[tagInner].reshape(1, -1))[0][0])\n",
    "    heatmapMatrixC.append(column)\n",
    "heatmapMatrixC = np.array(heatmapMatrixC)"
   ]
  },
  {
   "cell_type": "code",
   "execution_count": 70,
   "metadata": {},
   "outputs": [
    {
     "data": {
      "image/png": "[encoded data removed]",
      "text/plain": [
       "<Figure size 432x288 with 2 Axes>"
      ]
     },
     "metadata": {
      "needs_background": "light"
     },
     "output_type": "display_data"
    }
   ],
   "source": [
    "fig, ax = plt.subplots()\n",
    "hmap = ax.pcolor(heatmapMatrixC, cmap='terrain')\n",
    "cbar = plt.colorbar(hmap)\n",
    "\n",
    "cbar.set_label('cosine similarity', rotation=270)\n",
    "a = ax.set_xticks(np.arange(heatmapMatrixC.shape[1]) + 0.5, minor=False)\n",
    "a = ax.set_yticks(np.arange(heatmapMatrixC.shape[0]) + 0.5, minor=False)\n",
    "\n",
    "a = ax.set_xticklabels(keywords, minor=False, rotation=270)\n",
    "a = ax.set_yticklabels(targetDocs, minor=False)"
   ]
  },
  {
   "cell_type": "markdown",
   "metadata": {},
   "source": [
    "We will save the model in case we would like to use it again."
   ]
  },
  {
   "cell_type": "code",
   "execution_count": 71,
   "metadata": {},
   "outputs": [],
   "source": [
    "textD2V.save('textW2V')"
   ]
  },
  {
   "cell_type": "markdown",
   "metadata": {},
   "source": [
    "We can later load it:"
   ]
  },
  {
   "cell_type": "code",
   "execution_count": 98,
   "metadata": {},
   "outputs": [],
   "source": [
    "textD2V = gensim.models.word2vec.Word2Vec.load('textW2V')"
   ]
  },
  {
   "cell_type": "markdown",
   "metadata": {},
   "source": []
  },
  {
   "cell_type": "markdown",
   "metadata": {},
   "source": [
    "## <span style=\"color:red\">*Exercise 2 Write-Up*</span>\n",
    "\n",
    "<span style=\"color:red\">Construct cells immediately below this that embed documents related to your final project using `doc2vec`, and explore the relationship between different documents and the word vectors you analyzed in the last exercise. Consider the most similar words to critical documents, analogies (doc _x_ + word _y_), and other additions and subtractions that reveal the structure of similarity and difference within your semantic space. What does this pattern reveal about the documentary organization of your semantic space?"
   ]
  },
  {
   "cell_type": "markdown",
   "metadata": {},
   "source": [
    "The Word to document heatmaps reveal some interesting patterns. The words \"lesbian,\" \"gay\", and \"bisexual\" don't show up in the same documents as \"transgender.\" This reveals that the sexuality of transgender folks is not discussed in the same dcouments in my corpus. \"Lesbian\" shows up in documents centering around \"gay\" and \"lesbian\", as does \"gay,\" but \"transgender,\" does not appear in documents about queerness, gay, lesbian or bisexual topics/words. \n",
    "\n",
    "Intersetingly the Doc2Vec model reveals that sexuality or queerness of transgender folks are topics are not discussed in the same dcouments in my corpus. \"Lesbian\" shows up in documents centering around \"gay\" and \"lesbian\", as does \"gay,\" but \"transgender,\" does not appear in documents about queerness, gay, lesbian or bisexual topics/words.\n",
    "\n",
    "\n",
    "I also added feminist to the keywords here to see if documents mentioning feminism also mentioned lgbt issues. The correlation between feminism and any of the words is close to zero, revealing that people generally haven't written about the issues together.\n",
    "\n",
    "The semantic additiona and subtractions reveal something intersting about the word \"transgender\" - when adding transgender and activist and substracting gay, we get religioulsy. This probably refers to \"activism\" against the transgender community.\n",
    "\n",
    "All of this reveals the gay, lesiban and bisexual are most often found together, while transgender and queer appear in different types of documents and discuss different topics."
   ]
  },
  {
   "cell_type": "markdown",
   "metadata": {},
   "source": [
    "## <span style=\"color:red\">*Exercise 3*</span>"
   ]
  },
  {
   "cell_type": "markdown",
   "metadata": {},
   "source": [
    "# Projection"
   ]
  },
  {
   "cell_type": "markdown",
   "metadata": {},
   "source": [
    "First we can visualize with dimension reduction"
   ]
  },
  {
   "cell_type": "code",
   "execution_count": 55,
   "metadata": {},
   "outputs": [],
   "source": [
    "#words to create dimensions\n",
    "textTargetWords = ['man', 'woman', 'black','blacks', 'white', 'whites', 'rich', 'richer', 'richest', 'expensive', 'wealthy', 'poor', 'poorer', 'poorest', 'cheap', 'inexpensive', 'heterosexual']\n",
    "#words we will be mapping\n",
    "textTargetWords += [\"lesbian\",\"gay\",\"bisexual\",\"transgender\",\"queer\", \"intersex\",\"asexual\",\"drag\",\"activist\",\"feminist\"]\n",
    "\n",
    "\n",
    "wordsSubMatrix = []\n",
    "for word in textTargetWords:\n",
    "    wordsSubMatrix.append(cocaW2V[word])\n",
    "wordsSubMatrix = np.array(wordsSubMatrix)\n",
    "#wordsSubMatrix"
   ]
  },
  {
   "cell_type": "code",
   "execution_count": 56,
   "metadata": {},
   "outputs": [
    {
     "data": {
      "text/plain": [
       "array([[-1.0072236 ,  0.8133765 , -1.9750271 , ..., -0.43540293,\n",
       "         0.36333084,  0.21692418],\n",
       "       [-0.604848  ,  0.46425906, -2.2196248 , ...,  0.1821517 ,\n",
       "         0.5439626 , -0.35113373],\n",
       "       [-0.0258398 ,  1.0310034 , -1.7179366 , ...,  0.16999386,\n",
       "         0.55836356, -0.9881193 ],\n",
       "       ...,\n",
       "       [-0.31055146, -0.00719005, -0.42401475, ..., -0.13563098,\n",
       "         0.19381042, -0.1937694 ],\n",
       "       [-0.43696153, -0.05423417, -0.34192973, ...,  0.02782425,\n",
       "         0.33691928,  0.0232677 ],\n",
       "       [-0.48243937, -0.01012821, -0.29060742, ...,  0.02262504,\n",
       "         0.45438778,  0.13973084]], dtype=float32)"
      ]
     },
     "execution_count": 56,
     "metadata": {},
     "output_type": "execute_result"
    }
   ],
   "source": [
    "wordsSubMatrix"
   ]
  },
  {
   "cell_type": "code",
   "execution_count": 58,
   "metadata": {},
   "outputs": [],
   "source": [
    "pcaWordsCoca = sklearn.decomposition.PCA(n_components = 20).fit(wordsSubMatrix)\n",
    "reducedPCA_dataCoca = pcaWordsCoca.transform(wordsSubMatrix)\n",
    "#T-SNE is theoretically better, but you should experiment\n",
    "tsneWordsCoca = sklearn.manifold.TSNE(n_components = 2).fit_transform(reducedPCA_dataCoca)"
   ]
  },
  {
   "cell_type": "code",
   "execution_count": 59,
   "metadata": {},
   "outputs": [
    {
     "data": {
      "image/png": "[encoded data removed]",
      "text/plain": [
       "<Figure size 1440x864 with 1 Axes>"
      ]
     },
     "metadata": {},
     "output_type": "display_data"
    }
   ],
   "source": [
    "fig = plt.figure(figsize = (20,12))\n",
    "ax = fig.add_subplot(111)\n",
    "ax.set_frame_on(False)\n",
    "plt.scatter(tsneWordsCoca[:, 0], tsneWordsCoca[:, 1], alpha = 0) #Making the points invisible\n",
    "for i, word in enumerate(textTargetWords):\n",
    "    ax.annotate(word, (tsneWordsCoca[:, 0][i],tsneWordsCoca[:, 1][i]), size =  50 * (len(textTargetWords) - i) / len(textTargetWords))\n",
    "plt.xticks(())\n",
    "plt.yticks(())\n",
    "plt.show()"
   ]
  },
  {
   "cell_type": "markdown",
   "metadata": {},
   "source": [
    "Define some convenient functions for getting dimensions. "
   ]
  },
  {
   "cell_type": "code",
   "execution_count": 60,
   "metadata": {},
   "outputs": [],
   "source": [
    "def normalize(vector):\n",
    "    normalized_vector = vector / np.linalg.norm(vector)\n",
    "    return normalized_vector\n",
    "\n",
    "def dimension(model, positives, negatives):\n",
    "    diff = sum([normalize(model[x]) for x in positives]) - sum([normalize(model[y]) for y in negatives])\n",
    "    return diff"
   ]
  },
  {
   "cell_type": "markdown",
   "metadata": {},
   "source": [
    "Let's calculate three dimensions: gender, race, and class."
   ]
  },
  {
   "cell_type": "code",
   "execution_count": 69,
   "metadata": {},
   "outputs": [],
   "source": [
    "Traditional = dimension(cocaW2V, ['traditional'], ['deviant'])\n",
    "Hetero = dimension(cocaW2V, ['heterosexual'], ['homosexual'])\n",
    "Gender = dimension(cocaW2V, ['man'], ['woman'])\n",
    "Race = dimension(cocaW2V, ['black','blacks'], ['white', 'whites'])\n",
    "Class = dimension(cocaW2V, ['rich', 'richer', 'richest', 'expensive', 'wealthy'], ['poor', 'poorer', 'poorest', 'cheap', 'inexpensive'])"
   ]
  },
  {
   "cell_type": "markdown",
   "metadata": {},
   "source": [
    "Here we have some words."
   ]
  },
  {
   "cell_type": "code",
   "execution_count": 70,
   "metadata": {},
   "outputs": [],
   "source": [
    "lgbt = [\"lesbian\",\"gay\",\"bisexual\",\"transgender\",\"queer\", \"intersex\",\"asexual\",\"drag\",\"activist\",\"feminist\"]"
   ]
  },
  {
   "cell_type": "markdown",
   "metadata": {},
   "source": [
    "Define a function to project words in a word list to each of the three dimensions."
   ]
  },
  {
   "cell_type": "code",
   "execution_count": 76,
   "metadata": {},
   "outputs": [],
   "source": [
    "def makeDF(model, word_list):\n",
    "    g = []\n",
    "    r = []\n",
    "    c = []\n",
    "    h = []\n",
    "    t = []\n",
    "    \n",
    "    for word in word_list:\n",
    "        g.append(sklearn.metrics.pairwise.cosine_similarity(cocaW2V[word].reshape(1,-1), Gender.reshape(1,-1))[0][0])\n",
    "        r.append(sklearn.metrics.pairwise.cosine_similarity(cocaW2V[word].reshape(1,-1), Race.reshape(1,-1))[0][0])\n",
    "        c.append(sklearn.metrics.pairwise.cosine_similarity(cocaW2V[word].reshape(1,-1), Class.reshape(1,-1))[0][0])\n",
    "        h.append(sklearn.metrics.pairwise.cosine_similarity(cocaW2V[word].reshape(1,-1), Hetero.reshape(1,-1))[0][0])\n",
    "        t.append(sklearn.metrics.pairwise.cosine_similarity(cocaW2V[word].reshape(1,-1), Traditional.reshape(1,-1))[0][0])\n",
    "        \n",
    "    df = pandas.DataFrame({'gender': g, 'race': r, 'class': c, 'hetero': h, 'traditional': t}, index = word_list)\n",
    "    return df"
   ]
  },
  {
   "cell_type": "markdown",
   "metadata": {},
   "source": [
    "Get the projections."
   ]
  },
  {
   "cell_type": "code",
   "execution_count": 77,
   "metadata": {},
   "outputs": [],
   "source": [
    "OCCdf = makeDF(cocaW2V, Occupations) \n",
    "Fooddf = makeDF(cocaW2V, Foods)\n",
    "Sportsdf = makeDF(cocaW2V, Sports)\n",
    "lgbtdf = makeDF(cocaW2V, lgbt)"
   ]
  },
  {
   "cell_type": "code",
   "execution_count": 78,
   "metadata": {},
   "outputs": [
    {
     "data": {
      "text/html": [
       "<div>\n",
       "<style scoped>\n",
       "    .dataframe tbody tr th:only-of-type {\n",
       "        vertical-align: middle;\n",
       "    }\n",
       "\n",
       "    .dataframe tbody tr th {\n",
       "        vertical-align: top;\n",
       "    }\n",
       "\n",
       "    .dataframe thead th {\n",
       "        text-align: right;\n",
       "    }\n",
       "</style>\n",
       "<table border=\"1\" class=\"dataframe\">\n",
       "  <thead>\n",
       "    <tr style=\"text-align: right;\">\n",
       "      <th></th>\n",
       "      <th>gender</th>\n",
       "      <th>race</th>\n",
       "      <th>class</th>\n",
       "      <th>hetero</th>\n",
       "      <th>traditional</th>\n",
       "    </tr>\n",
       "  </thead>\n",
       "  <tbody>\n",
       "    <tr>\n",
       "      <td>lesbian</td>\n",
       "      <td>-0.246154</td>\n",
       "      <td>0.081636</td>\n",
       "      <td>0.052551</td>\n",
       "      <td>0.056407</td>\n",
       "      <td>-0.327316</td>\n",
       "    </tr>\n",
       "    <tr>\n",
       "      <td>gay</td>\n",
       "      <td>-0.241554</td>\n",
       "      <td>0.184455</td>\n",
       "      <td>0.141726</td>\n",
       "      <td>0.153482</td>\n",
       "      <td>-0.111724</td>\n",
       "    </tr>\n",
       "    <tr>\n",
       "      <td>bisexual</td>\n",
       "      <td>-0.187946</td>\n",
       "      <td>0.101300</td>\n",
       "      <td>-0.067136</td>\n",
       "      <td>0.128463</td>\n",
       "      <td>-0.304603</td>\n",
       "    </tr>\n",
       "    <tr>\n",
       "      <td>transgender</td>\n",
       "      <td>-0.208922</td>\n",
       "      <td>0.141696</td>\n",
       "      <td>0.250505</td>\n",
       "      <td>-0.001208</td>\n",
       "      <td>-0.308966</td>\n",
       "    </tr>\n",
       "    <tr>\n",
       "      <td>queer</td>\n",
       "      <td>-0.122409</td>\n",
       "      <td>0.082083</td>\n",
       "      <td>0.196086</td>\n",
       "      <td>-0.168502</td>\n",
       "      <td>-0.519201</td>\n",
       "    </tr>\n",
       "    <tr>\n",
       "      <td>intersex</td>\n",
       "      <td>-0.192668</td>\n",
       "      <td>0.058787</td>\n",
       "      <td>-0.004415</td>\n",
       "      <td>0.022512</td>\n",
       "      <td>-0.287049</td>\n",
       "    </tr>\n",
       "    <tr>\n",
       "      <td>asexual</td>\n",
       "      <td>-0.079269</td>\n",
       "      <td>-0.080337</td>\n",
       "      <td>-0.323626</td>\n",
       "      <td>0.031610</td>\n",
       "      <td>-0.233309</td>\n",
       "    </tr>\n",
       "    <tr>\n",
       "      <td>drag</td>\n",
       "      <td>0.006175</td>\n",
       "      <td>0.053892</td>\n",
       "      <td>-0.004061</td>\n",
       "      <td>-0.063462</td>\n",
       "      <td>-0.397986</td>\n",
       "    </tr>\n",
       "    <tr>\n",
       "      <td>activist</td>\n",
       "      <td>-0.125560</td>\n",
       "      <td>0.056989</td>\n",
       "      <td>0.009955</td>\n",
       "      <td>-0.052002</td>\n",
       "      <td>-0.211230</td>\n",
       "    </tr>\n",
       "    <tr>\n",
       "      <td>feminist</td>\n",
       "      <td>-0.174149</td>\n",
       "      <td>-0.008794</td>\n",
       "      <td>-0.089932</td>\n",
       "      <td>0.020771</td>\n",
       "      <td>-0.059513</td>\n",
       "    </tr>\n",
       "  </tbody>\n",
       "</table>\n",
       "</div>"
      ],
      "text/plain": [
       "               gender      race     class    hetero  traditional\n",
       "lesbian     -0.246154  0.081636  0.052551  0.056407    -0.327316\n",
       "gay         -0.241554  0.184455  0.141726  0.153482    -0.111724\n",
       "bisexual    -0.187946  0.101300 -0.067136  0.128463    -0.304603\n",
       "transgender -0.208922  0.141696  0.250505 -0.001208    -0.308966\n",
       "queer       -0.122409  0.082083  0.196086 -0.168502    -0.519201\n",
       "intersex    -0.192668  0.058787 -0.004415  0.022512    -0.287049\n",
       "asexual     -0.079269 -0.080337 -0.323626  0.031610    -0.233309\n",
       "drag         0.006175  0.053892 -0.004061 -0.063462    -0.397986\n",
       "activist    -0.125560  0.056989  0.009955 -0.052002    -0.211230\n",
       "feminist    -0.174149 -0.008794 -0.089932  0.020771    -0.059513"
      ]
     },
     "execution_count": 78,
     "metadata": {},
     "output_type": "execute_result"
    }
   ],
   "source": [
    "lgbtdf"
   ]
  },
  {
   "cell_type": "code",
   "execution_count": 73,
   "metadata": {},
   "outputs": [],
   "source": [
    "lgbtdf = makeDF(cocaW2V, lgbt)"
   ]
  },
  {
   "cell_type": "markdown",
   "metadata": {},
   "source": [
    "Define some useful functions for plotting."
   ]
  },
  {
   "cell_type": "code",
   "execution_count": 53,
   "metadata": {},
   "outputs": [],
   "source": [
    "def Coloring(Series):\n",
    "    x = Series.values\n",
    "    y = x-x.min()\n",
    "    z = y/y.max()\n",
    "    c = list(plt.cm.rainbow(z))\n",
    "    return c\n",
    "\n",
    "def PlotDimension(ax,df, dim):\n",
    "    ax.set_frame_on(False)\n",
    "    ax.set_title(dim, fontsize = 20)\n",
    "    colors = Coloring(df[dim])\n",
    "    for i, word in enumerate(df.index):\n",
    "        ax.annotate(word, (0, df[dim][i]), color = colors[i], alpha = 0.6, fontsize = 12)\n",
    "    MaxY = df[dim].max()\n",
    "    MinY = df[dim].min()\n",
    "    plt.ylim(MinY,MaxY)\n",
    "    plt.yticks(())\n",
    "    plt.xticks(())"
   ]
  },
  {
   "cell_type": "code",
   "execution_count": 88,
   "metadata": {},
   "outputs": [
    {
     "data": {
      "image/png": "[encoded data removed]",
      "text/plain": [
       "<Figure size 864x288 with 3 Axes>"
      ]
     },
     "metadata": {},
     "output_type": "display_data"
    }
   ],
   "source": [
    "fig = plt.figure(figsize = (12,4))\n",
    "ax1 = fig.add_subplot(131)\n",
    "PlotDimension(ax1, lgbtdf, 'gender')\n",
    "ax2 = fig.add_subplot(132)\n",
    "PlotDimension(ax2, lgbtdf, 'race')\n",
    "ax3 = fig.add_subplot(133)\n",
    "PlotDimension(ax3, lgbtdf, 'class')\n",
    "plt.show()"
   ]
  },
  {
   "cell_type": "markdown",
   "metadata": {},
   "source": [
    "## <span style=\"color:red\">*Exercise 3 Write-Up*</span>"
   ]
  },
  {
   "cell_type": "markdown",
   "metadata": {},
   "source": [
    "I projected LGBTQ words, as well as a few other associated with the community,  in 4 semantic spaces: race, gender, and class, as wells as ‘hetero’ - which I’ve defined as spanning from ‘heterosexual’ to ‘homosexual’. Interestingly all words are more associated with the feminine, except for drag, though it is very close to the middle. Gay, lesbian and transgender are most associated with the feminine, which is a little counterintuitive given than gay is more associated with men in it’s usage, and transgender can apply to either and all genders. \n",
    "\n",
    "Most of the words are more associated with black than white, except for feminist and asexual. The feminist movement has historically excluded blacks, so it would make sense for it to be more associated with “white.” However, feminist Is more associated with poor and poorer instead of rich, which is a bit surprising. I would be interesting to do this overtime and see if the associations between these dimensions and words change over time. "
   ]
  },
  {
   "cell_type": "markdown",
   "metadata": {},
   "source": [
    "## <span style=\"color:red\">*Exercise 4*</span>"
   ]
  },
  {
   "cell_type": "markdown",
   "metadata": {},
   "source": [
    "# The Score Function\n",
    "\n",
    "The score function is a simple calculation developed by [Matt Taddy](https://arxiv.org/pdf/1504.07295.pdf) to calculate the likelihood that a given text would have been generated by a word-embedding model by summing the inner product between each pair of the text's word vectors. This relies on a few data files that are not in the git repo due to their size please download and unzip [this](https://github.com/Computational-Content-Analysis-2018/Upcoming/raw/master/data/supplement.zip) (472MB) file in the data directory.\n",
    "\n",
    "Here, we explore this using a model trained with millions of resumes from the CareerBuilder website (we can't share the private resumes...but we can share a model built with them :-):"
   ]
  },
  {
   "cell_type": "code",
   "execution_count": 119,
   "metadata": {},
   "outputs": [],
   "source": [
    "coca_model = gensim.models.word2vec.Word2Vec(text_df['normalized_sents'].sum(), hs = 1, negative=0)"
   ]
  },
  {
   "cell_type": "code",
   "execution_count": 111,
   "metadata": {},
   "outputs": [
    {
     "data": {
      "text/plain": [
       "method"
      ]
     },
     "execution_count": 111,
     "metadata": {},
     "output_type": "execute_result"
    }
   ],
   "source": [
    "type(cocaW2V.score)"
   ]
  },
  {
   "cell_type": "markdown",
   "metadata": {},
   "source": [
    "We can examine the vacabularies of this model by building a word-index map:"
   ]
  },
  {
   "cell_type": "code",
   "execution_count": 114,
   "metadata": {},
   "outputs": [],
   "source": [
    "vocab = coca_model.wv.index2word"
   ]
  },
  {
   "cell_type": "markdown",
   "metadata": {},
   "source": [
    "Let's just load the sample and take a look at it. The sentences in each job description are already tokenized and normalized."
   ]
  },
  {
   "cell_type": "code",
   "execution_count": 138,
   "metadata": {},
   "outputs": [],
   "source": [
    "sampleDF = pandas.read_csv('../data/SampleJobAds.csv', index_col = False)\n",
    "#We need to convert the last couple columns from strings to lists\n",
    "sampleDF['tokenized_sents'] = sampleDF['tokenized_sents'].apply(lambda x: eval(x))\n",
    "sampleDF['normalized_sents'] = sampleDF['normalized_sents'].apply(lambda x: eval(x))"
   ]
  },
  {
   "cell_type": "markdown",
   "metadata": {},
   "source": [
    "Let's define a function to calculate the likelihood of each job description. The idea is borrowed from [Matt Taddy](https://github.com/RaRe-Technologies/gensim/blob/develop/docs/notebooks/deepir.ipynb), who shows how a document can be characterized as the inner product of the distance between its words. In other words, this analysis will show which job ads are most likely to find an appropriate pool of workers in the resume bank that generated our word embedding.  "
   ]
  },
  {
   "cell_type": "code",
   "execution_count": 139,
   "metadata": {},
   "outputs": [],
   "source": [
    "def adprob(ad, model):\n",
    "    sen_scores = model.score(ad, len(ad))\n",
    "    ad_score = sen_scores.mean()\n",
    "    return ad_score"
   ]
  },
  {
   "cell_type": "markdown",
   "metadata": {},
   "source": [
    "Let's apply this function to every job description."
   ]
  },
  {
   "cell_type": "markdown",
   "metadata": {},
   "source": [
    "I am going to apply the adprob function to my corpus, to calculate the likelihood that each job ad could be generated by the word vector model of my corpus. In other words, I am identifying which documents from the jobs ads corpus are closest to my corpus."
   ]
  },
  {
   "cell_type": "code",
   "execution_count": 140,
   "metadata": {},
   "outputs": [],
   "source": [
    "sampleDF['likelihood'] = sampleDF['normalized_sents'].apply(lambda x: adprob(x, coca_model))"
   ]
  },
  {
   "cell_type": "markdown",
   "metadata": {},
   "source": [
    "Let's take a look at the top 5 job descriptions that have the highest likelihood."
   ]
  },
  {
   "cell_type": "code",
   "execution_count": 141,
   "metadata": {},
   "outputs": [
    {
     "name": "stdout",
     "output_type": "stream",
     "text": [
      "Project Engineering including below jobs: 1. Hardware designing of DCS 2. Software configurations, programming, testing of DCS/PLC 3. Testing and FAT 4. Installation and commissioning. 5. Material ordering, approvals of datasheets. 6. HSE compliance as per HSE directives of HON. BE / B. Tech - Instrumentation / Control / Electronics. **Job:** **Engineering* **Title:** *Systems Engineer* **Location:** *IND-MH-Pune* **Requisition ID:** *00302235*\n",
      "\n",
      "\n",
      "*# Positions:* 2 *Location:* US - UT - Orem *Category:* Engineering\n",
      "\n",
      "\n",
      "Like talking on the phone? Enjoy giving great customer service? Use those skills while working flexible,part time hours.\n",
      "\n",
      "\n",
      "2306307 **Business** GE Capital **Business Segment** Capital \\- International **About Us** Bank BPH, obecny na polskim rynku od ponad 25 lat, oferuje swoje produkty i usugi klientom indywidualnym, maym i srednim przedsiebiorstwom oraz klientom korporacyjnym\\. Oferta Banku zawiera m\\.in\\.: kredyty, w tym gotowkowe i hipoteczne, konta osobiste, rachunki oszczednosciowe i lokaty oraz karty kredytowe\\. Bank BPH wchodzi w skad grupy kapitaowej GE, jednej z najwiekszych korporacji na swiecie\\. W naszej codziennej pracy kierujemy sie zasadami fair play\\. Chcemy byc postrzegani jako Bank nr 1 pod wzgledem zaufania i fair play w stosunku do Klientow, Pracownikow, Interesariuszy i Spoecznosci, wsrod ktorych dziaamy\\. Doacz do nas\\! Najnowsze wiadomosci i informacje o mozliwosciach rozwoju w Banku BPH dostepne sa naw grupie Bank BPH Careers Poland\\. Chcesz sie przekonac jak wyglada praca z nami? Obserwuj nas na,,i **Posted Position Title** Starszy Specjalista ds\\. Szkolen i Programow Rozwojowych **Career Level** Experienced **Function** Human Resources **Function Segment** Learning and Development **Location\\(s\\) Where Opening Is Available** Poland **City** Warsaw **Postal Code** 00\\-811 **Relocation Expenses** No **Essential Responsibilities** + Prowadzenie projektow zw\\. z rozwojem pracownikow + Planowanie i organizacja szkolen wewnetrznych/zewnetrznych oraz programow rozwojowych + Wspoudzia w budowaniu polityki rozwojowej dla pracownikow + Analizy i przygotowywanie danych na potrzeby zarzadzania procesami HR + Wsparcie logistyki szkolen + Wspopraca z firmami zewnetrznymi + Przygotowanie dokumentacji szkoleniowej oraz zarzadzanie budzetem w ramach przypisanych zadan + Prowadzenie szkolen wewnetrznych **Qualifications/Requirements** + Doswiadczenie w pracy na podobnym stanowisku + Wysokie umiejetnosci interpersonalne + Rozwiniete umiejetnosci analityczne + Dobra znajomosc jezyka angielskiego + Wiedza oraz zainteresowanie tematyka z zakresu rozwoju i szkolen + Znajomosc rynku szkolen miekkich + Bardzo dobra znajomosc pakietu Office \\(ze szczegolnym uwzglednieniem Excel i PowerPoint\\) + Umiejetnosc prowadzenia szkolen + Wyksztacenie wyzsze \\(preferowane psychologia, socjologia lub pokrewne\\)\n",
      "\n",
      "\n",
      "Kforce has a client in Stamford, Connecticut (CT) that is seeking a Reporting Analyst. * Accounting / Finance degree * 5+ years experience\n",
      "\n",
      "\n"
     ]
    }
   ],
   "source": [
    "for ad in sampleDF.sort_values(by = 'likelihood', ascending = False)['jobDescription'][:5]:\n",
    "    print (ad + '\\n\\n')"
   ]
  },
  {
   "cell_type": "markdown",
   "metadata": {},
   "source": [
    "Let's take a look at the bottom 5 job descriptions that have the lowest likelihood to be matched by the resumes."
   ]
  },
  {
   "cell_type": "code",
   "execution_count": 142,
   "metadata": {},
   "outputs": [
    {
     "name": "stdout",
     "output_type": "stream",
     "text": [
      "Title: Contract Svc Admin Location: United States\\-Michigan\\-Caledonia Other Locations: JOB SUMMARY: ESSENTIAL DUTIES AND RESPONSIBILITIES: _ Other duties may be assigned:_ Prepare GPO rebate data for upload into STARR system oEnsure accurate data loads oProcess data into required reports oEnsure that GPOs are paid accurately and timely Prepare Sales Tracing data for upload into STARR system oEnsure accurate data loads oProcess data into required reports Prepare Rebate data for upload into STARR system oEnsure accurate data loads oProcess data into required reports oEnsure that distributors are accurately taking rebates against open invoices Manage work flow throughout the sales contracting process Ensure compliance with contract policies and performance requirements Assist in the preparation of charts and sales reports and analytics for customers and Management oQuarterly Reports oSales Tracing Answers customers and internal sale/customer service staff questions regarding pricing Manage all Pricing requests for GPO assignments and requests Other projects and tasks as assigned EDUCATION, EXPERIENCE AND QUALIFICATIONS: 4 year college degree in Business preferred Experience in pricing administration Experience in corporate administration Excellent Verbal and Written Communication Skills Excellent Computer Skills oHands on knowledge of Sales tracings highly recommended oMicrosoft Excel, Word, and Outlook a must Proven track record of successful project management Excellent Interpersonal Skills Excellent Customer Service orientation and skills \\#CB JOB SUMMARY: ESSENTIAL DUTIES AND RESPONSIBILITIES: _ Other duties may be assigned:_ Prepare GPO rebate data for upload into STARR system oEnsure accurate data loads oProcess data into required reports oEnsure that GPOs are paid accurately and timely Prepare Sales Tracing data for upload into STARR system oEnsure accurate data loads oProcess data into required reports Prepare Rebate data for upload into STARR system oEnsure accurate data loads oProcess data into required reports oEnsure that distributors are accurately taking rebates against open invoices Manage work flow throughout the sales contracting process Ensure compliance with contract policies and performance requirements Assist in the preparation of charts and sales reports and analytics for customers and Management oQuarterly Reports oSales Tracing Answers customers and internal sale/customer service staff questions regarding pricing Manage all Pricing requests for GPO assignments and requests Other projects and tasks as assigned EDUCATION, EXPERIENCE AND QUALIFICATIONS: 4 year college degree in Business preferred Experience in pricing administration Experience in corporate administration Excellent Verbal and Written Communication Skills Excellent Computer Skills oHands on knowledge of Sales tracings highly recommended oMicrosoft Excel, Word, and Outlook a must Proven track record of successful project management Excellent Interpersonal Skills Excellent Customer Service orientation and skills\n",
      "\n",
      "\n",
      "Kforce has a client in Beaverton, Oregon (OR) that is seeking an IT Project Manager.Responsibilities: * Manages projects with a duration of typically 12 months or less, budget 1 mnl, multiple business functions, with a regional scope * Works with project sponsors and customers to define; business benefits, business requirements, and project scope * Manages change control against scope and its impacts to time, cost, and quality * Defines project schedule, manages task assignments, tracks work against schedule * Facilitates level of effort estimating and develops asset acquisition requirements * Tracks and reports on actuals against forecast * Provides guidance and direction on project methodology and best practices to standard project methodology * Defines and manages project success / delivery criteria and monitors and reports on the realization of project success against criteria set * Defines risk management plan, analyzes risk for criticality, probability, and impact * Develops risk mitigation strategies, assigns owner and actions * Lead meetings and project agenda * Bachelor's degree and minimum of 5 years directly relevant work experience; one of the following alternatives may be accepted: PhD or Law + 3 years; Masters + 4 years; Associate's degree + 6 years; High School diploma or equivalent + 7 years * 5 years of project / program management experience * Experience delivering regional projects * Experience with formal project management methodology * Experience with scheduling, calendaring, working with multiple teams, timelines and demands\n",
      "\n",
      "\n",
      "Auto req ID 41872BR Title ASSISTANT MANAGER Employment Status: PT State/Province: Texas City: Watauga Job Description Assistant Store Managersat Dollar Tree are responsible for the following: * Assisting in the realization of your stores maximum profit contribution * Protect all company assets * Maintain a high level of good customer service * Opening and closing the store * Creative problem solving in the areas of: * Associate Development * Maximizing Sales Potential * Controlling Expense and Shrink * Merchandise Display * Store Signage PlacementWhat we need from you: * A strong desire to grow within the company * Minimum of 3 years prior retail management experience * Background in hardlines or variety merchandise * Big box experience a plus * Strong productivity management ability in freight processing * Strong communication, interpersonal and written skills * Ability to work in a high energy team environment Dollar Tree is an equal opportunity employer.\n",
      "\n",
      "\n",
      "Job Description As a CNA, you will perform a variety of home care duties to enhance the health, well-being and quality of life for your patients. All routine nursing care and services will be done in accordance with each patient''s individual plan of care. Your specific duties for this role will include: * Providing personal care and assistance with activities of daily living (ADLs), including mobility transfer, walking, grooming, bathing, dressing or undressing, eating, or toileting * Performing incidental household services essential to the patient''s health care at home as necessary to prevent or postpone institutionalization * Reporting any unusual circumstance in the patient's condition or home environment to the primary RN or Team Leader * Completing a clinical note for each visit within required timeframes, which must be incorporated into the patient''s record * Participating in the in-services program and completing at least six hours of in-services every six months * Participating in the daily report * Adhering to and supports the agency's care management model * Participating in staff conference regarding patient care * Participating in QA/QI plan or process * Providing all care according to the aide plan of care and/or assignment sheet and in accordance to State Practice Act or related regulations * Recording and notifying RN or Team Leader of any variations from the established parameters or of any changes in the patient''s condition Required Skills * High School Diploma or equivalent * Excellent interpersonal and communication skills * Team player who will always step in to offer support * Enthusiasm, drive and reliability * Responsive and proactive approach to problem solving * Upbeat and positive personality * Commitment to providing the highest quality of care * Ability to interact with patients and their families in an empathetic and professional manner * Current state CNA certification * Current driver''s license, auto insurance, and access to a reliable vehicle * CPR certification, preferred Required Experience * 1 year nursing assistant experience, preferred Company Location Muscle Shoals AL HSP (72801) *Tracking Code:* 210387 *Job location:* Muscle Shoals, Alabama, United States *Position Type:* PRN\n",
      "\n",
      "\n",
      "Epic Health Services, Inc. is looking for Bilingual (Spanish) Registered Nurses (RN) and Licensed Practical Nurses (LPN) for Pediatric Private Duty Nursing in **Freehold**: **Job Responsibilities Include:** * Provide skilled nursing care to pediatric and adult patients in a home setting * Assess home health patients to identify the physical, psycho-social, and environmental needs * Implement/develop/document the plan of care to ensure quality and continuity of care for pediatric patient * Provide health education to patient and or caregiver * Provide effective communication to patient/family, team members, and other health care professionals **Job Requirements:** * Must have an active nurse license in the state of employment * Minimum 6 months of licensed hands-on experience in the past 36 months as a LPN or RN (excluding clinical rotations) * LPN or RN home health or private duty nursing preferred * Pediatric trach and vent experience preferred * Current CPR accredited by American Heart Association and/or American Red Cross (certificate must be healthcare provider or healthcare professional). **Benefits:** * Competitive Weekly Pay * Direct Deposit * Healthcare Benefits * 401K * Flexible Schedules * Paid Training *CB* *Business Sector:* Epic Health Services Inc. *Location:* NJ-Toms River *General Area:* Freehold, NJ\n",
      "\n",
      "\n"
     ]
    }
   ],
   "source": [
    "for ad in sampleDF.sort_values(by = 'likelihood')['jobDescription'][:5]:\n",
    "    print (ad + '\\n\\n')"
   ]
  },
  {
   "cell_type": "code",
   "execution_count": 118,
   "metadata": {},
   "outputs": [
    {
     "name": "stdout",
     "output_type": "stream",
     "text": [
      "Title: Contract Svc Admin Location: United States\\-Michigan\\-Caledonia Other Locations: JOB SUMMARY: ESSENTIAL DUTIES AND RESPONSIBILITIES: _ Other duties may be assigned:_ Prepare GPO rebate data for upload into STARR system oEnsure accurate data loads oProcess data into required reports oEnsure that GPOs are paid accurately and timely Prepare Sales Tracing data for upload into STARR system oEnsure accurate data loads oProcess data into required reports Prepare Rebate data for upload into STARR system oEnsure accurate data loads oProcess data into required reports oEnsure that distributors are accurately taking rebates against open invoices Manage work flow throughout the sales contracting process Ensure compliance with contract policies and performance requirements Assist in the preparation of charts and sales reports and analytics for customers and Management oQuarterly Reports oSales Tracing Answers customers and internal sale/customer service staff questions regarding pricing Manage all Pricing requests for GPO assignments and requests Other projects and tasks as assigned EDUCATION, EXPERIENCE AND QUALIFICATIONS: 4 year college degree in Business preferred Experience in pricing administration Experience in corporate administration Excellent Verbal and Written Communication Skills Excellent Computer Skills oHands on knowledge of Sales tracings highly recommended oMicrosoft Excel, Word, and Outlook a must Proven track record of successful project management Excellent Interpersonal Skills Excellent Customer Service orientation and skills \\#CB JOB SUMMARY: ESSENTIAL DUTIES AND RESPONSIBILITIES: _ Other duties may be assigned:_ Prepare GPO rebate data for upload into STARR system oEnsure accurate data loads oProcess data into required reports oEnsure that GPOs are paid accurately and timely Prepare Sales Tracing data for upload into STARR system oEnsure accurate data loads oProcess data into required reports Prepare Rebate data for upload into STARR system oEnsure accurate data loads oProcess data into required reports oEnsure that distributors are accurately taking rebates against open invoices Manage work flow throughout the sales contracting process Ensure compliance with contract policies and performance requirements Assist in the preparation of charts and sales reports and analytics for customers and Management oQuarterly Reports oSales Tracing Answers customers and internal sale/customer service staff questions regarding pricing Manage all Pricing requests for GPO assignments and requests Other projects and tasks as assigned EDUCATION, EXPERIENCE AND QUALIFICATIONS: 4 year college degree in Business preferred Experience in pricing administration Experience in corporate administration Excellent Verbal and Written Communication Skills Excellent Computer Skills oHands on knowledge of Sales tracings highly recommended oMicrosoft Excel, Word, and Outlook a must Proven track record of successful project management Excellent Interpersonal Skills Excellent Customer Service orientation and skills\n",
      "\n",
      "\n",
      "Kforce has a client in Beaverton, Oregon (OR) that is seeking an IT Project Manager.Responsibilities: * Manages projects with a duration of typically 12 months or less, budget 1 mnl, multiple business functions, with a regional scope * Works with project sponsors and customers to define; business benefits, business requirements, and project scope * Manages change control against scope and its impacts to time, cost, and quality * Defines project schedule, manages task assignments, tracks work against schedule * Facilitates level of effort estimating and develops asset acquisition requirements * Tracks and reports on actuals against forecast * Provides guidance and direction on project methodology and best practices to standard project methodology * Defines and manages project success / delivery criteria and monitors and reports on the realization of project success against criteria set * Defines risk management plan, analyzes risk for criticality, probability, and impact * Develops risk mitigation strategies, assigns owner and actions * Lead meetings and project agenda * Bachelor's degree and minimum of 5 years directly relevant work experience; one of the following alternatives may be accepted: PhD or Law + 3 years; Masters + 4 years; Associate's degree + 6 years; High School diploma or equivalent + 7 years * 5 years of project / program management experience * Experience delivering regional projects * Experience with formal project management methodology * Experience with scheduling, calendaring, working with multiple teams, timelines and demands\n",
      "\n",
      "\n",
      "Auto req ID 41872BR Title ASSISTANT MANAGER Employment Status: PT State/Province: Texas City: Watauga Job Description Assistant Store Managersat Dollar Tree are responsible for the following: * Assisting in the realization of your stores maximum profit contribution * Protect all company assets * Maintain a high level of good customer service * Opening and closing the store * Creative problem solving in the areas of: * Associate Development * Maximizing Sales Potential * Controlling Expense and Shrink * Merchandise Display * Store Signage PlacementWhat we need from you: * A strong desire to grow within the company * Minimum of 3 years prior retail management experience * Background in hardlines or variety merchandise * Big box experience a plus * Strong productivity management ability in freight processing * Strong communication, interpersonal and written skills * Ability to work in a high energy team environment Dollar Tree is an equal opportunity employer.\n",
      "\n",
      "\n",
      "Job Description As a CNA, you will perform a variety of home care duties to enhance the health, well-being and quality of life for your patients. All routine nursing care and services will be done in accordance with each patient''s individual plan of care. Your specific duties for this role will include: * Providing personal care and assistance with activities of daily living (ADLs), including mobility transfer, walking, grooming, bathing, dressing or undressing, eating, or toileting * Performing incidental household services essential to the patient''s health care at home as necessary to prevent or postpone institutionalization * Reporting any unusual circumstance in the patient's condition or home environment to the primary RN or Team Leader * Completing a clinical note for each visit within required timeframes, which must be incorporated into the patient''s record * Participating in the in-services program and completing at least six hours of in-services every six months * Participating in the daily report * Adhering to and supports the agency's care management model * Participating in staff conference regarding patient care * Participating in QA/QI plan or process * Providing all care according to the aide plan of care and/or assignment sheet and in accordance to State Practice Act or related regulations * Recording and notifying RN or Team Leader of any variations from the established parameters or of any changes in the patient''s condition Required Skills * High School Diploma or equivalent * Excellent interpersonal and communication skills * Team player who will always step in to offer support * Enthusiasm, drive and reliability * Responsive and proactive approach to problem solving * Upbeat and positive personality * Commitment to providing the highest quality of care * Ability to interact with patients and their families in an empathetic and professional manner * Current state CNA certification * Current driver''s license, auto insurance, and access to a reliable vehicle * CPR certification, preferred Required Experience * 1 year nursing assistant experience, preferred Company Location Muscle Shoals AL HSP (72801) *Tracking Code:* 210387 *Job location:* Muscle Shoals, Alabama, United States *Position Type:* PRN\n",
      "\n",
      "\n",
      "Epic Health Services, Inc. is looking for Bilingual (Spanish) Registered Nurses (RN) and Licensed Practical Nurses (LPN) for Pediatric Private Duty Nursing in **Freehold**: **Job Responsibilities Include:** * Provide skilled nursing care to pediatric and adult patients in a home setting * Assess home health patients to identify the physical, psycho-social, and environmental needs * Implement/develop/document the plan of care to ensure quality and continuity of care for pediatric patient * Provide health education to patient and or caregiver * Provide effective communication to patient/family, team members, and other health care professionals **Job Requirements:** * Must have an active nurse license in the state of employment * Minimum 6 months of licensed hands-on experience in the past 36 months as a LPN or RN (excluding clinical rotations) * LPN or RN home health or private duty nursing preferred * Pediatric trach and vent experience preferred * Current CPR accredited by American Heart Association and/or American Red Cross (certificate must be healthcare provider or healthcare professional). **Benefits:** * Competitive Weekly Pay * Direct Deposit * Healthcare Benefits * 401K * Flexible Schedules * Paid Training *CB* *Business Sector:* Epic Health Services Inc. *Location:* NJ-Toms River *General Area:* Freehold, NJ\n",
      "\n",
      "\n"
     ]
    }
   ],
   "source": [
    "for ad in sampleDF.sort_values(by = 'likelihood')['jobDescription'][:5]:\n",
    "    print (ad + '\\n\\n')"
   ]
  },
  {
   "cell_type": "code",
   "execution_count": 150,
   "metadata": {},
   "outputs": [
    {
     "data": {
      "text/plain": [
       "-8.476998"
      ]
     },
     "execution_count": 150,
     "metadata": {},
     "output_type": "execute_result"
    }
   ],
   "source": [
    "adprob([[\"lesbian\", \"gay\"]], coca_model)"
   ]
  },
  {
   "cell_type": "code",
   "execution_count": 152,
   "metadata": {},
   "outputs": [
    {
     "data": {
      "text/plain": [
       "-17.63514"
      ]
     },
     "execution_count": 152,
     "metadata": {},
     "output_type": "execute_result"
    }
   ],
   "source": [
    "adprob([[\"diversity\", \"inclusion\"]], coca_model)"
   ]
  },
  {
   "cell_type": "code",
   "execution_count": 143,
   "metadata": {},
   "outputs": [
    {
     "data": {
      "text/plain": [
       "-22.876913"
      ]
     },
     "execution_count": 143,
     "metadata": {},
     "output_type": "execute_result"
    }
   ],
   "source": [
    "adprob([[\"inclusive\", \"service\"]], coca_model)"
   ]
  },
  {
   "cell_type": "code",
   "execution_count": 144,
   "metadata": {},
   "outputs": [
    {
     "data": {
      "text/plain": [
       "-21.94813"
      ]
     },
     "execution_count": 144,
     "metadata": {},
     "output_type": "execute_result"
    }
   ],
   "source": [
    "adprob([[\"diversity\", \"customer\"]], coca_model)"
   ]
  },
  {
   "cell_type": "code",
   "execution_count": 145,
   "metadata": {},
   "outputs": [
    {
     "data": {
      "text/plain": [
       "-19.997534"
      ]
     },
     "execution_count": 145,
     "metadata": {},
     "output_type": "execute_result"
    }
   ],
   "source": [
    "adprob([[\"facilitation\", \"people\"]], coca_model)"
   ]
  },
  {
   "cell_type": "code",
   "execution_count": 153,
   "metadata": {},
   "outputs": [
    {
     "data": {
      "text/plain": [
       "-12.775666"
      ]
     },
     "execution_count": 153,
     "metadata": {},
     "output_type": "execute_result"
    }
   ],
   "source": [
    "adprob([[\"minority\", \"people\"]], coca_model)"
   ]
  },
  {
   "cell_type": "code",
   "execution_count": 154,
   "metadata": {},
   "outputs": [
    {
     "data": {
      "text/plain": [
       "-20.750715"
      ]
     },
     "execution_count": 154,
     "metadata": {},
     "output_type": "execute_result"
    }
   ],
   "source": [
    "adprob([[\"queer\", \"gay\"]], coca_model)"
   ]
  },
  {
   "cell_type": "code",
   "execution_count": 155,
   "metadata": {},
   "outputs": [
    {
     "data": {
      "text/plain": [
       "-25.273148"
      ]
     },
     "execution_count": 155,
     "metadata": {},
     "output_type": "execute_result"
    }
   ],
   "source": [
    "adprob([[\"transgender\", \"queer\"]], coca_model)"
   ]
  },
  {
   "cell_type": "code",
   "execution_count": 146,
   "metadata": {},
   "outputs": [
    {
     "data": {
      "text/html": [
       "<div>\n",
       "<style scoped>\n",
       "    .dataframe tbody tr th:only-of-type {\n",
       "        vertical-align: middle;\n",
       "    }\n",
       "\n",
       "    .dataframe tbody tr th {\n",
       "        vertical-align: top;\n",
       "    }\n",
       "\n",
       "    .dataframe thead th {\n",
       "        text-align: right;\n",
       "    }\n",
       "</style>\n",
       "<table border=\"1\" class=\"dataframe\">\n",
       "  <thead>\n",
       "    <tr style=\"text-align: right;\">\n",
       "      <th></th>\n",
       "      <th>likelihood</th>\n",
       "    </tr>\n",
       "    <tr>\n",
       "      <th>hiringOrganization_organizationName</th>\n",
       "      <th></th>\n",
       "    </tr>\n",
       "  </thead>\n",
       "  <tbody>\n",
       "    <tr>\n",
       "      <td>Honeywell</td>\n",
       "      <td>-18.519836</td>\n",
       "    </tr>\n",
       "    <tr>\n",
       "      <td>Legrand North America</td>\n",
       "      <td>-31.473051</td>\n",
       "    </tr>\n",
       "    <tr>\n",
       "      <td>Illinois Wesleyan University</td>\n",
       "      <td>-52.567570</td>\n",
       "    </tr>\n",
       "    <tr>\n",
       "      <td>Franciscan St. Eilzabeth Health</td>\n",
       "      <td>-55.076565</td>\n",
       "    </tr>\n",
       "    <tr>\n",
       "      <td>Ingersoll Rand</td>\n",
       "      <td>-62.560204</td>\n",
       "    </tr>\n",
       "    <tr>\n",
       "      <td>...</td>\n",
       "      <td>...</td>\n",
       "    </tr>\n",
       "    <tr>\n",
       "      <td>G6 Hospitality</td>\n",
       "      <td>-395.614777</td>\n",
       "    </tr>\n",
       "    <tr>\n",
       "      <td>Epic Health Services</td>\n",
       "      <td>-461.003540</td>\n",
       "    </tr>\n",
       "    <tr>\n",
       "      <td>Kforce</td>\n",
       "      <td>-610.453268</td>\n",
       "    </tr>\n",
       "    <tr>\n",
       "      <td>Dollar Tree</td>\n",
       "      <td>-752.376526</td>\n",
       "    </tr>\n",
       "    <tr>\n",
       "      <td>Hill-Rom</td>\n",
       "      <td>-2248.504639</td>\n",
       "    </tr>\n",
       "  </tbody>\n",
       "</table>\n",
       "<p>67 rows × 1 columns</p>\n",
       "</div>"
      ],
      "text/plain": [
       "                                      likelihood\n",
       "hiringOrganization_organizationName             \n",
       "Honeywell                             -18.519836\n",
       "Legrand North America                 -31.473051\n",
       "Illinois Wesleyan University          -52.567570\n",
       "Franciscan St. Eilzabeth Health       -55.076565\n",
       "Ingersoll Rand                        -62.560204\n",
       "...                                          ...\n",
       "G6 Hospitality                       -395.614777\n",
       "Epic Health Services                 -461.003540\n",
       "Kforce                               -610.453268\n",
       "Dollar Tree                          -752.376526\n",
       "Hill-Rom                            -2248.504639\n",
       "\n",
       "[67 rows x 1 columns]"
      ]
     },
     "execution_count": 146,
     "metadata": {},
     "output_type": "execute_result"
    }
   ],
   "source": [
    "sampleDF.groupby(\"hiringOrganization_organizationName\")[['likelihood']].mean().sort_values('likelihood', ascending = False)"
   ]
  },
  {
   "cell_type": "markdown",
   "metadata": {},
   "source": [
    "We can also look at the mean likelihood of each state."
   ]
  },
  {
   "cell_type": "code",
   "execution_count": 147,
   "metadata": {},
   "outputs": [
    {
     "data": {
      "text/html": [
       "<div>\n",
       "<style scoped>\n",
       "    .dataframe tbody tr th:only-of-type {\n",
       "        vertical-align: middle;\n",
       "    }\n",
       "\n",
       "    .dataframe tbody tr th {\n",
       "        vertical-align: top;\n",
       "    }\n",
       "\n",
       "    .dataframe thead th {\n",
       "        text-align: right;\n",
       "    }\n",
       "</style>\n",
       "<table border=\"1\" class=\"dataframe\">\n",
       "  <thead>\n",
       "    <tr style=\"text-align: right;\">\n",
       "      <th></th>\n",
       "      <th>likelihood</th>\n",
       "    </tr>\n",
       "    <tr>\n",
       "      <th>jobLocation_address_region</th>\n",
       "      <th></th>\n",
       "    </tr>\n",
       "  </thead>\n",
       "  <tbody>\n",
       "    <tr>\n",
       "      <td>Utah</td>\n",
       "      <td>-31.473051</td>\n",
       "    </tr>\n",
       "    <tr>\n",
       "      <td>Connecticut</td>\n",
       "      <td>-49.741985</td>\n",
       "    </tr>\n",
       "    <tr>\n",
       "      <td>Montana</td>\n",
       "      <td>-53.804543</td>\n",
       "    </tr>\n",
       "    <tr>\n",
       "      <td>Kansas</td>\n",
       "      <td>-70.489532</td>\n",
       "    </tr>\n",
       "    <tr>\n",
       "      <td>New Hampshire</td>\n",
       "      <td>-74.289803</td>\n",
       "    </tr>\n",
       "    <tr>\n",
       "      <td>Louisiana</td>\n",
       "      <td>-74.841415</td>\n",
       "    </tr>\n",
       "    <tr>\n",
       "      <td>Tennessee</td>\n",
       "      <td>-75.759116</td>\n",
       "    </tr>\n",
       "    <tr>\n",
       "      <td>North Carolina</td>\n",
       "      <td>-77.023618</td>\n",
       "    </tr>\n",
       "    <tr>\n",
       "      <td>Illinois</td>\n",
       "      <td>-77.760593</td>\n",
       "    </tr>\n",
       "    <tr>\n",
       "      <td>South Carolina</td>\n",
       "      <td>-78.370613</td>\n",
       "    </tr>\n",
       "    <tr>\n",
       "      <td>Georgia</td>\n",
       "      <td>-83.958298</td>\n",
       "    </tr>\n",
       "    <tr>\n",
       "      <td>Arizona</td>\n",
       "      <td>-95.652710</td>\n",
       "    </tr>\n",
       "    <tr>\n",
       "      <td>Minnesota</td>\n",
       "      <td>-96.317223</td>\n",
       "    </tr>\n",
       "    <tr>\n",
       "      <td>Ohio</td>\n",
       "      <td>-96.831032</td>\n",
       "    </tr>\n",
       "    <tr>\n",
       "      <td>Maryland</td>\n",
       "      <td>-103.963287</td>\n",
       "    </tr>\n",
       "    <tr>\n",
       "      <td>Florida</td>\n",
       "      <td>-106.513949</td>\n",
       "    </tr>\n",
       "    <tr>\n",
       "      <td>California</td>\n",
       "      <td>-113.236424</td>\n",
       "    </tr>\n",
       "    <tr>\n",
       "      <td>Virginia</td>\n",
       "      <td>-117.663643</td>\n",
       "    </tr>\n",
       "    <tr>\n",
       "      <td>Nebraska</td>\n",
       "      <td>-134.619404</td>\n",
       "    </tr>\n",
       "    <tr>\n",
       "      <td>South Dakota</td>\n",
       "      <td>-136.082565</td>\n",
       "    </tr>\n",
       "    <tr>\n",
       "      <td>Wisconsin</td>\n",
       "      <td>-137.962921</td>\n",
       "    </tr>\n",
       "    <tr>\n",
       "      <td>Kentucky</td>\n",
       "      <td>-145.108147</td>\n",
       "    </tr>\n",
       "    <tr>\n",
       "      <td>Missouri</td>\n",
       "      <td>-147.818932</td>\n",
       "    </tr>\n",
       "    <tr>\n",
       "      <td>Massachusetts</td>\n",
       "      <td>-160.364096</td>\n",
       "    </tr>\n",
       "    <tr>\n",
       "      <td>Oklahoma</td>\n",
       "      <td>-162.410202</td>\n",
       "    </tr>\n",
       "    <tr>\n",
       "      <td>Pennsylvania</td>\n",
       "      <td>-168.681381</td>\n",
       "    </tr>\n",
       "    <tr>\n",
       "      <td>New Jersey</td>\n",
       "      <td>-196.528934</td>\n",
       "    </tr>\n",
       "    <tr>\n",
       "      <td>Alabama</td>\n",
       "      <td>-254.933858</td>\n",
       "    </tr>\n",
       "    <tr>\n",
       "      <td>Indiana</td>\n",
       "      <td>-262.518951</td>\n",
       "    </tr>\n",
       "    <tr>\n",
       "      <td>New York</td>\n",
       "      <td>-275.673920</td>\n",
       "    </tr>\n",
       "    <tr>\n",
       "      <td>Texas</td>\n",
       "      <td>-290.613333</td>\n",
       "    </tr>\n",
       "    <tr>\n",
       "      <td>New Mexico</td>\n",
       "      <td>-341.342194</td>\n",
       "    </tr>\n",
       "    <tr>\n",
       "      <td>Oregon</td>\n",
       "      <td>-361.659866</td>\n",
       "    </tr>\n",
       "    <tr>\n",
       "      <td>Michigan</td>\n",
       "      <td>-1212.024246</td>\n",
       "    </tr>\n",
       "  </tbody>\n",
       "</table>\n",
       "</div>"
      ],
      "text/plain": [
       "                             likelihood\n",
       "jobLocation_address_region             \n",
       "Utah                         -31.473051\n",
       "Connecticut                  -49.741985\n",
       "Montana                      -53.804543\n",
       "Kansas                       -70.489532\n",
       "New Hampshire                -74.289803\n",
       "Louisiana                    -74.841415\n",
       "Tennessee                    -75.759116\n",
       "North Carolina               -77.023618\n",
       "Illinois                     -77.760593\n",
       "South Carolina               -78.370613\n",
       "Georgia                      -83.958298\n",
       "Arizona                      -95.652710\n",
       "Minnesota                    -96.317223\n",
       "Ohio                         -96.831032\n",
       "Maryland                    -103.963287\n",
       "Florida                     -106.513949\n",
       "California                  -113.236424\n",
       "Virginia                    -117.663643\n",
       "Nebraska                    -134.619404\n",
       "South Dakota                -136.082565\n",
       "Wisconsin                   -137.962921\n",
       "Kentucky                    -145.108147\n",
       "Missouri                    -147.818932\n",
       "Massachusetts               -160.364096\n",
       "Oklahoma                    -162.410202\n",
       "Pennsylvania                -168.681381\n",
       "New Jersey                  -196.528934\n",
       "Alabama                     -254.933858\n",
       "Indiana                     -262.518951\n",
       "New York                    -275.673920\n",
       "Texas                       -290.613333\n",
       "New Mexico                  -341.342194\n",
       "Oregon                      -361.659866\n",
       "Michigan                   -1212.024246"
      ]
     },
     "execution_count": 147,
     "metadata": {},
     "output_type": "execute_result"
    }
   ],
   "source": [
    "sampleDF.groupby(\"jobLocation_address_region\")[['likelihood']].mean().sort_values('likelihood', ascending = False)"
   ]
  },
  {
   "cell_type": "markdown",
   "metadata": {},
   "source": [
    "## <span style=\"color:red\">*Exercise 4a Write-up*</span>\n",
    "\n",
    "Just a note, all the likelihood scores are different when comparing them to the resume model and my model (COCA), but interestingly after sorting the relevancy of the job descriptions to my corpus, the order of job description scores remains almost the same, as well as the companies. The locations of the jobs are slightly different. This could mean that the scores are simply measuring which job descriptions are using the most common words, instead of exactly which are matching with the actual corpus it’s comparing to. Utah, Connecticut, Montana, and Kansas all had job descriptions most similar to my corpus. If I assume my corpus (the COCA corpus) is a good representation of the modern use of English language, than this data suggests that these states perhaps use the most generic language, or language most commonly found in the English language, whereas a place like Oregon and New York post job descriptions far less likely to appear in my corpus, suggesting these job descriptions are more unique and use words less commonly used in the English language.\n",
    "\n",
    "I checked the scores of some phrases to see the ones most likely to appear in my corpus and are of interest to my final research project. Lesbian is less likely to occur in the corpus than gay, diversity less than inclusion, minority less than people, queer far less than gay, \n",
    "\n",
    "I think all of this suggests more about the boundaries of the job descriptions than of my corpus itself. Again given that my corpus is supposed to be a representative sample of the English language, whereas the job descriptions are only a small group of texts that I am checking against my full corpus. \n",
    "    \n"
   ]
  },
  {
   "cell_type": "markdown",
   "metadata": {},
   "source": [
    "## <span style=\"color:red\">*Did not do exercise 4b Below*</span>"
   ]
  },
  {
   "cell_type": "markdown",
   "metadata": {},
   "source": [
    "# Linguistic Change or Difference\n",
    "\n",
    "Below is code that aligns the dimensions of multiple embeddings arrayed over time or some other dimension and allow identification of semantic chanage as the word vectors change their loadings for focal words. This code comes from the approach piloted at Stanford by William Hamilton, Daniel Jurafsky and Jure Lescovec [here](https://arxiv.org/pdf/1605.09096.pdf). "
   ]
  },
  {
   "cell_type": "code",
   "execution_count": 76,
   "metadata": {},
   "outputs": [],
   "source": [
    "import copy"
   ]
  },
  {
   "cell_type": "code",
   "execution_count": 71,
   "metadata": {},
   "outputs": [],
   "source": [
    "def calc_syn0norm(model):\n",
    "    \"\"\"since syn0norm is now depricated\"\"\"\n",
    "    return (model.wv.syn0 / np.sqrt((model.wv.syn0 ** 2).sum(-1))[..., np.newaxis]).astype(np.float32)\n",
    "\n",
    "def smart_procrustes_align_gensim(base_embed, other_embed, words=None):\n",
    "    \"\"\"Procrustes align two gensim word2vec models (to allow for comparison between same word across models).\n",
    "    Code ported from HistWords <https://github.com/williamleif/histwords> by William Hamilton <wleif@stanford.edu>.\n",
    "    (With help from William. Thank you!)\n",
    "    First, intersect the vocabularies (see `intersection_align_gensim` documentation).\n",
    "    Then do the alignment on the other_embed model.\n",
    "    Replace the other_embed model's syn0 and syn0norm numpy matrices with the aligned version.\n",
    "    Return other_embed.\n",
    "    If `words` is set, intersect the two models' vocabulary with the vocabulary in words (see `intersection_align_gensim` documentation).\n",
    "    \"\"\"\n",
    "    base_embed = copy.copy(base_embed)\n",
    "    other_embed = copy.copy(other_embed)\n",
    "    # make sure vocabulary and indices are aligned\n",
    "    in_base_embed, in_other_embed = intersection_align_gensim(base_embed, other_embed, words=words)\n",
    "\n",
    "    # get the embedding matrices\n",
    "    base_vecs = calc_syn0norm(in_base_embed)\n",
    "    other_vecs = calc_syn0norm(in_other_embed)\n",
    "\n",
    "    # just a matrix dot product with numpy\n",
    "    m = other_vecs.T.dot(base_vecs) \n",
    "    # SVD method from numpy\n",
    "    u, _, v = np.linalg.svd(m)\n",
    "    # another matrix operation\n",
    "    ortho = u.dot(v) \n",
    "    # Replace original array with modified one\n",
    "    # i.e. multiplying the embedding matrix (syn0norm)by \"ortho\"\n",
    "    other_embed.wv.syn0norm = other_embed.wv.syn0 = (calc_syn0norm(other_embed)).dot(ortho)\n",
    "    return other_embed\n",
    "    \n",
    "def intersection_align_gensim(m1,m2, words=None):\n",
    "    \"\"\"\n",
    "    Intersect two gensim word2vec models, m1 and m2.\n",
    "    Only the shared vocabulary between them is kept.\n",
    "    If 'words' is set (as list or set), then the vocabulary is intersected with this list as well.\n",
    "    Indices are re-organized from 0..N in order of descending frequency (=sum of counts from both m1 and m2).\n",
    "    These indices correspond to the new syn0 and syn0norm objects in both gensim models:\n",
    "        -- so that Row 0 of m1.syn0 will be for the same word as Row 0 of m2.syn0\n",
    "        -- you can find the index of any word on the .index2word list: model.index2word.index(word) => 2\n",
    "    The .vocab dictionary is also updated for each model, preserving the count but updating the index.\n",
    "    \"\"\"\n",
    "\n",
    "    # Get the vocab for each model\n",
    "    vocab_m1 = set(m1.wv.vocab.keys())\n",
    "    vocab_m2 = set(m2.wv.vocab.keys())\n",
    "\n",
    "    # Find the common vocabulary\n",
    "    common_vocab = vocab_m1&vocab_m2\n",
    "    if words: common_vocab&=set(words)\n",
    "\n",
    "    # If no alignment necessary because vocab is identical...\n",
    "    if not vocab_m1-common_vocab and not vocab_m2-common_vocab:\n",
    "        return (m1,m2)\n",
    "\n",
    "    # Otherwise sort by frequency (summed for both)\n",
    "    common_vocab = list(common_vocab)\n",
    "    common_vocab.sort(key=lambda w: m1.wv.vocab[w].count + m2.wv.vocab[w].count,reverse=True)\n",
    "\n",
    "    # Then for each model...\n",
    "    for m in [m1,m2]:\n",
    "        # Replace old syn0norm array with new one (with common vocab)\n",
    "        indices = [m.wv.vocab[w].index for w in common_vocab]\n",
    "        old_arr = calc_syn0norm(m)\n",
    "        new_arr = np.array([old_arr[index] for index in indices])\n",
    "        m.wv.syn0norm = m.wv.syn0 = new_arr\n",
    "\n",
    "        # Replace old vocab dictionary with new one (with common vocab)\n",
    "        # and old index2word with new one\n",
    "        m.index2word = common_vocab\n",
    "        old_vocab = m.wv.vocab\n",
    "        new_vocab = {}\n",
    "        for new_index,word in enumerate(common_vocab):\n",
    "            old_vocab_obj=old_vocab[word]\n",
    "            new_vocab[word] = gensim.models.word2vec.Vocab(index=new_index, count=old_vocab_obj.count)\n",
    "        m.wv.vocab = new_vocab\n",
    "\n",
    "    return (m1,m2)"
   ]
  },
  {
   "cell_type": "markdown",
   "metadata": {},
   "source": [
    "In order to explore this, let's get some data that follows a time trend. We'll look at conference proceedings from the American Society for Clinical Oncologists."
   ]
  },
  {
   "cell_type": "code",
   "execution_count": 72,
   "metadata": {},
   "outputs": [],
   "source": [
    "ascoDF = pandas.read_csv(\"../data/ASCO_abstracts.csv\", index_col=0)"
   ]
  },
  {
   "cell_type": "markdown",
   "metadata": {},
   "source": [
    "Prepare for wor2vec:"
   ]
  },
  {
   "cell_type": "code",
   "execution_count": 73,
   "metadata": {},
   "outputs": [],
   "source": [
    "ascoDF['tokenized_sents'] = ascoDF['Body'].apply(lambda x: [lucem_illud_2020.word_tokenize(s) for s in lucem_illud_2020.sent_tokenize(x)])\n",
    "ascoDF['normalized_sents'] = ascoDF['tokenized_sents'].apply(lambda x: [lucem_illud_2020.normalizeTokens(s) for s in x])"
   ]
  },
  {
   "cell_type": "code",
   "execution_count": 94,
   "metadata": {},
   "outputs": [
    {
     "data": {
      "text/html": [
       "<div>\n",
       "<style scoped>\n",
       "    .dataframe tbody tr th:only-of-type {\n",
       "        vertical-align: middle;\n",
       "    }\n",
       "\n",
       "    .dataframe tbody tr th {\n",
       "        vertical-align: top;\n",
       "    }\n",
       "\n",
       "    .dataframe thead th {\n",
       "        text-align: right;\n",
       "    }\n",
       "</style>\n",
       "<table border=\"1\" class=\"dataframe\">\n",
       "  <thead>\n",
       "    <tr style=\"text-align: right;\">\n",
       "      <th></th>\n",
       "      <th>Year</th>\n",
       "      <th>AbstractCategory</th>\n",
       "      <th>Title</th>\n",
       "      <th>FirstAuthor</th>\n",
       "      <th>Body</th>\n",
       "      <th>AbstractPublicationID</th>\n",
       "      <th>tokenized_sents</th>\n",
       "      <th>normalized_sents</th>\n",
       "    </tr>\n",
       "  </thead>\n",
       "  <tbody>\n",
       "    <tr>\n",
       "      <th>0</th>\n",
       "      <td>1995</td>\n",
       "      <td>Lung Cancer</td>\n",
       "      <td>Treatment of non-small cell lung cancer with c...</td>\n",
       "      <td>GP Stathopoulos</td>\n",
       "      <td>Cisplatin compound is established as the main ...</td>\n",
       "      <td>1181</td>\n",
       "      <td>[[Cisplatin, compound, is, established, as, th...</td>\n",
       "      <td>[[cisplatin, compound, establish, main, drug, ...</td>\n",
       "    </tr>\n",
       "    <tr>\n",
       "      <th>1</th>\n",
       "      <td>1995</td>\n",
       "      <td>Breast Cancer</td>\n",
       "      <td>Treatment of primary breast cancer without mas...</td>\n",
       "      <td>A Bluming</td>\n",
       "      <td>Between March 24, 1977, and March 24, 1983, 15...</td>\n",
       "      <td>270</td>\n",
       "      <td>[[Between, March, 24, 1977, and, March, 24, 19...</td>\n",
       "      <td>[[march, march, woman, primary, breast, cancer...</td>\n",
       "    </tr>\n",
       "    <tr>\n",
       "      <th>2</th>\n",
       "      <td>1995</td>\n",
       "      <td>Gynecologic Cancer</td>\n",
       "      <td>Treatment of relapsed ovarian carcinoma with e...</td>\n",
       "      <td>M Metzner</td>\n",
       "      <td>ECF has established activity and a high respon...</td>\n",
       "      <td>784</td>\n",
       "      <td>[[ECF, has, established, activity, and, a, hig...</td>\n",
       "      <td>[[ecf, establish, activity, high, response, ra...</td>\n",
       "    </tr>\n",
       "    <tr>\n",
       "      <th>3</th>\n",
       "      <td>1995</td>\n",
       "      <td>Lung Cancer</td>\n",
       "      <td>Treatment of small cell lung cancer (SCLC) wit...</td>\n",
       "      <td>JD Hainsworth</td>\n",
       "      <td>In 7/93, we began investigation of a three-dru...</td>\n",
       "      <td>1197</td>\n",
       "      <td>[[In, 7/93, we, began, investigation, of, a, t...</td>\n",
       "      <td>[[begin, investigation, drug, combination, pac...</td>\n",
       "    </tr>\n",
       "    <tr>\n",
       "      <th>4</th>\n",
       "      <td>1995</td>\n",
       "      <td>Other Gastrointestinal Cancer</td>\n",
       "      <td>Vaccine-based (active specific) chemoimmunothe...</td>\n",
       "      <td>SH Itzkowitz</td>\n",
       "      <td>Active specific immunotherapy (ASI) is the adm...</td>\n",
       "      <td>549</td>\n",
       "      <td>[[Active, specific, immunotherapy, ASI, is, th...</td>\n",
       "      <td>[[active, specific, immunotherapy, asi, admini...</td>\n",
       "    </tr>\n",
       "    <tr>\n",
       "      <th>5</th>\n",
       "      <td>1995</td>\n",
       "      <td>Breast Cancer</td>\n",
       "      <td>Validation of a model that identifies high ris...</td>\n",
       "      <td>GM Clark</td>\n",
       "      <td>Breast cancer patients with 10 or more positiv...</td>\n",
       "      <td>69</td>\n",
       "      <td>[[Breast, cancer, patients, with, 10, or, more...</td>\n",
       "      <td>[[breast, cancer, patient, positive, lymph, no...</td>\n",
       "    </tr>\n",
       "    <tr>\n",
       "      <th>6</th>\n",
       "      <td>1995</td>\n",
       "      <td>Genitourinary Cancer</td>\n",
       "      <td>Validation of the PROSQOLI: a pragmatic outcom...</td>\n",
       "      <td>M Stockler</td>\n",
       "      <td>Rationale: Traditional outcome measures are un...</td>\n",
       "      <td>649</td>\n",
       "      <td>[[Rationale], [Traditional, outcome, measures,...</td>\n",
       "      <td>[[rationale], [traditional, outcome, measure, ...</td>\n",
       "    </tr>\n",
       "    <tr>\n",
       "      <th>7</th>\n",
       "      <td>1995</td>\n",
       "      <td>Preclinical Experimental Therapeutics - Other</td>\n",
       "      <td>'In vitro' comparative assay on fluorouracil (...</td>\n",
       "      <td>A Abad</td>\n",
       "      <td>The clinical experience with biochemical modul...</td>\n",
       "      <td>1609</td>\n",
       "      <td>[[The, clinical, experience, with, biochemical...</td>\n",
       "      <td>[[clinical, experience, biochemical, modulatio...</td>\n",
       "    </tr>\n",
       "    <tr>\n",
       "      <th>8</th>\n",
       "      <td>1995</td>\n",
       "      <td>Tumor Biology</td>\n",
       "      <td>'Medical cultural diversity' among medical onc...</td>\n",
       "      <td>R Hochman</td>\n",
       "      <td>Most MO rely on prospective randomized trials....</td>\n",
       "      <td>1633</td>\n",
       "      <td>[[Most, MO, rely, on, prospective, randomized,...</td>\n",
       "      <td>[[mo, rely, prospective, randomize, trial], [o...</td>\n",
       "    </tr>\n",
       "    <tr>\n",
       "      <th>9</th>\n",
       "      <td>1995</td>\n",
       "      <td>Developmental TherapeuticsÑClinical Pharmacolo...</td>\n",
       "      <td>13-cis-retinoic acid plus low dose recombinant...</td>\n",
       "      <td>GM Turola</td>\n",
       "      <td>Both interferons and retinoids are known to po...</td>\n",
       "      <td>709</td>\n",
       "      <td>[[Both, interferons, and, retinoids, are, know...</td>\n",
       "      <td>[[interferon, retinoid, know, possess, antipro...</td>\n",
       "    </tr>\n",
       "    <tr>\n",
       "      <th>10</th>\n",
       "      <td>1995</td>\n",
       "      <td>Hematologic MalignanciesÑLymphoma and Chronic ...</td>\n",
       "      <td>2-Chlorodeoxyadenosine (2-CDA) leads to partia...</td>\n",
       "      <td>T Lippuner</td>\n",
       "      <td>The prognosis of AILD, a rare low grade T-cell...</td>\n",
       "      <td>1273</td>\n",
       "      <td>[[The, prognosis, of, AILD, a, rare, low, grad...</td>\n",
       "      <td>[[prognosis, aild, rare, low, grade, t, cell, ...</td>\n",
       "    </tr>\n",
       "    <tr>\n",
       "      <th>11</th>\n",
       "      <td>1995</td>\n",
       "      <td>Hematologic MalignanciesÑLymphoma and Chronic ...</td>\n",
       "      <td>23-year follow-up after radiotherapy (RT) or r...</td>\n",
       "      <td>PH Wiernik</td>\n",
       "      <td>75 patients (pts) with HD pathologic stages IA...</td>\n",
       "      <td>1285</td>\n",
       "      <td>[[75, patients, pts, with, HD, pathologic, sta...</td>\n",
       "      <td>[[patient, pt, hd, pathologic, stage, ia, iiia...</td>\n",
       "    </tr>\n",
       "    <tr>\n",
       "      <th>12</th>\n",
       "      <td>1995</td>\n",
       "      <td>Breast Cancer</td>\n",
       "      <td>15 years follow-up for T4d (inflammatory) brea...</td>\n",
       "      <td>F Morvan</td>\n",
       "      <td>From 1979 to 1984, 71 patients with UICC T4d i...</td>\n",
       "      <td>265</td>\n",
       "      <td>[[From, 1979, to, 1984, 71, patients, with, UI...</td>\n",
       "      <td>[[patient, uicc, t4d, inflammatory, breast, ca...</td>\n",
       "    </tr>\n",
       "    <tr>\n",
       "      <th>13</th>\n",
       "      <td>1995</td>\n",
       "      <td>Hematologic MalignanciesÑLeukemia, Myelodyspla...</td>\n",
       "      <td>2-CDA +/- ara-C is ineffective therapy for rel...</td>\n",
       "      <td>S Kornblau</td>\n",
       "      <td>Santana et al reported a CR rate of 8/17 (95% ...</td>\n",
       "      <td>1005</td>\n",
       "      <td>[[Santana, et, al, reported, a, CR, rate, of, ...</td>\n",
       "      <td>[[santana, et, al, report, cr, rate, ci, child...</td>\n",
       "    </tr>\n",
       "    <tr>\n",
       "      <th>14</th>\n",
       "      <td>1995</td>\n",
       "      <td>Hematologic MalignanciesÑLeukemia, Myelodyspla...</td>\n",
       "      <td>2-chlorodeoxyadenosine (2-CdA) in the treatmen...</td>\n",
       "      <td>M Tallman</td>\n",
       "      <td>Since human monocyte cell lines show in vitro ...</td>\n",
       "      <td>1022</td>\n",
       "      <td>[[Since, human, monocyte, cell, lines, show, i...</td>\n",
       "      <td>[[human, monocyte, cell, line, vitro, sensitiv...</td>\n",
       "    </tr>\n",
       "    <tr>\n",
       "      <th>15</th>\n",
       "      <td>1995</td>\n",
       "      <td>Developmental TherapeuticsÑClinical Pharmacolo...</td>\n",
       "      <td>3 versus 6 versus 24 hour infusions of paclita...</td>\n",
       "      <td>D Rischin</td>\n",
       "      <td>The infusion duration of paclitaxel has varied...</td>\n",
       "      <td>1500</td>\n",
       "      <td>[[The, infusion, duration, of, paclitaxel, has...</td>\n",
       "      <td>[[infusion, duration, paclitaxel, vary, clinic...</td>\n",
       "    </tr>\n",
       "    <tr>\n",
       "      <th>16</th>\n",
       "      <td>1995</td>\n",
       "      <td>Breast Cancer</td>\n",
       "      <td>3-hr high-dose taxol (T) infusion following st...</td>\n",
       "      <td>E Mamounas</td>\n",
       "      <td>T has shown significant antitumor activity in ...</td>\n",
       "      <td>207</td>\n",
       "      <td>[[T, has, shown, significant, antitumor, activ...</td>\n",
       "      <td>[[t, show, significant, antitumor, activity, p...</td>\n",
       "    </tr>\n",
       "    <tr>\n",
       "      <th>17</th>\n",
       "      <td>1995</td>\n",
       "      <td>Breast Cancer</td>\n",
       "      <td>3-hr high-dose taxol (T) infusion in advanced ...</td>\n",
       "      <td>E Mamounas</td>\n",
       "      <td>High-dose T has shown significant antitumor ac...</td>\n",
       "      <td>206</td>\n",
       "      <td>[[High, dose, T, has, shown, significant, anti...</td>\n",
       "      <td>[[high, dose, t, show, significant, antitumor,...</td>\n",
       "    </tr>\n",
       "    <tr>\n",
       "      <th>18</th>\n",
       "      <td>1995</td>\n",
       "      <td>Central Nervous System Tumors</td>\n",
       "      <td>3H-paclitaxel (3H-P) tissue concentrations wit...</td>\n",
       "      <td>GJ Lesser</td>\n",
       "      <td>Ongoing clinical trials are evaluating the eff...</td>\n",
       "      <td>292</td>\n",
       "      <td>[[Ongoing, clinical, trials, are, evaluating, ...</td>\n",
       "      <td>[[ongoing, clinical, trial, evaluate, efficacy...</td>\n",
       "    </tr>\n",
       "    <tr>\n",
       "      <th>19</th>\n",
       "      <td>1995</td>\n",
       "      <td>Other Gastrointestinal Cancer</td>\n",
       "      <td>5 fluorouracil (5Fu), mitomycin-C, leucovorin ...</td>\n",
       "      <td>GS Soori</td>\n",
       "      <td>Between 1991 and 1994, 28 patients with gastro...</td>\n",
       "      <td>575</td>\n",
       "      <td>[[Between, 1991, and, 1994, 28, patients, with...</td>\n",
       "      <td>[[patient, gastro, intestinal, adenocarcinoma,...</td>\n",
       "    </tr>\n",
       "    <tr>\n",
       "      <th>20</th>\n",
       "      <td>1995</td>\n",
       "      <td>Developmental TherapeuticsÑClinical Pharmacolo...</td>\n",
       "      <td>5-Ethynyluracil (776C85), an inhibitor of dihy...</td>\n",
       "      <td>AA Adjei</td>\n",
       "      <td>The erratic bioavailability (BA) of oral 5-FU ...</td>\n",
       "      <td>1478</td>\n",
       "      <td>[[The, erratic, bioavailability, BA, of, oral,...</td>\n",
       "      <td>[[erratic, bioavailability, ba, oral, 5-fu, pr...</td>\n",
       "    </tr>\n",
       "    <tr>\n",
       "      <th>21</th>\n",
       "      <td>1995</td>\n",
       "      <td>Other Gastrointestinal Cancer</td>\n",
       "      <td>5-fluorouracil (5FU) + levamisole (LEVA) vs 5F...</td>\n",
       "      <td>P Bruzzi</td>\n",
       "      <td>To determine whether the addition of 6-S-LV to...</td>\n",
       "      <td>497</td>\n",
       "      <td>[[To, determine, whether, the, addition, of, 6...</td>\n",
       "      <td>[[determine, addition, 6-s, lv, combination, 5...</td>\n",
       "    </tr>\n",
       "    <tr>\n",
       "      <th>22</th>\n",
       "      <td>1995</td>\n",
       "      <td>Breast Cancer</td>\n",
       "      <td>5-Year results of high-dose sequential (HDS) a...</td>\n",
       "      <td>AM Gianni</td>\n",
       "      <td>To improve the results of adjuvant chemotherap...</td>\n",
       "      <td>61</td>\n",
       "      <td>[[To, improve, the, results, of, adjuvant, che...</td>\n",
       "      <td>[[improve, result, adjuvant, chemotherapy, bre...</td>\n",
       "    </tr>\n",
       "    <tr>\n",
       "      <th>23</th>\n",
       "      <td>1995</td>\n",
       "      <td>Breast Cancer</td>\n",
       "      <td>96-hour paclitaxel after prior short taxane in...</td>\n",
       "      <td>AD Seidman</td>\n",
       "      <td>Paclitaxel (P) via 96 hr infusion has signific...</td>\n",
       "      <td>151</td>\n",
       "      <td>[[Paclitaxel, P, via, 96, hr, infusion, has, s...</td>\n",
       "      <td>[[paclitaxel, p, hr, infusion, significant, ac...</td>\n",
       "    </tr>\n",
       "    <tr>\n",
       "      <th>24</th>\n",
       "      <td>1995</td>\n",
       "      <td>Developmental TherapeuticsÑClinical Pharmacolo...</td>\n",
       "      <td>96-hour paclitaxel without and with R-verapami...</td>\n",
       "      <td>D Riseberg</td>\n",
       "      <td>We conducted a two part trial of 96-hr infusio...</td>\n",
       "      <td>403</td>\n",
       "      <td>[[We, conducted, a, two, part, trial, of, 96-h...</td>\n",
       "      <td>[[conduct, trial, 96-hr, infusional, paclitaxe...</td>\n",
       "    </tr>\n",
       "    <tr>\n",
       "      <th>25</th>\n",
       "      <td>1995</td>\n",
       "      <td>Sarcoma</td>\n",
       "      <td>A Canadian national tumor bank/data base for s...</td>\n",
       "      <td>V Bramwell</td>\n",
       "      <td>A network established by a cooperative clinica...</td>\n",
       "      <td>1694</td>\n",
       "      <td>[[A, network, established, by, a, cooperative,...</td>\n",
       "      <td>[[network, establish, cooperative, clinical, t...</td>\n",
       "    </tr>\n",
       "    <tr>\n",
       "      <th>26</th>\n",
       "      <td>1995</td>\n",
       "      <td>Breast Cancer</td>\n",
       "      <td>A Canadian perspective on breast conservative ...</td>\n",
       "      <td>C Kotwall</td>\n",
       "      <td>Between 5/88 and 6/93, 220 consecutive women w...</td>\n",
       "      <td>249</td>\n",
       "      <td>[[Between, 5/88, and, 6/93, 220, consecutive, ...</td>\n",
       "      <td>[[consecutive, woman, breast, cancer, undergo,...</td>\n",
       "    </tr>\n",
       "    <tr>\n",
       "      <th>27</th>\n",
       "      <td>1995</td>\n",
       "      <td>Developmental TherapeuticsÑClinical Pharmacolo...</td>\n",
       "      <td>A clinical evaluation of Duragesic (transderma...</td>\n",
       "      <td>J Gardner-Nix</td>\n",
       "      <td>Between May 1992 and April 1994, 250 patients ...</td>\n",
       "      <td>390</td>\n",
       "      <td>[[Between, May, 1992, and, April, 1994, 250, p...</td>\n",
       "      <td>[[april, patient, enroll, center, clinical, ev...</td>\n",
       "    </tr>\n",
       "    <tr>\n",
       "      <th>28</th>\n",
       "      <td>1995</td>\n",
       "      <td>Psychosocial Aspects of Cancer</td>\n",
       "      <td>A comparison of two quality-of-life (QOL) ques...</td>\n",
       "      <td>MT King</td>\n",
       "      <td>FLIC and QLQ-C30 were administered concurrentl...</td>\n",
       "      <td>1651</td>\n",
       "      <td>[[FLIC, and, QLQ, C30, were, administered, con...</td>\n",
       "      <td>[[flic, qlq, c30, administer, concurrently, co...</td>\n",
       "    </tr>\n",
       "    <tr>\n",
       "      <th>29</th>\n",
       "      <td>1995</td>\n",
       "      <td>Health Care Research</td>\n",
       "      <td>A comprehensive analysis of the cost basis of ...</td>\n",
       "      <td>F Khuri</td>\n",
       "      <td>We have carried out a comprehensive database a...</td>\n",
       "      <td>905</td>\n",
       "      <td>[[We, have, carried, out, a, comprehensive, da...</td>\n",
       "      <td>[[carry, comprehensive, database, analysis, ev...</td>\n",
       "    </tr>\n",
       "    <tr>\n",
       "      <th>...</th>\n",
       "      <td>...</td>\n",
       "      <td>...</td>\n",
       "      <td>...</td>\n",
       "      <td>...</td>\n",
       "      <td>...</td>\n",
       "      <td>...</td>\n",
       "      <td>...</td>\n",
       "      <td>...</td>\n",
       "    </tr>\n",
       "    <tr>\n",
       "      <th>62348</th>\n",
       "      <td>2011</td>\n",
       "      <td>Gastrointestinal (Colorectal) Cancer</td>\n",
       "      <td>Bevacizumab plus capecitabine as maintenance t...</td>\n",
       "      <td>S. Yalcin</td>\n",
       "      <td>&lt;p&gt;&lt;b&gt;Background:&lt;/b&gt; Colorectal cancer is one...</td>\n",
       "      <td>NaN</td>\n",
       "      <td>[[&lt;, p&gt;&lt;b, &gt;], [Background:&lt;/b, &gt;, Colorectal,...</td>\n",
       "      <td>[[&lt;, p&gt;&lt;b, &gt;], [background:&lt;/b, &gt;, colorectal,...</td>\n",
       "    </tr>\n",
       "    <tr>\n",
       "      <th>62351</th>\n",
       "      <td>2011</td>\n",
       "      <td>Health Services Research</td>\n",
       "      <td>The relationship between cost, quality, and ou...</td>\n",
       "      <td>M. J. Hassett</td>\n",
       "      <td>&lt;p&gt;&lt;b&gt;Background:&lt;/b&gt; Breast cancer (BrCa) is ...</td>\n",
       "      <td>NaN</td>\n",
       "      <td>[[&lt;], [p&gt;&lt;b, &gt;], [Background:&lt;/b, &gt;, Breast, c...</td>\n",
       "      <td>[[&lt;], [p&gt;&lt;b, &gt;], [background:&lt;/b, &gt;, breast, c...</td>\n",
       "    </tr>\n",
       "    <tr>\n",
       "      <th>62361</th>\n",
       "      <td>2011</td>\n",
       "      <td>Patient and Survivor Care</td>\n",
       "      <td>Effect of Medical Qigong on cognitive function...</td>\n",
       "      <td>B. Oh</td>\n",
       "      <td>&lt;p&gt;&lt;b&gt;Background: &lt;/b&gt;   Cancer patients often...</td>\n",
       "      <td>NaN</td>\n",
       "      <td>[[&lt;], [p&gt;&lt;b, &gt;, Background, &lt;, /b, &gt;], [Cancer...</td>\n",
       "      <td>[[&lt;], [p&gt;&lt;b, &gt;, background, &lt;, /b, &gt;], [cancer...</td>\n",
       "    </tr>\n",
       "    <tr>\n",
       "      <th>62362</th>\n",
       "      <td>2011</td>\n",
       "      <td>Developmental TherapeuticsÑClinical Pharmacolo...</td>\n",
       "      <td>Tumor-targeted cancer vaccination (GeneVieve P...</td>\n",
       "      <td>J. G. Ignacio</td>\n",
       "      <td>&lt;p&gt;&lt;b&gt;Background:&lt;/b&gt; Rexin-G and Reximmune-C ...</td>\n",
       "      <td>NaN</td>\n",
       "      <td>[[&lt;], [p&gt;&lt;b, &gt;], [Background:&lt;/b, &gt;, Rexin, G,...</td>\n",
       "      <td>[[&lt;], [p&gt;&lt;b, &gt;], [background:&lt;/b, &gt;, rexin, g,...</td>\n",
       "    </tr>\n",
       "    <tr>\n",
       "      <th>62371</th>\n",
       "      <td>2011</td>\n",
       "      <td>Hematologic MalignanciesÑLeukemia, Myelodyspla...</td>\n",
       "      <td>Activity and tolerability of the Bruton&amp;#39;s ...</td>\n",
       "      <td>J. C. Byrd</td>\n",
       "      <td>&lt;p&gt;&lt;b&gt;Background: &lt;/b&gt;  Btk is essential to B-...</td>\n",
       "      <td>NaN</td>\n",
       "      <td>[[&lt;], [p&gt;&lt;b, &gt;, Background], [&lt;, /b], [&gt;], [Bt...</td>\n",
       "      <td>[[&lt;], [p&gt;&lt;b, &gt;, background], [&lt;, /b], [&gt;], [bt...</td>\n",
       "    </tr>\n",
       "    <tr>\n",
       "      <th>62386</th>\n",
       "      <td>2011</td>\n",
       "      <td>Breast CancerÑTriple-Negative/Cytotoxics/Local...</td>\n",
       "      <td>Lymphocyte infiltration (LI) and immunohistoch...</td>\n",
       "      <td>C. S. Yau</td>\n",
       "      <td>&lt;p&gt;&lt;b&gt;Background:&lt;/b&gt; IHC is a readily availab...</td>\n",
       "      <td>NaN</td>\n",
       "      <td>[[&lt;], [p&gt;&lt;b, &gt;], [Background:&lt;/b, &gt;, IHC, is, ...</td>\n",
       "      <td>[[&lt;], [p&gt;&lt;b, &gt;], [background:&lt;/b, &gt;, ihc, read...</td>\n",
       "    </tr>\n",
       "    <tr>\n",
       "      <th>62396</th>\n",
       "      <td>2011</td>\n",
       "      <td>Gastrointestinal (Colorectal) Cancer</td>\n",
       "      <td>Role of routine adjuvant chemotherapy after ne...</td>\n",
       "      <td>R. P. Kiran</td>\n",
       "      <td>&lt;p&gt;&lt;b&gt;Background:&lt;/b&gt; The current standard of ...</td>\n",
       "      <td>NaN</td>\n",
       "      <td>[[&lt;, p&gt;&lt;b, &gt;], [Background:&lt;/b, &gt;], [The, curr...</td>\n",
       "      <td>[[&lt;, p&gt;&lt;b, &gt;], [background:&lt;/b, &gt;], [current, ...</td>\n",
       "    </tr>\n",
       "    <tr>\n",
       "      <th>62402</th>\n",
       "      <td>2011</td>\n",
       "      <td>Developmental TherapeuticsÑClinical Pharmacolo...</td>\n",
       "      <td>A novel approach to rituximab biosimilar drug ...</td>\n",
       "      <td>S. M. Berry</td>\n",
       "      <td>&lt;p&gt;&lt;b&gt;Background:&lt;/b&gt;  Regulatory uncertainty ...</td>\n",
       "      <td>NaN</td>\n",
       "      <td>[[&lt;, p&gt;&lt;b, &gt;], [Background:&lt;/b, &gt;], [Regulator...</td>\n",
       "      <td>[[&lt;, p&gt;&lt;b, &gt;], [background:&lt;/b, &gt;], [regulator...</td>\n",
       "    </tr>\n",
       "    <tr>\n",
       "      <th>62407</th>\n",
       "      <td>2011</td>\n",
       "      <td>Hematologic MalignanciesÑLymphoma and Chronic ...</td>\n",
       "      <td>Long-term safety of lenalidomide (LEN) in rela...</td>\n",
       "      <td>B. G. Durie</td>\n",
       "      <td>&lt;p&gt;&lt;b&gt;Background:&lt;/b&gt; LEN has significantly ex...</td>\n",
       "      <td>NaN</td>\n",
       "      <td>[[&lt;], [p&gt;&lt;b, &gt;], [Background:&lt;/b, &gt;, LEN, has,...</td>\n",
       "      <td>[[&lt;], [p&gt;&lt;b, &gt;], [background:&lt;/b, &gt;, len, sign...</td>\n",
       "    </tr>\n",
       "    <tr>\n",
       "      <th>62414</th>\n",
       "      <td>2011</td>\n",
       "      <td>Genitourinary Cancer</td>\n",
       "      <td>Multisolution variance-based optimization (MVB...</td>\n",
       "      <td>M. A. Laviraj</td>\n",
       "      <td>&lt;p&gt;&lt;b&gt;Background:&lt;/b&gt; Oncentra Prostate real-t...</td>\n",
       "      <td>NaN</td>\n",
       "      <td>[[&lt;, p&gt;&lt;b, &gt;], [Background:&lt;/b, &gt;, Oncentra, P...</td>\n",
       "      <td>[[&lt;, p&gt;&lt;b, &gt;], [background:&lt;/b, &gt;, oncentra, p...</td>\n",
       "    </tr>\n",
       "    <tr>\n",
       "      <th>62431</th>\n",
       "      <td>2011</td>\n",
       "      <td>Cancer Prevention/Epidemiology</td>\n",
       "      <td>The impact of screening mammography in breast ...</td>\n",
       "      <td>C. Checka</td>\n",
       "      <td>&lt;p&gt;&lt;b&gt;Background:&lt;/b&gt; Recent recommendations b...</td>\n",
       "      <td>NaN</td>\n",
       "      <td>[[&lt;, p&gt;&lt;b, &gt;], [Background:&lt;/b, &gt;, Recent, rec...</td>\n",
       "      <td>[[&lt;, p&gt;&lt;b, &gt;], [background:&lt;/b, &gt;, recent, rec...</td>\n",
       "    </tr>\n",
       "    <tr>\n",
       "      <th>62452</th>\n",
       "      <td>2011</td>\n",
       "      <td>Cancer Prevention/Epidemiology</td>\n",
       "      <td>Body mass index: A potential risk factor for b...</td>\n",
       "      <td>V. Sharma</td>\n",
       "      <td>&lt;p&gt;&lt;b&gt;Background:&lt;/b&gt; Breast cancer (BC), the ...</td>\n",
       "      <td>NaN</td>\n",
       "      <td>[[&lt;], [p&gt;&lt;b, &gt;], [Background:&lt;/b, &gt;, Breast, c...</td>\n",
       "      <td>[[&lt;], [p&gt;&lt;b, &gt;], [background:&lt;/b, &gt;, breast, c...</td>\n",
       "    </tr>\n",
       "    <tr>\n",
       "      <th>62456</th>\n",
       "      <td>2011</td>\n",
       "      <td>Melanoma/Skin Cancers</td>\n",
       "      <td>Frequency of mutations associated with targete...</td>\n",
       "      <td>S. Cheng</td>\n",
       "      <td>&lt;p&gt;&lt;b&gt;Background:&lt;/b&gt; &lt;i&gt;BRAF&lt;/i&gt;,&lt;i&gt; RAS&lt;/i&gt;,...</td>\n",
       "      <td>NaN</td>\n",
       "      <td>[[&lt;, p&gt;&lt;b, &gt;], [Background:&lt;/b, &gt;, &lt;, i], [&gt;, ...</td>\n",
       "      <td>[[&lt;, p&gt;&lt;b, &gt;], [background:&lt;/b, &gt;, &lt;], [&gt;, bra...</td>\n",
       "    </tr>\n",
       "    <tr>\n",
       "      <th>62462</th>\n",
       "      <td>2011</td>\n",
       "      <td>Health Services Research</td>\n",
       "      <td>Rapid improvement in evidence-based, quality c...</td>\n",
       "      <td>M. A. Amin</td>\n",
       "      <td>&lt;p&gt;&lt;b&gt;Background:&lt;/b&gt; ASCO&amp;#39;s Quality Oncol...</td>\n",
       "      <td>NaN</td>\n",
       "      <td>[[&lt;, p&gt;&lt;b, &gt;], [Background:&lt;/b, &gt;, ASCO&amp;#39;s,...</td>\n",
       "      <td>[[&lt;, p&gt;&lt;b, &gt;], [background:&lt;/b, &gt;, asco&amp;#39;s,...</td>\n",
       "    </tr>\n",
       "    <tr>\n",
       "      <th>62467</th>\n",
       "      <td>2011</td>\n",
       "      <td>Central Nervous System Tumors</td>\n",
       "      <td>FLT-PET analysis of early response to everolim...</td>\n",
       "      <td>J. N. Sarkaria</td>\n",
       "      <td>&lt;p&gt;&lt;b&gt;Background:&lt;/b&gt; 18F-fluorodeoxyuridine (...</td>\n",
       "      <td>NaN</td>\n",
       "      <td>[[&lt;], [p&gt;&lt;b, &gt;], [Background:&lt;/b, &gt;, 18F, fluo...</td>\n",
       "      <td>[[&lt;], [p&gt;&lt;b, &gt;], [background:&lt;/b, &gt;, 18f, fluo...</td>\n",
       "    </tr>\n",
       "    <tr>\n",
       "      <th>62484</th>\n",
       "      <td>2011</td>\n",
       "      <td>Central Nervous System Tumors</td>\n",
       "      <td>Prognostic factors in elderly patients with gr...</td>\n",
       "      <td>A. Satra</td>\n",
       "      <td>&lt;p&gt;&lt;b&gt;Background:&lt;/b&gt; Anaplastic astrocytoma (...</td>\n",
       "      <td>NaN</td>\n",
       "      <td>[[&lt;, p&gt;&lt;b, &gt;], [Background:&lt;/b, &gt;, Anaplastic,...</td>\n",
       "      <td>[[&lt;, p&gt;&lt;b, &gt;], [background:&lt;/b, &gt;, anaplastic,...</td>\n",
       "    </tr>\n",
       "    <tr>\n",
       "      <th>62503</th>\n",
       "      <td>2011</td>\n",
       "      <td>Health Services Research</td>\n",
       "      <td>Changes in global patterns of care for first-l...</td>\n",
       "      <td>A. J. Combest</td>\n",
       "      <td>&lt;p&gt;&lt;b&gt;Background:&lt;/b&gt; Few reports have focused...</td>\n",
       "      <td>NaN</td>\n",
       "      <td>[[&lt;, p&gt;&lt;b, &gt;], [Background:&lt;/b, &gt;], [Few, repo...</td>\n",
       "      <td>[[&lt;, p&gt;&lt;b, &gt;], [background:&lt;/b, &gt;], [report, f...</td>\n",
       "    </tr>\n",
       "    <tr>\n",
       "      <th>62512</th>\n",
       "      <td>2011</td>\n",
       "      <td>Health Services Research</td>\n",
       "      <td>Time to publication of the results of clinical...</td>\n",
       "      <td>H. Katayama</td>\n",
       "      <td>&lt;p&gt;&lt;b&gt;Background:&lt;/b&gt; It was previously report...</td>\n",
       "      <td>NaN</td>\n",
       "      <td>[[&lt;, p&gt;&lt;b, &gt;], [Background:&lt;/b, &gt;], [It, was, ...</td>\n",
       "      <td>[[&lt;, p&gt;&lt;b, &gt;], [background:&lt;/b, &gt;], [previousl...</td>\n",
       "    </tr>\n",
       "    <tr>\n",
       "      <th>62515</th>\n",
       "      <td>2011</td>\n",
       "      <td>Developmental TherapeuticsÑExperimental Therap...</td>\n",
       "      <td>Treatment (Tx) guidelines for skin and mucosal...</td>\n",
       "      <td>M. J. Borad</td>\n",
       "      <td>&lt;p&gt;&lt;b&gt;Background:&lt;/b&gt; TH&amp;#8209;302 is essentia...</td>\n",
       "      <td>NaN</td>\n",
       "      <td>[[&lt;], [p&gt;&lt;b, &gt;], [Background:&lt;/b, &gt;, TH&amp;#8209;...</td>\n",
       "      <td>[[&lt;], [p&gt;&lt;b, &gt;], [background:&lt;/b, &gt;, th&amp;#8209;...</td>\n",
       "    </tr>\n",
       "    <tr>\n",
       "      <th>62541</th>\n",
       "      <td>2011</td>\n",
       "      <td>Health Services Research</td>\n",
       "      <td>Barriers to implementing primary HER2 FISH tes...</td>\n",
       "      <td>G. J. Tsongalis</td>\n",
       "      <td>&lt;p&gt;&lt;b&gt;Background:&lt;/b&gt; Two HER2/neu testing pro...</td>\n",
       "      <td>NaN</td>\n",
       "      <td>[[&lt;, p&gt;&lt;b, &gt;], [Background:&lt;/b, &gt;, Two, HER2, ...</td>\n",
       "      <td>[[&lt;, p&gt;&lt;b, &gt;], [background:&lt;/b, &gt;, her2, neu, ...</td>\n",
       "    </tr>\n",
       "    <tr>\n",
       "      <th>62543</th>\n",
       "      <td>2011</td>\n",
       "      <td>Patient and Survivor Care</td>\n",
       "      <td>Understanding causes for distress among cancer...</td>\n",
       "      <td>S. A. Taylor</td>\n",
       "      <td>&lt;p&gt;&lt;b&gt;Background:&lt;/b&gt; While both cancer diagno...</td>\n",
       "      <td>NaN</td>\n",
       "      <td>[[&lt;, p&gt;&lt;b, &gt;], [Background:&lt;/b, &gt;], [While, bo...</td>\n",
       "      <td>[[&lt;, p&gt;&lt;b, &gt;], [background:&lt;/b, &gt;], [cancer, d...</td>\n",
       "    </tr>\n",
       "    <tr>\n",
       "      <th>62544</th>\n",
       "      <td>2011</td>\n",
       "      <td>Tumor Biology</td>\n",
       "      <td>Fluorodeoxiglucose (FDG)-avidity at positron e...</td>\n",
       "      <td>S. Redana</td>\n",
       "      <td>&lt;p&gt;&lt;b&gt;Background:&lt;/b&gt; Reduced FDG avidity in m...</td>\n",
       "      <td>NaN</td>\n",
       "      <td>[[&lt;], [p&gt;&lt;b, &gt;], [Background:&lt;/b, &gt;, Reduced, ...</td>\n",
       "      <td>[[&lt;], [p&gt;&lt;b, &gt;], [background:&lt;/b, &gt;, reduce, f...</td>\n",
       "    </tr>\n",
       "    <tr>\n",
       "      <th>62551</th>\n",
       "      <td>2011</td>\n",
       "      <td>Health Services Research</td>\n",
       "      <td>Impact of travel distance on early diagnosis o...</td>\n",
       "      <td>J. A. Holmes</td>\n",
       "      <td>&lt;p&gt;&lt;b&gt;Background:&lt;/b&gt; Patients with an elevate...</td>\n",
       "      <td>NaN</td>\n",
       "      <td>[[&lt;], [p&gt;&lt;b, &gt;], [Background:&lt;/b, &gt;, Patients,...</td>\n",
       "      <td>[[&lt;], [p&gt;&lt;b, &gt;], [background:&lt;/b, &gt;, patient, ...</td>\n",
       "    </tr>\n",
       "    <tr>\n",
       "      <th>62561</th>\n",
       "      <td>2011</td>\n",
       "      <td>Developmental TherapeuticsÑExperimental Therap...</td>\n",
       "      <td>Poly(ADP ribose) polymerase (PARP) inhibition ...</td>\n",
       "      <td>D. R. Shalinsky</td>\n",
       "      <td>&lt;p&gt;&lt;b&gt;Background:&lt;/b&gt; PARP activity in PBLs or...</td>\n",
       "      <td>NaN</td>\n",
       "      <td>[[&lt;], [p&gt;&lt;b, &gt;], [Background:&lt;/b, &gt;, PARP, act...</td>\n",
       "      <td>[[&lt;], [p&gt;&lt;b, &gt;], [background:&lt;/b, &gt;, parp, act...</td>\n",
       "    </tr>\n",
       "    <tr>\n",
       "      <th>62564</th>\n",
       "      <td>2011</td>\n",
       "      <td>Pediatric Oncology</td>\n",
       "      <td>A phase I study of ifosfamide, oxaliplatin, an...</td>\n",
       "      <td>L. M. McGregor</td>\n",
       "      <td>&lt;p&gt; &lt;b&gt;Background:&lt;/b&gt; Carboplatin and cisplat...</td>\n",
       "      <td>NaN</td>\n",
       "      <td>[[&lt;, p, &gt;, &lt;, b, &gt;], [Background:&lt;/b, &gt;], [Car...</td>\n",
       "      <td>[[&lt;, p, &gt;, &lt;, b, &gt;], [background:&lt;/b, &gt;], [car...</td>\n",
       "    </tr>\n",
       "    <tr>\n",
       "      <th>62568</th>\n",
       "      <td>2011</td>\n",
       "      <td>Lung Cancer - Local-Regional and Adjuvant Ther...</td>\n",
       "      <td>Management of thymic epithelial tumors (TETs) ...</td>\n",
       "      <td>A. Rajan</td>\n",
       "      <td>&lt;p&gt;&lt;b&gt;Background: &lt;/b&gt; TETs are very rare ante...</td>\n",
       "      <td>NaN</td>\n",
       "      <td>[[&lt;], [p&gt;&lt;b, &gt;, Background], [&lt;, /b], [&gt;, TETs...</td>\n",
       "      <td>[[&lt;], [p&gt;&lt;b, &gt;, background], [&lt;, /b], [&gt;, tets...</td>\n",
       "    </tr>\n",
       "    <tr>\n",
       "      <th>62576</th>\n",
       "      <td>2011</td>\n",
       "      <td>Patient and Survivor Care</td>\n",
       "      <td>Spinal or epidural analgesia for cancer pain: ...</td>\n",
       "      <td>N. Yarom</td>\n",
       "      <td>&lt;p&gt;&lt;b&gt;Background:&lt;/b&gt; Cancer pain is occasiona...</td>\n",
       "      <td>NaN</td>\n",
       "      <td>[[&lt;, p&gt;&lt;b, &gt;], [Background:&lt;/b, &gt;, Cancer, pai...</td>\n",
       "      <td>[[&lt;, p&gt;&lt;b, &gt;], [background:&lt;/b, &gt;, cancer, pai...</td>\n",
       "    </tr>\n",
       "    <tr>\n",
       "      <th>62577</th>\n",
       "      <td>2011</td>\n",
       "      <td>Developmental TherapeuticsÑExperimental Therap...</td>\n",
       "      <td>Comparative PARP enzyme inhibition of PF-01367...</td>\n",
       "      <td>K. A. Kern</td>\n",
       "      <td>&lt;p&gt;&lt;b&gt;Background:&lt;/b&gt; Within the past several ...</td>\n",
       "      <td>NaN</td>\n",
       "      <td>[[&lt;, p&gt;&lt;b, &gt;], [Background:&lt;/b, &gt;], [Within, t...</td>\n",
       "      <td>[[&lt;, p&gt;&lt;b, &gt;], [background:&lt;/b, &gt;], [past, yea...</td>\n",
       "    </tr>\n",
       "    <tr>\n",
       "      <th>62585</th>\n",
       "      <td>2011</td>\n",
       "      <td>Genitourinary Cancer</td>\n",
       "      <td>Risk stratification and stage migration effect...</td>\n",
       "      <td>B. B. Desai</td>\n",
       "      <td>&lt;p&gt;&lt;b&gt;Background:&lt;/b&gt; To evaluate the diagnost...</td>\n",
       "      <td>NaN</td>\n",
       "      <td>[[&lt;, p&gt;&lt;b, &gt;], [Background:&lt;/b, &gt;], [To, evalu...</td>\n",
       "      <td>[[&lt;, p&gt;&lt;b, &gt;], [background:&lt;/b, &gt;], [evaluate,...</td>\n",
       "    </tr>\n",
       "    <tr>\n",
       "      <th>62604</th>\n",
       "      <td>2011</td>\n",
       "      <td>Gastrointestinal (Colorectal) Cancer</td>\n",
       "      <td>Impact of preoperative radiation dose escalati...</td>\n",
       "      <td>C. B. Patel</td>\n",
       "      <td>&lt;p&gt;&lt;b&gt;Background:&lt;/b&gt; Compared with postoperat...</td>\n",
       "      <td>NaN</td>\n",
       "      <td>[[&lt;, p&gt;&lt;b, &gt;], [Background:&lt;/b, &gt;], [Compared,...</td>\n",
       "      <td>[[&lt;, p&gt;&lt;b, &gt;], [background:&lt;/b, &gt;], [compare, ...</td>\n",
       "    </tr>\n",
       "  </tbody>\n",
       "</table>\n",
       "<p>48678 rows × 8 columns</p>\n",
       "</div>"
      ],
      "text/plain": [
       "       Year                                   AbstractCategory  \\\n",
       "0      1995                                        Lung Cancer   \n",
       "1      1995                                      Breast Cancer   \n",
       "2      1995                                 Gynecologic Cancer   \n",
       "3      1995                                        Lung Cancer   \n",
       "4      1995                      Other Gastrointestinal Cancer   \n",
       "5      1995                                      Breast Cancer   \n",
       "6      1995                               Genitourinary Cancer   \n",
       "7      1995      Preclinical Experimental Therapeutics - Other   \n",
       "8      1995                                      Tumor Biology   \n",
       "9      1995  Developmental TherapeuticsÑClinical Pharmacolo...   \n",
       "10     1995  Hematologic MalignanciesÑLymphoma and Chronic ...   \n",
       "11     1995  Hematologic MalignanciesÑLymphoma and Chronic ...   \n",
       "12     1995                                      Breast Cancer   \n",
       "13     1995  Hematologic MalignanciesÑLeukemia, Myelodyspla...   \n",
       "14     1995  Hematologic MalignanciesÑLeukemia, Myelodyspla...   \n",
       "15     1995  Developmental TherapeuticsÑClinical Pharmacolo...   \n",
       "16     1995                                      Breast Cancer   \n",
       "17     1995                                      Breast Cancer   \n",
       "18     1995                      Central Nervous System Tumors   \n",
       "19     1995                      Other Gastrointestinal Cancer   \n",
       "20     1995  Developmental TherapeuticsÑClinical Pharmacolo...   \n",
       "21     1995                      Other Gastrointestinal Cancer   \n",
       "22     1995                                      Breast Cancer   \n",
       "23     1995                                      Breast Cancer   \n",
       "24     1995  Developmental TherapeuticsÑClinical Pharmacolo...   \n",
       "25     1995                                            Sarcoma   \n",
       "26     1995                                      Breast Cancer   \n",
       "27     1995  Developmental TherapeuticsÑClinical Pharmacolo...   \n",
       "28     1995                     Psychosocial Aspects of Cancer   \n",
       "29     1995                               Health Care Research   \n",
       "...     ...                                                ...   \n",
       "62348  2011               Gastrointestinal (Colorectal) Cancer   \n",
       "62351  2011                           Health Services Research   \n",
       "62361  2011                          Patient and Survivor Care   \n",
       "62362  2011  Developmental TherapeuticsÑClinical Pharmacolo...   \n",
       "62371  2011  Hematologic MalignanciesÑLeukemia, Myelodyspla...   \n",
       "62386  2011  Breast CancerÑTriple-Negative/Cytotoxics/Local...   \n",
       "62396  2011               Gastrointestinal (Colorectal) Cancer   \n",
       "62402  2011  Developmental TherapeuticsÑClinical Pharmacolo...   \n",
       "62407  2011  Hematologic MalignanciesÑLymphoma and Chronic ...   \n",
       "62414  2011                               Genitourinary Cancer   \n",
       "62431  2011                     Cancer Prevention/Epidemiology   \n",
       "62452  2011                     Cancer Prevention/Epidemiology   \n",
       "62456  2011                              Melanoma/Skin Cancers   \n",
       "62462  2011                           Health Services Research   \n",
       "62467  2011                      Central Nervous System Tumors   \n",
       "62484  2011                      Central Nervous System Tumors   \n",
       "62503  2011                           Health Services Research   \n",
       "62512  2011                           Health Services Research   \n",
       "62515  2011  Developmental TherapeuticsÑExperimental Therap...   \n",
       "62541  2011                           Health Services Research   \n",
       "62543  2011                          Patient and Survivor Care   \n",
       "62544  2011                                      Tumor Biology   \n",
       "62551  2011                           Health Services Research   \n",
       "62561  2011  Developmental TherapeuticsÑExperimental Therap...   \n",
       "62564  2011                                 Pediatric Oncology   \n",
       "62568  2011  Lung Cancer - Local-Regional and Adjuvant Ther...   \n",
       "62576  2011                          Patient and Survivor Care   \n",
       "62577  2011  Developmental TherapeuticsÑExperimental Therap...   \n",
       "62585  2011                               Genitourinary Cancer   \n",
       "62604  2011               Gastrointestinal (Colorectal) Cancer   \n",
       "\n",
       "                                                   Title      FirstAuthor  \\\n",
       "0      Treatment of non-small cell lung cancer with c...  GP Stathopoulos   \n",
       "1      Treatment of primary breast cancer without mas...        A Bluming   \n",
       "2      Treatment of relapsed ovarian carcinoma with e...        M Metzner   \n",
       "3      Treatment of small cell lung cancer (SCLC) wit...    JD Hainsworth   \n",
       "4      Vaccine-based (active specific) chemoimmunothe...     SH Itzkowitz   \n",
       "5      Validation of a model that identifies high ris...         GM Clark   \n",
       "6      Validation of the PROSQOLI: a pragmatic outcom...       M Stockler   \n",
       "7      'In vitro' comparative assay on fluorouracil (...           A Abad   \n",
       "8      'Medical cultural diversity' among medical onc...        R Hochman   \n",
       "9      13-cis-retinoic acid plus low dose recombinant...        GM Turola   \n",
       "10     2-Chlorodeoxyadenosine (2-CDA) leads to partia...       T Lippuner   \n",
       "11     23-year follow-up after radiotherapy (RT) or r...       PH Wiernik   \n",
       "12     15 years follow-up for T4d (inflammatory) brea...         F Morvan   \n",
       "13     2-CDA +/- ara-C is ineffective therapy for rel...       S Kornblau   \n",
       "14     2-chlorodeoxyadenosine (2-CdA) in the treatmen...        M Tallman   \n",
       "15     3 versus 6 versus 24 hour infusions of paclita...        D Rischin   \n",
       "16     3-hr high-dose taxol (T) infusion following st...       E Mamounas   \n",
       "17     3-hr high-dose taxol (T) infusion in advanced ...       E Mamounas   \n",
       "18     3H-paclitaxel (3H-P) tissue concentrations wit...        GJ Lesser   \n",
       "19     5 fluorouracil (5Fu), mitomycin-C, leucovorin ...         GS Soori   \n",
       "20     5-Ethynyluracil (776C85), an inhibitor of dihy...         AA Adjei   \n",
       "21     5-fluorouracil (5FU) + levamisole (LEVA) vs 5F...         P Bruzzi   \n",
       "22     5-Year results of high-dose sequential (HDS) a...        AM Gianni   \n",
       "23     96-hour paclitaxel after prior short taxane in...       AD Seidman   \n",
       "24     96-hour paclitaxel without and with R-verapami...       D Riseberg   \n",
       "25     A Canadian national tumor bank/data base for s...       V Bramwell   \n",
       "26     A Canadian perspective on breast conservative ...        C Kotwall   \n",
       "27     A clinical evaluation of Duragesic (transderma...    J Gardner-Nix   \n",
       "28     A comparison of two quality-of-life (QOL) ques...          MT King   \n",
       "29     A comprehensive analysis of the cost basis of ...          F Khuri   \n",
       "...                                                  ...              ...   \n",
       "62348  Bevacizumab plus capecitabine as maintenance t...        S. Yalcin   \n",
       "62351  The relationship between cost, quality, and ou...    M. J. Hassett   \n",
       "62361  Effect of Medical Qigong on cognitive function...            B. Oh   \n",
       "62362  Tumor-targeted cancer vaccination (GeneVieve P...    J. G. Ignacio   \n",
       "62371  Activity and tolerability of the Bruton&#39;s ...       J. C. Byrd   \n",
       "62386  Lymphocyte infiltration (LI) and immunohistoch...        C. S. Yau   \n",
       "62396  Role of routine adjuvant chemotherapy after ne...      R. P. Kiran   \n",
       "62402  A novel approach to rituximab biosimilar drug ...      S. M. Berry   \n",
       "62407  Long-term safety of lenalidomide (LEN) in rela...      B. G. Durie   \n",
       "62414  Multisolution variance-based optimization (MVB...    M. A. Laviraj   \n",
       "62431  The impact of screening mammography in breast ...        C. Checka   \n",
       "62452  Body mass index: A potential risk factor for b...        V. Sharma   \n",
       "62456  Frequency of mutations associated with targete...         S. Cheng   \n",
       "62462  Rapid improvement in evidence-based, quality c...       M. A. Amin   \n",
       "62467  FLT-PET analysis of early response to everolim...   J. N. Sarkaria   \n",
       "62484  Prognostic factors in elderly patients with gr...         A. Satra   \n",
       "62503  Changes in global patterns of care for first-l...    A. J. Combest   \n",
       "62512  Time to publication of the results of clinical...      H. Katayama   \n",
       "62515  Treatment (Tx) guidelines for skin and mucosal...      M. J. Borad   \n",
       "62541  Barriers to implementing primary HER2 FISH tes...  G. J. Tsongalis   \n",
       "62543  Understanding causes for distress among cancer...     S. A. Taylor   \n",
       "62544  Fluorodeoxiglucose (FDG)-avidity at positron e...        S. Redana   \n",
       "62551  Impact of travel distance on early diagnosis o...     J. A. Holmes   \n",
       "62561  Poly(ADP ribose) polymerase (PARP) inhibition ...  D. R. Shalinsky   \n",
       "62564  A phase I study of ifosfamide, oxaliplatin, an...   L. M. McGregor   \n",
       "62568  Management of thymic epithelial tumors (TETs) ...         A. Rajan   \n",
       "62576  Spinal or epidural analgesia for cancer pain: ...         N. Yarom   \n",
       "62577  Comparative PARP enzyme inhibition of PF-01367...       K. A. Kern   \n",
       "62585  Risk stratification and stage migration effect...      B. B. Desai   \n",
       "62604  Impact of preoperative radiation dose escalati...      C. B. Patel   \n",
       "\n",
       "                                                    Body  \\\n",
       "0      Cisplatin compound is established as the main ...   \n",
       "1      Between March 24, 1977, and March 24, 1983, 15...   \n",
       "2      ECF has established activity and a high respon...   \n",
       "3      In 7/93, we began investigation of a three-dru...   \n",
       "4      Active specific immunotherapy (ASI) is the adm...   \n",
       "5      Breast cancer patients with 10 or more positiv...   \n",
       "6      Rationale: Traditional outcome measures are un...   \n",
       "7      The clinical experience with biochemical modul...   \n",
       "8      Most MO rely on prospective randomized trials....   \n",
       "9      Both interferons and retinoids are known to po...   \n",
       "10     The prognosis of AILD, a rare low grade T-cell...   \n",
       "11     75 patients (pts) with HD pathologic stages IA...   \n",
       "12     From 1979 to 1984, 71 patients with UICC T4d i...   \n",
       "13     Santana et al reported a CR rate of 8/17 (95% ...   \n",
       "14     Since human monocyte cell lines show in vitro ...   \n",
       "15     The infusion duration of paclitaxel has varied...   \n",
       "16     T has shown significant antitumor activity in ...   \n",
       "17     High-dose T has shown significant antitumor ac...   \n",
       "18     Ongoing clinical trials are evaluating the eff...   \n",
       "19     Between 1991 and 1994, 28 patients with gastro...   \n",
       "20     The erratic bioavailability (BA) of oral 5-FU ...   \n",
       "21     To determine whether the addition of 6-S-LV to...   \n",
       "22     To improve the results of adjuvant chemotherap...   \n",
       "23     Paclitaxel (P) via 96 hr infusion has signific...   \n",
       "24     We conducted a two part trial of 96-hr infusio...   \n",
       "25     A network established by a cooperative clinica...   \n",
       "26     Between 5/88 and 6/93, 220 consecutive women w...   \n",
       "27     Between May 1992 and April 1994, 250 patients ...   \n",
       "28     FLIC and QLQ-C30 were administered concurrentl...   \n",
       "29     We have carried out a comprehensive database a...   \n",
       "...                                                  ...   \n",
       "62348  <p><b>Background:</b> Colorectal cancer is one...   \n",
       "62351  <p><b>Background:</b> Breast cancer (BrCa) is ...   \n",
       "62361  <p><b>Background: </b>   Cancer patients often...   \n",
       "62362  <p><b>Background:</b> Rexin-G and Reximmune-C ...   \n",
       "62371  <p><b>Background: </b>  Btk is essential to B-...   \n",
       "62386  <p><b>Background:</b> IHC is a readily availab...   \n",
       "62396  <p><b>Background:</b> The current standard of ...   \n",
       "62402  <p><b>Background:</b>  Regulatory uncertainty ...   \n",
       "62407  <p><b>Background:</b> LEN has significantly ex...   \n",
       "62414  <p><b>Background:</b> Oncentra Prostate real-t...   \n",
       "62431  <p><b>Background:</b> Recent recommendations b...   \n",
       "62452  <p><b>Background:</b> Breast cancer (BC), the ...   \n",
       "62456  <p><b>Background:</b> <i>BRAF</i>,<i> RAS</i>,...   \n",
       "62462  <p><b>Background:</b> ASCO&#39;s Quality Oncol...   \n",
       "62467  <p><b>Background:</b> 18F-fluorodeoxyuridine (...   \n",
       "62484  <p><b>Background:</b> Anaplastic astrocytoma (...   \n",
       "62503  <p><b>Background:</b> Few reports have focused...   \n",
       "62512  <p><b>Background:</b> It was previously report...   \n",
       "62515  <p><b>Background:</b> TH&#8209;302 is essentia...   \n",
       "62541  <p><b>Background:</b> Two HER2/neu testing pro...   \n",
       "62543  <p><b>Background:</b> While both cancer diagno...   \n",
       "62544  <p><b>Background:</b> Reduced FDG avidity in m...   \n",
       "62551  <p><b>Background:</b> Patients with an elevate...   \n",
       "62561  <p><b>Background:</b> PARP activity in PBLs or...   \n",
       "62564  <p> <b>Background:</b> Carboplatin and cisplat...   \n",
       "62568  <p><b>Background: </b> TETs are very rare ante...   \n",
       "62576  <p><b>Background:</b> Cancer pain is occasiona...   \n",
       "62577  <p><b>Background:</b> Within the past several ...   \n",
       "62585  <p><b>Background:</b> To evaluate the diagnost...   \n",
       "62604  <p><b>Background:</b> Compared with postoperat...   \n",
       "\n",
       "      AbstractPublicationID  \\\n",
       "0                      1181   \n",
       "1                       270   \n",
       "2                       784   \n",
       "3                      1197   \n",
       "4                       549   \n",
       "5                        69   \n",
       "6                       649   \n",
       "7                      1609   \n",
       "8                      1633   \n",
       "9                       709   \n",
       "10                     1273   \n",
       "11                     1285   \n",
       "12                      265   \n",
       "13                     1005   \n",
       "14                     1022   \n",
       "15                     1500   \n",
       "16                      207   \n",
       "17                      206   \n",
       "18                      292   \n",
       "19                      575   \n",
       "20                     1478   \n",
       "21                      497   \n",
       "22                       61   \n",
       "23                      151   \n",
       "24                      403   \n",
       "25                     1694   \n",
       "26                      249   \n",
       "27                      390   \n",
       "28                     1651   \n",
       "29                      905   \n",
       "...                     ...   \n",
       "62348                   NaN   \n",
       "62351                   NaN   \n",
       "62361                   NaN   \n",
       "62362                   NaN   \n",
       "62371                   NaN   \n",
       "62386                   NaN   \n",
       "62396                   NaN   \n",
       "62402                   NaN   \n",
       "62407                   NaN   \n",
       "62414                   NaN   \n",
       "62431                   NaN   \n",
       "62452                   NaN   \n",
       "62456                   NaN   \n",
       "62462                   NaN   \n",
       "62467                   NaN   \n",
       "62484                   NaN   \n",
       "62503                   NaN   \n",
       "62512                   NaN   \n",
       "62515                   NaN   \n",
       "62541                   NaN   \n",
       "62543                   NaN   \n",
       "62544                   NaN   \n",
       "62551                   NaN   \n",
       "62561                   NaN   \n",
       "62564                   NaN   \n",
       "62568                   NaN   \n",
       "62576                   NaN   \n",
       "62577                   NaN   \n",
       "62585                   NaN   \n",
       "62604                   NaN   \n",
       "\n",
       "                                         tokenized_sents  \\\n",
       "0      [[Cisplatin, compound, is, established, as, th...   \n",
       "1      [[Between, March, 24, 1977, and, March, 24, 19...   \n",
       "2      [[ECF, has, established, activity, and, a, hig...   \n",
       "3      [[In, 7/93, we, began, investigation, of, a, t...   \n",
       "4      [[Active, specific, immunotherapy, ASI, is, th...   \n",
       "5      [[Breast, cancer, patients, with, 10, or, more...   \n",
       "6      [[Rationale], [Traditional, outcome, measures,...   \n",
       "7      [[The, clinical, experience, with, biochemical...   \n",
       "8      [[Most, MO, rely, on, prospective, randomized,...   \n",
       "9      [[Both, interferons, and, retinoids, are, know...   \n",
       "10     [[The, prognosis, of, AILD, a, rare, low, grad...   \n",
       "11     [[75, patients, pts, with, HD, pathologic, sta...   \n",
       "12     [[From, 1979, to, 1984, 71, patients, with, UI...   \n",
       "13     [[Santana, et, al, reported, a, CR, rate, of, ...   \n",
       "14     [[Since, human, monocyte, cell, lines, show, i...   \n",
       "15     [[The, infusion, duration, of, paclitaxel, has...   \n",
       "16     [[T, has, shown, significant, antitumor, activ...   \n",
       "17     [[High, dose, T, has, shown, significant, anti...   \n",
       "18     [[Ongoing, clinical, trials, are, evaluating, ...   \n",
       "19     [[Between, 1991, and, 1994, 28, patients, with...   \n",
       "20     [[The, erratic, bioavailability, BA, of, oral,...   \n",
       "21     [[To, determine, whether, the, addition, of, 6...   \n",
       "22     [[To, improve, the, results, of, adjuvant, che...   \n",
       "23     [[Paclitaxel, P, via, 96, hr, infusion, has, s...   \n",
       "24     [[We, conducted, a, two, part, trial, of, 96-h...   \n",
       "25     [[A, network, established, by, a, cooperative,...   \n",
       "26     [[Between, 5/88, and, 6/93, 220, consecutive, ...   \n",
       "27     [[Between, May, 1992, and, April, 1994, 250, p...   \n",
       "28     [[FLIC, and, QLQ, C30, were, administered, con...   \n",
       "29     [[We, have, carried, out, a, comprehensive, da...   \n",
       "...                                                  ...   \n",
       "62348  [[<, p><b, >], [Background:</b, >, Colorectal,...   \n",
       "62351  [[<], [p><b, >], [Background:</b, >, Breast, c...   \n",
       "62361  [[<], [p><b, >, Background, <, /b, >], [Cancer...   \n",
       "62362  [[<], [p><b, >], [Background:</b, >, Rexin, G,...   \n",
       "62371  [[<], [p><b, >, Background], [<, /b], [>], [Bt...   \n",
       "62386  [[<], [p><b, >], [Background:</b, >, IHC, is, ...   \n",
       "62396  [[<, p><b, >], [Background:</b, >], [The, curr...   \n",
       "62402  [[<, p><b, >], [Background:</b, >], [Regulator...   \n",
       "62407  [[<], [p><b, >], [Background:</b, >, LEN, has,...   \n",
       "62414  [[<, p><b, >], [Background:</b, >, Oncentra, P...   \n",
       "62431  [[<, p><b, >], [Background:</b, >, Recent, rec...   \n",
       "62452  [[<], [p><b, >], [Background:</b, >, Breast, c...   \n",
       "62456  [[<, p><b, >], [Background:</b, >, <, i], [>, ...   \n",
       "62462  [[<, p><b, >], [Background:</b, >, ASCO&#39;s,...   \n",
       "62467  [[<], [p><b, >], [Background:</b, >, 18F, fluo...   \n",
       "62484  [[<, p><b, >], [Background:</b, >, Anaplastic,...   \n",
       "62503  [[<, p><b, >], [Background:</b, >], [Few, repo...   \n",
       "62512  [[<, p><b, >], [Background:</b, >], [It, was, ...   \n",
       "62515  [[<], [p><b, >], [Background:</b, >, TH&#8209;...   \n",
       "62541  [[<, p><b, >], [Background:</b, >, Two, HER2, ...   \n",
       "62543  [[<, p><b, >], [Background:</b, >], [While, bo...   \n",
       "62544  [[<], [p><b, >], [Background:</b, >, Reduced, ...   \n",
       "62551  [[<], [p><b, >], [Background:</b, >, Patients,...   \n",
       "62561  [[<], [p><b, >], [Background:</b, >, PARP, act...   \n",
       "62564  [[<, p, >, <, b, >], [Background:</b, >], [Car...   \n",
       "62568  [[<], [p><b, >, Background], [<, /b], [>, TETs...   \n",
       "62576  [[<, p><b, >], [Background:</b, >, Cancer, pai...   \n",
       "62577  [[<, p><b, >], [Background:</b, >], [Within, t...   \n",
       "62585  [[<, p><b, >], [Background:</b, >], [To, evalu...   \n",
       "62604  [[<, p><b, >], [Background:</b, >], [Compared,...   \n",
       "\n",
       "                                        normalized_sents  \n",
       "0      [[cisplatin, compound, establish, main, drug, ...  \n",
       "1      [[march, march, woman, primary, breast, cancer...  \n",
       "2      [[ecf, establish, activity, high, response, ra...  \n",
       "3      [[begin, investigation, drug, combination, pac...  \n",
       "4      [[active, specific, immunotherapy, asi, admini...  \n",
       "5      [[breast, cancer, patient, positive, lymph, no...  \n",
       "6      [[rationale], [traditional, outcome, measure, ...  \n",
       "7      [[clinical, experience, biochemical, modulatio...  \n",
       "8      [[mo, rely, prospective, randomize, trial], [o...  \n",
       "9      [[interferon, retinoid, know, possess, antipro...  \n",
       "10     [[prognosis, aild, rare, low, grade, t, cell, ...  \n",
       "11     [[patient, pt, hd, pathologic, stage, ia, iiia...  \n",
       "12     [[patient, uicc, t4d, inflammatory, breast, ca...  \n",
       "13     [[santana, et, al, report, cr, rate, ci, child...  \n",
       "14     [[human, monocyte, cell, line, vitro, sensitiv...  \n",
       "15     [[infusion, duration, paclitaxel, vary, clinic...  \n",
       "16     [[t, show, significant, antitumor, activity, p...  \n",
       "17     [[high, dose, t, show, significant, antitumor,...  \n",
       "18     [[ongoing, clinical, trial, evaluate, efficacy...  \n",
       "19     [[patient, gastro, intestinal, adenocarcinoma,...  \n",
       "20     [[erratic, bioavailability, ba, oral, 5-fu, pr...  \n",
       "21     [[determine, addition, 6-s, lv, combination, 5...  \n",
       "22     [[improve, result, adjuvant, chemotherapy, bre...  \n",
       "23     [[paclitaxel, p, hr, infusion, significant, ac...  \n",
       "24     [[conduct, trial, 96-hr, infusional, paclitaxe...  \n",
       "25     [[network, establish, cooperative, clinical, t...  \n",
       "26     [[consecutive, woman, breast, cancer, undergo,...  \n",
       "27     [[april, patient, enroll, center, clinical, ev...  \n",
       "28     [[flic, qlq, c30, administer, concurrently, co...  \n",
       "29     [[carry, comprehensive, database, analysis, ev...  \n",
       "...                                                  ...  \n",
       "62348  [[<, p><b, >], [background:</b, >, colorectal,...  \n",
       "62351  [[<], [p><b, >], [background:</b, >, breast, c...  \n",
       "62361  [[<], [p><b, >, background, <, /b, >], [cancer...  \n",
       "62362  [[<], [p><b, >], [background:</b, >, rexin, g,...  \n",
       "62371  [[<], [p><b, >, background], [<, /b], [>], [bt...  \n",
       "62386  [[<], [p><b, >], [background:</b, >, ihc, read...  \n",
       "62396  [[<, p><b, >], [background:</b, >], [current, ...  \n",
       "62402  [[<, p><b, >], [background:</b, >], [regulator...  \n",
       "62407  [[<], [p><b, >], [background:</b, >, len, sign...  \n",
       "62414  [[<, p><b, >], [background:</b, >, oncentra, p...  \n",
       "62431  [[<, p><b, >], [background:</b, >, recent, rec...  \n",
       "62452  [[<], [p><b, >], [background:</b, >, breast, c...  \n",
       "62456  [[<, p><b, >], [background:</b, >, <], [>, bra...  \n",
       "62462  [[<, p><b, >], [background:</b, >, asco&#39;s,...  \n",
       "62467  [[<], [p><b, >], [background:</b, >, 18f, fluo...  \n",
       "62484  [[<, p><b, >], [background:</b, >, anaplastic,...  \n",
       "62503  [[<, p><b, >], [background:</b, >], [report, f...  \n",
       "62512  [[<, p><b, >], [background:</b, >], [previousl...  \n",
       "62515  [[<], [p><b, >], [background:</b, >, th&#8209;...  \n",
       "62541  [[<, p><b, >], [background:</b, >, her2, neu, ...  \n",
       "62543  [[<, p><b, >], [background:</b, >], [cancer, d...  \n",
       "62544  [[<], [p><b, >], [background:</b, >, reduce, f...  \n",
       "62551  [[<], [p><b, >], [background:</b, >, patient, ...  \n",
       "62561  [[<], [p><b, >], [background:</b, >, parp, act...  \n",
       "62564  [[<, p, >, <, b, >], [background:</b, >], [car...  \n",
       "62568  [[<], [p><b, >, background], [<, /b], [>, tets...  \n",
       "62576  [[<, p><b, >], [background:</b, >, cancer, pai...  \n",
       "62577  [[<, p><b, >], [background:</b, >], [past, yea...  \n",
       "62585  [[<, p><b, >], [background:</b, >], [evaluate,...  \n",
       "62604  [[<, p><b, >], [background:</b, >], [compare, ...  \n",
       "\n",
       "[48678 rows x 8 columns]"
      ]
     },
     "execution_count": 94,
     "metadata": {},
     "output_type": "execute_result"
    }
   ],
   "source": [
    "ascoDF"
   ]
  },
  {
   "cell_type": "markdown",
   "metadata": {},
   "source": [
    "We will be creating many embeddings so we have created this function to do most of the work. It creates two collections of embeddings, one the original and one the aligned."
   ]
  },
  {
   "cell_type": "code",
   "execution_count": 183,
   "metadata": {},
   "outputs": [],
   "source": [
    "def compareModels(df, category, text_column_name='normalized_sents', sort = True, embeddings_raw={}):\n",
    "    \"\"\"If you are using time as your category sorting is important\"\"\"\n",
    "    if len(embeddings_raw) == 0:\n",
    "        embeddings_raw = rawModels(df, category, text_column_name, sort)\n",
    "    cats = sorted(set(df[category]))\n",
    "    #These are much quicker\n",
    "    embeddings_aligned = {}\n",
    "    for catOuter in cats:\n",
    "        embeddings_aligned[catOuter] = [embeddings_raw[catOuter]]\n",
    "        for catInner in cats:\n",
    "            embeddings_aligned[catOuter].append(smart_procrustes_align_gensim(embeddings_aligned[catOuter][-1], embeddings_raw[catInner]))\n",
    "    return embeddings_raw, embeddings_aligned"
   ]
  },
  {
   "cell_type": "code",
   "execution_count": 184,
   "metadata": {},
   "outputs": [],
   "source": [
    "def rawModels(df, category, text_column_name='normalized_sents', sort = True):\n",
    "    embeddings_raw = {}\n",
    "    cats = sorted(set(df[category]))\n",
    "    for cat in cats:\n",
    "        #This can take a while\n",
    "        print(\"Embedding {}\".format(cat), end = '\\r')\n",
    "        subsetDF = df[df[category] == cat]\n",
    "        #You might want to change the W2V parameters\n",
    "        embeddings_raw[cat] = gensim.models.word2vec.Word2Vec(subsetDF[text_column_name].sum())\n",
    "    return embeddings_raw"
   ]
  },
  {
   "cell_type": "markdown",
   "metadata": {},
   "source": [
    "Now we generate the models:"
   ]
  },
  {
   "cell_type": "code",
   "execution_count": 77,
   "metadata": {},
   "outputs": [
    {
     "name": "stdout",
     "output_type": "stream",
     "text": [
      "Embedding 2011\r"
     ]
    }
   ],
   "source": [
    "rawEmbeddings, comparedEmbeddings = compareModels(ascoDF, 'Year')"
   ]
  },
  {
   "cell_type": "code",
   "execution_count": 95,
   "metadata": {},
   "outputs": [
    {
     "data": {
      "text/plain": [
       "dict_keys([1995, 1996, 1997, 1998, 1999, 2001, 2002, 2003, 2004, 2005, 2006, 2007, 2008, 2009, 2010, 2011])"
      ]
     },
     "execution_count": 95,
     "metadata": {},
     "output_type": "execute_result"
    }
   ],
   "source": [
    "rawEmbeddings.keys()"
   ]
  },
  {
   "cell_type": "markdown",
   "metadata": {},
   "source": [
    "We need to compare them across all permutions so we will define another function to help, we will be using 1 - cosine similarity as that gives a more intitive range of 0-2 with low values meaning little change and high meaning lots of change."
   ]
  },
  {
   "cell_type": "code",
   "execution_count": 78,
   "metadata": {},
   "outputs": [],
   "source": [
    "def getDivergenceDF(word, embeddingsDict):\n",
    "    dists = []\n",
    "    cats = sorted(set(embeddingsDict.keys()))\n",
    "    dists = {}\n",
    "    print(word)\n",
    "    for cat in cats:\n",
    "        dists[cat] = []\n",
    "        for embed in embeddingsDict[cat][1:]:\n",
    "            dists[cat].append(np.abs(1 - sklearn.metrics.pairwise.cosine_similarity(np.expand_dims(embeddingsDict[cat][0][word], axis = 0),\n",
    "                                                                             np.expand_dims(embed[word], axis = 0))[0,0]))\n",
    "    return pandas.DataFrame(dists, index = cats)"
   ]
  },
  {
   "cell_type": "markdown",
   "metadata": {},
   "source": [
    "Lets look at a couple words:"
   ]
  },
  {
   "cell_type": "code",
   "execution_count": 79,
   "metadata": {},
   "outputs": [
    {
     "name": "stdout",
     "output_type": "stream",
     "text": [
      "breast\n"
     ]
    },
    {
     "data": {
      "image/png": "[encoded data removed]",
      "text/plain": [
       "<Figure size 720x504 with 2 Axes>"
      ]
     },
     "metadata": {
      "needs_background": "light"
     },
     "output_type": "display_data"
    }
   ],
   "source": [
    "targetWord = 'breast'\n",
    "\n",
    "pltDF = getDivergenceDF(targetWord, comparedEmbeddings)\n",
    "fig, ax = plt.subplots(figsize = (10, 7))\n",
    "seaborn.heatmap(pltDF, ax = ax, annot = False) #set annot True for a lot more information\n",
    "ax.set_xlabel(\"Starting year\")\n",
    "ax.set_ylabel(\"Final year\")\n",
    "ax.set_ylabel(\"Final year\")\n",
    "ax.set_title(\"Yearly linguistic change for: '{}'\".format(targetWord))\n",
    "plt.show()"
   ]
  },
  {
   "cell_type": "code",
   "execution_count": 80,
   "metadata": {},
   "outputs": [
    {
     "name": "stdout",
     "output_type": "stream",
     "text": [
      "combination\n"
     ]
    },
    {
     "data": {
      "image/png": "[encoded data removed]",
      "text/plain": [
       "<Figure size 720x504 with 2 Axes>"
      ]
     },
     "metadata": {
      "needs_background": "light"
     },
     "output_type": "display_data"
    }
   ],
   "source": [
    "targetWord = 'combination'\n",
    "\n",
    "pltDF = getDivergenceDF(targetWord, comparedEmbeddings)\n",
    "fig, ax = plt.subplots(figsize = (10, 7))\n",
    "seaborn.heatmap(pltDF, ax = ax, annot = False) #set annot True for a lot more information\n",
    "ax.set_xlabel(\"Starting year\")\n",
    "ax.set_ylabel(\"Final year\")\n",
    "ax.set_ylabel(\"Final year\")\n",
    "ax.set_title(\"Yearly linguistic change for: '{}'\".format(targetWord))\n",
    "plt.show()"
   ]
  },
  {
   "cell_type": "code",
   "execution_count": 81,
   "metadata": {},
   "outputs": [],
   "source": [
    "def findDiverence(word, embeddingsDict):\n",
    "    cats = sorted(set(embeddingsDict.keys()))\n",
    "    \n",
    "    dists = []\n",
    "    for embed in embeddingsDict[cats[0]][1:]:\n",
    "        dists.append(1 - sklearn.metrics.pairwise.cosine_similarity(np.expand_dims(embeddingsDict[cats[0]][0][word], axis = 0), np.expand_dims(embed[word], axis = 0))[0,0])\n",
    "    return sum(dists)\n",
    "\n",
    "def findMostDivergent(embeddingsDict):\n",
    "    words = []\n",
    "    for embeds in embeddingsDict.values():\n",
    "        for embed in embeds:\n",
    "            words += list(embed.wv.vocab.keys())\n",
    "    words = set(words)\n",
    "    print(\"Found {} words to compare\".format(len(words)))\n",
    "    return sorted([(w, findDiverence(w, embeddingsDict)) for w in words], key = lambda x: x[1], reverse=True)\n",
    "    "
   ]
  },
  {
   "cell_type": "code",
   "execution_count": 82,
   "metadata": {},
   "outputs": [
    {
     "name": "stdout",
     "output_type": "stream",
     "text": [
      "Found 1571 words to compare\n"
     ]
    }
   ],
   "source": [
    "wordDivergences = findMostDivergent(comparedEmbeddings)"
   ]
  },
  {
   "cell_type": "markdown",
   "metadata": {},
   "source": [
    "The most divergent words are:"
   ]
  },
  {
   "cell_type": "code",
   "execution_count": 83,
   "metadata": {},
   "outputs": [
    {
     "data": {
      "text/plain": [
       "[('t', 13.179612953215837),\n",
       " ('toxicity', 13.154180981218815),\n",
       " ('ml', 13.01737873442471),\n",
       " ('+', 12.853400095365942),\n",
       " ('activity', 12.749210256617516),\n",
       " ('infusion', 12.687976829707623),\n",
       " ('paclitaxel', 12.683675490319729),\n",
       " ('n', 12.662226218730211),\n",
       " ('great', 12.659880327060819),\n",
       " ('level', 12.559175675734878),\n",
       " ('x', 12.508285094052553),\n",
       " ('phase', 12.495868034660816),\n",
       " ('cisplatin', 12.456645250320435),\n",
       " ('combination', 12.417438723146915),\n",
       " ('c', 12.407136777415872),\n",
       " ('p', 12.399663124466315),\n",
       " ('efficacy', 12.373506214469671),\n",
       " ('csf', 12.333098318078555),\n",
       " ('show', 12.330282736569643),\n",
       " ('iv', 12.321207114960998)]"
      ]
     },
     "execution_count": 83,
     "metadata": {},
     "output_type": "execute_result"
    }
   ],
   "source": [
    "wordDivergences[:20]"
   ]
  },
  {
   "cell_type": "markdown",
   "metadata": {},
   "source": [
    "And the least:"
   ]
  },
  {
   "cell_type": "code",
   "execution_count": 84,
   "metadata": {},
   "outputs": [
    {
     "data": {
      "text/plain": [
       "[('answer', 1.7252497673034668),\n",
       " ('device', 1.721915602684021),\n",
       " ('facilitate', 1.720019280910492),\n",
       " ('additionally', 1.685628592967987),\n",
       " ('particular', 1.6720524430274963),\n",
       " ('ensure', 1.6524746417999268),\n",
       " ('context', 1.650183618068695),\n",
       " ('definition', 1.6107643842697144),\n",
       " ('difficulty', 1.6012009978294373),\n",
       " ('discuss', 1.5829300284385681),\n",
       " ('call', 1.5171823501586914),\n",
       " ('traditional', 1.4596245288848877),\n",
       " ('nature', 1.44323068857193),\n",
       " ('constitute', 1.4302696585655212),\n",
       " ('simple', 1.410505771636963),\n",
       " ('practical', 1.3745331764221191),\n",
       " ('special', 1.294035017490387),\n",
       " ('uncertain', 1.2042807936668396),\n",
       " ('situation', 1.1920225620269775),\n",
       " ('view', 1.1317378878593445)]"
      ]
     },
     "execution_count": 84,
     "metadata": {},
     "output_type": "execute_result"
    }
   ],
   "source": [
    "wordDivergences[-20:]"
   ]
  },
  {
   "cell_type": "code",
   "execution_count": 85,
   "metadata": {},
   "outputs": [
    {
     "name": "stdout",
     "output_type": "stream",
     "text": [
      "t\n"
     ]
    },
    {
     "data": {
      "image/png": "[encoded data removed]",
      "text/plain": [
       "<Figure size 720x504 with 2 Axes>"
      ]
     },
     "metadata": {
      "needs_background": "light"
     },
     "output_type": "display_data"
    }
   ],
   "source": [
    "targetWord = wordDivergences[0][0]\n",
    "\n",
    "pltDF = getDivergenceDF(targetWord, comparedEmbeddings)\n",
    "fig, ax = plt.subplots(figsize = (10, 7))\n",
    "seaborn.heatmap(pltDF, ax = ax, annot = False) #set annot True for a lot more information\n",
    "ax.set_xlabel(\"Starting year\")\n",
    "ax.set_ylabel(\"Final year\")\n",
    "ax.set_ylabel(\"Final year\")\n",
    "ax.set_title(\"Yearly linguistic change for: '{}'\".format(targetWord))\n",
    "plt.show()"
   ]
  },
  {
   "cell_type": "code",
   "execution_count": 86,
   "metadata": {},
   "outputs": [
    {
     "name": "stdout",
     "output_type": "stream",
     "text": [
      "view\n"
     ]
    },
    {
     "data": {
      "image/png": "[encoded data removed]",
      "text/plain": [
       "<Figure size 720x504 with 2 Axes>"
      ]
     },
     "metadata": {
      "needs_background": "light"
     },
     "output_type": "display_data"
    }
   ],
   "source": [
    "targetWord = wordDivergences[-1][0]\n",
    "\n",
    "pltDF = getDivergenceDF(targetWord, comparedEmbeddings)\n",
    "fig, ax = plt.subplots(figsize = (10, 7))\n",
    "seaborn.heatmap(pltDF, ax = ax, annot = False) #set annot True for a lot more information\n",
    "ax.set_xlabel(\"Starting year\")\n",
    "ax.set_ylabel(\"Final year\")\n",
    "ax.set_ylabel(\"Final year\")\n",
    "ax.set_title(\"Yearly linguistic change for: '{}'\".format(targetWord))\n",
    "plt.show()"
   ]
  },
  {
   "cell_type": "markdown",
   "metadata": {},
   "source": [
    "## COHA\n",
    "\n",
    "COHA is a historial dataset so it ends up being a good choice to try the same analysis we just did across three different time periods.\n",
    "\n",
    "We will be using the same data loading procedure as the last notebook, so go through the process to make sure you know what's going on."
   ]
  },
  {
   "cell_type": "code",
   "execution_count": 88,
   "metadata": {},
   "outputs": [],
   "source": [
    "corpora_address = \"/Users/bhargavvader/Downloads/Academics_Tech/corpora/COHA\""
   ]
  },
  {
   "cell_type": "code",
   "execution_count": 89,
   "metadata": {},
   "outputs": [
    {
     "name": "stdout",
     "output_type": "stream",
     "text": [
      "text_1940s_bsw.zip\n",
      "text_1920s_gte.zip\n",
      "text_1900s_mse.zip\n",
      "text_1810s_kso.zip\n",
      "text_2000s_scc.zip\n",
      "text_1910s_jue.zip\n",
      "text_1890s_jsq.zip\n",
      "text_1870s_vuy.zip\n",
      "text_1840s_nsq.zip\n",
      "text_1860s_psi.zip\n",
      "text_1950s_ndz.zip\n",
      "text_1820s_jsi.zip\n",
      "text_1980s_bkk.zip\n",
      "text_1930s_bie.zip\n",
      "text_1960s_xus.zip\n",
      "text_1990s_bsj.zip\n",
      "text_1830s_bsu.zip\n",
      "text_1850s_jpr.zip\n",
      "text_1970s_jfy.zip\n",
      "text_1880s_azz.zip\n"
     ]
    }
   ],
   "source": [
    "coha_texts = lucem_illud_2020.loadDavies(corpora_address, return_raw=True)"
   ]
  },
  {
   "cell_type": "markdown",
   "metadata": {},
   "source": [
    "Cool - let us now create our different epochs. This is an important step: I will be using the same 5 epochs I did in the DTM example, but you are recommended to play around with this. I will create a dataframe which logs the year and the genre."
   ]
  },
  {
   "cell_type": "code",
   "execution_count": 114,
   "metadata": {},
   "outputs": [],
   "source": [
    "coha_df = pandas.DataFrame(columns=[\"Year\", \"Genre\", \"Epoch\", \"normalized sents\"])"
   ]
  },
  {
   "cell_type": "code",
   "execution_count": 115,
   "metadata": {},
   "outputs": [],
   "source": [
    "for article in coha_texts:\n",
    "    genre, year, id_ = article.split(\"_\")\n",
    "\n",
    "    year = int(year)\n",
    "    \n",
    "    if year > 1810 and year < 1880:\n",
    "        epoch = 0\n",
    "    if year >= 1880 and year < 1913:\n",
    "        epoch = 1\n",
    "    if year >= 1913 and year < 1950:\n",
    "        epoch = 2\n",
    "    if year >= 1950 and year < 1990:\n",
    "        epoch = 3\n",
    "    if year >= 1990:\n",
    "        epoch = 4\n",
    "    \n",
    "    try:\n",
    "        if len(coha_texts[article][2]) < 1500000:\n",
    "            coha_df.loc[id_] = [year, genre, epoch, lucem_illud_2020.normalizeTokens(coha_texts[article][2].decode(\"utf-8\"), lemma=False)]\n",
    "    except TypeError:\n",
    "        continue\n",
    "    except IndexError:\n",
    "        continue\n"
   ]
  },
  {
   "cell_type": "markdown",
   "metadata": {},
   "source": [
    "We can now arrange our word embeddings by either year, genre, or epoch, and see how the words in each of those contexts change."
   ]
  },
  {
   "cell_type": "code",
   "execution_count": 176,
   "metadata": {},
   "outputs": [
    {
     "name": "stdout",
     "output_type": "stream",
     "text": [
      "Embedding 4\r"
     ]
    }
   ],
   "source": [
    "rawEmbeddings_epoch = rawModels(coha_df, 'Epoch', text_column_name='normalized sents')"
   ]
  },
  {
   "cell_type": "code",
   "execution_count": null,
   "metadata": {},
   "outputs": [],
   "source": [
    "# rawEmbeddings_genre = rawModels(coha_df, 'Genre', text_column_name='normalized sents')"
   ]
  },
  {
   "cell_type": "markdown",
   "metadata": {},
   "source": [
    "We now have the raw embeddings for epoch and genre. You can test out the previous analysis on words of your choice."
   ]
  },
  {
   "cell_type": "code",
   "execution_count": 178,
   "metadata": {},
   "outputs": [],
   "source": [
    "for epoch, embedding in enumerate(rawEmbeddings_epoch):\n",
    "    model = rawEmbeddings_epoch[embedding]\n",
    "    name = \"embedding_epoch_\" + str(epoch)\n",
    "    model.save(name)"
   ]
  },
  {
   "cell_type": "code",
   "execution_count": null,
   "metadata": {},
   "outputs": [],
   "source": [
    "# for embedding in rawEmbeddings_genre:\n",
    "#     model = rawEmbeddings_genre[embedding]\n",
    "#     name = \"embedding_genre_\" + embedding\n",
    "#     model.save(name)"
   ]
  },
  {
   "cell_type": "code",
   "execution_count": 179,
   "metadata": {},
   "outputs": [],
   "source": [
    "from gensim.models import Word2Vec"
   ]
  },
  {
   "cell_type": "code",
   "execution_count": 191,
   "metadata": {},
   "outputs": [],
   "source": [
    "def file_to_embeddings(address, kind):\n",
    "    rawEmbeddings = {}\n",
    "    for file in os.listdir(address):\n",
    "        if \"embedding_\"+kind in file:\n",
    "            e, kind_, kind_type = file.split(\"_\")\n",
    "            kind_type = eval(kind_type)\n",
    "            rawEmbeddings[kind_type] = Word2Vec.load(file)\n",
    "    return rawEmbeddings"
   ]
  },
  {
   "cell_type": "code",
   "execution_count": 192,
   "metadata": {},
   "outputs": [],
   "source": [
    "# rawEmbeddings_genre_load = file_to_embeddings(\".\", \"genre\")"
   ]
  },
  {
   "cell_type": "code",
   "execution_count": 193,
   "metadata": {},
   "outputs": [],
   "source": [
    "rawEmbeddings_epoch_load = file_to_embeddings(\".\", \"epoch\")"
   ]
  },
  {
   "cell_type": "code",
   "execution_count": 194,
   "metadata": {},
   "outputs": [
    {
     "data": {
      "text/plain": [
       "dict_keys([0, 1, 2, 3, 4])"
      ]
     },
     "execution_count": 194,
     "metadata": {},
     "output_type": "execute_result"
    }
   ],
   "source": [
    "rawEmbeddings_epoch_load.keys()"
   ]
  },
  {
   "cell_type": "code",
   "execution_count": 195,
   "metadata": {},
   "outputs": [],
   "source": [
    "rawEmbeddings_epoch, compared_epoch = compareModels(coha_df, 'Epoch', text_column_name='normalized sents', embeddings_raw=rawEmbeddings_epoch_load)"
   ]
  },
  {
   "cell_type": "code",
   "execution_count": null,
   "metadata": {},
   "outputs": [],
   "source": [
    "# rawEmbeddings_genre, compared_genre = compareModels(coha_df, 'Genre', text_column_name='normalized sents', embeddings_raw=rawEmbeddings_genre_load)"
   ]
  },
  {
   "cell_type": "markdown",
   "metadata": {},
   "source": [
    "You now have access to the epoch wise embeddings, and the code to train models genre wise (commented out). \n",
    "You can use the original embeddings, the compared embeddings and such to perform the analysis we did before."
   ]
  },
  {
   "cell_type": "markdown",
   "metadata": {},
   "source": [
    "## <span style=\"color:red\">*Exercise 4b*</span>\n",
    "\n",
    "<span style=\"color:red\">**Do only 4a or 4b.** Construct cells immediately below this that align word embeddings over time or across domains/corpora. Interrogate the spaces that result and ask which words changed most and least over the entire period or between contexts/corpora. What does this reveal about the social game underlying your space? "
   ]
  }
 ],
 "metadata": {
  "anaconda-cloud": {},
  "kernelspec": {
   "display_name": "Python 3",
   "language": "python",
   "name": "python3"
  },
  "language_info": {
   "codemirror_mode": {
    "name": "ipython",
    "version": 3
   },
   "file_extension": ".py",
   "mimetype": "text/x-python",
   "name": "python",
   "nbconvert_exporter": "python",
   "pygments_lexer": "ipython3",
   "version": "3.7.4"
  }
 },
 "nbformat": 4,
 "nbformat_minor": 1
}
