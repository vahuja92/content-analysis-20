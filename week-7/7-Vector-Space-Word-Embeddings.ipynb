{
 "cells": [
  {
   "cell_type": "markdown",
   "metadata": {},
   "source": [
    "# Week 7 - Vector Space Word Embeddings\n",
    "\n",
    "This week, we build on last week's topic modeling techniques by taking a text corpus we have developed, specifying an underlying number of dimensions, and training a model with a neural network auto-encoder (one of Google's word2vec  algorithms) that best describes corpus words in their local linguistic contexts, and exploring their locations in the resulting space to learn about the discursive culture that produced them. Documents here are represented as densely indexed locations in dimensions, rather than sparse mixtures of topics (as in LDA topic modeling), so that distances between those documents (and words) are consistently superior, though they require the full vector of dimension loadings (rather than just a few selected topic loadings) to describe. We will explore these spaces to understand complex, semantic relationships between words, index documents with descriptive words, identify the likelihood that a given document would have been produced by a given vector model, and explore how semantic categories can help us understand the cultures that produced them.\n",
    "\n",
    "For this notebook we will be using the following packages"
   ]
  },
  {
   "cell_type": "code",
   "execution_count": 1,
   "metadata": {},
   "outputs": [],
   "source": [
    "#All these packages need to be installed from pip\n",
    "import gensim#For word2vec, etc\n",
    "import requests #For downloading our datasets\n",
    "import lucem_illud_2020\n",
    "\n",
    "import numpy as np #For arrays\n",
    "import pandas #Gives us DataFrames\n",
    "import matplotlib.pyplot as plt #For graphics\n",
    "import seaborn #Makes the graphics look nicer\n",
    "import sklearn.metrics.pairwise #For cosine similarity\n",
    "import sklearn.manifold #For T-SNE\n",
    "import sklearn.decomposition #For PCA\n",
    "\n",
    "#This 'magic' command makes the plots work better\n",
    "#in the notebook, don't use it outside of a notebook.\n",
    "#Also you can ignore the warning\n",
    "%matplotlib inline\n",
    "\n",
    "import os #For looking through files\n",
    "import os.path #For managing file paths\n",
    "import pandas as pd"
   ]
  },
  {
   "cell_type": "markdown",
   "metadata": {},
   "source": [
    "# Loading my corpora"
   ]
  },
  {
   "cell_type": "code",
   "execution_count": 2,
   "metadata": {},
   "outputs": [],
   "source": [
    "coca_corpus = pd.read_csv(\"../week-6/1990_2011_coca_corpus.csv\")"
   ]
  },
  {
   "cell_type": "markdown",
   "metadata": {},
   "source": [
    "### I pick a random sample of my corpus for computational ease (will run on full corpus for my final project)"
   ]
  },
  {
   "cell_type": "code",
   "execution_count": 3,
   "metadata": {},
   "outputs": [],
   "source": [
    "text_df = coca_corpus.sample(n=2000, random_state=1)"
   ]
  },
  {
   "cell_type": "markdown",
   "metadata": {},
   "source": [
    "## <span style=\"color:red\">*Exercise 1*</span>\n",
    "\n",
    "<span style=\"color:red\">Construct cells immediately below this that embed documents related to your final project using at least two different specification of `word2vec`, and visualize them each with two separate visualization layout specifications (e.g., TSNE, PCA). Then interrogate critical word vectors within your corpus in terms of the most similar words, analogies, and other additions and subtractions that reveal the structure of similarity and difference within your semantic space. What does this pattern reveal about the semantic organization of words in your corpora? Which estimation and visualization specification generate the most insight and appear the most robustly supported and why? \n",
    "\n",
    "<span style=\"color:red\">***Stretch***: Explore different vector calculations beyond addition and subtraction, such as multiplication, division or some other function. What does this exploration reveal about the semantic structure of your corpus?"
   ]
  },
  {
   "cell_type": "markdown",
   "metadata": {},
   "source": [
    "# Getting our corpora\n",
    "\n",
    "Instead of downloading our corpora, we have download them in advance; a subset of the [senate press releases](https://github.com/lintool/GrimmerSenatePressReleases) are in `grimmerPressReleases`. We will load them into a DataFrame, but first we need to define a function to convert directories of text files into DataFrames:"
   ]
  },
  {
   "cell_type": "code",
   "execution_count": 4,
   "metadata": {},
   "outputs": [],
   "source": [
    "def loadDir(targetDir, category):\n",
    "    allFileNames = os.listdir(targetDir)\n",
    "    #We need to make them into useable paths and filter out hidden files\n",
    "    filePaths = [os.path.join(targetDir, fname) for fname in allFileNames if fname[0] != '.']\n",
    "\n",
    "    #The dict that will become the DataFrame\n",
    "    senDict = {\n",
    "        'category' : [category] * len(filePaths),\n",
    "        'filePath' : [],\n",
    "        'text' : [],\n",
    "    }\n",
    "\n",
    "    for fPath in filePaths:\n",
    "        with open(fPath) as f:\n",
    "            senDict['text'].append(f.read())\n",
    "            senDict['filePath'].append(fPath)\n",
    "\n",
    "    return pandas.DataFrame(senDict)"
   ]
  },
  {
   "cell_type": "markdown",
   "metadata": {},
   "source": [
    "Now we can use the function in all the directories in `data/grimmerPressReleases`"
   ]
  },
  {
   "cell_type": "markdown",
   "metadata": {},
   "source": [
    "Word2Vec needs to retain the sentence structure so as to capture a \"continuous bag of words (CBOW)\" and all of the skip-grams within a word window. The algorithm tries to preserve the distances induced by one of these two local structures. This is very different from clustering and LDA topic modeling which extract unordered words alone.\n",
    "\n",
    "When we normalize here, we don't use the lematized form of the word because we might lose information. Note the paramter in the normalize tokens function."
   ]
  },
  {
   "cell_type": "code",
   "execution_count": 15,
   "metadata": {},
   "outputs": [
    {
     "data": {
      "text/plain": [
       "(2000, 5)"
      ]
     },
     "execution_count": 15,
     "metadata": {},
     "output_type": "execute_result"
    }
   ],
   "source": [
    "text_df.shape"
   ]
  },
  {
   "cell_type": "code",
   "execution_count": 5,
   "metadata": {},
   "outputs": [
    {
     "data": {
      "text/html": [
       "<div>\n",
       "<style scoped>\n",
       "    .dataframe tbody tr th:only-of-type {\n",
       "        vertical-align: middle;\n",
       "    }\n",
       "\n",
       "    .dataframe tbody tr th {\n",
       "        vertical-align: top;\n",
       "    }\n",
       "\n",
       "    .dataframe thead th {\n",
       "        text-align: right;\n",
       "    }\n",
       "</style>\n",
       "<table border=\"1\" class=\"dataframe\">\n",
       "  <thead>\n",
       "    <tr style=\"text-align: right;\">\n",
       "      <th></th>\n",
       "      <th>Unnamed: 0</th>\n",
       "      <th>year</th>\n",
       "      <th>genre</th>\n",
       "      <th>text</th>\n",
       "      <th>tokenized_text</th>\n",
       "      <th>tokenized_sents</th>\n",
       "      <th>normalized_sents</th>\n",
       "    </tr>\n",
       "  </thead>\n",
       "  <tbody>\n",
       "    <tr>\n",
       "      <td>13598</td>\n",
       "      <td>13598</td>\n",
       "      <td>2007</td>\n",
       "      <td>spok</td>\n",
       "      <td>##244801 !PAULA-ZAHN-CNN-AN : Good evening , e...</td>\n",
       "      <td>['PAULA', 'ZAHN', 'CNN', 'AN', 'Good', 'evenin...</td>\n",
       "      <td>[[244801], [PAULA, ZAHN, CNN, AN], [Good, even...</td>\n",
       "      <td>[[], [paula, zahn, cnn], [good, evening, every...</td>\n",
       "    </tr>\n",
       "    <tr>\n",
       "      <td>13297</td>\n",
       "      <td>13297</td>\n",
       "      <td>2007</td>\n",
       "      <td>spok</td>\n",
       "      <td>##237499 !CONTENT : ARNOLD SCHWARZENEGGER , ' ...</td>\n",
       "      <td>['CONTENT', 'ARNOLD', 'SCHWARZENEGGER', 'NEWSW...</td>\n",
       "      <td>[[237499], [CONTENT], [ARNOLD, SCHWARZENEGGER,...</td>\n",
       "      <td>[[], [content], [arnold, schwarzenegger, newsw...</td>\n",
       "    </tr>\n",
       "    <tr>\n",
       "      <td>2124</td>\n",
       "      <td>2124</td>\n",
       "      <td>2012</td>\n",
       "      <td>mag</td>\n",
       "      <td>4151949 FROM THE EDITOR # I LOVE MY SISTER ; H...</td>\n",
       "      <td>['FROM', 'THE', 'EDITOR', 'I', 'LOVE', 'MY', '...</td>\n",
       "      <td>[[4151949, FROM, THE, EDITOR, I, LOVE, MY, SIS...</td>\n",
       "      <td>[[editor, love, sister, hate, politics], [let,...</td>\n",
       "    </tr>\n",
       "    <tr>\n",
       "      <td>18398</td>\n",
       "      <td>18398</td>\n",
       "      <td>2003</td>\n",
       "      <td>fic</td>\n",
       "      <td>##1010364 Extra Play Headnote A basketball pla...</td>\n",
       "      <td>['Extra', 'Play', 'Headnote', 'A', 'basketball...</td>\n",
       "      <td>[[1010364, Extra, Play], [Headnote, A, basketb...</td>\n",
       "      <td>[[extra, play], [headnote, basketball, player,...</td>\n",
       "    </tr>\n",
       "    <tr>\n",
       "      <td>9352</td>\n",
       "      <td>9352</td>\n",
       "      <td>2000</td>\n",
       "      <td>spok</td>\n",
       "      <td>##215892 KYRA PHILLIPS , CNN ANCHOR : We turn ...</td>\n",
       "      <td>['KYRA', 'PHILLIPS', 'CNN', 'ANCHOR', 'We', 't...</td>\n",
       "      <td>[[215892, KYRA, PHILLIPS, CNN, ANCHOR], [We, t...</td>\n",
       "      <td>[[kyra, phillips, cnn, anchor], [turn, latest,...</td>\n",
       "    </tr>\n",
       "    <tr>\n",
       "      <td>9520</td>\n",
       "      <td>9520</td>\n",
       "      <td>2000</td>\n",
       "      <td>spok</td>\n",
       "      <td>##218254 ANDRIA HALL , CNN ANCHOR : Twenty-fou...</td>\n",
       "      <td>['ANDRIA', 'HALL', 'CNN', 'ANCHOR', 'Twenty', ...</td>\n",
       "      <td>[[218254, ANDRIA, HALL, CNN, ANCHOR], [Twenty,...</td>\n",
       "      <td>[[andria, hall, cnn, anchor], [year, old, tige...</td>\n",
       "    </tr>\n",
       "    <tr>\n",
       "      <td>21839</td>\n",
       "      <td>21839</td>\n",
       "      <td>2013</td>\n",
       "      <td>fic</td>\n",
       "      <td>4163042 At the Early Music Institute , Rachael...</td>\n",
       "      <td>['At', 'the', 'Early', 'Music', 'Institute', '...</td>\n",
       "      <td>[[4163042], [At, the, Early, Music, Institute,...</td>\n",
       "      <td>[[], [early, music, institute, rachael, began,...</td>\n",
       "    </tr>\n",
       "    <tr>\n",
       "      <td>21834</td>\n",
       "      <td>21834</td>\n",
       "      <td>2013</td>\n",
       "      <td>fic</td>\n",
       "      <td>4163016 Miranda the Elephant Girl was the firs...</td>\n",
       "      <td>['Miranda', 'the', 'Elephant', 'Girl', 'was', ...</td>\n",
       "      <td>[[4163016], [Miranda], [the, Elephant, Girl, w...</td>\n",
       "      <td>[[], [miranda], [elephant, girl], [trevor, hir...</td>\n",
       "    </tr>\n",
       "    <tr>\n",
       "      <td>11695</td>\n",
       "      <td>11695</td>\n",
       "      <td>1999</td>\n",
       "      <td>news</td>\n",
       "      <td>##3043169  Every day for nearly three months ,...</td>\n",
       "      <td>['Every', 'day', 'for', 'nearly', 'three', 'mo...</td>\n",
       "      <td>[[3043169], [Every, day, for, nearly, three, m...</td>\n",
       "      <td>[[], [day, nearly, months, pentagon, displayed...</td>\n",
       "    </tr>\n",
       "    <tr>\n",
       "      <td>13899</td>\n",
       "      <td>13899</td>\n",
       "      <td>2007</td>\n",
       "      <td>spok</td>\n",
       "      <td>##246436 !HANNAH-STORM-co-h : The August issue...</td>\n",
       "      <td>['HANNAH', 'STORM', 'co', 'h', 'The', 'August'...</td>\n",
       "      <td>[[246436], [HANNAH, STORM, co, h], [The, Augus...</td>\n",
       "      <td>[[], [hannah, storm, co, h], [august, issue, f...</td>\n",
       "    </tr>\n",
       "  </tbody>\n",
       "</table>\n",
       "</div>"
      ],
      "text/plain": [
       "       Unnamed: 0  year genre  \\\n",
       "13598       13598  2007  spok   \n",
       "13297       13297  2007  spok   \n",
       "2124         2124  2012   mag   \n",
       "18398       18398  2003   fic   \n",
       "9352         9352  2000  spok   \n",
       "9520         9520  2000  spok   \n",
       "21839       21839  2013   fic   \n",
       "21834       21834  2013   fic   \n",
       "11695       11695  1999  news   \n",
       "13899       13899  2007  spok   \n",
       "\n",
       "                                                    text  \\\n",
       "13598  ##244801 !PAULA-ZAHN-CNN-AN : Good evening , e...   \n",
       "13297  ##237499 !CONTENT : ARNOLD SCHWARZENEGGER , ' ...   \n",
       "2124   4151949 FROM THE EDITOR # I LOVE MY SISTER ; H...   \n",
       "18398  ##1010364 Extra Play Headnote A basketball pla...   \n",
       "9352   ##215892 KYRA PHILLIPS , CNN ANCHOR : We turn ...   \n",
       "9520   ##218254 ANDRIA HALL , CNN ANCHOR : Twenty-fou...   \n",
       "21839  4163042 At the Early Music Institute , Rachael...   \n",
       "21834  4163016 Miranda the Elephant Girl was the firs...   \n",
       "11695  ##3043169  Every day for nearly three months ,...   \n",
       "13899  ##246436 !HANNAH-STORM-co-h : The August issue...   \n",
       "\n",
       "                                          tokenized_text  \\\n",
       "13598  ['PAULA', 'ZAHN', 'CNN', 'AN', 'Good', 'evenin...   \n",
       "13297  ['CONTENT', 'ARNOLD', 'SCHWARZENEGGER', 'NEWSW...   \n",
       "2124   ['FROM', 'THE', 'EDITOR', 'I', 'LOVE', 'MY', '...   \n",
       "18398  ['Extra', 'Play', 'Headnote', 'A', 'basketball...   \n",
       "9352   ['KYRA', 'PHILLIPS', 'CNN', 'ANCHOR', 'We', 't...   \n",
       "9520   ['ANDRIA', 'HALL', 'CNN', 'ANCHOR', 'Twenty', ...   \n",
       "21839  ['At', 'the', 'Early', 'Music', 'Institute', '...   \n",
       "21834  ['Miranda', 'the', 'Elephant', 'Girl', 'was', ...   \n",
       "11695  ['Every', 'day', 'for', 'nearly', 'three', 'mo...   \n",
       "13899  ['HANNAH', 'STORM', 'co', 'h', 'The', 'August'...   \n",
       "\n",
       "                                         tokenized_sents  \\\n",
       "13598  [[244801], [PAULA, ZAHN, CNN, AN], [Good, even...   \n",
       "13297  [[237499], [CONTENT], [ARNOLD, SCHWARZENEGGER,...   \n",
       "2124   [[4151949, FROM, THE, EDITOR, I, LOVE, MY, SIS...   \n",
       "18398  [[1010364, Extra, Play], [Headnote, A, basketb...   \n",
       "9352   [[215892, KYRA, PHILLIPS, CNN, ANCHOR], [We, t...   \n",
       "9520   [[218254, ANDRIA, HALL, CNN, ANCHOR], [Twenty,...   \n",
       "21839  [[4163042], [At, the, Early, Music, Institute,...   \n",
       "21834  [[4163016], [Miranda], [the, Elephant, Girl, w...   \n",
       "11695  [[3043169], [Every, day, for, nearly, three, m...   \n",
       "13899  [[246436], [HANNAH, STORM, co, h], [The, Augus...   \n",
       "\n",
       "                                        normalized_sents  \n",
       "13598  [[], [paula, zahn, cnn], [good, evening, every...  \n",
       "13297  [[], [content], [arnold, schwarzenegger, newsw...  \n",
       "2124   [[editor, love, sister, hate, politics], [let,...  \n",
       "18398  [[extra, play], [headnote, basketball, player,...  \n",
       "9352   [[kyra, phillips, cnn, anchor], [turn, latest,...  \n",
       "9520   [[andria, hall, cnn, anchor], [year, old, tige...  \n",
       "21839  [[], [early, music, institute, rachael, began,...  \n",
       "21834  [[], [miranda], [elephant, girl], [trevor, hir...  \n",
       "11695  [[], [day, nearly, months, pentagon, displayed...  \n",
       "13899  [[], [hannah, storm, co, h], [august, issue, f...  "
      ]
     },
     "execution_count": 5,
     "metadata": {},
     "output_type": "execute_result"
    }
   ],
   "source": [
    "text_df['tokenized_sents'] = text_df['text'].apply(lambda x: [lucem_illud_2020.word_tokenize(s) for s in lucem_illud_2020.sent_tokenize(x)])\n",
    "text_df['normalized_sents'] = text_df['tokenized_sents'].apply(lambda x: [lucem_illud_2020.normalizeTokens(s, lemma=False) for s in x])\n",
    "\n",
    "text_df[:100:10]"
   ]
  },
  {
   "cell_type": "code",
   "execution_count": null,
   "metadata": {},
   "outputs": [],
   "source": [
    "text_df.head()"
   ]
  },
  {
   "cell_type": "markdown",
   "metadata": {},
   "source": [
    "# Word2Vec\n",
    "\n",
    "We will be using the gensim implementation of [Word2Vec](https://radimrehurek.com/gensim/models/word2vec.html#gensim.models.word2vec.Word2Vec).\n",
    "\n",
    "To load our data our data we give all the sentences to the trainer:"
   ]
  },
  {
   "cell_type": "code",
   "execution_count": 6,
   "metadata": {},
   "outputs": [],
   "source": [
    "cocaW2V = gensim.models.word2vec.Word2Vec(text_df['normalized_sents'].sum())"
   ]
  },
  {
   "cell_type": "markdown",
   "metadata": {},
   "source": [
    "Inside the word2vec object the words each have a vector. To access the vector directly, use the square braces (`__getitem__`) method:"
   ]
  },
  {
   "cell_type": "code",
   "execution_count": 7,
   "metadata": {},
   "outputs": [
    {
     "data": {
      "text/plain": [
       "array([-0.21535563,  0.37712765,  0.13960774,  1.0483652 , -1.782181  ,\n",
       "        0.0569635 ,  1.1469002 , -0.12612417,  0.9396758 ,  0.4987577 ],\n",
       "      dtype=float32)"
      ]
     },
     "execution_count": 7,
     "metadata": {},
     "output_type": "execute_result"
    }
   ],
   "source": [
    "cocaW2V['president'][:10] #Shortening because it's very large"
   ]
  },
  {
   "cell_type": "markdown",
   "metadata": {},
   "source": [
    "If you want the full matrix, `syn0` stores all the vectors:"
   ]
  },
  {
   "cell_type": "code",
   "execution_count": 8,
   "metadata": {},
   "outputs": [
    {
     "data": {
      "text/plain": [
       "array([[ 9.0733236e-01, -2.8132468e-02,  5.9458196e-01, ...,\n",
       "        -2.5632510e-01,  1.2014606e+00,  6.5168387e-01],\n",
       "       [-7.7556330e-01,  8.1456900e-01, -5.6377256e-01, ...,\n",
       "         4.0382954e-01,  1.2531967e+00,  7.7481079e-01],\n",
       "       [ 4.5619783e-01, -8.8463910e-02,  8.7783587e-01, ...,\n",
       "        -1.0023111e-01,  1.8957670e+00,  2.1505861e-01],\n",
       "       ...,\n",
       "       [-1.3431163e-02, -6.7850333e-03,  2.3014994e-02, ...,\n",
       "        -2.8202152e-02,  1.6175123e-02, -1.2485251e-02],\n",
       "       [-1.1068890e-02,  4.5063818e-04,  1.9125780e-02, ...,\n",
       "         5.1919529e-03,  4.4976687e-03,  8.7153018e-03],\n",
       "       [-6.4526133e-02, -2.7377510e-02,  4.6100516e-02, ...,\n",
       "        -1.4460788e-02, -2.5139812e-02,  4.4642454e-03]], dtype=float32)"
      ]
     },
     "execution_count": 8,
     "metadata": {},
     "output_type": "execute_result"
    }
   ],
   "source": [
    "cocaW2V.wv.syn0"
   ]
  },
  {
   "cell_type": "markdown",
   "metadata": {},
   "source": [
    "Then, `index2word` lets you translate from the matrix to words:"
   ]
  },
  {
   "cell_type": "markdown",
   "metadata": {},
   "source": [
    "Now we can look at a few things that come from the word vectors. The first is to find similar vectors (cosine similarity):"
   ]
  },
  {
   "cell_type": "code",
   "execution_count": 10,
   "metadata": {},
   "outputs": [
    {
     "data": {
      "text/plain": [
       "[('victims', 0.9006043076515198),\n",
       " ('committed', 0.8889893293380737),\n",
       " ('custody', 0.8760416507720947),\n",
       " ('marriage', 0.8675025105476379),\n",
       " ('sex', 0.8625668287277222),\n",
       " ('fathers', 0.8600614070892334),\n",
       " ('lesbian', 0.8597614765167236),\n",
       " ('believed', 0.8589087724685669),\n",
       " ('helping', 0.8556957244873047),\n",
       " ('abused', 0.853809118270874)]"
      ]
     },
     "execution_count": 10,
     "metadata": {},
     "output_type": "execute_result"
    }
   ],
   "source": [
    "cocaW2V.most_similar('gay')"
   ]
  },
  {
   "cell_type": "code",
   "execution_count": 11,
   "metadata": {},
   "outputs": [
    {
     "data": {
      "text/plain": [
       "[('orphan', 0.9726377725601196),\n",
       " ('storyteller', 0.9637928605079651),\n",
       " ('eccentric', 0.9611315131187439),\n",
       " ('ay', 0.9601141214370728),\n",
       " ('coy', 0.9600990414619446),\n",
       " ('czanne', 0.9600352048873901),\n",
       " ('fond', 0.9597500562667847),\n",
       " ('nun', 0.9596986174583435),\n",
       " ('gwenlian', 0.9591575860977173),\n",
       " ('matlock', 0.9589586853981018)]"
      ]
     },
     "execution_count": 11,
     "metadata": {},
     "output_type": "execute_result"
    }
   ],
   "source": [
    "cocaW2V.most_similar('queer')"
   ]
  },
  {
   "cell_type": "code",
   "execution_count": 12,
   "metadata": {},
   "outputs": [
    {
     "data": {
      "text/plain": [
       "[('disordered', 0.9580211639404297),\n",
       " ('sads', 0.9562519788742065),\n",
       " ('offenders', 0.9536484479904175),\n",
       " ('affection', 0.9506126642227173),\n",
       " ('sexually', 0.9493196606636047),\n",
       " ('unprotected', 0.9490741491317749),\n",
       " ('adoptive', 0.9476017355918884),\n",
       " ('marovola', 0.9471534490585327),\n",
       " ('lesbians', 0.9471074342727661),\n",
       " ('americanization', 0.9471062421798706)]"
      ]
     },
     "execution_count": 12,
     "metadata": {},
     "output_type": "execute_result"
    }
   ],
   "source": [
    "cocaW2V.most_similar('lesbian')"
   ]
  },
  {
   "cell_type": "code",
   "execution_count": 13,
   "metadata": {},
   "outputs": [
    {
     "data": {
      "text/plain": [
       "[('blessings', 0.9312684535980225),\n",
       " ('talented', 0.9289891719818115),\n",
       " ('heroes', 0.9258916974067688),\n",
       " ('spokespeople', 0.92570960521698),\n",
       " ('innumerable', 0.924680233001709),\n",
       " ('victimized', 0.9234024286270142),\n",
       " ('likable', 0.920622706413269),\n",
       " ('obsessed', 0.9194033741950989),\n",
       " ('smartest', 0.9184142351150513),\n",
       " ('motivates', 0.9179787635803223)]"
      ]
     },
     "execution_count": 13,
     "metadata": {},
     "output_type": "execute_result"
    }
   ],
   "source": [
    "cocaW2V.most_similar('transgender')"
   ]
  },
  {
   "cell_type": "code",
   "execution_count": 14,
   "metadata": {},
   "outputs": [
    {
     "data": {
      "text/plain": [
       "[('molestation', 0.9442316293716431),\n",
       " ('heterosexual', 0.9433330297470093),\n",
       " ('spousal', 0.9396213293075562),\n",
       " ('unprotected', 0.9358726739883423),\n",
       " ('incarcerated', 0.9336373805999756),\n",
       " ('lesbian', 0.9271439909934998),\n",
       " ('alzheimer', 0.926474928855896),\n",
       " ('offenders', 0.9260541200637817),\n",
       " ('disordered', 0.9255529046058655),\n",
       " ('suicides', 0.9247804880142212)]"
      ]
     },
     "execution_count": 14,
     "metadata": {},
     "output_type": "execute_result"
    }
   ],
   "source": [
    "cocaW2V.most_similar('bisexual')"
   ]
  },
  {
   "cell_type": "markdown",
   "metadata": {},
   "source": [
    "Find which word least matches the others within a word set (cosine similarity):"
   ]
  },
  {
   "cell_type": "code",
   "execution_count": 77,
   "metadata": {},
   "outputs": [
    {
     "data": {
      "text/plain": [
       "'queer'"
      ]
     },
     "execution_count": 77,
     "metadata": {},
     "output_type": "execute_result"
    }
   ],
   "source": [
    "cocaW2V.doesnt_match(['lesbian', 'gay', 'bisexual', 'transgender', 'queer'])"
   ]
  },
  {
   "cell_type": "markdown",
   "metadata": {},
   "source": [
    "Find which word best matches the result of a semantic *equation* (here, we seek the words whose vectors best fit the missing entry from the equation: **X + Y - Z = _**."
   ]
  },
  {
   "cell_type": "code",
   "execution_count": 80,
   "metadata": {},
   "outputs": [
    {
     "data": {
      "text/plain": [
       "[('violent', 0.8541388511657715),\n",
       " ('victims', 0.8463376760482788),\n",
       " ('concerned', 0.825453519821167),\n",
       " ('blacks', 0.8153319954872131),\n",
       " ('committed', 0.8147979974746704),\n",
       " ('helping', 0.8097373247146606),\n",
       " ('believed', 0.7976571321487427),\n",
       " ('americans', 0.7931938767433167),\n",
       " ('struggle', 0.7927546501159668),\n",
       " ('ordinary', 0.7882338762283325)]"
      ]
     },
     "execution_count": 80,
     "metadata": {},
     "output_type": "execute_result"
    }
   ],
   "source": [
    "cocaW2V.most_similar(positive=['gay', 'republican'], negative = ['democrat'])"
   ]
  },
  {
   "cell_type": "code",
   "execution_count": 81,
   "metadata": {},
   "outputs": [
    {
     "data": {
      "text/plain": [
       "[('lesbian', 0.8660780191421509),\n",
       " ('rape', 0.8645052909851074),\n",
       " ('custody', 0.8623795509338379),\n",
       " ('charged', 0.8621751070022583),\n",
       " ('parent', 0.8599920868873596),\n",
       " ('entitled', 0.8459870219230652),\n",
       " ('professors', 0.8439536690711975),\n",
       " ('behalf', 0.8400002121925354),\n",
       " ('youth', 0.8370729684829712),\n",
       " ('educated', 0.8333446979522705)]"
      ]
     },
     "execution_count": 81,
     "metadata": {},
     "output_type": "execute_result"
    }
   ],
   "source": [
    "cocaW2V.most_similar(positive=['gay', 'democrat'], negative = ['republican'])"
   ]
  },
  {
   "cell_type": "markdown",
   "metadata": {},
   "source": [
    "Here we see that **Clinton + Republican - Democrat = Bush**. In other words, in this dataset, **Clinton** is to **Democrat** as **Bush** is to **Republican**. Whoah!"
   ]
  },
  {
   "cell_type": "markdown",
   "metadata": {},
   "source": [
    "We can also save the vectors for later use:"
   ]
  },
  {
   "cell_type": "markdown",
   "metadata": {},
   "source": [
    "We can also use dimension reduction to visulize the vectors. We will start by selecting a subset we want to plot. Let's look at the top words from the set:"
   ]
  },
  {
   "cell_type": "code",
   "execution_count": 20,
   "metadata": {},
   "outputs": [],
   "source": [
    "numWords = 50\n",
    "targetWords = cocaW2V.wv.index2word[:numWords]"
   ]
  },
  {
   "cell_type": "markdown",
   "metadata": {},
   "source": [
    "We can then extract their vectors and create our own smaller matrix that preserved the distances from the original:"
   ]
  },
  {
   "cell_type": "code",
   "execution_count": 107,
   "metadata": {},
   "outputs": [
    {
     "data": {
      "text/plain": [
       "array([[ 0.90733236, -0.02813247,  0.59458196, ..., -0.2563251 ,\n",
       "         1.2014606 ,  0.65168387],\n",
       "       [-0.7755633 ,  0.814569  , -0.56377256, ...,  0.40382954,\n",
       "         1.2531967 ,  0.7748108 ],\n",
       "       [ 0.45619783, -0.08846391,  0.87783587, ..., -0.10023111,\n",
       "         1.895767  ,  0.21505861],\n",
       "       ...,\n",
       "       [ 0.13267525,  1.1407572 , -0.29714146, ..., -0.7675575 ,\n",
       "         0.06300909, -0.6818794 ],\n",
       "       [-0.64450455, -0.82448334,  0.6246635 , ..., -0.10814311,\n",
       "         0.27584296,  0.00883053],\n",
       "       [ 0.27198005,  0.42850065, -2.3922384 , ..., -0.11650006,\n",
       "         3.2779195 , -1.8727643 ]], dtype=float32)"
      ]
     },
     "execution_count": 107,
     "metadata": {},
     "output_type": "execute_result"
    }
   ],
   "source": [
    "wordsSubMatrix = []\n",
    "for word in targetWords:\n",
    "    wordsSubMatrix.append(cocaW2V[word])\n",
    "wordsSubMatrix = np.array(wordsSubMatrix)\n",
    "wordsSubMatrix"
   ]
  },
  {
   "cell_type": "markdown",
   "metadata": {},
   "source": [
    "Then we can use PCA to reduce the dimesions (e.g., to 50), and T-SNE to project them down to the two we will visualize. We note that this is nondeterministic process, and so you can repeat and achieve alternative projectsions/visualizations of the words:"
   ]
  },
  {
   "cell_type": "code",
   "execution_count": 72,
   "metadata": {},
   "outputs": [],
   "source": [
    "pcaWords = sklearn.decomposition.PCA(n_components = 50).fit(wordsSubMatrix)\n",
    "reducedPCA_data = pcaWords.transform(wordsSubMatrix)\n",
    "#T-SNE is theoretically better, but you should experiment\n",
    "tsneWords = sklearn.manifold.TSNE(n_components = 2).fit_transform(reducedPCA_data)"
   ]
  },
  {
   "cell_type": "markdown",
   "metadata": {},
   "source": [
    "### TSNE Visualization "
   ]
  },
  {
   "cell_type": "markdown",
   "metadata": {},
   "source": [
    "We now can plot the points"
   ]
  },
  {
   "cell_type": "code",
   "execution_count": 73,
   "metadata": {},
   "outputs": [
    {
     "data": {
      "image/png": "[encoded data removed]",
      "text/plain": [
       "<Figure size 720x432 with 1 Axes>"
      ]
     },
     "metadata": {},
     "output_type": "display_data"
    }
   ],
   "source": [
    "fig = plt.figure(figsize = (10,6))\n",
    "ax = fig.add_subplot(111)\n",
    "ax.set_frame_on(False)\n",
    "plt.scatter(tsneWords[:, 0], tsneWords[:, 1], alpha = 0)#Making the points invisible \n",
    "for i, word in enumerate(targetWords):\n",
    "    ax.annotate(word, (tsneWords[:, 0][i],tsneWords[:, 1][i]), size =  20 * (numWords - i) / numWords)\n",
    "plt.xticks(())\n",
    "plt.yticks(())\n",
    "plt.show()"
   ]
  },
  {
   "cell_type": "markdown",
   "metadata": {},
   "source": [
    "### PCA Visualization"
   ]
  },
  {
   "cell_type": "code",
   "execution_count": 76,
   "metadata": {},
   "outputs": [
    {
     "data": {
      "image/png": "[encoded data removed]",
      "text/plain": [
       "<Figure size 720x432 with 1 Axes>"
      ]
     },
     "metadata": {},
     "output_type": "display_data"
    }
   ],
   "source": [
    "fig = plt.figure(figsize = (10,6))\n",
    "ax = fig.add_subplot(111)\n",
    "ax.set_frame_on(False)\n",
    "plt.scatter(reducedPCA_data[:, 0], reducedPCA_data[:, 1], alpha = 0)#Making the points invisible \n",
    "for i, word in enumerate(targetWords):\n",
    "    ax.annotate(word, (reducedPCA_data[:, 0][i],reducedPCA_data[:, 1][i]), size =  20 * (numWords - i) / numWords)\n",
    "plt.xticks(())\n",
    "plt.yticks(())\n",
    "plt.show()"
   ]
  },
  {
   "cell_type": "markdown",
   "metadata": {},
   "source": [
    "## <span style=\"color:red\">*Exercise 1 Write Up*</span>\n",
    "\n",
    "Queer seems to be associated with artists and storytellers, while the context around lesbian and gay is more political, with similar words being “disordered”, “offenders,” “abused”, “victims,” and “marriage.” Interestingly the majority of  words most similar to transgender have a positive connotation, like “blessings,” “talented” “spokespeople,” “likable” and “motivates.” “Victimized” is also on the list. The top words most similar to bisexual are mostly negative, and include “suicides” which is not on the list of gay and lesbian. \n",
    "\n",
    "Queer is the most different from the LGBT words, which is also reflected in how different the similar words to queer are to the rest of the keywords - they mostly describe artists.\n",
    "\n",
    "The semantic equations reveal interesting patterns. Gay + republican minus democrat reveal very political or crime related words - violent, victims, Americans as well as “blacks.” The racial component to this is interesting - it could have to do with hate crimes towards the LGBT community targeted at black individuals.\n",
    "\n",
    "Gay + democrat - republican\t reveal “rape,” as well as words involving family and children - custody, parent, entitled, youth, educated. This could be due to a democratic push for education about LGBT issues in schools.\n",
    "\n",
    "The visualization of the top words in my corpus is not very illuminating - though the TSNE visualization is more telling than the PCA. This is because a large number of words are clumped together with the PCA visual."
   ]
  },
  {
   "cell_type": "markdown",
   "metadata": {},
   "source": [
    "## <span style=\"color:red\">*Exercise 2*</span>\n"
   ]
  },
  {
   "cell_type": "markdown",
   "metadata": {},
   "source": [
    "# Doc2Vec"
   ]
  },
  {
   "cell_type": "markdown",
   "metadata": {
    "collapsed": true
   },
   "source": [
    "Instead of just looking at just how words embed within in the space, we can look at how the different documents relate to each other within the space. First lets load our data--abstracts of most U.S. physics papers from the 1950s."
   ]
  },
  {
   "cell_type": "markdown",
   "metadata": {},
   "source": [
    "We will load these as documents into Word2Vec, but first we need to normalize and pick some tags."
   ]
  },
  {
   "cell_type": "code",
   "execution_count": 27,
   "metadata": {},
   "outputs": [],
   "source": [
    "keywords = ['lesbian', 'gay', 'bisexual', 'transgender', 'queer', 'feminist']"
   ]
  },
  {
   "cell_type": "code",
   "execution_count": 32,
   "metadata": {},
   "outputs": [],
   "source": [
    "text_df['tokenized_words'] = text_df['text'].apply(lambda x: lucem_illud_2020.word_tokenize(x))\n",
    "text_df['normalized_words'] = text_df['tokenized_words'].apply(lambda x: lucem_illud_2020.normalizeTokens(x, lemma=False))"
   ]
  },
  {
   "cell_type": "code",
   "execution_count": 37,
   "metadata": {},
   "outputs": [
    {
     "data": {
      "text/plain": [
       "Index(['Unnamed: 0', 'year', 'genre', 'text', 'tokenized_text',\n",
       "       'tokenized_sents', 'normalized_sents', 'tokenized_words',\n",
       "       'normalized_words'],\n",
       "      dtype='object')"
      ]
     },
     "execution_count": 37,
     "metadata": {},
     "output_type": "execute_result"
    }
   ],
   "source": [
    "text_df.columns"
   ]
  },
  {
   "cell_type": "code",
   "execution_count": 40,
   "metadata": {},
   "outputs": [],
   "source": [
    "taggedDocs = []\n",
    "for index, row in text_df.iterrows():\n",
    "    #Just doing a simple keyword assignment\n",
    "    docKeywords = [s for s in keywords if s in row['normalized_words']]\n",
    "    docKeywords.append(row['year'])\n",
    "    docKeywords.append(row['Unnamed: 0']) #This lets us extract individual documnets since doi's are unique\n",
    "    taggedDocs.append(gensim.models.doc2vec.LabeledSentence(words = row['normalized_words'], tags = docKeywords))\n",
    "text_df['TaggedDocs'] = taggedDocs"
   ]
  },
  {
   "cell_type": "markdown",
   "metadata": {},
   "source": [
    "Now we can train a Doc2Vec model:"
   ]
  },
  {
   "cell_type": "code",
   "execution_count": 43,
   "metadata": {},
   "outputs": [
    {
     "name": "stderr",
     "output_type": "stream",
     "text": [
      "/opt/anaconda3/lib/python3.7/site-packages/gensim/models/doc2vec.py:574: UserWarning: The parameter `size` is deprecated, will be removed in 4.0.0, use `vector_size` instead.\n",
      "  warnings.warn(\"The parameter `size` is deprecated, will be removed in 4.0.0, use `vector_size` instead.\")\n"
     ]
    }
   ],
   "source": [
    "textD2V = gensim.models.doc2vec.Doc2Vec(text_df['TaggedDocs'], size = 100) #Limiting to 100 dimensions"
   ]
  },
  {
   "cell_type": "markdown",
   "metadata": {},
   "source": [
    "We can get vectors for the tags/documents, just as we did with words. Documents are actually the centroids (high dimensional average points) of their words. "
   ]
  },
  {
   "cell_type": "code",
   "execution_count": 44,
   "metadata": {
    "scrolled": true
   },
   "outputs": [
    {
     "data": {
      "text/plain": [
       "array([-2.2106853e-03, -2.8810115e-04,  3.1314220e-03, -1.8931351e-03,\n",
       "        2.0936187e-03,  1.9517489e-03,  6.5059745e-04,  4.1946312e-03,\n",
       "       -1.3786848e-04,  2.0853630e-03,  5.8347272e-04, -1.9919320e-03,\n",
       "        3.3254749e-03,  5.8096705e-04, -1.7260752e-03,  2.8609997e-03,\n",
       "       -2.0371648e-03, -1.8727782e-04, -7.1250362e-04,  4.8874412e-03,\n",
       "       -3.5937158e-03,  1.4416155e-04, -1.5235859e-03,  9.0628432e-04,\n",
       "       -3.3306344e-03, -3.1643906e-03, -2.2111677e-05,  3.7955586e-04,\n",
       "       -2.1456832e-03, -2.0720523e-03, -2.6564818e-04,  4.1149748e-03,\n",
       "        1.1780569e-03,  3.7739349e-03,  8.1132277e-04,  2.7450223e-03,\n",
       "        1.0878182e-03,  2.3827103e-03, -4.4600102e-03, -2.0542606e-03,\n",
       "        2.2199466e-03,  1.1940511e-03, -1.1555841e-03,  4.9625440e-03,\n",
       "        4.2246492e-03,  2.9613869e-03,  3.5723543e-03,  4.7441255e-03,\n",
       "        6.5149373e-04,  4.7186208e-03, -3.3505487e-03, -2.5939203e-03,\n",
       "        8.7934015e-05,  3.8475425e-03, -3.2882436e-04,  2.5409616e-03,\n",
       "       -3.4855902e-03, -1.4989744e-03, -1.7424169e-03,  1.8693557e-03,\n",
       "        1.1311321e-03, -3.8081158e-03, -3.6587522e-03, -5.2563788e-04,\n",
       "        2.0693361e-03, -2.5780562e-03,  1.9866405e-03,  3.4950853e-03,\n",
       "        1.7279143e-03, -2.2621509e-03,  1.4273076e-03, -4.8070224e-03,\n",
       "        6.4133876e-04,  7.9607038e-04, -2.8415127e-03, -8.7749696e-04,\n",
       "       -3.2224567e-03,  2.8460515e-03,  3.4333704e-04, -1.6291345e-03,\n",
       "       -4.9978085e-03,  4.2866333e-03, -4.0169768e-03,  3.4126363e-04,\n",
       "       -4.6429532e-03, -3.7051402e-03, -4.5982419e-04,  3.3942450e-04,\n",
       "       -3.2795647e-03,  1.2608607e-03,  2.6827096e-03, -1.4004720e-03,\n",
       "       -3.4013328e-03,  1.2197440e-04, -1.6650916e-03,  3.9241218e-05,\n",
       "        2.6578030e-03,  1.6771357e-03, -2.3593577e-03, -2.0510412e-03],\n",
       "      dtype=float32)"
      ]
     },
     "execution_count": 44,
     "metadata": {},
     "output_type": "execute_result"
    }
   ],
   "source": [
    "textD2V.docvecs[1952]"
   ]
  },
  {
   "cell_type": "markdown",
   "metadata": {},
   "source": [
    "The words can still be accessed in the same way:"
   ]
  },
  {
   "cell_type": "markdown",
   "metadata": {},
   "source": [
    "We can still use the ``most_similar`` command to perform simple semantic equations:"
   ]
  },
  {
   "cell_type": "code",
   "execution_count": 85,
   "metadata": {},
   "outputs": [
    {
     "data": {
      "text/plain": [
       "[('homosexual', 0.8946688771247864)]"
      ]
     },
     "execution_count": 85,
     "metadata": {},
     "output_type": "execute_result"
    }
   ],
   "source": [
    "textD2V.most_similar(positive = ['gay','republican'], negative = ['democrat'], topn = 1)"
   ]
  },
  {
   "cell_type": "code",
   "execution_count": 86,
   "metadata": {},
   "outputs": [
    {
     "data": {
      "text/plain": [
       "[('secretaries', 0.8992776274681091)]"
      ]
     },
     "execution_count": 86,
     "metadata": {},
     "output_type": "execute_result"
    }
   ],
   "source": [
    "textD2V.most_similar(positive = ['gay','democrat'], negative = ['republican'], topn = 1)"
   ]
  },
  {
   "cell_type": "code",
   "execution_count": 87,
   "metadata": {},
   "outputs": [
    {
     "data": {
      "text/plain": [
       "[('young', 0.7967769503593445)]"
      ]
     },
     "execution_count": 87,
     "metadata": {},
     "output_type": "execute_result"
    }
   ],
   "source": [
    "textD2V.most_similar(positive = ['gay','black'], negative = ['republican'], topn = 1)"
   ]
  },
  {
   "cell_type": "code",
   "execution_count": 88,
   "metadata": {},
   "outputs": [
    {
     "data": {
      "text/plain": [
       "[('young', 0.7764955163002014)]"
      ]
     },
     "execution_count": 88,
     "metadata": {},
     "output_type": "execute_result"
    }
   ],
   "source": [
    "textD2V.most_similar(positive = ['gay','white'], negative = ['republican'], topn = 1)"
   ]
  },
  {
   "cell_type": "code",
   "execution_count": 46,
   "metadata": {},
   "outputs": [
    {
     "data": {
      "text/plain": [
       "[('selves', 0.9456351399421692)]"
      ]
     },
     "execution_count": 46,
     "metadata": {},
     "output_type": "execute_result"
    }
   ],
   "source": [
    "textD2V.most_similar(positive = ['lesbian','gay'], negative = ['bisexual'], topn = 1)"
   ]
  },
  {
   "cell_type": "code",
   "execution_count": 47,
   "metadata": {},
   "outputs": [
    {
     "data": {
      "text/plain": [
       "[('chiiori', 0.935426652431488)]"
      ]
     },
     "execution_count": 47,
     "metadata": {},
     "output_type": "execute_result"
    }
   ],
   "source": [
    "textD2V.most_similar(positive = ['lesbian','queer'], negative = ['bisexual'], topn = 1)"
   ]
  },
  {
   "cell_type": "code",
   "execution_count": 52,
   "metadata": {},
   "outputs": [
    {
     "data": {
      "text/plain": [
       "[('religiously', 0.8509823083877563)]"
      ]
     },
     "execution_count": 52,
     "metadata": {},
     "output_type": "execute_result"
    }
   ],
   "source": [
    "textD2V.most_similar(positive = ['transgender','activist'], negative = ['gay'], topn = 1)"
   ]
  },
  {
   "cell_type": "code",
   "execution_count": 89,
   "metadata": {},
   "outputs": [
    {
     "data": {
      "text/plain": [
       "[('disagreed', 0.9055215120315552)]"
      ]
     },
     "execution_count": 89,
     "metadata": {},
     "output_type": "execute_result"
    }
   ],
   "source": [
    "textD2V.most_similar(positive = ['gay','activist'], negative = ['lesbian'], topn = 1)"
   ]
  },
  {
   "cell_type": "code",
   "execution_count": 90,
   "metadata": {},
   "outputs": [
    {
     "data": {
      "text/plain": [
       "[('ballet', 0.912246823310852)]"
      ]
     },
     "execution_count": 90,
     "metadata": {},
     "output_type": "execute_result"
    }
   ],
   "source": [
    "textD2V.most_similar(positive = ['lesbian','activist'], negative = ['gay'], topn = 1)"
   ]
  },
  {
   "cell_type": "code",
   "execution_count": 53,
   "metadata": {},
   "outputs": [
    {
     "data": {
      "text/plain": [
       "array([[0.8077253]], dtype=float32)"
      ]
     },
     "execution_count": 53,
     "metadata": {},
     "output_type": "execute_result"
    }
   ],
   "source": [
    "sklearn.metrics.pairwise.cosine_similarity(textD2V['lesbian'].reshape(1,-1), textD2V['gay'].reshape(1,-1))\n",
    "#We reorient the vectors with .reshape(1, -1) so that they can be computed without a warning in sklearn"
   ]
  },
  {
   "cell_type": "markdown",
   "metadata": {},
   "source": [
    "In the doc2vec model, the documents have vectors just as the words do, so that we can compare documents with each other and also with words (similar to how a search engine locates a webpage with a query). First, we will calculate the distance between a word and documents in the dataset:"
   ]
  },
  {
   "cell_type": "code",
   "execution_count": 55,
   "metadata": {},
   "outputs": [
    {
     "data": {
      "text/plain": [
       "[(17009, 0.8594299554824829),\n",
       " (17128, 0.8265509605407715),\n",
       " (14350, 0.8102418780326843),\n",
       " (5793, 0.790878176689148),\n",
       " (694, 0.784736156463623)]"
      ]
     },
     "execution_count": 55,
     "metadata": {},
     "output_type": "execute_result"
    }
   ],
   "source": [
    "textD2V.docvecs.most_similar([textD2V['gay'] ], topn=5 )"
   ]
  },
  {
   "cell_type": "markdown",
   "metadata": {},
   "source": [
    "If we search for the first of these on the web (these are doi codes), we find the following...a pretty good match:"
   ]
  },
  {
   "cell_type": "markdown",
   "metadata": {},
   "source": [
    "Now let's go the other way around and find words most similar to this document:"
   ]
  },
  {
   "cell_type": "code",
   "execution_count": 61,
   "metadata": {},
   "outputs": [
    {
     "data": {
      "text/plain": [
       "[('volunteer', 0.9517915844917297),\n",
       " ('instruct', 0.9211146831512451),\n",
       " ('feds', 0.9197677969932556),\n",
       " ('behalf', 0.9151511192321777),\n",
       " ('parishioners', 0.9130622148513794)]"
      ]
     },
     "execution_count": 61,
     "metadata": {},
     "output_type": "execute_result"
    }
   ],
   "source": [
    "textD2V.most_similar( [textD2V.docvecs[17009] ], topn=5) "
   ]
  },
  {
   "cell_type": "code",
   "execution_count": 62,
   "metadata": {},
   "outputs": [
    {
     "data": {
      "text/plain": [
       "[('outlawed', 0.8883382081985474),\n",
       " ('outnumber', 0.8874961137771606),\n",
       " ('harms', 0.8785619735717773),\n",
       " ('ordination', 0.8769969940185547),\n",
       " ('neglect', 0.8760952949523926)]"
      ]
     },
     "execution_count": 62,
     "metadata": {},
     "output_type": "execute_result"
    }
   ],
   "source": [
    "textD2V.most_similar( [textD2V.docvecs[17128] ], topn=5) "
   ]
  },
  {
   "cell_type": "code",
   "execution_count": 63,
   "metadata": {},
   "outputs": [
    {
     "data": {
      "text/plain": [
       "[('interestingly', 0.9391205310821533),\n",
       " ('championed', 0.9286332726478577),\n",
       " ('redford-1', 0.9282410144805908),\n",
       " ('hardest', 0.9201706647872925),\n",
       " ('assuming', 0.9198492765426636)]"
      ]
     },
     "execution_count": 63,
     "metadata": {},
     "output_type": "execute_result"
    }
   ],
   "source": [
    "textD2V.most_similar( [textD2V.docvecs[14350] ], topn=5) "
   ]
  },
  {
   "cell_type": "markdown",
   "metadata": {},
   "source": [
    "We can even look for documents most like a query composed of multiple words:"
   ]
  },
  {
   "cell_type": "code",
   "execution_count": 60,
   "metadata": {},
   "outputs": [
    {
     "data": {
      "text/plain": [
       "[(17009, 0.8558980226516724),\n",
       " (5793, 0.8502899408340454),\n",
       " (17128, 0.837268054485321),\n",
       " (694, 0.8214755058288574),\n",
       " (14350, 0.7843897342681885)]"
      ]
     },
     "execution_count": 60,
     "metadata": {},
     "output_type": "execute_result"
    }
   ],
   "source": [
    "textD2V.docvecs.most_similar([ textD2V['gay']+textD2V['lesbian']+textD2V['bisexual']], topn=5)"
   ]
  },
  {
   "cell_type": "code",
   "execution_count": 91,
   "metadata": {},
   "outputs": [
    {
     "data": {
      "text/plain": [
       "[('informants', 0.9678157567977905),\n",
       " ('phinney', 0.9674370884895325),\n",
       " ('positively', 0.9534955024719238),\n",
       " ('collinearity', 0.9528471231460571),\n",
       " ('descriptors', 0.9516963958740234)]"
      ]
     },
     "execution_count": 91,
     "metadata": {},
     "output_type": "execute_result"
    }
   ],
   "source": [
    "textD2V.most_similar( [textD2V.docvecs[5793] ], topn=5) "
   ]
  },
  {
   "cell_type": "markdown",
   "metadata": {},
   "source": [
    "Now let's plot some words and documents against one another with a heatmap:"
   ]
  },
  {
   "cell_type": "code",
   "execution_count": 64,
   "metadata": {},
   "outputs": [],
   "source": [
    "heatmapMatrix = []\n",
    "for tagOuter in keywords:\n",
    "    column = []\n",
    "    tagVec = textD2V.docvecs[tagOuter].reshape(1, -1)\n",
    "    for tagInner in keywords:\n",
    "        column.append(sklearn.metrics.pairwise.cosine_similarity(tagVec, textD2V.docvecs[tagInner].reshape(1, -1))[0][0])\n",
    "    heatmapMatrix.append(column)\n",
    "heatmapMatrix = np.array(heatmapMatrix)"
   ]
  },
  {
   "cell_type": "code",
   "execution_count": 65,
   "metadata": {
    "scrolled": true
   },
   "outputs": [
    {
     "data": {
      "image/png": "[encoded data removed]",
      "text/plain": [
       "<Figure size 432x288 with 2 Axes>"
      ]
     },
     "metadata": {
      "needs_background": "light"
     },
     "output_type": "display_data"
    }
   ],
   "source": [
    "fig, ax = plt.subplots()\n",
    "hmap = ax.pcolor(heatmapMatrix, cmap='terrain')\n",
    "cbar = plt.colorbar(hmap)\n",
    "\n",
    "cbar.set_label('cosine similarity', rotation=270)\n",
    "a = ax.set_xticks(np.arange(heatmapMatrix.shape[1]) + 0.5, minor=False)\n",
    "a = ax.set_yticks(np.arange(heatmapMatrix.shape[0]) + 0.5, minor=False)\n",
    "\n",
    "a = ax.set_xticklabels(keywords, minor=False, rotation=270)\n",
    "a = ax.set_yticklabels(keywords, minor=False)"
   ]
  },
  {
   "cell_type": "markdown",
   "metadata": {},
   "source": [
    "Now let's look at a heatmap of similarities between the first ten documents in the corpus:"
   ]
  },
  {
   "cell_type": "code",
   "execution_count": 67,
   "metadata": {},
   "outputs": [],
   "source": [
    "targetDocs = text_df['Unnamed: 0'][:10]\n",
    "\n",
    "heatmapMatrixD = []\n",
    "\n",
    "for tagOuter in targetDocs:\n",
    "    column = []\n",
    "    tagVec = textD2V.docvecs[tagOuter].reshape(1, -1)\n",
    "    for tagInner in targetDocs:\n",
    "        column.append(sklearn.metrics.pairwise.cosine_similarity(tagVec, textD2V.docvecs[tagInner].reshape(1, -1))[0][0])\n",
    "    heatmapMatrixD.append(column)\n",
    "heatmapMatrixD = np.array(heatmapMatrixD)"
   ]
  },
  {
   "cell_type": "code",
   "execution_count": 68,
   "metadata": {},
   "outputs": [
    {
     "data": {
      "image/png": "[encoded data removed]",
      "text/plain": [
       "<Figure size 432x288 with 2 Axes>"
      ]
     },
     "metadata": {
      "needs_background": "light"
     },
     "output_type": "display_data"
    }
   ],
   "source": [
    "fig, ax = plt.subplots()\n",
    "hmap = ax.pcolor(heatmapMatrixD, cmap='terrain')\n",
    "cbar = plt.colorbar(hmap)\n",
    "\n",
    "cbar.set_label('cosine similarity', rotation=270)\n",
    "a = ax.set_xticks(np.arange(heatmapMatrixD.shape[1]) + 0.5, minor=False)\n",
    "a = ax.set_yticks(np.arange(heatmapMatrixD.shape[0]) + 0.5, minor=False)\n",
    "\n",
    "a = ax.set_xticklabels(targetDocs, minor=False, rotation=270)\n",
    "a = ax.set_yticklabels(targetDocs, minor=False)"
   ]
  },
  {
   "cell_type": "markdown",
   "metadata": {},
   "source": [
    "Now let's look at a heatmap of similarities between the first ten documents and our keywords:"
   ]
  },
  {
   "cell_type": "code",
   "execution_count": 69,
   "metadata": {},
   "outputs": [],
   "source": [
    "heatmapMatrixC = []\n",
    "\n",
    "for tagOuter in targetDocs:\n",
    "    column = []\n",
    "    tagVec = textD2V.docvecs[tagOuter].reshape(1, -1)\n",
    "    for tagInner in keywords:\n",
    "        column.append(sklearn.metrics.pairwise.cosine_similarity(tagVec, textD2V.docvecs[tagInner].reshape(1, -1))[0][0])\n",
    "    heatmapMatrixC.append(column)\n",
    "heatmapMatrixC = np.array(heatmapMatrixC)"
   ]
  },
  {
   "cell_type": "code",
   "execution_count": 70,
   "metadata": {},
   "outputs": [
    {
     "data": {
      "image/png": "[encoded data removed]",
      "text/plain": [
       "<Figure size 432x288 with 2 Axes>"
      ]
     },
     "metadata": {
      "needs_background": "light"
     },
     "output_type": "display_data"
    }
   ],
   "source": [
    "fig, ax = plt.subplots()\n",
    "hmap = ax.pcolor(heatmapMatrixC, cmap='terrain')\n",
    "cbar = plt.colorbar(hmap)\n",
    "\n",
    "cbar.set_label('cosine similarity', rotation=270)\n",
    "a = ax.set_xticks(np.arange(heatmapMatrixC.shape[1]) + 0.5, minor=False)\n",
    "a = ax.set_yticks(np.arange(heatmapMatrixC.shape[0]) + 0.5, minor=False)\n",
    "\n",
    "a = ax.set_xticklabels(keywords, minor=False, rotation=270)\n",
    "a = ax.set_yticklabels(targetDocs, minor=False)"
   ]
  },
  {
   "cell_type": "markdown",
   "metadata": {},
   "source": [
    "We will save the model in case we would like to use it again."
   ]
  },
  {
   "cell_type": "code",
   "execution_count": 71,
   "metadata": {},
   "outputs": [],
   "source": [
    "textD2V.save('textW2V')"
   ]
  },
  {
   "cell_type": "markdown",
   "metadata": {},
   "source": [
    "We can later load it:"
   ]
  },
  {
   "cell_type": "code",
   "execution_count": 46,
   "metadata": {},
   "outputs": [],
   "source": [
    "#apsD2V = gensim.models.word2vec.Word2Vec.load('data/apsW2V')"
   ]
  },
  {
   "cell_type": "markdown",
   "metadata": {},
   "source": [
    "Construct cells immediately below this that embed documents related to your final project using at least two different specification of word2vec, and visualize them each with two separate visualization layout specifications (e.g., TSNE, PCA). Then interrogate critical word vectors within your corpus in terms of the most similar words, analogies, and other additions and subtractions that reveal the structure of similarity and difference within your semantic space. What does this pattern reveal about the semantic organization of words in your corpora? Which estimation and visualization specification generate the most insight and appear the most robustly supported and why?\n",
    "\n",
    "Stretch: Explore different vector calculations beyond addition and subtraction, such as multiplication, division or some other function. What does this exploration reveal about the semantic structure of your corpus? "
   ]
  },
  {
   "cell_type": "markdown",
   "metadata": {},
   "source": [
    "\n",
    "\n",
    "Intersetingly the Doc2Vec model reveals that sexuality or queerness of transgender folks are topics are not discussed in the same dcouments in my corpus. \"Lesbian\" shows up in documents centering around \"gay\" and \"lesbian\", as does \"gay,\" but \"transgender,\" does not appear in documents about queerness, gay, lesbian or bisexual topics/words.\n"
   ]
  },
  {
   "cell_type": "markdown",
   "metadata": {},
   "source": [
    "## <span style=\"color:red\">*Exercise 2 Write-Up*</span>\n",
    "\n",
    "<span style=\"color:red\">Construct cells immediately below this that embed documents related to your final project using `doc2vec`, and explore the relationship between different documents and the word vectors you analyzed in the last exercise. Consider the most similar words to critical documents, analogies (doc _x_ + word _y_), and other additions and subtractions that reveal the structure of similarity and difference within your semantic space. What does this pattern reveal about the documentary organization of your semantic space?"
   ]
  },
  {
   "cell_type": "markdown",
   "metadata": {},
   "source": [
    "The Word to document heatmaps reveal some interesting patterns. The words \"lesbian,\" \"gay\", and \"bisexual\" don't show up in the same documents as \"transgender.\" This reveals that the sexuality of transgender folks is not discussed in the same dcouments in my corpus. \"Lesbian\" shows up in documents centering around \"gay\" and \"lesbian\", as does \"gay,\" but \"transgender,\" does not appear in documents about queerness, gay, lesbian or bisexual topics/words.\n",
    "\n",
    "I also added feminist to the keywords here to see if documents mentioning feminism also mentioned lgbt issues. The correlation between feminism and any of the words is close to zero, revealing that people generally haven't written about the issues together.\n",
    "\n",
    "The semantic additiona and subtractions reveal something intersting about the word \"transgender\" - when adding transgender and activist and substracting gay, we get religioulsy. This probably refers to \"activism\" against the transgender community.\n",
    "\n",
    "All of this reveals the gay, lesiban and bisexual are most often found together, while transgender and queer appear in different types of documents and discuss different topics."
   ]
  },
  {
   "cell_type": "markdown",
   "metadata": {},
   "source": [
    "## <span style=\"color:red\">*Exercise 3*</span>\n"
   ]
  },
  {
   "cell_type": "markdown",
   "metadata": {},
   "source": [
    "# Projection"
   ]
  },
  {
   "cell_type": "markdown",
   "metadata": {},
   "source": [
    "We can also project word vectors to an arbitray semantic dimension. To demonstrate this possibility, let's first load a model trained with New York Times news articles. "
   ]
  },
  {
   "cell_type": "code",
   "execution_count": 47,
   "metadata": {},
   "outputs": [],
   "source": [
    "nytimes_model = gensim.models.KeyedVectors.load_word2vec_format('../data/nytimes_cbow.reduced.txt')"
   ]
  },
  {
   "cell_type": "markdown",
   "metadata": {},
   "source": [
    "First we can visualize with dimension reduction"
   ]
  },
  {
   "cell_type": "code",
   "execution_count": 99,
   "metadata": {},
   "outputs": [
    {
     "ename": "NameError",
     "evalue": "name 'nytimes_model' is not defined",
     "output_type": "error",
     "traceback": [
      "\u001b[0;31m---------------------------------------------------------------------------\u001b[0m",
      "\u001b[0;31mNameError\u001b[0m                                 Traceback (most recent call last)",
      "\u001b[0;32m<ipython-input-99-1db77db86b16>\u001b[0m in \u001b[0;36m<module>\u001b[0;34m\u001b[0m\n\u001b[1;32m      7\u001b[0m \u001b[0mwordsSubMatrix\u001b[0m \u001b[0;34m=\u001b[0m \u001b[0;34m[\u001b[0m\u001b[0;34m]\u001b[0m\u001b[0;34m\u001b[0m\u001b[0;34m\u001b[0m\u001b[0m\n\u001b[1;32m      8\u001b[0m \u001b[0;32mfor\u001b[0m \u001b[0mword\u001b[0m \u001b[0;32min\u001b[0m \u001b[0mtnytTargetWords\u001b[0m\u001b[0;34m:\u001b[0m\u001b[0;34m\u001b[0m\u001b[0;34m\u001b[0m\u001b[0m\n\u001b[0;32m----> 9\u001b[0;31m     \u001b[0mwordsSubMatrix\u001b[0m\u001b[0;34m.\u001b[0m\u001b[0mappend\u001b[0m\u001b[0;34m(\u001b[0m\u001b[0mnytimes_model\u001b[0m\u001b[0;34m[\u001b[0m\u001b[0mword\u001b[0m\u001b[0;34m]\u001b[0m\u001b[0;34m)\u001b[0m\u001b[0;34m\u001b[0m\u001b[0;34m\u001b[0m\u001b[0m\n\u001b[0m\u001b[1;32m     10\u001b[0m \u001b[0mwordsSubMatrix\u001b[0m \u001b[0;34m=\u001b[0m \u001b[0mnp\u001b[0m\u001b[0;34m.\u001b[0m\u001b[0marray\u001b[0m\u001b[0;34m(\u001b[0m\u001b[0mwordsSubMatrix\u001b[0m\u001b[0;34m)\u001b[0m\u001b[0;34m\u001b[0m\u001b[0;34m\u001b[0m\u001b[0m\n\u001b[1;32m     11\u001b[0m \u001b[0;31m#wordsSubMatrix\u001b[0m\u001b[0;34m\u001b[0m\u001b[0;34m\u001b[0m\u001b[0;34m\u001b[0m\u001b[0m\n",
      "\u001b[0;31mNameError\u001b[0m: name 'nytimes_model' is not defined"
     ]
    }
   ],
   "source": [
    "#words to create dimensions\n",
    "tnytTargetWords = ['man','him','he', 'woman', 'her', 'she', 'black','blacks', 'white', 'whites', 'Caucasian', 'rich', 'richer', 'richest', 'expensive', 'wealthy', 'poor', 'poorer', 'poorest', 'cheap', 'inexpensive']\n",
    "#words we will be mapping\n",
    "tnytTargetWords += [\"doctor\",\"lawyer\",\"plumber\",\"scientist\",\"hairdresser\", \"nanny\",\"carpenter\",\"entrepreneur\",\"musician\",\"writer\", \"banker\",\"poet\",\"nurse\", \"steak\", \"bacon\", \"croissant\", \"cheesecake\", \"salad\", \"cheeseburger\", \"vegetables\", \"beer\", \"wine\", \"pastry\", \"basketball\", \"baseball\", \"boxing\", \"softball\", \"volleyball\", \"tennis\", \"golf\", \"hockey\", \"soccer\"]\n",
    "\n",
    "\n",
    "wordsSubMatrix = []\n",
    "for word in tnytTargetWords:\n",
    "    wordsSubMatrix.append(nytimes_model[word])\n",
    "wordsSubMatrix = np.array(wordsSubMatrix)\n",
    "#wordsSubMatrix"
   ]
  },
  {
   "cell_type": "code",
   "execution_count": 104,
   "metadata": {},
   "outputs": [],
   "source": [
    "#words to create dimensions\n",
    "textTargetWords = ['man', 'woman', 'black','blacks', 'white', 'whites', 'rich', 'richer', 'richest', 'expensive', 'wealthy', 'poor', 'poorer', 'poorest', 'cheap', 'inexpensive']\n",
    "#words we will be mapping\n",
    "textTargetWords += [\"lesbian\",\"gay\",\"bisexual\",\"transgender\",\"queer\", \"intersex\",\"asexual\",\"drag\",\"activist\",\"writer\", \"poet\", \"nurse\", \"vegetables\", \"beer\", \"wine\", \"basketball\", \"baseball\", \"boxing\", \"softball\", \"golf\", \"hockey\", \"soccer\"]\n",
    "\n",
    "\n",
    "wordsSubMatrix = []\n",
    "for word in textTargetWords:\n",
    "    wordsSubMatrix.append(cocaW2V[word])\n",
    "wordsSubMatrix = np.array(wordsSubMatrix)\n",
    "#wordsSubMatrix"
   ]
  },
  {
   "cell_type": "code",
   "execution_count": 106,
   "metadata": {},
   "outputs": [
    {
     "data": {
      "text/plain": [
       "array([[ 1.1589582 , -0.66129196,  0.31741697, ...,  0.37201715,\n",
       "        -0.26748875, -0.7164476 ],\n",
       "       [ 0.642033  , -0.24623753, -0.3327818 , ..., -0.00796669,\n",
       "        -0.5214906 , -1.1206226 ],\n",
       "       [-2.0125709 , -0.67979085, -0.43761882, ...,  0.6638619 ,\n",
       "        -0.8116625 , -0.00658207],\n",
       "       ...,\n",
       "       [-0.33462355, -0.47135565,  0.2361258 , ...,  0.13755065,\n",
       "         0.41749057, -0.46328342],\n",
       "       [-0.42703953, -0.44906572,  0.12917715, ...,  0.06396747,\n",
       "         0.38815102, -0.12451497],\n",
       "       [-0.11517884, -0.3206765 ,  0.1513745 , ..., -0.19266957,\n",
       "         0.71677405, -0.32603237]], dtype=float32)"
      ]
     },
     "execution_count": 106,
     "metadata": {},
     "output_type": "execute_result"
    }
   ],
   "source": [
    "wordsSubMatrix"
   ]
  },
  {
   "cell_type": "code",
   "execution_count": 49,
   "metadata": {},
   "outputs": [],
   "source": [
    "pcaWordsNYT = sklearn.decomposition.PCA(n_components = 50).fit(wordsSubMatrix)\n",
    "reducedPCA_dataNYT = pcaWordsNYT.transform(wordsSubMatrix)\n",
    "#T-SNE is theoretically better, but you should experiment\n",
    "tsneWordsNYT = sklearn.manifold.TSNE(n_components = 2).fit_transform(reducedPCA_dataNYT)"
   ]
  },
  {
   "cell_type": "code",
   "execution_count": 105,
   "metadata": {},
   "outputs": [
    {
     "ename": "ValueError",
     "evalue": "n_components=50 must be between 0 and min(n_samples, n_features)=38 with svd_solver='full'",
     "output_type": "error",
     "traceback": [
      "\u001b[0;31m---------------------------------------------------------------------------\u001b[0m",
      "\u001b[0;31mValueError\u001b[0m                                Traceback (most recent call last)",
      "\u001b[0;32m<ipython-input-105-26f455fc9ce9>\u001b[0m in \u001b[0;36m<module>\u001b[0;34m\u001b[0m\n\u001b[0;32m----> 1\u001b[0;31m \u001b[0mpcaWordsCoca\u001b[0m \u001b[0;34m=\u001b[0m \u001b[0msklearn\u001b[0m\u001b[0;34m.\u001b[0m\u001b[0mdecomposition\u001b[0m\u001b[0;34m.\u001b[0m\u001b[0mPCA\u001b[0m\u001b[0;34m(\u001b[0m\u001b[0mn_components\u001b[0m \u001b[0;34m=\u001b[0m \u001b[0;36m50\u001b[0m\u001b[0;34m)\u001b[0m\u001b[0;34m.\u001b[0m\u001b[0mfit\u001b[0m\u001b[0;34m(\u001b[0m\u001b[0mwordsSubMatrix\u001b[0m\u001b[0;34m)\u001b[0m\u001b[0;34m\u001b[0m\u001b[0;34m\u001b[0m\u001b[0m\n\u001b[0m\u001b[1;32m      2\u001b[0m \u001b[0mreducedPCA_dataCoca\u001b[0m \u001b[0;34m=\u001b[0m \u001b[0mpcaWordsCoca\u001b[0m\u001b[0;34m.\u001b[0m\u001b[0mtransform\u001b[0m\u001b[0;34m(\u001b[0m\u001b[0mwordsSubMatrix\u001b[0m\u001b[0;34m)\u001b[0m\u001b[0;34m\u001b[0m\u001b[0;34m\u001b[0m\u001b[0m\n\u001b[1;32m      3\u001b[0m \u001b[0;31m#T-SNE is theoretically better, but you should experiment\u001b[0m\u001b[0;34m\u001b[0m\u001b[0;34m\u001b[0m\u001b[0;34m\u001b[0m\u001b[0m\n\u001b[1;32m      4\u001b[0m \u001b[0mtsneWordsCoca\u001b[0m \u001b[0;34m=\u001b[0m \u001b[0msklearn\u001b[0m\u001b[0;34m.\u001b[0m\u001b[0mmanifold\u001b[0m\u001b[0;34m.\u001b[0m\u001b[0mTSNE\u001b[0m\u001b[0;34m(\u001b[0m\u001b[0mn_components\u001b[0m \u001b[0;34m=\u001b[0m \u001b[0;36m2\u001b[0m\u001b[0;34m)\u001b[0m\u001b[0;34m.\u001b[0m\u001b[0mfit_transform\u001b[0m\u001b[0;34m(\u001b[0m\u001b[0mreducedPCA_dataCoca\u001b[0m\u001b[0;34m)\u001b[0m\u001b[0;34m\u001b[0m\u001b[0;34m\u001b[0m\u001b[0m\n",
      "\u001b[0;32m/opt/anaconda3/lib/python3.7/site-packages/sklearn/decomposition/pca.py\u001b[0m in \u001b[0;36mfit\u001b[0;34m(self, X, y)\u001b[0m\n\u001b[1;32m    339\u001b[0m             \u001b[0mReturns\u001b[0m \u001b[0mthe\u001b[0m \u001b[0minstance\u001b[0m \u001b[0mitself\u001b[0m\u001b[0;34m.\u001b[0m\u001b[0;34m\u001b[0m\u001b[0;34m\u001b[0m\u001b[0m\n\u001b[1;32m    340\u001b[0m         \"\"\"\n\u001b[0;32m--> 341\u001b[0;31m         \u001b[0mself\u001b[0m\u001b[0;34m.\u001b[0m\u001b[0m_fit\u001b[0m\u001b[0;34m(\u001b[0m\u001b[0mX\u001b[0m\u001b[0;34m)\u001b[0m\u001b[0;34m\u001b[0m\u001b[0;34m\u001b[0m\u001b[0m\n\u001b[0m\u001b[1;32m    342\u001b[0m         \u001b[0;32mreturn\u001b[0m \u001b[0mself\u001b[0m\u001b[0;34m\u001b[0m\u001b[0;34m\u001b[0m\u001b[0m\n\u001b[1;32m    343\u001b[0m \u001b[0;34m\u001b[0m\u001b[0m\n",
      "\u001b[0;32m/opt/anaconda3/lib/python3.7/site-packages/sklearn/decomposition/pca.py\u001b[0m in \u001b[0;36m_fit\u001b[0;34m(self, X)\u001b[0m\n\u001b[1;32m    405\u001b[0m         \u001b[0;31m# Call different fits for either full or truncated SVD\u001b[0m\u001b[0;34m\u001b[0m\u001b[0;34m\u001b[0m\u001b[0;34m\u001b[0m\u001b[0m\n\u001b[1;32m    406\u001b[0m         \u001b[0;32mif\u001b[0m \u001b[0mself\u001b[0m\u001b[0;34m.\u001b[0m\u001b[0m_fit_svd_solver\u001b[0m \u001b[0;34m==\u001b[0m \u001b[0;34m'full'\u001b[0m\u001b[0;34m:\u001b[0m\u001b[0;34m\u001b[0m\u001b[0;34m\u001b[0m\u001b[0m\n\u001b[0;32m--> 407\u001b[0;31m             \u001b[0;32mreturn\u001b[0m \u001b[0mself\u001b[0m\u001b[0;34m.\u001b[0m\u001b[0m_fit_full\u001b[0m\u001b[0;34m(\u001b[0m\u001b[0mX\u001b[0m\u001b[0;34m,\u001b[0m \u001b[0mn_components\u001b[0m\u001b[0;34m)\u001b[0m\u001b[0;34m\u001b[0m\u001b[0;34m\u001b[0m\u001b[0m\n\u001b[0m\u001b[1;32m    408\u001b[0m         \u001b[0;32melif\u001b[0m \u001b[0mself\u001b[0m\u001b[0;34m.\u001b[0m\u001b[0m_fit_svd_solver\u001b[0m \u001b[0;32min\u001b[0m \u001b[0;34m[\u001b[0m\u001b[0;34m'arpack'\u001b[0m\u001b[0;34m,\u001b[0m \u001b[0;34m'randomized'\u001b[0m\u001b[0;34m]\u001b[0m\u001b[0;34m:\u001b[0m\u001b[0;34m\u001b[0m\u001b[0;34m\u001b[0m\u001b[0m\n\u001b[1;32m    409\u001b[0m             \u001b[0;32mreturn\u001b[0m \u001b[0mself\u001b[0m\u001b[0;34m.\u001b[0m\u001b[0m_fit_truncated\u001b[0m\u001b[0;34m(\u001b[0m\u001b[0mX\u001b[0m\u001b[0;34m,\u001b[0m \u001b[0mn_components\u001b[0m\u001b[0;34m,\u001b[0m \u001b[0mself\u001b[0m\u001b[0;34m.\u001b[0m\u001b[0m_fit_svd_solver\u001b[0m\u001b[0;34m)\u001b[0m\u001b[0;34m\u001b[0m\u001b[0;34m\u001b[0m\u001b[0m\n",
      "\u001b[0;32m/opt/anaconda3/lib/python3.7/site-packages/sklearn/decomposition/pca.py\u001b[0m in \u001b[0;36m_fit_full\u001b[0;34m(self, X, n_components)\u001b[0m\n\u001b[1;32m    424\u001b[0m                              \u001b[0;34m\"min(n_samples, n_features)=%r with \"\u001b[0m\u001b[0;34m\u001b[0m\u001b[0;34m\u001b[0m\u001b[0m\n\u001b[1;32m    425\u001b[0m                              \u001b[0;34m\"svd_solver='full'\"\u001b[0m\u001b[0;34m\u001b[0m\u001b[0;34m\u001b[0m\u001b[0m\n\u001b[0;32m--> 426\u001b[0;31m                              % (n_components, min(n_samples, n_features)))\n\u001b[0m\u001b[1;32m    427\u001b[0m         \u001b[0;32melif\u001b[0m \u001b[0mn_components\u001b[0m \u001b[0;34m>=\u001b[0m \u001b[0;36m1\u001b[0m\u001b[0;34m:\u001b[0m\u001b[0;34m\u001b[0m\u001b[0;34m\u001b[0m\u001b[0m\n\u001b[1;32m    428\u001b[0m             \u001b[0;32mif\u001b[0m \u001b[0;32mnot\u001b[0m \u001b[0misinstance\u001b[0m\u001b[0;34m(\u001b[0m\u001b[0mn_components\u001b[0m\u001b[0;34m,\u001b[0m \u001b[0;34m(\u001b[0m\u001b[0mnumbers\u001b[0m\u001b[0;34m.\u001b[0m\u001b[0mIntegral\u001b[0m\u001b[0;34m,\u001b[0m \u001b[0mnp\u001b[0m\u001b[0;34m.\u001b[0m\u001b[0minteger\u001b[0m\u001b[0;34m)\u001b[0m\u001b[0;34m)\u001b[0m\u001b[0;34m:\u001b[0m\u001b[0;34m\u001b[0m\u001b[0;34m\u001b[0m\u001b[0m\n",
      "\u001b[0;31mValueError\u001b[0m: n_components=50 must be between 0 and min(n_samples, n_features)=38 with svd_solver='full'"
     ]
    }
   ],
   "source": [
    "pcaWordsCoca = sklearn.decomposition.PCA(n_components = 50).fit(wordsSubMatrix)\n",
    "reducedPCA_dataCoca = pcaWordsCoca.transform(wordsSubMatrix)\n",
    "#T-SNE is theoretically better, but you should experiment\n",
    "tsneWordsCoca = sklearn.manifold.TSNE(n_components = 2).fit_transform(reducedPCA_dataCoca)"
   ]
  },
  {
   "cell_type": "code",
   "execution_count": 50,
   "metadata": {},
   "outputs": [
    {
     "data": {
      "image/png": "[encoded data removed]",
      "text/plain": [
       "<Figure size 1440x864 with 1 Axes>"
      ]
     },
     "metadata": {},
     "output_type": "display_data"
    }
   ],
   "source": [
    "fig = plt.figure(figsize = (20,12))\n",
    "ax = fig.add_subplot(111)\n",
    "ax.set_frame_on(False)\n",
    "plt.scatter(tsneWordsNYT[:, 0], tsneWordsNYT[:, 1], alpha = 0) #Making the points invisible\n",
    "for i, word in enumerate(tnytTargetWords):\n",
    "    ax.annotate(word, (tsneWordsNYT[:, 0][i],tsneWordsNYT[:, 1][i]), size =  50 * (len(tnytTargetWords) - i) / len(tnytTargetWords))\n",
    "plt.xticks(())\n",
    "plt.yticks(())\n",
    "plt.show()"
   ]
  },
  {
   "cell_type": "markdown",
   "metadata": {},
   "source": [
    "Define some convenient functions for getting dimensions. "
   ]
  },
  {
   "cell_type": "code",
   "execution_count": 51,
   "metadata": {},
   "outputs": [],
   "source": [
    "def normalize(vector):\n",
    "    normalized_vector = vector / np.linalg.norm(vector)\n",
    "    return normalized_vector\n",
    "\n",
    "def dimension(model, positives, negatives):\n",
    "    diff = sum([normalize(model[x]) for x in positives]) - sum([normalize(model[y]) for y in negatives])\n",
    "    return diff"
   ]
  },
  {
   "cell_type": "markdown",
   "metadata": {},
   "source": [
    "Let's calculate three dimensions: gender, race, and class."
   ]
  },
  {
   "cell_type": "code",
   "execution_count": 52,
   "metadata": {},
   "outputs": [],
   "source": [
    "Gender = dimension(nytimes_model, ['man','him','he'], ['woman', 'her', 'she'])\n",
    "Race = dimension(nytimes_model, ['black','blacks','African'], ['white', 'whites', 'Caucasian'])\n",
    "Class = dimension(nytimes_model, ['rich', 'richer', 'richest', 'expensive', 'wealthy'], ['poor', 'poorer', 'poorest', 'cheap', 'inexpensive'])"
   ]
  },
  {
   "cell_type": "markdown",
   "metadata": {},
   "source": [
    "Here we have some words."
   ]
  },
  {
   "cell_type": "code",
   "execution_count": 53,
   "metadata": {},
   "outputs": [],
   "source": [
    "Occupations = [\"doctor\",\"lawyer\",\"plumber\",\"scientist\",\"hairdresser\", \"nanny\",\"carpenter\",\"entrepreneur\",\"musician\",\"writer\", \"banker\",\"poet\",\"nurse\"]\n",
    "\n",
    "Foods = [\"steak\", \"bacon\", \"croissant\", \"cheesecake\", \"salad\", \"cheeseburger\", \"vegetables\", \"beer\", \"wine\", \"pastry\"]\n",
    "\n",
    "Sports  = [\"basketball\", \"baseball\", \"boxing\", \"softball\", \"volleyball\", \"tennis\", \"golf\", \"hockey\", \"soccer\"]"
   ]
  },
  {
   "cell_type": "markdown",
   "metadata": {},
   "source": [
    "Define a function to project words in a word list to each of the three dimensions."
   ]
  },
  {
   "cell_type": "code",
   "execution_count": 54,
   "metadata": {},
   "outputs": [],
   "source": [
    "def makeDF(model, word_list):\n",
    "    g = []\n",
    "    r = []\n",
    "    c = []\n",
    "    for word in word_list:\n",
    "        g.append(sklearn.metrics.pairwise.cosine_similarity(nytimes_model[word].reshape(1,-1), Gender.reshape(1,-1))[0][0])\n",
    "        r.append(sklearn.metrics.pairwise.cosine_similarity(nytimes_model[word].reshape(1,-1), Race.reshape(1,-1))[0][0])\n",
    "        c.append(sklearn.metrics.pairwise.cosine_similarity(nytimes_model[word].reshape(1,-1), Class.reshape(1,-1))[0][0])\n",
    "    df = pandas.DataFrame({'gender': g, 'race': r, 'class': c}, index = word_list)\n",
    "    return df"
   ]
  },
  {
   "cell_type": "markdown",
   "metadata": {},
   "source": [
    "Get the projections."
   ]
  },
  {
   "cell_type": "code",
   "execution_count": 55,
   "metadata": {},
   "outputs": [],
   "source": [
    "OCCdf = makeDF(nytimes_model, Occupations) \n",
    "Fooddf = makeDF(nytimes_model, Foods)\n",
    "Sportsdf = makeDF(nytimes_model, Sports)"
   ]
  },
  {
   "cell_type": "markdown",
   "metadata": {},
   "source": [
    "Define some useful functions for plotting."
   ]
  },
  {
   "cell_type": "code",
   "execution_count": 56,
   "metadata": {},
   "outputs": [],
   "source": [
    "def Coloring(Series):\n",
    "    x = Series.values\n",
    "    y = x-x.min()\n",
    "    z = y/y.max()\n",
    "    c = list(plt.cm.rainbow(z))\n",
    "    return c\n",
    "\n",
    "def PlotDimension(ax,df, dim):\n",
    "    ax.set_frame_on(False)\n",
    "    ax.set_title(dim, fontsize = 20)\n",
    "    colors = Coloring(df[dim])\n",
    "    for i, word in enumerate(df.index):\n",
    "        ax.annotate(word, (0, df[dim][i]), color = colors[i], alpha = 0.6, fontsize = 12)\n",
    "    MaxY = df[dim].max()\n",
    "    MinY = df[dim].min()\n",
    "    plt.ylim(MinY,MaxY)\n",
    "    plt.yticks(())\n",
    "    plt.xticks(())"
   ]
  },
  {
   "cell_type": "markdown",
   "metadata": {},
   "source": [
    "Plot the occupational words in each of the three dimensions."
   ]
  },
  {
   "cell_type": "code",
   "execution_count": 57,
   "metadata": {
    "scrolled": true
   },
   "outputs": [
    {
     "data": {
      "image/png": "[encoded data removed]",
      "text/plain": [
       "<Figure size 864x288 with 3 Axes>"
      ]
     },
     "metadata": {},
     "output_type": "display_data"
    }
   ],
   "source": [
    "fig = plt.figure(figsize = (12,4))\n",
    "ax1 = fig.add_subplot(131)\n",
    "PlotDimension(ax1, OCCdf, 'gender')\n",
    "ax2 = fig.add_subplot(132)\n",
    "PlotDimension(ax2, OCCdf, 'race')\n",
    "ax3 = fig.add_subplot(133)\n",
    "PlotDimension(ax3, OCCdf, 'class')\n",
    "plt.show()"
   ]
  },
  {
   "cell_type": "markdown",
   "metadata": {},
   "source": [
    "Foods:"
   ]
  },
  {
   "cell_type": "code",
   "execution_count": 58,
   "metadata": {},
   "outputs": [
    {
     "data": {
      "image/png": "[encoded data removed]",
      "text/plain": [
       "<Figure size 864x288 with 3 Axes>"
      ]
     },
     "metadata": {},
     "output_type": "display_data"
    }
   ],
   "source": [
    "fig = plt.figure(figsize = (12,4))\n",
    "ax1 = fig.add_subplot(131)\n",
    "PlotDimension(ax1, Fooddf, 'gender')\n",
    "ax2 = fig.add_subplot(132)\n",
    "PlotDimension(ax2, Fooddf, 'race')\n",
    "ax3 = fig.add_subplot(133)\n",
    "PlotDimension(ax3, Fooddf, 'class')\n",
    "plt.show()"
   ]
  },
  {
   "cell_type": "markdown",
   "metadata": {},
   "source": [
    "Sports:"
   ]
  },
  {
   "cell_type": "code",
   "execution_count": 59,
   "metadata": {},
   "outputs": [
    {
     "data": {
      "image/png": "[encoded data removed]",
      "text/plain": [
       "<Figure size 864x288 with 3 Axes>"
      ]
     },
     "metadata": {},
     "output_type": "display_data"
    }
   ],
   "source": [
    "fig = plt.figure(figsize = (12,4))\n",
    "ax1 = fig.add_subplot(131)\n",
    "PlotDimension(ax1, Sportsdf, 'gender')\n",
    "ax2 = fig.add_subplot(132)\n",
    "PlotDimension(ax2, Sportsdf, 'race')\n",
    "ax3 = fig.add_subplot(133)\n",
    "PlotDimension(ax3, Sportsdf, 'class')\n",
    "plt.show()"
   ]
  },
  {
   "cell_type": "markdown",
   "metadata": {},
   "source": [
    "## <span style=\"color:red\">*Exercise 3*</span>\n",
    "\n",
    "<span style=\"color:red\">Construct cells immediately below this that embed documents related to your final project, then generate meaningful semantic dimensions based on your theoretical understanding of the semantic space (i.e., by subtracting semantically opposite word vectors) and project another set of word vectors onto those dimensions. Interpret the meaning of these projections for your analysis. Which of the dimensions you analyze explain the most variation in the projection of your words and why? \n",
    "\n",
    "<span style=\"color:red\">***Stretch***: Average together multiple antonym pairs to create robust semantic dimensions. How do word projections on these robust dimensions differ from single-pair dimensions?"
   ]
  },
  {
   "cell_type": "markdown",
   "metadata": {},
   "source": [
    "# The Score Function\n",
    "\n",
    "The score function is a simple calculation developed by [Matt Taddy](https://arxiv.org/pdf/1504.07295.pdf) to calculate the likelihood that a given text would have been generated by a word-embedding model by summing the inner product between each pair of the text's word vectors. This relies on a few data files that are not in the git repo due to their size please download and unzip [this](https://github.com/Computational-Content-Analysis-2018/Upcoming/raw/master/data/supplement.zip) (472MB) file in the data directory.\n",
    "\n",
    "Here, we explore this using a model trained with millions of resumes from the CareerBuilder website (we can't share the private resumes...but we can share a model built with them :-):"
   ]
  },
  {
   "cell_type": "code",
   "execution_count": 60,
   "metadata": {},
   "outputs": [],
   "source": [
    "resume_model  = gensim.models.word2vec.Word2Vec.load('../data/resumeAll.model')"
   ]
  },
  {
   "cell_type": "markdown",
   "metadata": {},
   "source": [
    "We can examine the vacabularies of this model by building a word-index map:"
   ]
  },
  {
   "cell_type": "code",
   "execution_count": 61,
   "metadata": {},
   "outputs": [],
   "source": [
    "vocab = resume_model.wv.index2word"
   ]
  },
  {
   "cell_type": "markdown",
   "metadata": {},
   "source": [
    "Let's just load the sample and take a look at it. The sentences in each job description are already tokenized and normalized."
   ]
  },
  {
   "cell_type": "code",
   "execution_count": 62,
   "metadata": {},
   "outputs": [
    {
     "data": {
      "text/html": [
       "<div>\n",
       "<style scoped>\n",
       "    .dataframe tbody tr th:only-of-type {\n",
       "        vertical-align: middle;\n",
       "    }\n",
       "\n",
       "    .dataframe tbody tr th {\n",
       "        vertical-align: top;\n",
       "    }\n",
       "\n",
       "    .dataframe thead th {\n",
       "        text-align: right;\n",
       "    }\n",
       "</style>\n",
       "<table border=\"1\" class=\"dataframe\">\n",
       "  <thead>\n",
       "    <tr style=\"text-align: right;\">\n",
       "      <th></th>\n",
       "      <th>Unnamed: 0</th>\n",
       "      <th>hiringOrganization_organizationName</th>\n",
       "      <th>jobDescription</th>\n",
       "      <th>jobLocation_address_region</th>\n",
       "      <th>jobLocation_geo_latitude</th>\n",
       "      <th>jobLocation_geo_longitude</th>\n",
       "      <th>qualifications</th>\n",
       "      <th>responsibilities</th>\n",
       "      <th>tokenized_sents</th>\n",
       "      <th>normalized_sents</th>\n",
       "    </tr>\n",
       "  </thead>\n",
       "  <tbody>\n",
       "    <tr>\n",
       "      <th>0</th>\n",
       "      <td>158844</td>\n",
       "      <td>Golfsmith International, Inc.</td>\n",
       "      <td>\"Sales Associate Tracking Code 220425-971 Job ...</td>\n",
       "      <td>California</td>\n",
       "      <td>33.91918</td>\n",
       "      <td>-118.41647</td>\n",
       "      <td>NaN</td>\n",
       "      <td>\"Ensure each Customer receives exceptional ser...</td>\n",
       "      <td>[[``, Sales, Associate, Tracking, Code, 220425...</td>\n",
       "      <td>[[sales, associate, tracking, code, job, descr...</td>\n",
       "    </tr>\n",
       "    <tr>\n",
       "      <th>1</th>\n",
       "      <td>257645</td>\n",
       "      <td>Intel</td>\n",
       "      <td>For PHY system engineering team within the Wir...</td>\n",
       "      <td>NaN</td>\n",
       "      <td>NaN</td>\n",
       "      <td>NaN</td>\n",
       "      <td>NaN</td>\n",
       "      <td>NaN</td>\n",
       "      <td>[[For, PHY, system, engineering, team, within,...</td>\n",
       "      <td>[[for, phy, system, engineering, team, within,...</td>\n",
       "    </tr>\n",
       "    <tr>\n",
       "      <th>2</th>\n",
       "      <td>107875</td>\n",
       "      <td>Florida Hospital</td>\n",
       "      <td>*RN Medical Oncology PCU Orlando - Nights* Flo...</td>\n",
       "      <td>Florida</td>\n",
       "      <td>28.53834</td>\n",
       "      <td>-81.37924</td>\n",
       "      <td>NaN</td>\n",
       "      <td>NaN</td>\n",
       "      <td>[[*RN, Medical, Oncology, PCU, Orlando, -, Nig...</td>\n",
       "      <td>[[medical, oncology, pcu, orlando, florida, ho...</td>\n",
       "    </tr>\n",
       "    <tr>\n",
       "      <th>3</th>\n",
       "      <td>202394</td>\n",
       "      <td>Hitachi Data Systems</td>\n",
       "      <td>Title: Specialist Sales Account Representative...</td>\n",
       "      <td>NaN</td>\n",
       "      <td>NaN</td>\n",
       "      <td>NaN</td>\n",
       "      <td>NaN</td>\n",
       "      <td>NaN</td>\n",
       "      <td>[[Title, :, Specialist, Sales, Account, Repres...</td>\n",
       "      <td>[[title, specialist, sales, account, represent...</td>\n",
       "    </tr>\n",
       "    <tr>\n",
       "      <th>4</th>\n",
       "      <td>109675</td>\n",
       "      <td>Footprint Retail Services</td>\n",
       "      <td>**Footprint Retail Services** **Job Descriptio...</td>\n",
       "      <td>NaN</td>\n",
       "      <td>NaN</td>\n",
       "      <td>NaN</td>\n",
       "      <td>NaN</td>\n",
       "      <td>A Merchandiser must complete all assigned merc...</td>\n",
       "      <td>[[**Footprint, Retail, Services**, **Job, Desc...</td>\n",
       "      <td>[[retail, job, title, retail, merchandiser, re...</td>\n",
       "    </tr>\n",
       "    <tr>\n",
       "      <th>5</th>\n",
       "      <td>215973</td>\n",
       "      <td>Home Depot</td>\n",
       "      <td>Position Purpose: Provide outstanding service ...</td>\n",
       "      <td>Indiana</td>\n",
       "      <td>41.13060</td>\n",
       "      <td>-85.12886</td>\n",
       "      <td>NaN</td>\n",
       "      <td>Provide outstanding service to ensure efficien...</td>\n",
       "      <td>[[Position, Purpose, :, Provide, outstanding, ...</td>\n",
       "      <td>[[position, purpose, provide, outstanding, ser...</td>\n",
       "    </tr>\n",
       "    <tr>\n",
       "      <th>6</th>\n",
       "      <td>207524</td>\n",
       "      <td>Home Depot</td>\n",
       "      <td>The Asset Protection Specialist is primarily r...</td>\n",
       "      <td>New Jersey</td>\n",
       "      <td>40.21455</td>\n",
       "      <td>-74.61932</td>\n",
       "      <td>Must be eighteen years of age or older. Must p...</td>\n",
       "      <td>NaN</td>\n",
       "      <td>[[The, Asset, Protection, Specialist, is, prim...</td>\n",
       "      <td>[[the, asset, protection, specialist, is, prim...</td>\n",
       "    </tr>\n",
       "    <tr>\n",
       "      <th>7</th>\n",
       "      <td>64426</td>\n",
       "      <td>East West Bank</td>\n",
       "      <td># Job Description East West Bank is one of the...</td>\n",
       "      <td>California</td>\n",
       "      <td>34.06862</td>\n",
       "      <td>-118.02757</td>\n",
       "      <td>NaN</td>\n",
       "      <td>We are currently seeking a Customer Service Ce...</td>\n",
       "      <td>[[#, Job, Description, East, West, Bank, is, o...</td>\n",
       "      <td>[[job, description, east, west, bank, is, one,...</td>\n",
       "    </tr>\n",
       "    <tr>\n",
       "      <th>8</th>\n",
       "      <td>245192</td>\n",
       "      <td>IBM</td>\n",
       "      <td>Job Description IBM is seeking to hire a Senio...</td>\n",
       "      <td>NaN</td>\n",
       "      <td>NaN</td>\n",
       "      <td>NaN</td>\n",
       "      <td>NaN</td>\n",
       "      <td>NaN</td>\n",
       "      <td>[[Job, Description, IBM, is, seeking, to, hire...</td>\n",
       "      <td>[[job, description, ibm, is, seeking, to, hire...</td>\n",
       "    </tr>\n",
       "    <tr>\n",
       "      <th>9</th>\n",
       "      <td>202429</td>\n",
       "      <td>Hitachi Data Systems</td>\n",
       "      <td>Title: Field Solutions Engineer Location: New ...</td>\n",
       "      <td>NaN</td>\n",
       "      <td>NaN</td>\n",
       "      <td>NaN</td>\n",
       "      <td>NaN</td>\n",
       "      <td>Job Functions;Specific duties in this role wil...</td>\n",
       "      <td>[[Title, :, Field, Solutions, Engineer, Locati...</td>\n",
       "      <td>[[title, field, solutions, engineer, location,...</td>\n",
       "    </tr>\n",
       "    <tr>\n",
       "      <th>10</th>\n",
       "      <td>269503</td>\n",
       "      <td>J&amp;J Family of Companies</td>\n",
       "      <td>Project Manager (m/w) - Government &amp; Public Af...</td>\n",
       "      <td>NaN</td>\n",
       "      <td>NaN</td>\n",
       "      <td>NaN</td>\n",
       "      <td>NaN</td>\n",
       "      <td>NaN</td>\n",
       "      <td>[[Project, Manager, (, m/w, ), -, Government, ...</td>\n",
       "      <td>[[project, manager, government, public, jansse...</td>\n",
       "    </tr>\n",
       "    <tr>\n",
       "      <th>11</th>\n",
       "      <td>139164</td>\n",
       "      <td>Genesis Healthcare</td>\n",
       "      <td>Certified Medicine Aide Area of Interest: Nurs...</td>\n",
       "      <td>Kansas</td>\n",
       "      <td>39.10972</td>\n",
       "      <td>-95.08775</td>\n",
       "      <td>NaN</td>\n",
       "      <td>Receives report at the beginning of shift with...</td>\n",
       "      <td>[[Certified, Medicine, Aide, Area, of, Interes...</td>\n",
       "      <td>[[certified, medicine, aide, area, of, interes...</td>\n",
       "    </tr>\n",
       "    <tr>\n",
       "      <th>12</th>\n",
       "      <td>255915</td>\n",
       "      <td>Ingersoll Rand</td>\n",
       "      <td>**Description:** At Ingersoll Rand we're passi...</td>\n",
       "      <td>Tennessee</td>\n",
       "      <td>35.14953</td>\n",
       "      <td>-90.04898</td>\n",
       "      <td>Considerable knowledge of industry related sup...</td>\n",
       "      <td>Ingersoll Rand is a diverse and inclusive envi...</td>\n",
       "      <td>[[**Description, :, **, At, Ingersoll, Rand, w...</td>\n",
       "      <td>[[at, ingersoll, rand, we, passionate, about, ...</td>\n",
       "    </tr>\n",
       "    <tr>\n",
       "      <th>13</th>\n",
       "      <td>173294</td>\n",
       "      <td>HamiltonConstructionCompany</td>\n",
       "      <td>\"Hamilton Construction,in businesssince 1939 a...</td>\n",
       "      <td>Oregon</td>\n",
       "      <td>44.04624</td>\n",
       "      <td>-123.02203</td>\n",
       "      <td>NaN</td>\n",
       "      <td>NaN</td>\n",
       "      <td>[[``, Hamilton, Construction, ,, in, businesss...</td>\n",
       "      <td>[[hamilton, construction, in, businesssince, a...</td>\n",
       "    </tr>\n",
       "    <tr>\n",
       "      <th>14</th>\n",
       "      <td>116855</td>\n",
       "      <td>G6 Hospitality</td>\n",
       "      <td>Business Unit: DirectEmployers Title: Manager ...</td>\n",
       "      <td>Texas</td>\n",
       "      <td>32.83707</td>\n",
       "      <td>-97.08195</td>\n",
       "      <td>High School diploma or equivalent;Computer pro...</td>\n",
       "      <td>NaN</td>\n",
       "      <td>[[Business, Unit, :, DirectEmployers, Title, :...</td>\n",
       "      <td>[[business, unit, directemployers, title, mana...</td>\n",
       "    </tr>\n",
       "    <tr>\n",
       "      <th>15</th>\n",
       "      <td>40701</td>\n",
       "      <td>Dollar Tree</td>\n",
       "      <td>Auto req ID 41872BR Title ASSISTANT MANAGER Em...</td>\n",
       "      <td>Texas</td>\n",
       "      <td>32.85791</td>\n",
       "      <td>-97.25474</td>\n",
       "      <td>NaN</td>\n",
       "      <td>NaN</td>\n",
       "      <td>[[Auto, req, ID, 41872BR, Title, ASSISTANT, MA...</td>\n",
       "      <td>[[auto, req, id, title, assistant, manager, em...</td>\n",
       "    </tr>\n",
       "    <tr>\n",
       "      <th>16</th>\n",
       "      <td>292406</td>\n",
       "      <td>Johns Hopkins Medicine</td>\n",
       "      <td>Johns Hopkins employs more than 20,000 people ...</td>\n",
       "      <td>Maryland</td>\n",
       "      <td>39.29038</td>\n",
       "      <td>-76.61219</td>\n",
       "      <td>NaN</td>\n",
       "      <td>NaN</td>\n",
       "      <td>[[Johns, Hopkins, employs, more, than, 20,000,...</td>\n",
       "      <td>[[johns, hopkins, employs, more, than, people,...</td>\n",
       "    </tr>\n",
       "    <tr>\n",
       "      <th>17</th>\n",
       "      <td>358904</td>\n",
       "      <td>LHC Group</td>\n",
       "      <td>Job Description As a CNA, you will perform a v...</td>\n",
       "      <td>Alabama</td>\n",
       "      <td>34.74481</td>\n",
       "      <td>-87.66753</td>\n",
       "      <td>NaN</td>\n",
       "      <td>Your specific duties for this role will includ...</td>\n",
       "      <td>[[Job, Description, As, a, CNA, ,, you, will, ...</td>\n",
       "      <td>[[job, description, as, a, cna, you, will, per...</td>\n",
       "    </tr>\n",
       "    <tr>\n",
       "      <th>18</th>\n",
       "      <td>126507</td>\n",
       "      <td>GE</td>\n",
       "      <td>2306307 **Business** GE Capital **Business Seg...</td>\n",
       "      <td>NaN</td>\n",
       "      <td>NaN</td>\n",
       "      <td>NaN</td>\n",
       "      <td>Doswiadczenie w pracy na podobnym stanowisku;W...</td>\n",
       "      <td>Prowadzenie projektow zw\\. z rozwojem pracowni...</td>\n",
       "      <td>[[2306307, **Business**, GE, Capital, **Busine...</td>\n",
       "      <td>[[ge, capital, capital, international, bank, b...</td>\n",
       "    </tr>\n",
       "    <tr>\n",
       "      <th>19</th>\n",
       "      <td>90538</td>\n",
       "      <td>EY</td>\n",
       "      <td>Title: Greater China TAS Referrals (China Sout...</td>\n",
       "      <td>NaN</td>\n",
       "      <td>NaN</td>\n",
       "      <td>NaN</td>\n",
       "      <td>NaN</td>\n",
       "      <td>NaN</td>\n",
       "      <td>[[Title, :, Greater, China, TAS, Referrals, (,...</td>\n",
       "      <td>[[title, greater, china, tas, referrals, china...</td>\n",
       "    </tr>\n",
       "    <tr>\n",
       "      <th>20</th>\n",
       "      <td>59256</td>\n",
       "      <td>Dr Pepper Snapple Group</td>\n",
       "      <td>Merchandiser The Merchandiser is responsible f...</td>\n",
       "      <td>Texas</td>\n",
       "      <td>29.76328</td>\n",
       "      <td>-95.36327</td>\n",
       "      <td>NaN</td>\n",
       "      <td>NaN</td>\n",
       "      <td>[[Merchandiser, The, Merchandiser, is, respons...</td>\n",
       "      <td>[[merchandiser, the, merchandiser, is, respons...</td>\n",
       "    </tr>\n",
       "    <tr>\n",
       "      <th>21</th>\n",
       "      <td>85716</td>\n",
       "      <td>Eurofins Lancaster Laboratories</td>\n",
       "      <td>### Eurofins is the world leader in the food, ...</td>\n",
       "      <td>Ohio</td>\n",
       "      <td>39.55895</td>\n",
       "      <td>-84.30411</td>\n",
       "      <td>NaN</td>\n",
       "      <td>NaN</td>\n",
       "      <td>[[#, #, #, Eurofins, is, the, world, leader, i...</td>\n",
       "      <td>[[eurofins, is, the, world, leader, in, the, f...</td>\n",
       "    </tr>\n",
       "    <tr>\n",
       "      <th>22</th>\n",
       "      <td>203342</td>\n",
       "      <td>HMSHOST</td>\n",
       "      <td>\"**Having the right ingredients makes all the ...</td>\n",
       "      <td>NaN</td>\n",
       "      <td>NaN</td>\n",
       "      <td>NaN</td>\n",
       "      <td>NaN</td>\n",
       "      <td>\"Greets customers and takes food order provide...</td>\n",
       "      <td>[[``, **Having, the, right, ingredients, makes...</td>\n",
       "      <td>[[the, right, ingredients, makes, all, the, di...</td>\n",
       "    </tr>\n",
       "    <tr>\n",
       "      <th>23</th>\n",
       "      <td>283327</td>\n",
       "      <td>Jewel-Osco</td>\n",
       "      <td>JOB: Retail Clerk  Liquor/Beer/Wine JOB OVERVI...</td>\n",
       "      <td>Montana</td>\n",
       "      <td>48.19579</td>\n",
       "      <td>-114.31291</td>\n",
       "      <td>NaN</td>\n",
       "      <td>Sells, receives, stocks and may order beer/liq...</td>\n",
       "      <td>[[JOB, :, Retail, Clerk, Liquor/Beer/Wine, JOB...</td>\n",
       "      <td>[[job, retail, clerk, job, overview, provides,...</td>\n",
       "    </tr>\n",
       "    <tr>\n",
       "      <th>24</th>\n",
       "      <td>320876</td>\n",
       "      <td>KeyPoint Government Solutions</td>\n",
       "      <td>**Overview:** KeyPoint Government Solutions is...</td>\n",
       "      <td>NaN</td>\n",
       "      <td>NaN</td>\n",
       "      <td>NaN</td>\n",
       "      <td>NaN</td>\n",
       "      <td>NaN</td>\n",
       "      <td>[[**Overview, :, **, KeyPoint, Government, Sol...</td>\n",
       "      <td>[[keypoint, government, solutions, is, current...</td>\n",
       "    </tr>\n",
       "    <tr>\n",
       "      <th>25</th>\n",
       "      <td>311069</td>\n",
       "      <td>Kelly Services</td>\n",
       "      <td>**Strategic Sales Lead  Premier Brands and Con...</td>\n",
       "      <td>NaN</td>\n",
       "      <td>NaN</td>\n",
       "      <td>NaN</td>\n",
       "      <td>Bachelors degree (MBA preferred) or equivalent...</td>\n",
       "      <td>This is a field based corporate sales position...</td>\n",
       "      <td>[[**Strategic, Sales, Lead, Premier, Brands, a...</td>\n",
       "      <td>[[sales, lead, premier, brands, and, consumer,...</td>\n",
       "    </tr>\n",
       "    <tr>\n",
       "      <th>26</th>\n",
       "      <td>141835</td>\n",
       "      <td>Genesis Rehabilitation</td>\n",
       "      <td>Job Title: Occupational Therapist Area of Inte...</td>\n",
       "      <td>NaN</td>\n",
       "      <td>NaN</td>\n",
       "      <td>NaN</td>\n",
       "      <td>NaN</td>\n",
       "      <td>Screens, examines and evaluates patients, incl...</td>\n",
       "      <td>[[Job, Title, :, Occupational, Therapist, Area...</td>\n",
       "      <td>[[job, title, occupational, therapist, area, o...</td>\n",
       "    </tr>\n",
       "    <tr>\n",
       "      <th>27</th>\n",
       "      <td>202406</td>\n",
       "      <td>Hitachi Data Systems</td>\n",
       "      <td>Title: Pentaho-Sales Executive-Texas Location:...</td>\n",
       "      <td>NaN</td>\n",
       "      <td>NaN</td>\n",
       "      <td>NaN</td>\n",
       "      <td>NaN</td>\n",
       "      <td>NaN</td>\n",
       "      <td>[[Title, :, Pentaho-Sales, Executive-Texas, Lo...</td>\n",
       "      <td>[[title, location, texas, the, regional, accou...</td>\n",
       "    </tr>\n",
       "    <tr>\n",
       "      <th>28</th>\n",
       "      <td>111597</td>\n",
       "      <td>Franciscan St. Eilzabeth Health</td>\n",
       "      <td>Title: Respiratory Therapy, Intern Location: X...</td>\n",
       "      <td>NaN</td>\n",
       "      <td>NaN</td>\n",
       "      <td>NaN</td>\n",
       "      <td>NaN</td>\n",
       "      <td>NaN</td>\n",
       "      <td>[[Title, :, Respiratory, Therapy, ,, Intern, L...</td>\n",
       "      <td>[[title, respiratory, therapy, intern, location]]</td>\n",
       "    </tr>\n",
       "    <tr>\n",
       "      <th>29</th>\n",
       "      <td>260448</td>\n",
       "      <td>Intel</td>\n",
       "      <td>The Influencer Sales Group Solution Architect ...</td>\n",
       "      <td>Oregon</td>\n",
       "      <td>45.52289</td>\n",
       "      <td>-122.98983</td>\n",
       "      <td>NaN</td>\n",
       "      <td>NaN</td>\n",
       "      <td>[[The, Influencer, Sales, Group, Solution, Arc...</td>\n",
       "      <td>[[the, influencer, sales, group, solution, arc...</td>\n",
       "    </tr>\n",
       "    <tr>\n",
       "      <th>...</th>\n",
       "      <td>...</td>\n",
       "      <td>...</td>\n",
       "      <td>...</td>\n",
       "      <td>...</td>\n",
       "      <td>...</td>\n",
       "      <td>...</td>\n",
       "      <td>...</td>\n",
       "      <td>...</td>\n",
       "      <td>...</td>\n",
       "      <td>...</td>\n",
       "    </tr>\n",
       "    <tr>\n",
       "      <th>70</th>\n",
       "      <td>197429</td>\n",
       "      <td>Hill-Rom</td>\n",
       "      <td>Title: Contract Svc Admin Location: United Sta...</td>\n",
       "      <td>Michigan</td>\n",
       "      <td>42.78920</td>\n",
       "      <td>-85.51669</td>\n",
       "      <td>NaN</td>\n",
       "      <td>_ Other duties may be assigned:_</td>\n",
       "      <td>[[Title, :, Contract, Svc, Admin, Location, :,...</td>\n",
       "      <td>[[title, contract, svc, admin, location, unite...</td>\n",
       "    </tr>\n",
       "    <tr>\n",
       "      <th>71</th>\n",
       "      <td>359233</td>\n",
       "      <td>LHC Group</td>\n",
       "      <td>Job Description The Occupational Therapist is ...</td>\n",
       "      <td>Illinois</td>\n",
       "      <td>41.51337</td>\n",
       "      <td>-87.67421</td>\n",
       "      <td>NaN</td>\n",
       "      <td>NaN</td>\n",
       "      <td>[[Job, Description, The, Occupational, Therapi...</td>\n",
       "      <td>[[job, description, the, occupational, therapi...</td>\n",
       "    </tr>\n",
       "    <tr>\n",
       "      <th>72</th>\n",
       "      <td>5520</td>\n",
       "      <td>DCS Corporation</td>\n",
       "      <td>Systems Engineer - SE2-3678 Location: AL, Hunt...</td>\n",
       "      <td>Alabama</td>\n",
       "      <td>34.73037</td>\n",
       "      <td>-86.58610</td>\n",
       "      <td>NaN</td>\n",
       "      <td>Participate in preparation of technical and pr...</td>\n",
       "      <td>[[Systems, Engineer, -, SE2-3678, Location, :,...</td>\n",
       "      <td>[[systems, engineer, location, al, huntsville,...</td>\n",
       "    </tr>\n",
       "    <tr>\n",
       "      <th>73</th>\n",
       "      <td>205825</td>\n",
       "      <td>Home Depot</td>\n",
       "      <td>Position Purpose:Associates in Office/Store Su...</td>\n",
       "      <td>Massachusetts</td>\n",
       "      <td>42.12509</td>\n",
       "      <td>-72.74954</td>\n",
       "      <td>NaN</td>\n",
       "      <td>Usually in a comfortable environment but with ...</td>\n",
       "      <td>[[Position, Purpose, :, Associates, in, Office...</td>\n",
       "      <td>[[position, purpose, associates, in, support, ...</td>\n",
       "    </tr>\n",
       "    <tr>\n",
       "      <th>74</th>\n",
       "      <td>68546</td>\n",
       "      <td>Education Corporation of America</td>\n",
       "      <td># Description Education Corporation of America...</td>\n",
       "      <td>Alabama</td>\n",
       "      <td>33.52066</td>\n",
       "      <td>-86.80249</td>\n",
       "      <td>NaN</td>\n",
       "      <td>Education Corporation of America owns and oper...</td>\n",
       "      <td>[[#, Description, Education, Corporation, of, ...</td>\n",
       "      <td>[[description, education, corporation, of, ame...</td>\n",
       "    </tr>\n",
       "    <tr>\n",
       "      <th>75</th>\n",
       "      <td>141067</td>\n",
       "      <td>Genesis Rehabilitation</td>\n",
       "      <td>Job Title: Physical Therapist Area of Interest...</td>\n",
       "      <td>New Hampshire</td>\n",
       "      <td>42.99564</td>\n",
       "      <td>-71.45479</td>\n",
       "      <td>NaN</td>\n",
       "      <td>Genesis Rehabilitation Services is looking for...</td>\n",
       "      <td>[[Job, Title, :, Physical, Therapist, Area, of...</td>\n",
       "      <td>[[job, title, physical, therapist, area, of, i...</td>\n",
       "    </tr>\n",
       "    <tr>\n",
       "      <th>76</th>\n",
       "      <td>26925</td>\n",
       "      <td>Destination Hotels &amp; Resorts</td>\n",
       "      <td>Busser Property Paradise Point Resort &amp; Spa Co...</td>\n",
       "      <td>California</td>\n",
       "      <td>32.71533</td>\n",
       "      <td>-117.15726</td>\n",
       "      <td>NaN</td>\n",
       "      <td>NaN</td>\n",
       "      <td>[[Busser, Property, Paradise, Point, Resort, &amp;...</td>\n",
       "      <td>[[busser, property, paradise, point, resort, s...</td>\n",
       "    </tr>\n",
       "    <tr>\n",
       "      <th>77</th>\n",
       "      <td>81637</td>\n",
       "      <td>Epic Health Services</td>\n",
       "      <td>Epic Health Services, Inc. is looking for Bili...</td>\n",
       "      <td>New Jersey</td>\n",
       "      <td>39.95373</td>\n",
       "      <td>-74.19792</td>\n",
       "      <td>NaN</td>\n",
       "      <td>Provide skilled nursing care to pediatric and ...</td>\n",
       "      <td>[[Epic, Health, Services, ,, Inc., is, looking...</td>\n",
       "      <td>[[epic, health, services, is, looking, for, bi...</td>\n",
       "    </tr>\n",
       "    <tr>\n",
       "      <th>78</th>\n",
       "      <td>191317</td>\n",
       "      <td>Hewlett Packard Enterprise Company</td>\n",
       "      <td>Title: Software Engineer Location: China-Shang...</td>\n",
       "      <td>NaN</td>\n",
       "      <td>NaN</td>\n",
       "      <td>NaN</td>\n",
       "      <td>NaN</td>\n",
       "      <td>NaN</td>\n",
       "      <td>[[Title, :, Software, Engineer, Location, :, C...</td>\n",
       "      <td>[[title, software, engineer, location, other, ...</td>\n",
       "    </tr>\n",
       "    <tr>\n",
       "      <th>79</th>\n",
       "      <td>134395</td>\n",
       "      <td>Genesis Healthcare</td>\n",
       "      <td>Registered Nurse Area of Interest: Nursing - R...</td>\n",
       "      <td>Massachusetts</td>\n",
       "      <td>42.57509</td>\n",
       "      <td>-70.93005</td>\n",
       "      <td>Registered Nurse / RN Requirements:;Bachelor's...</td>\n",
       "      <td>Twin Oaks in Danvers MA is looking for a Per D...</td>\n",
       "      <td>[[Registered, Nurse, Area, of, Interest, :, Nu...</td>\n",
       "      <td>[[registered, nurse, area, of, interest, nursi...</td>\n",
       "    </tr>\n",
       "    <tr>\n",
       "      <th>80</th>\n",
       "      <td>177803</td>\n",
       "      <td>Harris Corporation</td>\n",
       "      <td>Description: Job Title: Electrical Engineer &amp;n...</td>\n",
       "      <td>Florida</td>\n",
       "      <td>28.03446</td>\n",
       "      <td>-80.58866</td>\n",
       "      <td>Master&amp;rsquo s degree in electrical engineerin...</td>\n",
       "      <td>NaN</td>\n",
       "      <td>[[Description, :, Job, Title, :, Electrical, E...</td>\n",
       "      <td>[[description, job, title, electrical, enginee...</td>\n",
       "    </tr>\n",
       "    <tr>\n",
       "      <th>81</th>\n",
       "      <td>222835</td>\n",
       "      <td>Home Depot</td>\n",
       "      <td>\"Position Purpose: Cashiers play a critical cu...</td>\n",
       "      <td>New Mexico</td>\n",
       "      <td>36.72806</td>\n",
       "      <td>-108.21869</td>\n",
       "      <td>NaN</td>\n",
       "      <td>Usually in a comfortable environment but with ...</td>\n",
       "      <td>[[``, Position, Purpose, :, Cashiers, play, a,...</td>\n",
       "      <td>[[position, purpose, cashiers, play, a, critic...</td>\n",
       "    </tr>\n",
       "    <tr>\n",
       "      <th>82</th>\n",
       "      <td>12790</td>\n",
       "      <td>Deloitte</td>\n",
       "      <td>Deloitte is one of the leading professional se...</td>\n",
       "      <td>Pennsylvania</td>\n",
       "      <td>39.95234</td>\n",
       "      <td>-75.16379</td>\n",
       "      <td>Establishes deliverable structure and content ...</td>\n",
       "      <td>Job Responsibilities;In providing finance-rela...</td>\n",
       "      <td>[[Deloitte, is, one, of, the, leading, profess...</td>\n",
       "      <td>[[deloitte, is, one, of, the, leading, profess...</td>\n",
       "    </tr>\n",
       "    <tr>\n",
       "      <th>83</th>\n",
       "      <td>319987</td>\n",
       "      <td>Kettering Medical Center</td>\n",
       "      <td>Description Greets patients and visitors in a ...</td>\n",
       "      <td>Ohio</td>\n",
       "      <td>39.68950</td>\n",
       "      <td>-84.16883</td>\n",
       "      <td>NaN</td>\n",
       "      <td>NaN</td>\n",
       "      <td>[[Description, Greets, patients, and, visitors...</td>\n",
       "      <td>[[description, greets, patients, and, visitors...</td>\n",
       "    </tr>\n",
       "    <tr>\n",
       "      <th>84</th>\n",
       "      <td>352211</td>\n",
       "      <td>Learning Care Group</td>\n",
       "      <td># Job Description Join our talented team, wher...</td>\n",
       "      <td>Arizona</td>\n",
       "      <td>33.42227</td>\n",
       "      <td>-111.82264</td>\n",
       "      <td>NaN</td>\n",
       "      <td>Join our talented team, where we inspire child...</td>\n",
       "      <td>[[#, Job, Description, Join, our, talented, te...</td>\n",
       "      <td>[[job, description, join, our, talented, team,...</td>\n",
       "    </tr>\n",
       "    <tr>\n",
       "      <th>85</th>\n",
       "      <td>233278</td>\n",
       "      <td>Humana</td>\n",
       "      <td>Role: Technology Architect Assignment: IT Loca...</td>\n",
       "      <td>Kentucky</td>\n",
       "      <td>38.25424</td>\n",
       "      <td>-85.75941</td>\n",
       "      <td>NaN</td>\n",
       "      <td>Guide all aspects of design, implementation an...</td>\n",
       "      <td>[[Role, :, Technology, Architect, Assignment, ...</td>\n",
       "      <td>[[role, technology, architect, assignment, it,...</td>\n",
       "    </tr>\n",
       "    <tr>\n",
       "      <th>86</th>\n",
       "      <td>338881</td>\n",
       "      <td>Kronos Incorporated</td>\n",
       "      <td>* Observes and reports activities and incident...</td>\n",
       "      <td>Tennessee</td>\n",
       "      <td>36.32311</td>\n",
       "      <td>-86.71333</td>\n",
       "      <td>NaN</td>\n",
       "      <td>NaN</td>\n",
       "      <td>[[*, Observes, and, reports, activities, and, ...</td>\n",
       "      <td>[[observes, and, reports, activities, and, inc...</td>\n",
       "    </tr>\n",
       "    <tr>\n",
       "      <th>87</th>\n",
       "      <td>53773</td>\n",
       "      <td>Dominos Pizza</td>\n",
       "      <td>\"ABOUT THE JOB Do you know why Domino's Pizza ...</td>\n",
       "      <td>Texas</td>\n",
       "      <td>29.76328</td>\n",
       "      <td>-95.36327</td>\n",
       "      <td>General job duties for all store team members;...</td>\n",
       "      <td>\"You must be 18 years of age and have a valid ...</td>\n",
       "      <td>[[``, ABOUT, THE, JOB, Do, you, know, why, Dom...</td>\n",
       "      <td>[[about, the, job, do, you, know, why, domino,...</td>\n",
       "    </tr>\n",
       "    <tr>\n",
       "      <th>88</th>\n",
       "      <td>158203</td>\n",
       "      <td>Golden Living</td>\n",
       "      <td>Registered Dietician at AseraCare Hospice work...</td>\n",
       "      <td>Texas</td>\n",
       "      <td>29.76328</td>\n",
       "      <td>-95.36327</td>\n",
       "      <td>NaN</td>\n",
       "      <td>NaN</td>\n",
       "      <td>[[Registered, Dietician, at, AseraCare, Hospic...</td>\n",
       "      <td>[[registered, dietician, at, aseracare, hospic...</td>\n",
       "    </tr>\n",
       "    <tr>\n",
       "      <th>89</th>\n",
       "      <td>156994</td>\n",
       "      <td>Golden Living</td>\n",
       "      <td>At Golden LivingCenters, we care for every pat...</td>\n",
       "      <td>South Dakota</td>\n",
       "      <td>44.08054</td>\n",
       "      <td>-103.23101</td>\n",
       "      <td>Currently licensed or registered in state of p...</td>\n",
       "      <td>NaN</td>\n",
       "      <td>[[At, Golden, LivingCenters, ,, we, care, for,...</td>\n",
       "      <td>[[at, golden, livingcenters, we, care, for, ev...</td>\n",
       "    </tr>\n",
       "    <tr>\n",
       "      <th>90</th>\n",
       "      <td>249542</td>\n",
       "      <td>ICF International</td>\n",
       "      <td>Energy Efficiency and Low Income Representativ...</td>\n",
       "      <td>Michigan</td>\n",
       "      <td>42.27756</td>\n",
       "      <td>-83.74088</td>\n",
       "      <td>/ /;/ /</td>\n",
       "      <td>NaN</td>\n",
       "      <td>[[Energy, Efficiency, and, Low, Income, Repres...</td>\n",
       "      <td>[[energy, efficiency, and, low, income, repres...</td>\n",
       "    </tr>\n",
       "    <tr>\n",
       "      <th>91</th>\n",
       "      <td>173219</td>\n",
       "      <td>Hallmark Health</td>\n",
       "      <td>Office Coordinator Geriatric Assessment Center...</td>\n",
       "      <td>Massachusetts</td>\n",
       "      <td>42.41843</td>\n",
       "      <td>-71.10616</td>\n",
       "      <td>NaN</td>\n",
       "      <td>High School Diploma or equivalent. Bachelor's ...</td>\n",
       "      <td>[[Office, Coordinator, Geriatric, Assessment, ...</td>\n",
       "      <td>[[office, coordinator, geriatric, assessment, ...</td>\n",
       "    </tr>\n",
       "    <tr>\n",
       "      <th>92</th>\n",
       "      <td>50969</td>\n",
       "      <td>Dominos Pizza</td>\n",
       "      <td>Customer Service Representative Are you ready ...</td>\n",
       "      <td>South Dakota</td>\n",
       "      <td>42.87111</td>\n",
       "      <td>-97.39728</td>\n",
       "      <td>NaN</td>\n",
       "      <td>NaN</td>\n",
       "      <td>[[Customer, Service, Representative, Are, you,...</td>\n",
       "      <td>[[customer, service, representative, are, you,...</td>\n",
       "    </tr>\n",
       "    <tr>\n",
       "      <th>93</th>\n",
       "      <td>331404</td>\n",
       "      <td>Kforce</td>\n",
       "      <td>Kforce has a client in Beaverton, Oregon (OR) ...</td>\n",
       "      <td>Oregon</td>\n",
       "      <td>45.48706</td>\n",
       "      <td>-122.80371</td>\n",
       "      <td>NaN</td>\n",
       "      <td>NaN</td>\n",
       "      <td>[[Kforce, has, a, client, in, Beaverton, ,, Or...</td>\n",
       "      <td>[[kforce, has, a, client, in, beaverton, orego...</td>\n",
       "    </tr>\n",
       "    <tr>\n",
       "      <th>94</th>\n",
       "      <td>322250</td>\n",
       "      <td>Kforce</td>\n",
       "      <td>Kforce has a client in Stamford, Connecticut (...</td>\n",
       "      <td>Connecticut</td>\n",
       "      <td>41.05343</td>\n",
       "      <td>-73.53873</td>\n",
       "      <td>NaN</td>\n",
       "      <td>NaN</td>\n",
       "      <td>[[Kforce, has, a, client, in, Stamford, ,, Con...</td>\n",
       "      <td>[[kforce, has, a, client, in, stamford, connec...</td>\n",
       "    </tr>\n",
       "    <tr>\n",
       "      <th>95</th>\n",
       "      <td>157791</td>\n",
       "      <td>Golden Living</td>\n",
       "      <td>Here at Golden LivingCenters, we rely on and t...</td>\n",
       "      <td>Nebraska</td>\n",
       "      <td>40.67667</td>\n",
       "      <td>-95.85917</td>\n",
       "      <td>High school diploma or equivalent;Must within ...</td>\n",
       "      <td>NaN</td>\n",
       "      <td>[[Here, at, Golden, LivingCenters, ,, we, rely...</td>\n",
       "      <td>[[here, at, golden, livingcenters, we, rely, o...</td>\n",
       "    </tr>\n",
       "    <tr>\n",
       "      <th>96</th>\n",
       "      <td>119835</td>\n",
       "      <td>GameStop</td>\n",
       "      <td>\"*Description* Description: SUMMARY At GameSto...</td>\n",
       "      <td>New York</td>\n",
       "      <td>40.68149</td>\n",
       "      <td>-73.39984</td>\n",
       "      <td>NaN</td>\n",
       "      <td>NaN</td>\n",
       "      <td>[[``, *Description*, Description, :, SUMMARY, ...</td>\n",
       "      <td>[[description, summary, at, gamestop, we, refe...</td>\n",
       "    </tr>\n",
       "    <tr>\n",
       "      <th>97</th>\n",
       "      <td>285609</td>\n",
       "      <td>Jewel-Osco</td>\n",
       "      <td>\"Updated 6/2011 JOB TITLE: Service Clerk (Bagg...</td>\n",
       "      <td>Illinois</td>\n",
       "      <td>41.66892</td>\n",
       "      <td>-87.73866</td>\n",
       "      <td>NaN</td>\n",
       "      <td>Provides prompt, efficient and friendly custom...</td>\n",
       "      <td>[[``, Updated, 6/2011, JOB, TITLE, :, Service,...</td>\n",
       "      <td>[[updated, job, title, service, clerk, bagger,...</td>\n",
       "    </tr>\n",
       "    <tr>\n",
       "      <th>98</th>\n",
       "      <td>89260</td>\n",
       "      <td>Express Scripts</td>\n",
       "      <td>\"Schedule: Full-time Job ID: 1500071I The Sale...</td>\n",
       "      <td>Missouri</td>\n",
       "      <td>38.62727</td>\n",
       "      <td>-90.19789</td>\n",
       "      <td>NaN</td>\n",
       "      <td>o Proactive management of Houston entry &amp; comp...</td>\n",
       "      <td>[[``, Schedule, :, Full-time, Job, ID, :, 1500...</td>\n",
       "      <td>[[schedule, job, id, the, sales, coordinator, ...</td>\n",
       "    </tr>\n",
       "    <tr>\n",
       "      <th>99</th>\n",
       "      <td>280096</td>\n",
       "      <td>JCPenney</td>\n",
       "      <td>Temp Support Specialist- Mall of Louisiana Loc...</td>\n",
       "      <td>Louisiana</td>\n",
       "      <td>30.45075</td>\n",
       "      <td>-91.15455</td>\n",
       "      <td>NaN</td>\n",
       "      <td>Executes the merchandise strategy You take the...</td>\n",
       "      <td>[[Temp, Support, Specialist-, Mall, of, Louisi...</td>\n",
       "      <td>[[temp, support, mall, of, louisiana, location...</td>\n",
       "    </tr>\n",
       "  </tbody>\n",
       "</table>\n",
       "<p>100 rows × 10 columns</p>\n",
       "</div>"
      ],
      "text/plain": [
       "    Unnamed: 0 hiringOrganization_organizationName  \\\n",
       "0       158844       Golfsmith International, Inc.   \n",
       "1       257645                               Intel   \n",
       "2       107875                    Florida Hospital   \n",
       "3       202394                Hitachi Data Systems   \n",
       "4       109675           Footprint Retail Services   \n",
       "5       215973                          Home Depot   \n",
       "6       207524                          Home Depot   \n",
       "7        64426                      East West Bank   \n",
       "8       245192                                 IBM   \n",
       "9       202429                Hitachi Data Systems   \n",
       "10      269503             J&J Family of Companies   \n",
       "11      139164                  Genesis Healthcare   \n",
       "12      255915                      Ingersoll Rand   \n",
       "13      173294         HamiltonConstructionCompany   \n",
       "14      116855                      G6 Hospitality   \n",
       "15       40701                         Dollar Tree   \n",
       "16      292406              Johns Hopkins Medicine   \n",
       "17      358904                           LHC Group   \n",
       "18      126507                                  GE   \n",
       "19       90538                                  EY   \n",
       "20       59256             Dr Pepper Snapple Group   \n",
       "21       85716     Eurofins Lancaster Laboratories   \n",
       "22      203342                             HMSHOST   \n",
       "23      283327                          Jewel-Osco   \n",
       "24      320876       KeyPoint Government Solutions   \n",
       "25      311069                      Kelly Services   \n",
       "26      141835              Genesis Rehabilitation   \n",
       "27      202406                Hitachi Data Systems   \n",
       "28      111597     Franciscan St. Eilzabeth Health   \n",
       "29      260448                               Intel   \n",
       "..         ...                                 ...   \n",
       "70      197429                            Hill-Rom   \n",
       "71      359233                           LHC Group   \n",
       "72        5520                     DCS Corporation   \n",
       "73      205825                          Home Depot   \n",
       "74       68546    Education Corporation of America   \n",
       "75      141067              Genesis Rehabilitation   \n",
       "76       26925        Destination Hotels & Resorts   \n",
       "77       81637                Epic Health Services   \n",
       "78      191317  Hewlett Packard Enterprise Company   \n",
       "79      134395                  Genesis Healthcare   \n",
       "80      177803                  Harris Corporation   \n",
       "81      222835                          Home Depot   \n",
       "82       12790                            Deloitte   \n",
       "83      319987            Kettering Medical Center   \n",
       "84      352211                 Learning Care Group   \n",
       "85      233278                              Humana   \n",
       "86      338881                 Kronos Incorporated   \n",
       "87       53773                       Dominos Pizza   \n",
       "88      158203                       Golden Living   \n",
       "89      156994                       Golden Living   \n",
       "90      249542                   ICF International   \n",
       "91      173219                     Hallmark Health   \n",
       "92       50969                       Dominos Pizza   \n",
       "93      331404                              Kforce   \n",
       "94      322250                              Kforce   \n",
       "95      157791                       Golden Living   \n",
       "96      119835                            GameStop   \n",
       "97      285609                          Jewel-Osco   \n",
       "98       89260                     Express Scripts   \n",
       "99      280096                            JCPenney   \n",
       "\n",
       "                                       jobDescription  \\\n",
       "0   \"Sales Associate Tracking Code 220425-971 Job ...   \n",
       "1   For PHY system engineering team within the Wir...   \n",
       "2   *RN Medical Oncology PCU Orlando - Nights* Flo...   \n",
       "3   Title: Specialist Sales Account Representative...   \n",
       "4   **Footprint Retail Services** **Job Descriptio...   \n",
       "5   Position Purpose: Provide outstanding service ...   \n",
       "6   The Asset Protection Specialist is primarily r...   \n",
       "7   # Job Description East West Bank is one of the...   \n",
       "8   Job Description IBM is seeking to hire a Senio...   \n",
       "9   Title: Field Solutions Engineer Location: New ...   \n",
       "10  Project Manager (m/w) - Government & Public Af...   \n",
       "11  Certified Medicine Aide Area of Interest: Nurs...   \n",
       "12  **Description:** At Ingersoll Rand we're passi...   \n",
       "13  \"Hamilton Construction,in businesssince 1939 a...   \n",
       "14  Business Unit: DirectEmployers Title: Manager ...   \n",
       "15  Auto req ID 41872BR Title ASSISTANT MANAGER Em...   \n",
       "16  Johns Hopkins employs more than 20,000 people ...   \n",
       "17  Job Description As a CNA, you will perform a v...   \n",
       "18  2306307 **Business** GE Capital **Business Seg...   \n",
       "19  Title: Greater China TAS Referrals (China Sout...   \n",
       "20  Merchandiser The Merchandiser is responsible f...   \n",
       "21  ### Eurofins is the world leader in the food, ...   \n",
       "22  \"**Having the right ingredients makes all the ...   \n",
       "23  JOB: Retail Clerk  Liquor/Beer/Wine JOB OVERVI...   \n",
       "24  **Overview:** KeyPoint Government Solutions is...   \n",
       "25  **Strategic Sales Lead  Premier Brands and Con...   \n",
       "26  Job Title: Occupational Therapist Area of Inte...   \n",
       "27  Title: Pentaho-Sales Executive-Texas Location:...   \n",
       "28  Title: Respiratory Therapy, Intern Location: X...   \n",
       "29  The Influencer Sales Group Solution Architect ...   \n",
       "..                                                ...   \n",
       "70  Title: Contract Svc Admin Location: United Sta...   \n",
       "71  Job Description The Occupational Therapist is ...   \n",
       "72  Systems Engineer - SE2-3678 Location: AL, Hunt...   \n",
       "73  Position Purpose:Associates in Office/Store Su...   \n",
       "74  # Description Education Corporation of America...   \n",
       "75  Job Title: Physical Therapist Area of Interest...   \n",
       "76  Busser Property Paradise Point Resort & Spa Co...   \n",
       "77  Epic Health Services, Inc. is looking for Bili...   \n",
       "78  Title: Software Engineer Location: China-Shang...   \n",
       "79  Registered Nurse Area of Interest: Nursing - R...   \n",
       "80  Description: Job Title: Electrical Engineer &n...   \n",
       "81  \"Position Purpose: Cashiers play a critical cu...   \n",
       "82  Deloitte is one of the leading professional se...   \n",
       "83  Description Greets patients and visitors in a ...   \n",
       "84  # Job Description Join our talented team, wher...   \n",
       "85  Role: Technology Architect Assignment: IT Loca...   \n",
       "86  * Observes and reports activities and incident...   \n",
       "87  \"ABOUT THE JOB Do you know why Domino's Pizza ...   \n",
       "88  Registered Dietician at AseraCare Hospice work...   \n",
       "89  At Golden LivingCenters, we care for every pat...   \n",
       "90  Energy Efficiency and Low Income Representativ...   \n",
       "91  Office Coordinator Geriatric Assessment Center...   \n",
       "92  Customer Service Representative Are you ready ...   \n",
       "93  Kforce has a client in Beaverton, Oregon (OR) ...   \n",
       "94  Kforce has a client in Stamford, Connecticut (...   \n",
       "95  Here at Golden LivingCenters, we rely on and t...   \n",
       "96  \"*Description* Description: SUMMARY At GameSto...   \n",
       "97  \"Updated 6/2011 JOB TITLE: Service Clerk (Bagg...   \n",
       "98  \"Schedule: Full-time Job ID: 1500071I The Sale...   \n",
       "99  Temp Support Specialist- Mall of Louisiana Loc...   \n",
       "\n",
       "   jobLocation_address_region  jobLocation_geo_latitude  \\\n",
       "0                  California                  33.91918   \n",
       "1                         NaN                       NaN   \n",
       "2                     Florida                  28.53834   \n",
       "3                         NaN                       NaN   \n",
       "4                         NaN                       NaN   \n",
       "5                     Indiana                  41.13060   \n",
       "6                  New Jersey                  40.21455   \n",
       "7                  California                  34.06862   \n",
       "8                         NaN                       NaN   \n",
       "9                         NaN                       NaN   \n",
       "10                        NaN                       NaN   \n",
       "11                     Kansas                  39.10972   \n",
       "12                  Tennessee                  35.14953   \n",
       "13                     Oregon                  44.04624   \n",
       "14                      Texas                  32.83707   \n",
       "15                      Texas                  32.85791   \n",
       "16                   Maryland                  39.29038   \n",
       "17                    Alabama                  34.74481   \n",
       "18                        NaN                       NaN   \n",
       "19                        NaN                       NaN   \n",
       "20                      Texas                  29.76328   \n",
       "21                       Ohio                  39.55895   \n",
       "22                        NaN                       NaN   \n",
       "23                    Montana                  48.19579   \n",
       "24                        NaN                       NaN   \n",
       "25                        NaN                       NaN   \n",
       "26                        NaN                       NaN   \n",
       "27                        NaN                       NaN   \n",
       "28                        NaN                       NaN   \n",
       "29                     Oregon                  45.52289   \n",
       "..                        ...                       ...   \n",
       "70                   Michigan                  42.78920   \n",
       "71                   Illinois                  41.51337   \n",
       "72                    Alabama                  34.73037   \n",
       "73              Massachusetts                  42.12509   \n",
       "74                    Alabama                  33.52066   \n",
       "75              New Hampshire                  42.99564   \n",
       "76                 California                  32.71533   \n",
       "77                 New Jersey                  39.95373   \n",
       "78                        NaN                       NaN   \n",
       "79              Massachusetts                  42.57509   \n",
       "80                    Florida                  28.03446   \n",
       "81                 New Mexico                  36.72806   \n",
       "82               Pennsylvania                  39.95234   \n",
       "83                       Ohio                  39.68950   \n",
       "84                    Arizona                  33.42227   \n",
       "85                   Kentucky                  38.25424   \n",
       "86                  Tennessee                  36.32311   \n",
       "87                      Texas                  29.76328   \n",
       "88                      Texas                  29.76328   \n",
       "89               South Dakota                  44.08054   \n",
       "90                   Michigan                  42.27756   \n",
       "91              Massachusetts                  42.41843   \n",
       "92               South Dakota                  42.87111   \n",
       "93                     Oregon                  45.48706   \n",
       "94                Connecticut                  41.05343   \n",
       "95                   Nebraska                  40.67667   \n",
       "96                   New York                  40.68149   \n",
       "97                   Illinois                  41.66892   \n",
       "98                   Missouri                  38.62727   \n",
       "99                  Louisiana                  30.45075   \n",
       "\n",
       "    jobLocation_geo_longitude  \\\n",
       "0                  -118.41647   \n",
       "1                         NaN   \n",
       "2                   -81.37924   \n",
       "3                         NaN   \n",
       "4                         NaN   \n",
       "5                   -85.12886   \n",
       "6                   -74.61932   \n",
       "7                  -118.02757   \n",
       "8                         NaN   \n",
       "9                         NaN   \n",
       "10                        NaN   \n",
       "11                  -95.08775   \n",
       "12                  -90.04898   \n",
       "13                 -123.02203   \n",
       "14                  -97.08195   \n",
       "15                  -97.25474   \n",
       "16                  -76.61219   \n",
       "17                  -87.66753   \n",
       "18                        NaN   \n",
       "19                        NaN   \n",
       "20                  -95.36327   \n",
       "21                  -84.30411   \n",
       "22                        NaN   \n",
       "23                 -114.31291   \n",
       "24                        NaN   \n",
       "25                        NaN   \n",
       "26                        NaN   \n",
       "27                        NaN   \n",
       "28                        NaN   \n",
       "29                 -122.98983   \n",
       "..                        ...   \n",
       "70                  -85.51669   \n",
       "71                  -87.67421   \n",
       "72                  -86.58610   \n",
       "73                  -72.74954   \n",
       "74                  -86.80249   \n",
       "75                  -71.45479   \n",
       "76                 -117.15726   \n",
       "77                  -74.19792   \n",
       "78                        NaN   \n",
       "79                  -70.93005   \n",
       "80                  -80.58866   \n",
       "81                 -108.21869   \n",
       "82                  -75.16379   \n",
       "83                  -84.16883   \n",
       "84                 -111.82264   \n",
       "85                  -85.75941   \n",
       "86                  -86.71333   \n",
       "87                  -95.36327   \n",
       "88                  -95.36327   \n",
       "89                 -103.23101   \n",
       "90                  -83.74088   \n",
       "91                  -71.10616   \n",
       "92                  -97.39728   \n",
       "93                 -122.80371   \n",
       "94                  -73.53873   \n",
       "95                  -95.85917   \n",
       "96                  -73.39984   \n",
       "97                  -87.73866   \n",
       "98                  -90.19789   \n",
       "99                  -91.15455   \n",
       "\n",
       "                                       qualifications  \\\n",
       "0                                                 NaN   \n",
       "1                                                 NaN   \n",
       "2                                                 NaN   \n",
       "3                                                 NaN   \n",
       "4                                                 NaN   \n",
       "5                                                 NaN   \n",
       "6   Must be eighteen years of age or older. Must p...   \n",
       "7                                                 NaN   \n",
       "8                                                 NaN   \n",
       "9                                                 NaN   \n",
       "10                                                NaN   \n",
       "11                                                NaN   \n",
       "12  Considerable knowledge of industry related sup...   \n",
       "13                                                NaN   \n",
       "14  High School diploma or equivalent;Computer pro...   \n",
       "15                                                NaN   \n",
       "16                                                NaN   \n",
       "17                                                NaN   \n",
       "18  Doswiadczenie w pracy na podobnym stanowisku;W...   \n",
       "19                                                NaN   \n",
       "20                                                NaN   \n",
       "21                                                NaN   \n",
       "22                                                NaN   \n",
       "23                                                NaN   \n",
       "24                                                NaN   \n",
       "25  Bachelors degree (MBA preferred) or equivalent...   \n",
       "26                                                NaN   \n",
       "27                                                NaN   \n",
       "28                                                NaN   \n",
       "29                                                NaN   \n",
       "..                                                ...   \n",
       "70                                                NaN   \n",
       "71                                                NaN   \n",
       "72                                                NaN   \n",
       "73                                                NaN   \n",
       "74                                                NaN   \n",
       "75                                                NaN   \n",
       "76                                                NaN   \n",
       "77                                                NaN   \n",
       "78                                                NaN   \n",
       "79  Registered Nurse / RN Requirements:;Bachelor's...   \n",
       "80  Master&rsquo s degree in electrical engineerin...   \n",
       "81                                                NaN   \n",
       "82  Establishes deliverable structure and content ...   \n",
       "83                                                NaN   \n",
       "84                                                NaN   \n",
       "85                                                NaN   \n",
       "86                                                NaN   \n",
       "87  General job duties for all store team members;...   \n",
       "88                                                NaN   \n",
       "89  Currently licensed or registered in state of p...   \n",
       "90                                            / /;/ /   \n",
       "91                                                NaN   \n",
       "92                                                NaN   \n",
       "93                                                NaN   \n",
       "94                                                NaN   \n",
       "95  High school diploma or equivalent;Must within ...   \n",
       "96                                                NaN   \n",
       "97                                                NaN   \n",
       "98                                                NaN   \n",
       "99                                                NaN   \n",
       "\n",
       "                                     responsibilities  \\\n",
       "0   \"Ensure each Customer receives exceptional ser...   \n",
       "1                                                 NaN   \n",
       "2                                                 NaN   \n",
       "3                                                 NaN   \n",
       "4   A Merchandiser must complete all assigned merc...   \n",
       "5   Provide outstanding service to ensure efficien...   \n",
       "6                                                 NaN   \n",
       "7   We are currently seeking a Customer Service Ce...   \n",
       "8                                                 NaN   \n",
       "9   Job Functions;Specific duties in this role wil...   \n",
       "10                                                NaN   \n",
       "11  Receives report at the beginning of shift with...   \n",
       "12  Ingersoll Rand is a diverse and inclusive envi...   \n",
       "13                                                NaN   \n",
       "14                                                NaN   \n",
       "15                                                NaN   \n",
       "16                                                NaN   \n",
       "17  Your specific duties for this role will includ...   \n",
       "18  Prowadzenie projektow zw\\. z rozwojem pracowni...   \n",
       "19                                                NaN   \n",
       "20                                                NaN   \n",
       "21                                                NaN   \n",
       "22  \"Greets customers and takes food order provide...   \n",
       "23  Sells, receives, stocks and may order beer/liq...   \n",
       "24                                                NaN   \n",
       "25  This is a field based corporate sales position...   \n",
       "26  Screens, examines and evaluates patients, incl...   \n",
       "27                                                NaN   \n",
       "28                                                NaN   \n",
       "29                                                NaN   \n",
       "..                                                ...   \n",
       "70                   _ Other duties may be assigned:_   \n",
       "71                                                NaN   \n",
       "72  Participate in preparation of technical and pr...   \n",
       "73  Usually in a comfortable environment but with ...   \n",
       "74  Education Corporation of America owns and oper...   \n",
       "75  Genesis Rehabilitation Services is looking for...   \n",
       "76                                                NaN   \n",
       "77  Provide skilled nursing care to pediatric and ...   \n",
       "78                                                NaN   \n",
       "79  Twin Oaks in Danvers MA is looking for a Per D...   \n",
       "80                                                NaN   \n",
       "81  Usually in a comfortable environment but with ...   \n",
       "82  Job Responsibilities;In providing finance-rela...   \n",
       "83                                                NaN   \n",
       "84  Join our talented team, where we inspire child...   \n",
       "85  Guide all aspects of design, implementation an...   \n",
       "86                                                NaN   \n",
       "87  \"You must be 18 years of age and have a valid ...   \n",
       "88                                                NaN   \n",
       "89                                                NaN   \n",
       "90                                                NaN   \n",
       "91  High School Diploma or equivalent. Bachelor's ...   \n",
       "92                                                NaN   \n",
       "93                                                NaN   \n",
       "94                                                NaN   \n",
       "95                                                NaN   \n",
       "96                                                NaN   \n",
       "97  Provides prompt, efficient and friendly custom...   \n",
       "98  o Proactive management of Houston entry & comp...   \n",
       "99  Executes the merchandise strategy You take the...   \n",
       "\n",
       "                                      tokenized_sents  \\\n",
       "0   [[``, Sales, Associate, Tracking, Code, 220425...   \n",
       "1   [[For, PHY, system, engineering, team, within,...   \n",
       "2   [[*RN, Medical, Oncology, PCU, Orlando, -, Nig...   \n",
       "3   [[Title, :, Specialist, Sales, Account, Repres...   \n",
       "4   [[**Footprint, Retail, Services**, **Job, Desc...   \n",
       "5   [[Position, Purpose, :, Provide, outstanding, ...   \n",
       "6   [[The, Asset, Protection, Specialist, is, prim...   \n",
       "7   [[#, Job, Description, East, West, Bank, is, o...   \n",
       "8   [[Job, Description, IBM, is, seeking, to, hire...   \n",
       "9   [[Title, :, Field, Solutions, Engineer, Locati...   \n",
       "10  [[Project, Manager, (, m/w, ), -, Government, ...   \n",
       "11  [[Certified, Medicine, Aide, Area, of, Interes...   \n",
       "12  [[**Description, :, **, At, Ingersoll, Rand, w...   \n",
       "13  [[``, Hamilton, Construction, ,, in, businesss...   \n",
       "14  [[Business, Unit, :, DirectEmployers, Title, :...   \n",
       "15  [[Auto, req, ID, 41872BR, Title, ASSISTANT, MA...   \n",
       "16  [[Johns, Hopkins, employs, more, than, 20,000,...   \n",
       "17  [[Job, Description, As, a, CNA, ,, you, will, ...   \n",
       "18  [[2306307, **Business**, GE, Capital, **Busine...   \n",
       "19  [[Title, :, Greater, China, TAS, Referrals, (,...   \n",
       "20  [[Merchandiser, The, Merchandiser, is, respons...   \n",
       "21  [[#, #, #, Eurofins, is, the, world, leader, i...   \n",
       "22  [[``, **Having, the, right, ingredients, makes...   \n",
       "23  [[JOB, :, Retail, Clerk, Liquor/Beer/Wine, JOB...   \n",
       "24  [[**Overview, :, **, KeyPoint, Government, Sol...   \n",
       "25  [[**Strategic, Sales, Lead, Premier, Brands, a...   \n",
       "26  [[Job, Title, :, Occupational, Therapist, Area...   \n",
       "27  [[Title, :, Pentaho-Sales, Executive-Texas, Lo...   \n",
       "28  [[Title, :, Respiratory, Therapy, ,, Intern, L...   \n",
       "29  [[The, Influencer, Sales, Group, Solution, Arc...   \n",
       "..                                                ...   \n",
       "70  [[Title, :, Contract, Svc, Admin, Location, :,...   \n",
       "71  [[Job, Description, The, Occupational, Therapi...   \n",
       "72  [[Systems, Engineer, -, SE2-3678, Location, :,...   \n",
       "73  [[Position, Purpose, :, Associates, in, Office...   \n",
       "74  [[#, Description, Education, Corporation, of, ...   \n",
       "75  [[Job, Title, :, Physical, Therapist, Area, of...   \n",
       "76  [[Busser, Property, Paradise, Point, Resort, &...   \n",
       "77  [[Epic, Health, Services, ,, Inc., is, looking...   \n",
       "78  [[Title, :, Software, Engineer, Location, :, C...   \n",
       "79  [[Registered, Nurse, Area, of, Interest, :, Nu...   \n",
       "80  [[Description, :, Job, Title, :, Electrical, E...   \n",
       "81  [[``, Position, Purpose, :, Cashiers, play, a,...   \n",
       "82  [[Deloitte, is, one, of, the, leading, profess...   \n",
       "83  [[Description, Greets, patients, and, visitors...   \n",
       "84  [[#, Job, Description, Join, our, talented, te...   \n",
       "85  [[Role, :, Technology, Architect, Assignment, ...   \n",
       "86  [[*, Observes, and, reports, activities, and, ...   \n",
       "87  [[``, ABOUT, THE, JOB, Do, you, know, why, Dom...   \n",
       "88  [[Registered, Dietician, at, AseraCare, Hospic...   \n",
       "89  [[At, Golden, LivingCenters, ,, we, care, for,...   \n",
       "90  [[Energy, Efficiency, and, Low, Income, Repres...   \n",
       "91  [[Office, Coordinator, Geriatric, Assessment, ...   \n",
       "92  [[Customer, Service, Representative, Are, you,...   \n",
       "93  [[Kforce, has, a, client, in, Beaverton, ,, Or...   \n",
       "94  [[Kforce, has, a, client, in, Stamford, ,, Con...   \n",
       "95  [[Here, at, Golden, LivingCenters, ,, we, rely...   \n",
       "96  [[``, *Description*, Description, :, SUMMARY, ...   \n",
       "97  [[``, Updated, 6/2011, JOB, TITLE, :, Service,...   \n",
       "98  [[``, Schedule, :, Full-time, Job, ID, :, 1500...   \n",
       "99  [[Temp, Support, Specialist-, Mall, of, Louisi...   \n",
       "\n",
       "                                     normalized_sents  \n",
       "0   [[sales, associate, tracking, code, job, descr...  \n",
       "1   [[for, phy, system, engineering, team, within,...  \n",
       "2   [[medical, oncology, pcu, orlando, florida, ho...  \n",
       "3   [[title, specialist, sales, account, represent...  \n",
       "4   [[retail, job, title, retail, merchandiser, re...  \n",
       "5   [[position, purpose, provide, outstanding, ser...  \n",
       "6   [[the, asset, protection, specialist, is, prim...  \n",
       "7   [[job, description, east, west, bank, is, one,...  \n",
       "8   [[job, description, ibm, is, seeking, to, hire...  \n",
       "9   [[title, field, solutions, engineer, location,...  \n",
       "10  [[project, manager, government, public, jansse...  \n",
       "11  [[certified, medicine, aide, area, of, interes...  \n",
       "12  [[at, ingersoll, rand, we, passionate, about, ...  \n",
       "13  [[hamilton, construction, in, businesssince, a...  \n",
       "14  [[business, unit, directemployers, title, mana...  \n",
       "15  [[auto, req, id, title, assistant, manager, em...  \n",
       "16  [[johns, hopkins, employs, more, than, people,...  \n",
       "17  [[job, description, as, a, cna, you, will, per...  \n",
       "18  [[ge, capital, capital, international, bank, b...  \n",
       "19  [[title, greater, china, tas, referrals, china...  \n",
       "20  [[merchandiser, the, merchandiser, is, respons...  \n",
       "21  [[eurofins, is, the, world, leader, in, the, f...  \n",
       "22  [[the, right, ingredients, makes, all, the, di...  \n",
       "23  [[job, retail, clerk, job, overview, provides,...  \n",
       "24  [[keypoint, government, solutions, is, current...  \n",
       "25  [[sales, lead, premier, brands, and, consumer,...  \n",
       "26  [[job, title, occupational, therapist, area, o...  \n",
       "27  [[title, location, texas, the, regional, accou...  \n",
       "28  [[title, respiratory, therapy, intern, location]]  \n",
       "29  [[the, influencer, sales, group, solution, arc...  \n",
       "..                                                ...  \n",
       "70  [[title, contract, svc, admin, location, unite...  \n",
       "71  [[job, description, the, occupational, therapi...  \n",
       "72  [[systems, engineer, location, al, huntsville,...  \n",
       "73  [[position, purpose, associates, in, support, ...  \n",
       "74  [[description, education, corporation, of, ame...  \n",
       "75  [[job, title, physical, therapist, area, of, i...  \n",
       "76  [[busser, property, paradise, point, resort, s...  \n",
       "77  [[epic, health, services, is, looking, for, bi...  \n",
       "78  [[title, software, engineer, location, other, ...  \n",
       "79  [[registered, nurse, area, of, interest, nursi...  \n",
       "80  [[description, job, title, electrical, enginee...  \n",
       "81  [[position, purpose, cashiers, play, a, critic...  \n",
       "82  [[deloitte, is, one, of, the, leading, profess...  \n",
       "83  [[description, greets, patients, and, visitors...  \n",
       "84  [[job, description, join, our, talented, team,...  \n",
       "85  [[role, technology, architect, assignment, it,...  \n",
       "86  [[observes, and, reports, activities, and, inc...  \n",
       "87  [[about, the, job, do, you, know, why, domino,...  \n",
       "88  [[registered, dietician, at, aseracare, hospic...  \n",
       "89  [[at, golden, livingcenters, we, care, for, ev...  \n",
       "90  [[energy, efficiency, and, low, income, repres...  \n",
       "91  [[office, coordinator, geriatric, assessment, ...  \n",
       "92  [[customer, service, representative, are, you,...  \n",
       "93  [[kforce, has, a, client, in, beaverton, orego...  \n",
       "94  [[kforce, has, a, client, in, stamford, connec...  \n",
       "95  [[here, at, golden, livingcenters, we, rely, o...  \n",
       "96  [[description, summary, at, gamestop, we, refe...  \n",
       "97  [[updated, job, title, service, clerk, bagger,...  \n",
       "98  [[schedule, job, id, the, sales, coordinator, ...  \n",
       "99  [[temp, support, mall, of, louisiana, location...  \n",
       "\n",
       "[100 rows x 10 columns]"
      ]
     },
     "execution_count": 62,
     "metadata": {},
     "output_type": "execute_result"
    }
   ],
   "source": [
    "sampleDF = pandas.read_csv('../data/SampleJobAds.csv', index_col = False)\n",
    "#We need to convert the last couple columns from strings to lists\n",
    "sampleDF['tokenized_sents'] = sampleDF['tokenized_sents'].apply(lambda x: eval(x))\n",
    "sampleDF['normalized_sents'] = sampleDF['normalized_sents'].apply(lambda x: eval(x))\n",
    "sampleDF"
   ]
  },
  {
   "cell_type": "markdown",
   "metadata": {},
   "source": [
    "Let's define a function to calculate the likelihood of each job description. The idea is borrowed from [Matt Taddy](https://github.com/RaRe-Technologies/gensim/blob/develop/docs/notebooks/deepir.ipynb), who shows how a document can be characterized as the inner product of the distance between its words. In other words, this analysis will show which job ads are most likely to find an appropriate pool of workers in the resume bank that generated our word embedding.  "
   ]
  },
  {
   "cell_type": "code",
   "execution_count": 63,
   "metadata": {},
   "outputs": [],
   "source": [
    "def adprob(ad, model):\n",
    "    sen_scores = model.score(ad, len(ad))\n",
    "    ad_score = sen_scores.mean()\n",
    "    return ad_score"
   ]
  },
  {
   "cell_type": "markdown",
   "metadata": {},
   "source": [
    "Let's apply this function to every job description."
   ]
  },
  {
   "cell_type": "code",
   "execution_count": 64,
   "metadata": {},
   "outputs": [],
   "source": [
    "sampleDF['likelihood'] = sampleDF['normalized_sents'].apply(lambda x: adprob(x, resume_model))"
   ]
  },
  {
   "cell_type": "markdown",
   "metadata": {},
   "source": [
    "Let's take a look at the top 5 job descriptions that have the highest likelihood."
   ]
  },
  {
   "cell_type": "code",
   "execution_count": 65,
   "metadata": {},
   "outputs": [
    {
     "name": "stdout",
     "output_type": "stream",
     "text": [
      "Project Engineering including below jobs: 1. Hardware designing of DCS 2. Software configurations, programming, testing of DCS/PLC 3. Testing and FAT 4. Installation and commissioning. 5. Material ordering, approvals of datasheets. 6. HSE compliance as per HSE directives of HON. BE / B. Tech - Instrumentation / Control / Electronics. **Job:** **Engineering* **Title:** *Systems Engineer* **Location:** *IND-MH-Pune* **Requisition ID:** *00302235*\n",
      "\n",
      "\n",
      "Like talking on the phone? Enjoy giving great customer service? Use those skills while working flexible,part time hours.\n",
      "\n",
      "\n",
      "*# Positions:* 2 *Location:* US - UT - Orem *Category:* Engineering\n",
      "\n",
      "\n",
      "Title: Respiratory Therapy, Intern Location: XX-XX-XX\n",
      "\n",
      "\n",
      "Title: Position Opening at Illinois Wesleyan University Location: US-IL-Bloomington\n",
      "\n",
      "\n"
     ]
    }
   ],
   "source": [
    "for ad in sampleDF.sort_values(by = 'likelihood', ascending = False)['jobDescription'][:5]:\n",
    "    print (ad + '\\n\\n')"
   ]
  },
  {
   "cell_type": "markdown",
   "metadata": {},
   "source": [
    "Let's take a look at the bottom 5 job descriptions that have the lowest likelihood to be matched by the resumes."
   ]
  },
  {
   "cell_type": "code",
   "execution_count": 66,
   "metadata": {},
   "outputs": [
    {
     "name": "stdout",
     "output_type": "stream",
     "text": [
      "Title: Contract Svc Admin Location: United States\\-Michigan\\-Caledonia Other Locations: JOB SUMMARY: ESSENTIAL DUTIES AND RESPONSIBILITIES: _ Other duties may be assigned:_ Prepare GPO rebate data for upload into STARR system oEnsure accurate data loads oProcess data into required reports oEnsure that GPOs are paid accurately and timely Prepare Sales Tracing data for upload into STARR system oEnsure accurate data loads oProcess data into required reports Prepare Rebate data for upload into STARR system oEnsure accurate data loads oProcess data into required reports oEnsure that distributors are accurately taking rebates against open invoices Manage work flow throughout the sales contracting process Ensure compliance with contract policies and performance requirements Assist in the preparation of charts and sales reports and analytics for customers and Management oQuarterly Reports oSales Tracing Answers customers and internal sale/customer service staff questions regarding pricing Manage all Pricing requests for GPO assignments and requests Other projects and tasks as assigned EDUCATION, EXPERIENCE AND QUALIFICATIONS: 4 year college degree in Business preferred Experience in pricing administration Experience in corporate administration Excellent Verbal and Written Communication Skills Excellent Computer Skills oHands on knowledge of Sales tracings highly recommended oMicrosoft Excel, Word, and Outlook a must Proven track record of successful project management Excellent Interpersonal Skills Excellent Customer Service orientation and skills \\#CB JOB SUMMARY: ESSENTIAL DUTIES AND RESPONSIBILITIES: _ Other duties may be assigned:_ Prepare GPO rebate data for upload into STARR system oEnsure accurate data loads oProcess data into required reports oEnsure that GPOs are paid accurately and timely Prepare Sales Tracing data for upload into STARR system oEnsure accurate data loads oProcess data into required reports Prepare Rebate data for upload into STARR system oEnsure accurate data loads oProcess data into required reports oEnsure that distributors are accurately taking rebates against open invoices Manage work flow throughout the sales contracting process Ensure compliance with contract policies and performance requirements Assist in the preparation of charts and sales reports and analytics for customers and Management oQuarterly Reports oSales Tracing Answers customers and internal sale/customer service staff questions regarding pricing Manage all Pricing requests for GPO assignments and requests Other projects and tasks as assigned EDUCATION, EXPERIENCE AND QUALIFICATIONS: 4 year college degree in Business preferred Experience in pricing administration Experience in corporate administration Excellent Verbal and Written Communication Skills Excellent Computer Skills oHands on knowledge of Sales tracings highly recommended oMicrosoft Excel, Word, and Outlook a must Proven track record of successful project management Excellent Interpersonal Skills Excellent Customer Service orientation and skills\n",
      "\n",
      "\n",
      "Kforce has a client in Beaverton, Oregon (OR) that is seeking an IT Project Manager.Responsibilities: * Manages projects with a duration of typically 12 months or less, budget 1 mnl, multiple business functions, with a regional scope * Works with project sponsors and customers to define; business benefits, business requirements, and project scope * Manages change control against scope and its impacts to time, cost, and quality * Defines project schedule, manages task assignments, tracks work against schedule * Facilitates level of effort estimating and develops asset acquisition requirements * Tracks and reports on actuals against forecast * Provides guidance and direction on project methodology and best practices to standard project methodology * Defines and manages project success / delivery criteria and monitors and reports on the realization of project success against criteria set * Defines risk management plan, analyzes risk for criticality, probability, and impact * Develops risk mitigation strategies, assigns owner and actions * Lead meetings and project agenda * Bachelor's degree and minimum of 5 years directly relevant work experience; one of the following alternatives may be accepted: PhD or Law + 3 years; Masters + 4 years; Associate's degree + 6 years; High School diploma or equivalent + 7 years * 5 years of project / program management experience * Experience delivering regional projects * Experience with formal project management methodology * Experience with scheduling, calendaring, working with multiple teams, timelines and demands\n",
      "\n",
      "\n",
      "Auto req ID 41872BR Title ASSISTANT MANAGER Employment Status: PT State/Province: Texas City: Watauga Job Description Assistant Store Managersat Dollar Tree are responsible for the following: * Assisting in the realization of your stores maximum profit contribution * Protect all company assets * Maintain a high level of good customer service * Opening and closing the store * Creative problem solving in the areas of: * Associate Development * Maximizing Sales Potential * Controlling Expense and Shrink * Merchandise Display * Store Signage PlacementWhat we need from you: * A strong desire to grow within the company * Minimum of 3 years prior retail management experience * Background in hardlines or variety merchandise * Big box experience a plus * Strong productivity management ability in freight processing * Strong communication, interpersonal and written skills * Ability to work in a high energy team environment Dollar Tree is an equal opportunity employer.\n",
      "\n",
      "\n",
      "Job Description As a CNA, you will perform a variety of home care duties to enhance the health, well-being and quality of life for your patients. All routine nursing care and services will be done in accordance with each patient''s individual plan of care. Your specific duties for this role will include: * Providing personal care and assistance with activities of daily living (ADLs), including mobility transfer, walking, grooming, bathing, dressing or undressing, eating, or toileting * Performing incidental household services essential to the patient''s health care at home as necessary to prevent or postpone institutionalization * Reporting any unusual circumstance in the patient's condition or home environment to the primary RN or Team Leader * Completing a clinical note for each visit within required timeframes, which must be incorporated into the patient''s record * Participating in the in-services program and completing at least six hours of in-services every six months * Participating in the daily report * Adhering to and supports the agency's care management model * Participating in staff conference regarding patient care * Participating in QA/QI plan or process * Providing all care according to the aide plan of care and/or assignment sheet and in accordance to State Practice Act or related regulations * Recording and notifying RN or Team Leader of any variations from the established parameters or of any changes in the patient''s condition Required Skills * High School Diploma or equivalent * Excellent interpersonal and communication skills * Team player who will always step in to offer support * Enthusiasm, drive and reliability * Responsive and proactive approach to problem solving * Upbeat and positive personality * Commitment to providing the highest quality of care * Ability to interact with patients and their families in an empathetic and professional manner * Current state CNA certification * Current driver''s license, auto insurance, and access to a reliable vehicle * CPR certification, preferred Required Experience * 1 year nursing assistant experience, preferred Company Location Muscle Shoals AL HSP (72801) *Tracking Code:* 210387 *Job location:* Muscle Shoals, Alabama, United States *Position Type:* PRN\n",
      "\n",
      "\n",
      "Epic Health Services, Inc. is looking for Bilingual (Spanish) Registered Nurses (RN) and Licensed Practical Nurses (LPN) for Pediatric Private Duty Nursing in **Freehold**: **Job Responsibilities Include:** * Provide skilled nursing care to pediatric and adult patients in a home setting * Assess home health patients to identify the physical, psycho-social, and environmental needs * Implement/develop/document the plan of care to ensure quality and continuity of care for pediatric patient * Provide health education to patient and or caregiver * Provide effective communication to patient/family, team members, and other health care professionals **Job Requirements:** * Must have an active nurse license in the state of employment * Minimum 6 months of licensed hands-on experience in the past 36 months as a LPN or RN (excluding clinical rotations) * LPN or RN home health or private duty nursing preferred * Pediatric trach and vent experience preferred * Current CPR accredited by American Heart Association and/or American Red Cross (certificate must be healthcare provider or healthcare professional). **Benefits:** * Competitive Weekly Pay * Direct Deposit * Healthcare Benefits * 401K * Flexible Schedules * Paid Training *CB* *Business Sector:* Epic Health Services Inc. *Location:* NJ-Toms River *General Area:* Freehold, NJ\n",
      "\n",
      "\n"
     ]
    }
   ],
   "source": [
    "for ad in sampleDF.sort_values(by = 'likelihood')['jobDescription'][:5]:\n",
    "    print (ad + '\\n\\n')"
   ]
  },
  {
   "cell_type": "markdown",
   "metadata": {},
   "source": [
    "We can do the same for phrases corresponding to job skills."
   ]
  },
  {
   "cell_type": "code",
   "execution_count": 67,
   "metadata": {},
   "outputs": [
    {
     "data": {
      "text/plain": [
       "-14.355247"
      ]
     },
     "execution_count": 67,
     "metadata": {},
     "output_type": "execute_result"
    }
   ],
   "source": [
    "adprob([[\"python\", \"programming\"]], resume_model)"
   ]
  },
  {
   "cell_type": "code",
   "execution_count": 68,
   "metadata": {},
   "outputs": [
    {
     "data": {
      "text/plain": [
       "-33.427353"
      ]
     },
     "execution_count": 68,
     "metadata": {},
     "output_type": "execute_result"
    }
   ],
   "source": [
    "adprob([[\"julia\", \"programming\"]], resume_model)"
   ]
  },
  {
   "cell_type": "markdown",
   "metadata": {},
   "source": [
    "Basic programming appears to be more likely in this pool of resumes than python programming. \n",
    "\n",
    "We can also do some simple statistics. Unfortunately, we don't have a large sample here. Nevertheless, let's first look at the mean likelihood score of each hiring organization. Some organizations will do well to hire on CareerBuilder...while others will not."
   ]
  },
  {
   "cell_type": "code",
   "execution_count": 69,
   "metadata": {},
   "outputs": [
    {
     "data": {
      "text/html": [
       "<div>\n",
       "<style scoped>\n",
       "    .dataframe tbody tr th:only-of-type {\n",
       "        vertical-align: middle;\n",
       "    }\n",
       "\n",
       "    .dataframe tbody tr th {\n",
       "        vertical-align: top;\n",
       "    }\n",
       "\n",
       "    .dataframe thead th {\n",
       "        text-align: right;\n",
       "    }\n",
       "</style>\n",
       "<table border=\"1\" class=\"dataframe\">\n",
       "  <thead>\n",
       "    <tr style=\"text-align: right;\">\n",
       "      <th></th>\n",
       "      <th>likelihood</th>\n",
       "    </tr>\n",
       "    <tr>\n",
       "      <th>hiringOrganization_organizationName</th>\n",
       "      <th></th>\n",
       "    </tr>\n",
       "  </thead>\n",
       "  <tbody>\n",
       "    <tr>\n",
       "      <th>Honeywell</th>\n",
       "      <td>-25.974749</td>\n",
       "    </tr>\n",
       "    <tr>\n",
       "      <th>Legrand North America</th>\n",
       "      <td>-40.500500</td>\n",
       "    </tr>\n",
       "    <tr>\n",
       "      <th>Franciscan St. Eilzabeth Health</th>\n",
       "      <td>-43.167206</td>\n",
       "    </tr>\n",
       "    <tr>\n",
       "      <th>Illinois Wesleyan University</th>\n",
       "      <td>-52.681591</td>\n",
       "    </tr>\n",
       "    <tr>\n",
       "      <th>Gold's Gym</th>\n",
       "      <td>-75.230896</td>\n",
       "    </tr>\n",
       "    <tr>\n",
       "      <th>Jewel-Osco</th>\n",
       "      <td>-80.965462</td>\n",
       "    </tr>\n",
       "    <tr>\n",
       "      <th>Ingersoll Rand</th>\n",
       "      <td>-81.494949</td>\n",
       "    </tr>\n",
       "    <tr>\n",
       "      <th>Kaiser Permanente</th>\n",
       "      <td>-85.523113</td>\n",
       "    </tr>\n",
       "    <tr>\n",
       "      <th>Hallmark Health</th>\n",
       "      <td>-86.037094</td>\n",
       "    </tr>\n",
       "    <tr>\n",
       "      <th>Dr Pepper Snapple Group</th>\n",
       "      <td>-99.421326</td>\n",
       "    </tr>\n",
       "    <tr>\n",
       "      <th>General Dynamics Mission Systems</th>\n",
       "      <td>-101.916016</td>\n",
       "    </tr>\n",
       "    <tr>\n",
       "      <th>Emory Healthcare</th>\n",
       "      <td>-102.271820</td>\n",
       "    </tr>\n",
       "    <tr>\n",
       "      <th>Genesis Rehabilitation</th>\n",
       "      <td>-105.064774</td>\n",
       "    </tr>\n",
       "    <tr>\n",
       "      <th>EY</th>\n",
       "      <td>-105.651237</td>\n",
       "    </tr>\n",
       "    <tr>\n",
       "      <th>Hewlett Packard Enterprise Company</th>\n",
       "      <td>-106.875103</td>\n",
       "    </tr>\n",
       "    <tr>\n",
       "      <th>Dominos Pizza</th>\n",
       "      <td>-116.374700</td>\n",
       "    </tr>\n",
       "    <tr>\n",
       "      <th>Intel</th>\n",
       "      <td>-117.038742</td>\n",
       "    </tr>\n",
       "    <tr>\n",
       "      <th>East West Bank</th>\n",
       "      <td>-119.060699</td>\n",
       "    </tr>\n",
       "    <tr>\n",
       "      <th>DCS Corporation</th>\n",
       "      <td>-119.501137</td>\n",
       "    </tr>\n",
       "    <tr>\n",
       "      <th>Ken Garff</th>\n",
       "      <td>-120.361084</td>\n",
       "    </tr>\n",
       "    <tr>\n",
       "      <th>EMC</th>\n",
       "      <td>-121.622444</td>\n",
       "    </tr>\n",
       "    <tr>\n",
       "      <th>Eurofins Lancaster Laboratories</th>\n",
       "      <td>-122.223595</td>\n",
       "    </tr>\n",
       "    <tr>\n",
       "      <th>Kettering Medical Center</th>\n",
       "      <td>-122.765350</td>\n",
       "    </tr>\n",
       "    <tr>\n",
       "      <th>Kronos Incorporated</th>\n",
       "      <td>-122.840622</td>\n",
       "    </tr>\n",
       "    <tr>\n",
       "      <th>HCR ManorCare</th>\n",
       "      <td>-123.508369</td>\n",
       "    </tr>\n",
       "    <tr>\n",
       "      <th>Golfsmith International, Inc.</th>\n",
       "      <td>-123.573792</td>\n",
       "    </tr>\n",
       "    <tr>\n",
       "      <th>Kelly Services</th>\n",
       "      <td>-130.990227</td>\n",
       "    </tr>\n",
       "    <tr>\n",
       "      <th>IBM</th>\n",
       "      <td>-131.666611</td>\n",
       "    </tr>\n",
       "    <tr>\n",
       "      <th>Harris Corporation</th>\n",
       "      <td>-131.853256</td>\n",
       "    </tr>\n",
       "    <tr>\n",
       "      <th>Deutsche Bank</th>\n",
       "      <td>-132.499237</td>\n",
       "    </tr>\n",
       "    <tr>\n",
       "      <th>...</th>\n",
       "      <td>...</td>\n",
       "    </tr>\n",
       "    <tr>\n",
       "      <th>Laboratory Corporation of America</th>\n",
       "      <td>-145.438156</td>\n",
       "    </tr>\n",
       "    <tr>\n",
       "      <th>Education Corporation of America</th>\n",
       "      <td>-146.955536</td>\n",
       "    </tr>\n",
       "    <tr>\n",
       "      <th>KPMG</th>\n",
       "      <td>-148.719376</td>\n",
       "    </tr>\n",
       "    <tr>\n",
       "      <th>Kelle's Transport Service Inc</th>\n",
       "      <td>-159.437958</td>\n",
       "    </tr>\n",
       "    <tr>\n",
       "      <th>Florida Hospital</th>\n",
       "      <td>-162.604172</td>\n",
       "    </tr>\n",
       "    <tr>\n",
       "      <th>Learning Care Group</th>\n",
       "      <td>-167.503754</td>\n",
       "    </tr>\n",
       "    <tr>\n",
       "      <th>J&amp;J Family of Companies</th>\n",
       "      <td>-168.375862</td>\n",
       "    </tr>\n",
       "    <tr>\n",
       "      <th>ICF International</th>\n",
       "      <td>-168.376930</td>\n",
       "    </tr>\n",
       "    <tr>\n",
       "      <th>GE</th>\n",
       "      <td>-169.097389</td>\n",
       "    </tr>\n",
       "    <tr>\n",
       "      <th>Humana</th>\n",
       "      <td>-172.795746</td>\n",
       "    </tr>\n",
       "    <tr>\n",
       "      <th>Footprint Retail Services</th>\n",
       "      <td>-174.338989</td>\n",
       "    </tr>\n",
       "    <tr>\n",
       "      <th>Express Scripts</th>\n",
       "      <td>-177.804581</td>\n",
       "    </tr>\n",
       "    <tr>\n",
       "      <th>Deloitte</th>\n",
       "      <td>-183.557471</td>\n",
       "    </tr>\n",
       "    <tr>\n",
       "      <th>Golden Living</th>\n",
       "      <td>-192.657858</td>\n",
       "    </tr>\n",
       "    <tr>\n",
       "      <th>Eaton Corporation</th>\n",
       "      <td>-209.906540</td>\n",
       "    </tr>\n",
       "    <tr>\n",
       "      <th>GPC - Genuine Parts Company</th>\n",
       "      <td>-212.211792</td>\n",
       "    </tr>\n",
       "    <tr>\n",
       "      <th>JPMorgan Chase</th>\n",
       "      <td>-228.657028</td>\n",
       "    </tr>\n",
       "    <tr>\n",
       "      <th>Hitachi Data Systems</th>\n",
       "      <td>-229.553279</td>\n",
       "    </tr>\n",
       "    <tr>\n",
       "      <th>Destination Hotels &amp; Resorts</th>\n",
       "      <td>-263.172791</td>\n",
       "    </tr>\n",
       "    <tr>\n",
       "      <th>HamiltonConstructionCompany</th>\n",
       "      <td>-324.117249</td>\n",
       "    </tr>\n",
       "    <tr>\n",
       "      <th>GameStop</th>\n",
       "      <td>-328.072083</td>\n",
       "    </tr>\n",
       "    <tr>\n",
       "      <th>La Quinta Inns &amp; Suites</th>\n",
       "      <td>-343.545471</td>\n",
       "    </tr>\n",
       "    <tr>\n",
       "      <th>Home Depot</th>\n",
       "      <td>-357.972627</td>\n",
       "    </tr>\n",
       "    <tr>\n",
       "      <th>HMSHOST</th>\n",
       "      <td>-409.498688</td>\n",
       "    </tr>\n",
       "    <tr>\n",
       "      <th>LHC Group</th>\n",
       "      <td>-413.633423</td>\n",
       "    </tr>\n",
       "    <tr>\n",
       "      <th>G6 Hospitality</th>\n",
       "      <td>-468.546722</td>\n",
       "    </tr>\n",
       "    <tr>\n",
       "      <th>Epic Health Services</th>\n",
       "      <td>-527.781067</td>\n",
       "    </tr>\n",
       "    <tr>\n",
       "      <th>Kforce</th>\n",
       "      <td>-762.142422</td>\n",
       "    </tr>\n",
       "    <tr>\n",
       "      <th>Dollar Tree</th>\n",
       "      <td>-818.945801</td>\n",
       "    </tr>\n",
       "    <tr>\n",
       "      <th>Hill-Rom</th>\n",
       "      <td>-2675.631592</td>\n",
       "    </tr>\n",
       "  </tbody>\n",
       "</table>\n",
       "<p>67 rows × 1 columns</p>\n",
       "</div>"
      ],
      "text/plain": [
       "                                      likelihood\n",
       "hiringOrganization_organizationName             \n",
       "Honeywell                             -25.974749\n",
       "Legrand North America                 -40.500500\n",
       "Franciscan St. Eilzabeth Health       -43.167206\n",
       "Illinois Wesleyan University          -52.681591\n",
       "Gold's Gym                            -75.230896\n",
       "Jewel-Osco                            -80.965462\n",
       "Ingersoll Rand                        -81.494949\n",
       "Kaiser Permanente                     -85.523113\n",
       "Hallmark Health                       -86.037094\n",
       "Dr Pepper Snapple Group               -99.421326\n",
       "General Dynamics Mission Systems     -101.916016\n",
       "Emory Healthcare                     -102.271820\n",
       "Genesis Rehabilitation               -105.064774\n",
       "EY                                   -105.651237\n",
       "Hewlett Packard Enterprise Company   -106.875103\n",
       "Dominos Pizza                        -116.374700\n",
       "Intel                                -117.038742\n",
       "East West Bank                       -119.060699\n",
       "DCS Corporation                      -119.501137\n",
       "Ken Garff                            -120.361084\n",
       "EMC                                  -121.622444\n",
       "Eurofins Lancaster Laboratories      -122.223595\n",
       "Kettering Medical Center             -122.765350\n",
       "Kronos Incorporated                  -122.840622\n",
       "HCR ManorCare                        -123.508369\n",
       "Golfsmith International, Inc.        -123.573792\n",
       "Kelly Services                       -130.990227\n",
       "IBM                                  -131.666611\n",
       "Harris Corporation                   -131.853256\n",
       "Deutsche Bank                        -132.499237\n",
       "...                                          ...\n",
       "Laboratory Corporation of America    -145.438156\n",
       "Education Corporation of America     -146.955536\n",
       "KPMG                                 -148.719376\n",
       "Kelle's Transport Service Inc        -159.437958\n",
       "Florida Hospital                     -162.604172\n",
       "Learning Care Group                  -167.503754\n",
       "J&J Family of Companies              -168.375862\n",
       "ICF International                    -168.376930\n",
       "GE                                   -169.097389\n",
       "Humana                               -172.795746\n",
       "Footprint Retail Services            -174.338989\n",
       "Express Scripts                      -177.804581\n",
       "Deloitte                             -183.557471\n",
       "Golden Living                        -192.657858\n",
       "Eaton Corporation                    -209.906540\n",
       "GPC - Genuine Parts Company          -212.211792\n",
       "JPMorgan Chase                       -228.657028\n",
       "Hitachi Data Systems                 -229.553279\n",
       "Destination Hotels & Resorts         -263.172791\n",
       "HamiltonConstructionCompany          -324.117249\n",
       "GameStop                             -328.072083\n",
       "La Quinta Inns & Suites              -343.545471\n",
       "Home Depot                           -357.972627\n",
       "HMSHOST                              -409.498688\n",
       "LHC Group                            -413.633423\n",
       "G6 Hospitality                       -468.546722\n",
       "Epic Health Services                 -527.781067\n",
       "Kforce                               -762.142422\n",
       "Dollar Tree                          -818.945801\n",
       "Hill-Rom                            -2675.631592\n",
       "\n",
       "[67 rows x 1 columns]"
      ]
     },
     "execution_count": 69,
     "metadata": {},
     "output_type": "execute_result"
    }
   ],
   "source": [
    "sampleDF.groupby(\"hiringOrganization_organizationName\")[['likelihood']].mean().sort_values('likelihood', ascending = False)"
   ]
  },
  {
   "cell_type": "markdown",
   "metadata": {},
   "source": [
    "We can also look at the mean likelihood of each state."
   ]
  },
  {
   "cell_type": "code",
   "execution_count": 70,
   "metadata": {},
   "outputs": [
    {
     "data": {
      "text/html": [
       "<div>\n",
       "<style scoped>\n",
       "    .dataframe tbody tr th:only-of-type {\n",
       "        vertical-align: middle;\n",
       "    }\n",
       "\n",
       "    .dataframe tbody tr th {\n",
       "        vertical-align: top;\n",
       "    }\n",
       "\n",
       "    .dataframe thead th {\n",
       "        text-align: right;\n",
       "    }\n",
       "</style>\n",
       "<table border=\"1\" class=\"dataframe\">\n",
       "  <thead>\n",
       "    <tr style=\"text-align: right;\">\n",
       "      <th></th>\n",
       "      <th>likelihood</th>\n",
       "    </tr>\n",
       "    <tr>\n",
       "      <th>jobLocation_address_region</th>\n",
       "      <th></th>\n",
       "    </tr>\n",
       "  </thead>\n",
       "  <tbody>\n",
       "    <tr>\n",
       "      <th>Utah</th>\n",
       "      <td>-40.500500</td>\n",
       "    </tr>\n",
       "    <tr>\n",
       "      <th>Montana</th>\n",
       "      <td>-63.730721</td>\n",
       "    </tr>\n",
       "    <tr>\n",
       "      <th>Connecticut</th>\n",
       "      <td>-67.623466</td>\n",
       "    </tr>\n",
       "    <tr>\n",
       "      <th>Kansas</th>\n",
       "      <td>-85.259682</td>\n",
       "    </tr>\n",
       "    <tr>\n",
       "      <th>Tennessee</th>\n",
       "      <td>-93.188822</td>\n",
       "    </tr>\n",
       "    <tr>\n",
       "      <th>Illinois</th>\n",
       "      <td>-93.989101</td>\n",
       "    </tr>\n",
       "    <tr>\n",
       "      <th>New Hampshire</th>\n",
       "      <td>-94.109772</td>\n",
       "    </tr>\n",
       "    <tr>\n",
       "      <th>Georgia</th>\n",
       "      <td>-102.271820</td>\n",
       "    </tr>\n",
       "    <tr>\n",
       "      <th>South Carolina</th>\n",
       "      <td>-103.527328</td>\n",
       "    </tr>\n",
       "    <tr>\n",
       "      <th>North Carolina</th>\n",
       "      <td>-108.747134</td>\n",
       "    </tr>\n",
       "    <tr>\n",
       "      <th>Ohio</th>\n",
       "      <td>-122.494473</td>\n",
       "    </tr>\n",
       "    <tr>\n",
       "      <th>Louisiana</th>\n",
       "      <td>-138.063202</td>\n",
       "    </tr>\n",
       "    <tr>\n",
       "      <th>Florida</th>\n",
       "      <td>-147.725601</td>\n",
       "    </tr>\n",
       "    <tr>\n",
       "      <th>California</th>\n",
       "      <td>-147.850291</td>\n",
       "    </tr>\n",
       "    <tr>\n",
       "      <th>Maryland</th>\n",
       "      <td>-151.947347</td>\n",
       "    </tr>\n",
       "    <tr>\n",
       "      <th>Arizona</th>\n",
       "      <td>-154.733734</td>\n",
       "    </tr>\n",
       "    <tr>\n",
       "      <th>Minnesota</th>\n",
       "      <td>-159.437958</td>\n",
       "    </tr>\n",
       "    <tr>\n",
       "      <th>Virginia</th>\n",
       "      <td>-160.932640</td>\n",
       "    </tr>\n",
       "    <tr>\n",
       "      <th>Wisconsin</th>\n",
       "      <td>-170.760437</td>\n",
       "    </tr>\n",
       "    <tr>\n",
       "      <th>Missouri</th>\n",
       "      <td>-177.804581</td>\n",
       "    </tr>\n",
       "    <tr>\n",
       "      <th>South Dakota</th>\n",
       "      <td>-180.824776</td>\n",
       "    </tr>\n",
       "    <tr>\n",
       "      <th>Nebraska</th>\n",
       "      <td>-194.792297</td>\n",
       "    </tr>\n",
       "    <tr>\n",
       "      <th>Kentucky</th>\n",
       "      <td>-200.726387</td>\n",
       "    </tr>\n",
       "    <tr>\n",
       "      <th>Massachusetts</th>\n",
       "      <td>-205.022661</td>\n",
       "    </tr>\n",
       "    <tr>\n",
       "      <th>Oklahoma</th>\n",
       "      <td>-209.906540</td>\n",
       "    </tr>\n",
       "    <tr>\n",
       "      <th>Pennsylvania</th>\n",
       "      <td>-219.999863</td>\n",
       "    </tr>\n",
       "    <tr>\n",
       "      <th>New Jersey</th>\n",
       "      <td>-237.326090</td>\n",
       "    </tr>\n",
       "    <tr>\n",
       "      <th>Alabama</th>\n",
       "      <td>-320.879336</td>\n",
       "    </tr>\n",
       "    <tr>\n",
       "      <th>New York</th>\n",
       "      <td>-328.072083</td>\n",
       "    </tr>\n",
       "    <tr>\n",
       "      <th>Indiana</th>\n",
       "      <td>-328.259613</td>\n",
       "    </tr>\n",
       "    <tr>\n",
       "      <th>Texas</th>\n",
       "      <td>-349.076205</td>\n",
       "    </tr>\n",
       "    <tr>\n",
       "      <th>New Mexico</th>\n",
       "      <td>-447.911438</td>\n",
       "    </tr>\n",
       "    <tr>\n",
       "      <th>Oregon</th>\n",
       "      <td>-453.519656</td>\n",
       "    </tr>\n",
       "    <tr>\n",
       "      <th>Michigan</th>\n",
       "      <td>-1449.594093</td>\n",
       "    </tr>\n",
       "  </tbody>\n",
       "</table>\n",
       "</div>"
      ],
      "text/plain": [
       "                             likelihood\n",
       "jobLocation_address_region             \n",
       "Utah                         -40.500500\n",
       "Montana                      -63.730721\n",
       "Connecticut                  -67.623466\n",
       "Kansas                       -85.259682\n",
       "Tennessee                    -93.188822\n",
       "Illinois                     -93.989101\n",
       "New Hampshire                -94.109772\n",
       "Georgia                     -102.271820\n",
       "South Carolina              -103.527328\n",
       "North Carolina              -108.747134\n",
       "Ohio                        -122.494473\n",
       "Louisiana                   -138.063202\n",
       "Florida                     -147.725601\n",
       "California                  -147.850291\n",
       "Maryland                    -151.947347\n",
       "Arizona                     -154.733734\n",
       "Minnesota                   -159.437958\n",
       "Virginia                    -160.932640\n",
       "Wisconsin                   -170.760437\n",
       "Missouri                    -177.804581\n",
       "South Dakota                -180.824776\n",
       "Nebraska                    -194.792297\n",
       "Kentucky                    -200.726387\n",
       "Massachusetts               -205.022661\n",
       "Oklahoma                    -209.906540\n",
       "Pennsylvania                -219.999863\n",
       "New Jersey                  -237.326090\n",
       "Alabama                     -320.879336\n",
       "New York                    -328.072083\n",
       "Indiana                     -328.259613\n",
       "Texas                       -349.076205\n",
       "New Mexico                  -447.911438\n",
       "Oregon                      -453.519656\n",
       "Michigan                   -1449.594093"
      ]
     },
     "execution_count": 70,
     "metadata": {},
     "output_type": "execute_result"
    }
   ],
   "source": [
    "sampleDF.groupby(\"jobLocation_address_region\")[['likelihood']].mean().sort_values('likelihood', ascending = False)"
   ]
  },
  {
   "cell_type": "markdown",
   "metadata": {},
   "source": [
    "You would increase the sample size if you want to do a more serious study.\n",
    "\n",
    "## <span style=\"color:red\">*Exercise 4a*</span>\n",
    "\n",
    "<span style=\"color:red\">**Do only 4a or 4b.** Construct cells immediately below this that calculate the scores for a small sample of documents from outside your corpus to identify which are *closest* to your corpus. Then calculate the scores for a few phrases or sentences to identify the ones most likely to have appeared in your corpus. Interrogate patterns associated with these document/phrase scores (e.g., which companies produced job ads most or least likely to find jobseekers in the resume corpus?) What do these patterns suggest about the boundaries of your corpus?"
   ]
  },
  {
   "cell_type": "markdown",
   "metadata": {},
   "source": [
    "# Linguistic Change or Difference\n",
    "\n",
    "Below is code that aligns the dimensions of multiple embeddings arrayed over time or some other dimension and allow identification of semantic chanage as the word vectors change their loadings for focal words. This code comes from the approach piloted at Stanford by William Hamilton, Daniel Jurafsky and Jure Lescovec [here](https://arxiv.org/pdf/1605.09096.pdf). "
   ]
  },
  {
   "cell_type": "code",
   "execution_count": 76,
   "metadata": {},
   "outputs": [],
   "source": [
    "import copy"
   ]
  },
  {
   "cell_type": "code",
   "execution_count": 71,
   "metadata": {},
   "outputs": [],
   "source": [
    "def calc_syn0norm(model):\n",
    "    \"\"\"since syn0norm is now depricated\"\"\"\n",
    "    return (model.wv.syn0 / np.sqrt((model.wv.syn0 ** 2).sum(-1))[..., np.newaxis]).astype(np.float32)\n",
    "\n",
    "def smart_procrustes_align_gensim(base_embed, other_embed, words=None):\n",
    "    \"\"\"Procrustes align two gensim word2vec models (to allow for comparison between same word across models).\n",
    "    Code ported from HistWords <https://github.com/williamleif/histwords> by William Hamilton <wleif@stanford.edu>.\n",
    "    (With help from William. Thank you!)\n",
    "    First, intersect the vocabularies (see `intersection_align_gensim` documentation).\n",
    "    Then do the alignment on the other_embed model.\n",
    "    Replace the other_embed model's syn0 and syn0norm numpy matrices with the aligned version.\n",
    "    Return other_embed.\n",
    "    If `words` is set, intersect the two models' vocabulary with the vocabulary in words (see `intersection_align_gensim` documentation).\n",
    "    \"\"\"\n",
    "    base_embed = copy.copy(base_embed)\n",
    "    other_embed = copy.copy(other_embed)\n",
    "    # make sure vocabulary and indices are aligned\n",
    "    in_base_embed, in_other_embed = intersection_align_gensim(base_embed, other_embed, words=words)\n",
    "\n",
    "    # get the embedding matrices\n",
    "    base_vecs = calc_syn0norm(in_base_embed)\n",
    "    other_vecs = calc_syn0norm(in_other_embed)\n",
    "\n",
    "    # just a matrix dot product with numpy\n",
    "    m = other_vecs.T.dot(base_vecs) \n",
    "    # SVD method from numpy\n",
    "    u, _, v = np.linalg.svd(m)\n",
    "    # another matrix operation\n",
    "    ortho = u.dot(v) \n",
    "    # Replace original array with modified one\n",
    "    # i.e. multiplying the embedding matrix (syn0norm)by \"ortho\"\n",
    "    other_embed.wv.syn0norm = other_embed.wv.syn0 = (calc_syn0norm(other_embed)).dot(ortho)\n",
    "    return other_embed\n",
    "    \n",
    "def intersection_align_gensim(m1,m2, words=None):\n",
    "    \"\"\"\n",
    "    Intersect two gensim word2vec models, m1 and m2.\n",
    "    Only the shared vocabulary between them is kept.\n",
    "    If 'words' is set (as list or set), then the vocabulary is intersected with this list as well.\n",
    "    Indices are re-organized from 0..N in order of descending frequency (=sum of counts from both m1 and m2).\n",
    "    These indices correspond to the new syn0 and syn0norm objects in both gensim models:\n",
    "        -- so that Row 0 of m1.syn0 will be for the same word as Row 0 of m2.syn0\n",
    "        -- you can find the index of any word on the .index2word list: model.index2word.index(word) => 2\n",
    "    The .vocab dictionary is also updated for each model, preserving the count but updating the index.\n",
    "    \"\"\"\n",
    "\n",
    "    # Get the vocab for each model\n",
    "    vocab_m1 = set(m1.wv.vocab.keys())\n",
    "    vocab_m2 = set(m2.wv.vocab.keys())\n",
    "\n",
    "    # Find the common vocabulary\n",
    "    common_vocab = vocab_m1&vocab_m2\n",
    "    if words: common_vocab&=set(words)\n",
    "\n",
    "    # If no alignment necessary because vocab is identical...\n",
    "    if not vocab_m1-common_vocab and not vocab_m2-common_vocab:\n",
    "        return (m1,m2)\n",
    "\n",
    "    # Otherwise sort by frequency (summed for both)\n",
    "    common_vocab = list(common_vocab)\n",
    "    common_vocab.sort(key=lambda w: m1.wv.vocab[w].count + m2.wv.vocab[w].count,reverse=True)\n",
    "\n",
    "    # Then for each model...\n",
    "    for m in [m1,m2]:\n",
    "        # Replace old syn0norm array with new one (with common vocab)\n",
    "        indices = [m.wv.vocab[w].index for w in common_vocab]\n",
    "        old_arr = calc_syn0norm(m)\n",
    "        new_arr = np.array([old_arr[index] for index in indices])\n",
    "        m.wv.syn0norm = m.wv.syn0 = new_arr\n",
    "\n",
    "        # Replace old vocab dictionary with new one (with common vocab)\n",
    "        # and old index2word with new one\n",
    "        m.index2word = common_vocab\n",
    "        old_vocab = m.wv.vocab\n",
    "        new_vocab = {}\n",
    "        for new_index,word in enumerate(common_vocab):\n",
    "            old_vocab_obj=old_vocab[word]\n",
    "            new_vocab[word] = gensim.models.word2vec.Vocab(index=new_index, count=old_vocab_obj.count)\n",
    "        m.wv.vocab = new_vocab\n",
    "\n",
    "    return (m1,m2)"
   ]
  },
  {
   "cell_type": "markdown",
   "metadata": {},
   "source": [
    "In order to explore this, let's get some data that follows a time trend. We'll look at conference proceedings from the American Society for Clinical Oncologists."
   ]
  },
  {
   "cell_type": "code",
   "execution_count": 72,
   "metadata": {},
   "outputs": [],
   "source": [
    "ascoDF = pandas.read_csv(\"../data/ASCO_abstracts.csv\", index_col=0)"
   ]
  },
  {
   "cell_type": "markdown",
   "metadata": {},
   "source": [
    "Prepare for wor2vec:"
   ]
  },
  {
   "cell_type": "code",
   "execution_count": 73,
   "metadata": {},
   "outputs": [],
   "source": [
    "ascoDF['tokenized_sents'] = ascoDF['Body'].apply(lambda x: [lucem_illud_2020.word_tokenize(s) for s in lucem_illud_2020.sent_tokenize(x)])\n",
    "ascoDF['normalized_sents'] = ascoDF['tokenized_sents'].apply(lambda x: [lucem_illud_2020.normalizeTokens(s) for s in x])"
   ]
  },
  {
   "cell_type": "code",
   "execution_count": 94,
   "metadata": {},
   "outputs": [
    {
     "data": {
      "text/html": [
       "<div>\n",
       "<style scoped>\n",
       "    .dataframe tbody tr th:only-of-type {\n",
       "        vertical-align: middle;\n",
       "    }\n",
       "\n",
       "    .dataframe tbody tr th {\n",
       "        vertical-align: top;\n",
       "    }\n",
       "\n",
       "    .dataframe thead th {\n",
       "        text-align: right;\n",
       "    }\n",
       "</style>\n",
       "<table border=\"1\" class=\"dataframe\">\n",
       "  <thead>\n",
       "    <tr style=\"text-align: right;\">\n",
       "      <th></th>\n",
       "      <th>Year</th>\n",
       "      <th>AbstractCategory</th>\n",
       "      <th>Title</th>\n",
       "      <th>FirstAuthor</th>\n",
       "      <th>Body</th>\n",
       "      <th>AbstractPublicationID</th>\n",
       "      <th>tokenized_sents</th>\n",
       "      <th>normalized_sents</th>\n",
       "    </tr>\n",
       "  </thead>\n",
       "  <tbody>\n",
       "    <tr>\n",
       "      <th>0</th>\n",
       "      <td>1995</td>\n",
       "      <td>Lung Cancer</td>\n",
       "      <td>Treatment of non-small cell lung cancer with c...</td>\n",
       "      <td>GP Stathopoulos</td>\n",
       "      <td>Cisplatin compound is established as the main ...</td>\n",
       "      <td>1181</td>\n",
       "      <td>[[Cisplatin, compound, is, established, as, th...</td>\n",
       "      <td>[[cisplatin, compound, establish, main, drug, ...</td>\n",
       "    </tr>\n",
       "    <tr>\n",
       "      <th>1</th>\n",
       "      <td>1995</td>\n",
       "      <td>Breast Cancer</td>\n",
       "      <td>Treatment of primary breast cancer without mas...</td>\n",
       "      <td>A Bluming</td>\n",
       "      <td>Between March 24, 1977, and March 24, 1983, 15...</td>\n",
       "      <td>270</td>\n",
       "      <td>[[Between, March, 24, 1977, and, March, 24, 19...</td>\n",
       "      <td>[[march, march, woman, primary, breast, cancer...</td>\n",
       "    </tr>\n",
       "    <tr>\n",
       "      <th>2</th>\n",
       "      <td>1995</td>\n",
       "      <td>Gynecologic Cancer</td>\n",
       "      <td>Treatment of relapsed ovarian carcinoma with e...</td>\n",
       "      <td>M Metzner</td>\n",
       "      <td>ECF has established activity and a high respon...</td>\n",
       "      <td>784</td>\n",
       "      <td>[[ECF, has, established, activity, and, a, hig...</td>\n",
       "      <td>[[ecf, establish, activity, high, response, ra...</td>\n",
       "    </tr>\n",
       "    <tr>\n",
       "      <th>3</th>\n",
       "      <td>1995</td>\n",
       "      <td>Lung Cancer</td>\n",
       "      <td>Treatment of small cell lung cancer (SCLC) wit...</td>\n",
       "      <td>JD Hainsworth</td>\n",
       "      <td>In 7/93, we began investigation of a three-dru...</td>\n",
       "      <td>1197</td>\n",
       "      <td>[[In, 7/93, we, began, investigation, of, a, t...</td>\n",
       "      <td>[[begin, investigation, drug, combination, pac...</td>\n",
       "    </tr>\n",
       "    <tr>\n",
       "      <th>4</th>\n",
       "      <td>1995</td>\n",
       "      <td>Other Gastrointestinal Cancer</td>\n",
       "      <td>Vaccine-based (active specific) chemoimmunothe...</td>\n",
       "      <td>SH Itzkowitz</td>\n",
       "      <td>Active specific immunotherapy (ASI) is the adm...</td>\n",
       "      <td>549</td>\n",
       "      <td>[[Active, specific, immunotherapy, ASI, is, th...</td>\n",
       "      <td>[[active, specific, immunotherapy, asi, admini...</td>\n",
       "    </tr>\n",
       "    <tr>\n",
       "      <th>5</th>\n",
       "      <td>1995</td>\n",
       "      <td>Breast Cancer</td>\n",
       "      <td>Validation of a model that identifies high ris...</td>\n",
       "      <td>GM Clark</td>\n",
       "      <td>Breast cancer patients with 10 or more positiv...</td>\n",
       "      <td>69</td>\n",
       "      <td>[[Breast, cancer, patients, with, 10, or, more...</td>\n",
       "      <td>[[breast, cancer, patient, positive, lymph, no...</td>\n",
       "    </tr>\n",
       "    <tr>\n",
       "      <th>6</th>\n",
       "      <td>1995</td>\n",
       "      <td>Genitourinary Cancer</td>\n",
       "      <td>Validation of the PROSQOLI: a pragmatic outcom...</td>\n",
       "      <td>M Stockler</td>\n",
       "      <td>Rationale: Traditional outcome measures are un...</td>\n",
       "      <td>649</td>\n",
       "      <td>[[Rationale], [Traditional, outcome, measures,...</td>\n",
       "      <td>[[rationale], [traditional, outcome, measure, ...</td>\n",
       "    </tr>\n",
       "    <tr>\n",
       "      <th>7</th>\n",
       "      <td>1995</td>\n",
       "      <td>Preclinical Experimental Therapeutics - Other</td>\n",
       "      <td>'In vitro' comparative assay on fluorouracil (...</td>\n",
       "      <td>A Abad</td>\n",
       "      <td>The clinical experience with biochemical modul...</td>\n",
       "      <td>1609</td>\n",
       "      <td>[[The, clinical, experience, with, biochemical...</td>\n",
       "      <td>[[clinical, experience, biochemical, modulatio...</td>\n",
       "    </tr>\n",
       "    <tr>\n",
       "      <th>8</th>\n",
       "      <td>1995</td>\n",
       "      <td>Tumor Biology</td>\n",
       "      <td>'Medical cultural diversity' among medical onc...</td>\n",
       "      <td>R Hochman</td>\n",
       "      <td>Most MO rely on prospective randomized trials....</td>\n",
       "      <td>1633</td>\n",
       "      <td>[[Most, MO, rely, on, prospective, randomized,...</td>\n",
       "      <td>[[mo, rely, prospective, randomize, trial], [o...</td>\n",
       "    </tr>\n",
       "    <tr>\n",
       "      <th>9</th>\n",
       "      <td>1995</td>\n",
       "      <td>Developmental TherapeuticsÑClinical Pharmacolo...</td>\n",
       "      <td>13-cis-retinoic acid plus low dose recombinant...</td>\n",
       "      <td>GM Turola</td>\n",
       "      <td>Both interferons and retinoids are known to po...</td>\n",
       "      <td>709</td>\n",
       "      <td>[[Both, interferons, and, retinoids, are, know...</td>\n",
       "      <td>[[interferon, retinoid, know, possess, antipro...</td>\n",
       "    </tr>\n",
       "    <tr>\n",
       "      <th>10</th>\n",
       "      <td>1995</td>\n",
       "      <td>Hematologic MalignanciesÑLymphoma and Chronic ...</td>\n",
       "      <td>2-Chlorodeoxyadenosine (2-CDA) leads to partia...</td>\n",
       "      <td>T Lippuner</td>\n",
       "      <td>The prognosis of AILD, a rare low grade T-cell...</td>\n",
       "      <td>1273</td>\n",
       "      <td>[[The, prognosis, of, AILD, a, rare, low, grad...</td>\n",
       "      <td>[[prognosis, aild, rare, low, grade, t, cell, ...</td>\n",
       "    </tr>\n",
       "    <tr>\n",
       "      <th>11</th>\n",
       "      <td>1995</td>\n",
       "      <td>Hematologic MalignanciesÑLymphoma and Chronic ...</td>\n",
       "      <td>23-year follow-up after radiotherapy (RT) or r...</td>\n",
       "      <td>PH Wiernik</td>\n",
       "      <td>75 patients (pts) with HD pathologic stages IA...</td>\n",
       "      <td>1285</td>\n",
       "      <td>[[75, patients, pts, with, HD, pathologic, sta...</td>\n",
       "      <td>[[patient, pt, hd, pathologic, stage, ia, iiia...</td>\n",
       "    </tr>\n",
       "    <tr>\n",
       "      <th>12</th>\n",
       "      <td>1995</td>\n",
       "      <td>Breast Cancer</td>\n",
       "      <td>15 years follow-up for T4d (inflammatory) brea...</td>\n",
       "      <td>F Morvan</td>\n",
       "      <td>From 1979 to 1984, 71 patients with UICC T4d i...</td>\n",
       "      <td>265</td>\n",
       "      <td>[[From, 1979, to, 1984, 71, patients, with, UI...</td>\n",
       "      <td>[[patient, uicc, t4d, inflammatory, breast, ca...</td>\n",
       "    </tr>\n",
       "    <tr>\n",
       "      <th>13</th>\n",
       "      <td>1995</td>\n",
       "      <td>Hematologic MalignanciesÑLeukemia, Myelodyspla...</td>\n",
       "      <td>2-CDA +/- ara-C is ineffective therapy for rel...</td>\n",
       "      <td>S Kornblau</td>\n",
       "      <td>Santana et al reported a CR rate of 8/17 (95% ...</td>\n",
       "      <td>1005</td>\n",
       "      <td>[[Santana, et, al, reported, a, CR, rate, of, ...</td>\n",
       "      <td>[[santana, et, al, report, cr, rate, ci, child...</td>\n",
       "    </tr>\n",
       "    <tr>\n",
       "      <th>14</th>\n",
       "      <td>1995</td>\n",
       "      <td>Hematologic MalignanciesÑLeukemia, Myelodyspla...</td>\n",
       "      <td>2-chlorodeoxyadenosine (2-CdA) in the treatmen...</td>\n",
       "      <td>M Tallman</td>\n",
       "      <td>Since human monocyte cell lines show in vitro ...</td>\n",
       "      <td>1022</td>\n",
       "      <td>[[Since, human, monocyte, cell, lines, show, i...</td>\n",
       "      <td>[[human, monocyte, cell, line, vitro, sensitiv...</td>\n",
       "    </tr>\n",
       "    <tr>\n",
       "      <th>15</th>\n",
       "      <td>1995</td>\n",
       "      <td>Developmental TherapeuticsÑClinical Pharmacolo...</td>\n",
       "      <td>3 versus 6 versus 24 hour infusions of paclita...</td>\n",
       "      <td>D Rischin</td>\n",
       "      <td>The infusion duration of paclitaxel has varied...</td>\n",
       "      <td>1500</td>\n",
       "      <td>[[The, infusion, duration, of, paclitaxel, has...</td>\n",
       "      <td>[[infusion, duration, paclitaxel, vary, clinic...</td>\n",
       "    </tr>\n",
       "    <tr>\n",
       "      <th>16</th>\n",
       "      <td>1995</td>\n",
       "      <td>Breast Cancer</td>\n",
       "      <td>3-hr high-dose taxol (T) infusion following st...</td>\n",
       "      <td>E Mamounas</td>\n",
       "      <td>T has shown significant antitumor activity in ...</td>\n",
       "      <td>207</td>\n",
       "      <td>[[T, has, shown, significant, antitumor, activ...</td>\n",
       "      <td>[[t, show, significant, antitumor, activity, p...</td>\n",
       "    </tr>\n",
       "    <tr>\n",
       "      <th>17</th>\n",
       "      <td>1995</td>\n",
       "      <td>Breast Cancer</td>\n",
       "      <td>3-hr high-dose taxol (T) infusion in advanced ...</td>\n",
       "      <td>E Mamounas</td>\n",
       "      <td>High-dose T has shown significant antitumor ac...</td>\n",
       "      <td>206</td>\n",
       "      <td>[[High, dose, T, has, shown, significant, anti...</td>\n",
       "      <td>[[high, dose, t, show, significant, antitumor,...</td>\n",
       "    </tr>\n",
       "    <tr>\n",
       "      <th>18</th>\n",
       "      <td>1995</td>\n",
       "      <td>Central Nervous System Tumors</td>\n",
       "      <td>3H-paclitaxel (3H-P) tissue concentrations wit...</td>\n",
       "      <td>GJ Lesser</td>\n",
       "      <td>Ongoing clinical trials are evaluating the eff...</td>\n",
       "      <td>292</td>\n",
       "      <td>[[Ongoing, clinical, trials, are, evaluating, ...</td>\n",
       "      <td>[[ongoing, clinical, trial, evaluate, efficacy...</td>\n",
       "    </tr>\n",
       "    <tr>\n",
       "      <th>19</th>\n",
       "      <td>1995</td>\n",
       "      <td>Other Gastrointestinal Cancer</td>\n",
       "      <td>5 fluorouracil (5Fu), mitomycin-C, leucovorin ...</td>\n",
       "      <td>GS Soori</td>\n",
       "      <td>Between 1991 and 1994, 28 patients with gastro...</td>\n",
       "      <td>575</td>\n",
       "      <td>[[Between, 1991, and, 1994, 28, patients, with...</td>\n",
       "      <td>[[patient, gastro, intestinal, adenocarcinoma,...</td>\n",
       "    </tr>\n",
       "    <tr>\n",
       "      <th>20</th>\n",
       "      <td>1995</td>\n",
       "      <td>Developmental TherapeuticsÑClinical Pharmacolo...</td>\n",
       "      <td>5-Ethynyluracil (776C85), an inhibitor of dihy...</td>\n",
       "      <td>AA Adjei</td>\n",
       "      <td>The erratic bioavailability (BA) of oral 5-FU ...</td>\n",
       "      <td>1478</td>\n",
       "      <td>[[The, erratic, bioavailability, BA, of, oral,...</td>\n",
       "      <td>[[erratic, bioavailability, ba, oral, 5-fu, pr...</td>\n",
       "    </tr>\n",
       "    <tr>\n",
       "      <th>21</th>\n",
       "      <td>1995</td>\n",
       "      <td>Other Gastrointestinal Cancer</td>\n",
       "      <td>5-fluorouracil (5FU) + levamisole (LEVA) vs 5F...</td>\n",
       "      <td>P Bruzzi</td>\n",
       "      <td>To determine whether the addition of 6-S-LV to...</td>\n",
       "      <td>497</td>\n",
       "      <td>[[To, determine, whether, the, addition, of, 6...</td>\n",
       "      <td>[[determine, addition, 6-s, lv, combination, 5...</td>\n",
       "    </tr>\n",
       "    <tr>\n",
       "      <th>22</th>\n",
       "      <td>1995</td>\n",
       "      <td>Breast Cancer</td>\n",
       "      <td>5-Year results of high-dose sequential (HDS) a...</td>\n",
       "      <td>AM Gianni</td>\n",
       "      <td>To improve the results of adjuvant chemotherap...</td>\n",
       "      <td>61</td>\n",
       "      <td>[[To, improve, the, results, of, adjuvant, che...</td>\n",
       "      <td>[[improve, result, adjuvant, chemotherapy, bre...</td>\n",
       "    </tr>\n",
       "    <tr>\n",
       "      <th>23</th>\n",
       "      <td>1995</td>\n",
       "      <td>Breast Cancer</td>\n",
       "      <td>96-hour paclitaxel after prior short taxane in...</td>\n",
       "      <td>AD Seidman</td>\n",
       "      <td>Paclitaxel (P) via 96 hr infusion has signific...</td>\n",
       "      <td>151</td>\n",
       "      <td>[[Paclitaxel, P, via, 96, hr, infusion, has, s...</td>\n",
       "      <td>[[paclitaxel, p, hr, infusion, significant, ac...</td>\n",
       "    </tr>\n",
       "    <tr>\n",
       "      <th>24</th>\n",
       "      <td>1995</td>\n",
       "      <td>Developmental TherapeuticsÑClinical Pharmacolo...</td>\n",
       "      <td>96-hour paclitaxel without and with R-verapami...</td>\n",
       "      <td>D Riseberg</td>\n",
       "      <td>We conducted a two part trial of 96-hr infusio...</td>\n",
       "      <td>403</td>\n",
       "      <td>[[We, conducted, a, two, part, trial, of, 96-h...</td>\n",
       "      <td>[[conduct, trial, 96-hr, infusional, paclitaxe...</td>\n",
       "    </tr>\n",
       "    <tr>\n",
       "      <th>25</th>\n",
       "      <td>1995</td>\n",
       "      <td>Sarcoma</td>\n",
       "      <td>A Canadian national tumor bank/data base for s...</td>\n",
       "      <td>V Bramwell</td>\n",
       "      <td>A network established by a cooperative clinica...</td>\n",
       "      <td>1694</td>\n",
       "      <td>[[A, network, established, by, a, cooperative,...</td>\n",
       "      <td>[[network, establish, cooperative, clinical, t...</td>\n",
       "    </tr>\n",
       "    <tr>\n",
       "      <th>26</th>\n",
       "      <td>1995</td>\n",
       "      <td>Breast Cancer</td>\n",
       "      <td>A Canadian perspective on breast conservative ...</td>\n",
       "      <td>C Kotwall</td>\n",
       "      <td>Between 5/88 and 6/93, 220 consecutive women w...</td>\n",
       "      <td>249</td>\n",
       "      <td>[[Between, 5/88, and, 6/93, 220, consecutive, ...</td>\n",
       "      <td>[[consecutive, woman, breast, cancer, undergo,...</td>\n",
       "    </tr>\n",
       "    <tr>\n",
       "      <th>27</th>\n",
       "      <td>1995</td>\n",
       "      <td>Developmental TherapeuticsÑClinical Pharmacolo...</td>\n",
       "      <td>A clinical evaluation of Duragesic (transderma...</td>\n",
       "      <td>J Gardner-Nix</td>\n",
       "      <td>Between May 1992 and April 1994, 250 patients ...</td>\n",
       "      <td>390</td>\n",
       "      <td>[[Between, May, 1992, and, April, 1994, 250, p...</td>\n",
       "      <td>[[april, patient, enroll, center, clinical, ev...</td>\n",
       "    </tr>\n",
       "    <tr>\n",
       "      <th>28</th>\n",
       "      <td>1995</td>\n",
       "      <td>Psychosocial Aspects of Cancer</td>\n",
       "      <td>A comparison of two quality-of-life (QOL) ques...</td>\n",
       "      <td>MT King</td>\n",
       "      <td>FLIC and QLQ-C30 were administered concurrentl...</td>\n",
       "      <td>1651</td>\n",
       "      <td>[[FLIC, and, QLQ, C30, were, administered, con...</td>\n",
       "      <td>[[flic, qlq, c30, administer, concurrently, co...</td>\n",
       "    </tr>\n",
       "    <tr>\n",
       "      <th>29</th>\n",
       "      <td>1995</td>\n",
       "      <td>Health Care Research</td>\n",
       "      <td>A comprehensive analysis of the cost basis of ...</td>\n",
       "      <td>F Khuri</td>\n",
       "      <td>We have carried out a comprehensive database a...</td>\n",
       "      <td>905</td>\n",
       "      <td>[[We, have, carried, out, a, comprehensive, da...</td>\n",
       "      <td>[[carry, comprehensive, database, analysis, ev...</td>\n",
       "    </tr>\n",
       "    <tr>\n",
       "      <th>...</th>\n",
       "      <td>...</td>\n",
       "      <td>...</td>\n",
       "      <td>...</td>\n",
       "      <td>...</td>\n",
       "      <td>...</td>\n",
       "      <td>...</td>\n",
       "      <td>...</td>\n",
       "      <td>...</td>\n",
       "    </tr>\n",
       "    <tr>\n",
       "      <th>62348</th>\n",
       "      <td>2011</td>\n",
       "      <td>Gastrointestinal (Colorectal) Cancer</td>\n",
       "      <td>Bevacizumab plus capecitabine as maintenance t...</td>\n",
       "      <td>S. Yalcin</td>\n",
       "      <td>&lt;p&gt;&lt;b&gt;Background:&lt;/b&gt; Colorectal cancer is one...</td>\n",
       "      <td>NaN</td>\n",
       "      <td>[[&lt;, p&gt;&lt;b, &gt;], [Background:&lt;/b, &gt;, Colorectal,...</td>\n",
       "      <td>[[&lt;, p&gt;&lt;b, &gt;], [background:&lt;/b, &gt;, colorectal,...</td>\n",
       "    </tr>\n",
       "    <tr>\n",
       "      <th>62351</th>\n",
       "      <td>2011</td>\n",
       "      <td>Health Services Research</td>\n",
       "      <td>The relationship between cost, quality, and ou...</td>\n",
       "      <td>M. J. Hassett</td>\n",
       "      <td>&lt;p&gt;&lt;b&gt;Background:&lt;/b&gt; Breast cancer (BrCa) is ...</td>\n",
       "      <td>NaN</td>\n",
       "      <td>[[&lt;], [p&gt;&lt;b, &gt;], [Background:&lt;/b, &gt;, Breast, c...</td>\n",
       "      <td>[[&lt;], [p&gt;&lt;b, &gt;], [background:&lt;/b, &gt;, breast, c...</td>\n",
       "    </tr>\n",
       "    <tr>\n",
       "      <th>62361</th>\n",
       "      <td>2011</td>\n",
       "      <td>Patient and Survivor Care</td>\n",
       "      <td>Effect of Medical Qigong on cognitive function...</td>\n",
       "      <td>B. Oh</td>\n",
       "      <td>&lt;p&gt;&lt;b&gt;Background: &lt;/b&gt;   Cancer patients often...</td>\n",
       "      <td>NaN</td>\n",
       "      <td>[[&lt;], [p&gt;&lt;b, &gt;, Background, &lt;, /b, &gt;], [Cancer...</td>\n",
       "      <td>[[&lt;], [p&gt;&lt;b, &gt;, background, &lt;, /b, &gt;], [cancer...</td>\n",
       "    </tr>\n",
       "    <tr>\n",
       "      <th>62362</th>\n",
       "      <td>2011</td>\n",
       "      <td>Developmental TherapeuticsÑClinical Pharmacolo...</td>\n",
       "      <td>Tumor-targeted cancer vaccination (GeneVieve P...</td>\n",
       "      <td>J. G. Ignacio</td>\n",
       "      <td>&lt;p&gt;&lt;b&gt;Background:&lt;/b&gt; Rexin-G and Reximmune-C ...</td>\n",
       "      <td>NaN</td>\n",
       "      <td>[[&lt;], [p&gt;&lt;b, &gt;], [Background:&lt;/b, &gt;, Rexin, G,...</td>\n",
       "      <td>[[&lt;], [p&gt;&lt;b, &gt;], [background:&lt;/b, &gt;, rexin, g,...</td>\n",
       "    </tr>\n",
       "    <tr>\n",
       "      <th>62371</th>\n",
       "      <td>2011</td>\n",
       "      <td>Hematologic MalignanciesÑLeukemia, Myelodyspla...</td>\n",
       "      <td>Activity and tolerability of the Bruton&amp;#39;s ...</td>\n",
       "      <td>J. C. Byrd</td>\n",
       "      <td>&lt;p&gt;&lt;b&gt;Background: &lt;/b&gt;  Btk is essential to B-...</td>\n",
       "      <td>NaN</td>\n",
       "      <td>[[&lt;], [p&gt;&lt;b, &gt;, Background], [&lt;, /b], [&gt;], [Bt...</td>\n",
       "      <td>[[&lt;], [p&gt;&lt;b, &gt;, background], [&lt;, /b], [&gt;], [bt...</td>\n",
       "    </tr>\n",
       "    <tr>\n",
       "      <th>62386</th>\n",
       "      <td>2011</td>\n",
       "      <td>Breast CancerÑTriple-Negative/Cytotoxics/Local...</td>\n",
       "      <td>Lymphocyte infiltration (LI) and immunohistoch...</td>\n",
       "      <td>C. S. Yau</td>\n",
       "      <td>&lt;p&gt;&lt;b&gt;Background:&lt;/b&gt; IHC is a readily availab...</td>\n",
       "      <td>NaN</td>\n",
       "      <td>[[&lt;], [p&gt;&lt;b, &gt;], [Background:&lt;/b, &gt;, IHC, is, ...</td>\n",
       "      <td>[[&lt;], [p&gt;&lt;b, &gt;], [background:&lt;/b, &gt;, ihc, read...</td>\n",
       "    </tr>\n",
       "    <tr>\n",
       "      <th>62396</th>\n",
       "      <td>2011</td>\n",
       "      <td>Gastrointestinal (Colorectal) Cancer</td>\n",
       "      <td>Role of routine adjuvant chemotherapy after ne...</td>\n",
       "      <td>R. P. Kiran</td>\n",
       "      <td>&lt;p&gt;&lt;b&gt;Background:&lt;/b&gt; The current standard of ...</td>\n",
       "      <td>NaN</td>\n",
       "      <td>[[&lt;, p&gt;&lt;b, &gt;], [Background:&lt;/b, &gt;], [The, curr...</td>\n",
       "      <td>[[&lt;, p&gt;&lt;b, &gt;], [background:&lt;/b, &gt;], [current, ...</td>\n",
       "    </tr>\n",
       "    <tr>\n",
       "      <th>62402</th>\n",
       "      <td>2011</td>\n",
       "      <td>Developmental TherapeuticsÑClinical Pharmacolo...</td>\n",
       "      <td>A novel approach to rituximab biosimilar drug ...</td>\n",
       "      <td>S. M. Berry</td>\n",
       "      <td>&lt;p&gt;&lt;b&gt;Background:&lt;/b&gt;  Regulatory uncertainty ...</td>\n",
       "      <td>NaN</td>\n",
       "      <td>[[&lt;, p&gt;&lt;b, &gt;], [Background:&lt;/b, &gt;], [Regulator...</td>\n",
       "      <td>[[&lt;, p&gt;&lt;b, &gt;], [background:&lt;/b, &gt;], [regulator...</td>\n",
       "    </tr>\n",
       "    <tr>\n",
       "      <th>62407</th>\n",
       "      <td>2011</td>\n",
       "      <td>Hematologic MalignanciesÑLymphoma and Chronic ...</td>\n",
       "      <td>Long-term safety of lenalidomide (LEN) in rela...</td>\n",
       "      <td>B. G. Durie</td>\n",
       "      <td>&lt;p&gt;&lt;b&gt;Background:&lt;/b&gt; LEN has significantly ex...</td>\n",
       "      <td>NaN</td>\n",
       "      <td>[[&lt;], [p&gt;&lt;b, &gt;], [Background:&lt;/b, &gt;, LEN, has,...</td>\n",
       "      <td>[[&lt;], [p&gt;&lt;b, &gt;], [background:&lt;/b, &gt;, len, sign...</td>\n",
       "    </tr>\n",
       "    <tr>\n",
       "      <th>62414</th>\n",
       "      <td>2011</td>\n",
       "      <td>Genitourinary Cancer</td>\n",
       "      <td>Multisolution variance-based optimization (MVB...</td>\n",
       "      <td>M. A. Laviraj</td>\n",
       "      <td>&lt;p&gt;&lt;b&gt;Background:&lt;/b&gt; Oncentra Prostate real-t...</td>\n",
       "      <td>NaN</td>\n",
       "      <td>[[&lt;, p&gt;&lt;b, &gt;], [Background:&lt;/b, &gt;, Oncentra, P...</td>\n",
       "      <td>[[&lt;, p&gt;&lt;b, &gt;], [background:&lt;/b, &gt;, oncentra, p...</td>\n",
       "    </tr>\n",
       "    <tr>\n",
       "      <th>62431</th>\n",
       "      <td>2011</td>\n",
       "      <td>Cancer Prevention/Epidemiology</td>\n",
       "      <td>The impact of screening mammography in breast ...</td>\n",
       "      <td>C. Checka</td>\n",
       "      <td>&lt;p&gt;&lt;b&gt;Background:&lt;/b&gt; Recent recommendations b...</td>\n",
       "      <td>NaN</td>\n",
       "      <td>[[&lt;, p&gt;&lt;b, &gt;], [Background:&lt;/b, &gt;, Recent, rec...</td>\n",
       "      <td>[[&lt;, p&gt;&lt;b, &gt;], [background:&lt;/b, &gt;, recent, rec...</td>\n",
       "    </tr>\n",
       "    <tr>\n",
       "      <th>62452</th>\n",
       "      <td>2011</td>\n",
       "      <td>Cancer Prevention/Epidemiology</td>\n",
       "      <td>Body mass index: A potential risk factor for b...</td>\n",
       "      <td>V. Sharma</td>\n",
       "      <td>&lt;p&gt;&lt;b&gt;Background:&lt;/b&gt; Breast cancer (BC), the ...</td>\n",
       "      <td>NaN</td>\n",
       "      <td>[[&lt;], [p&gt;&lt;b, &gt;], [Background:&lt;/b, &gt;, Breast, c...</td>\n",
       "      <td>[[&lt;], [p&gt;&lt;b, &gt;], [background:&lt;/b, &gt;, breast, c...</td>\n",
       "    </tr>\n",
       "    <tr>\n",
       "      <th>62456</th>\n",
       "      <td>2011</td>\n",
       "      <td>Melanoma/Skin Cancers</td>\n",
       "      <td>Frequency of mutations associated with targete...</td>\n",
       "      <td>S. Cheng</td>\n",
       "      <td>&lt;p&gt;&lt;b&gt;Background:&lt;/b&gt; &lt;i&gt;BRAF&lt;/i&gt;,&lt;i&gt; RAS&lt;/i&gt;,...</td>\n",
       "      <td>NaN</td>\n",
       "      <td>[[&lt;, p&gt;&lt;b, &gt;], [Background:&lt;/b, &gt;, &lt;, i], [&gt;, ...</td>\n",
       "      <td>[[&lt;, p&gt;&lt;b, &gt;], [background:&lt;/b, &gt;, &lt;], [&gt;, bra...</td>\n",
       "    </tr>\n",
       "    <tr>\n",
       "      <th>62462</th>\n",
       "      <td>2011</td>\n",
       "      <td>Health Services Research</td>\n",
       "      <td>Rapid improvement in evidence-based, quality c...</td>\n",
       "      <td>M. A. Amin</td>\n",
       "      <td>&lt;p&gt;&lt;b&gt;Background:&lt;/b&gt; ASCO&amp;#39;s Quality Oncol...</td>\n",
       "      <td>NaN</td>\n",
       "      <td>[[&lt;, p&gt;&lt;b, &gt;], [Background:&lt;/b, &gt;, ASCO&amp;#39;s,...</td>\n",
       "      <td>[[&lt;, p&gt;&lt;b, &gt;], [background:&lt;/b, &gt;, asco&amp;#39;s,...</td>\n",
       "    </tr>\n",
       "    <tr>\n",
       "      <th>62467</th>\n",
       "      <td>2011</td>\n",
       "      <td>Central Nervous System Tumors</td>\n",
       "      <td>FLT-PET analysis of early response to everolim...</td>\n",
       "      <td>J. N. Sarkaria</td>\n",
       "      <td>&lt;p&gt;&lt;b&gt;Background:&lt;/b&gt; 18F-fluorodeoxyuridine (...</td>\n",
       "      <td>NaN</td>\n",
       "      <td>[[&lt;], [p&gt;&lt;b, &gt;], [Background:&lt;/b, &gt;, 18F, fluo...</td>\n",
       "      <td>[[&lt;], [p&gt;&lt;b, &gt;], [background:&lt;/b, &gt;, 18f, fluo...</td>\n",
       "    </tr>\n",
       "    <tr>\n",
       "      <th>62484</th>\n",
       "      <td>2011</td>\n",
       "      <td>Central Nervous System Tumors</td>\n",
       "      <td>Prognostic factors in elderly patients with gr...</td>\n",
       "      <td>A. Satra</td>\n",
       "      <td>&lt;p&gt;&lt;b&gt;Background:&lt;/b&gt; Anaplastic astrocytoma (...</td>\n",
       "      <td>NaN</td>\n",
       "      <td>[[&lt;, p&gt;&lt;b, &gt;], [Background:&lt;/b, &gt;, Anaplastic,...</td>\n",
       "      <td>[[&lt;, p&gt;&lt;b, &gt;], [background:&lt;/b, &gt;, anaplastic,...</td>\n",
       "    </tr>\n",
       "    <tr>\n",
       "      <th>62503</th>\n",
       "      <td>2011</td>\n",
       "      <td>Health Services Research</td>\n",
       "      <td>Changes in global patterns of care for first-l...</td>\n",
       "      <td>A. J. Combest</td>\n",
       "      <td>&lt;p&gt;&lt;b&gt;Background:&lt;/b&gt; Few reports have focused...</td>\n",
       "      <td>NaN</td>\n",
       "      <td>[[&lt;, p&gt;&lt;b, &gt;], [Background:&lt;/b, &gt;], [Few, repo...</td>\n",
       "      <td>[[&lt;, p&gt;&lt;b, &gt;], [background:&lt;/b, &gt;], [report, f...</td>\n",
       "    </tr>\n",
       "    <tr>\n",
       "      <th>62512</th>\n",
       "      <td>2011</td>\n",
       "      <td>Health Services Research</td>\n",
       "      <td>Time to publication of the results of clinical...</td>\n",
       "      <td>H. Katayama</td>\n",
       "      <td>&lt;p&gt;&lt;b&gt;Background:&lt;/b&gt; It was previously report...</td>\n",
       "      <td>NaN</td>\n",
       "      <td>[[&lt;, p&gt;&lt;b, &gt;], [Background:&lt;/b, &gt;], [It, was, ...</td>\n",
       "      <td>[[&lt;, p&gt;&lt;b, &gt;], [background:&lt;/b, &gt;], [previousl...</td>\n",
       "    </tr>\n",
       "    <tr>\n",
       "      <th>62515</th>\n",
       "      <td>2011</td>\n",
       "      <td>Developmental TherapeuticsÑExperimental Therap...</td>\n",
       "      <td>Treatment (Tx) guidelines for skin and mucosal...</td>\n",
       "      <td>M. J. Borad</td>\n",
       "      <td>&lt;p&gt;&lt;b&gt;Background:&lt;/b&gt; TH&amp;#8209;302 is essentia...</td>\n",
       "      <td>NaN</td>\n",
       "      <td>[[&lt;], [p&gt;&lt;b, &gt;], [Background:&lt;/b, &gt;, TH&amp;#8209;...</td>\n",
       "      <td>[[&lt;], [p&gt;&lt;b, &gt;], [background:&lt;/b, &gt;, th&amp;#8209;...</td>\n",
       "    </tr>\n",
       "    <tr>\n",
       "      <th>62541</th>\n",
       "      <td>2011</td>\n",
       "      <td>Health Services Research</td>\n",
       "      <td>Barriers to implementing primary HER2 FISH tes...</td>\n",
       "      <td>G. J. Tsongalis</td>\n",
       "      <td>&lt;p&gt;&lt;b&gt;Background:&lt;/b&gt; Two HER2/neu testing pro...</td>\n",
       "      <td>NaN</td>\n",
       "      <td>[[&lt;, p&gt;&lt;b, &gt;], [Background:&lt;/b, &gt;, Two, HER2, ...</td>\n",
       "      <td>[[&lt;, p&gt;&lt;b, &gt;], [background:&lt;/b, &gt;, her2, neu, ...</td>\n",
       "    </tr>\n",
       "    <tr>\n",
       "      <th>62543</th>\n",
       "      <td>2011</td>\n",
       "      <td>Patient and Survivor Care</td>\n",
       "      <td>Understanding causes for distress among cancer...</td>\n",
       "      <td>S. A. Taylor</td>\n",
       "      <td>&lt;p&gt;&lt;b&gt;Background:&lt;/b&gt; While both cancer diagno...</td>\n",
       "      <td>NaN</td>\n",
       "      <td>[[&lt;, p&gt;&lt;b, &gt;], [Background:&lt;/b, &gt;], [While, bo...</td>\n",
       "      <td>[[&lt;, p&gt;&lt;b, &gt;], [background:&lt;/b, &gt;], [cancer, d...</td>\n",
       "    </tr>\n",
       "    <tr>\n",
       "      <th>62544</th>\n",
       "      <td>2011</td>\n",
       "      <td>Tumor Biology</td>\n",
       "      <td>Fluorodeoxiglucose (FDG)-avidity at positron e...</td>\n",
       "      <td>S. Redana</td>\n",
       "      <td>&lt;p&gt;&lt;b&gt;Background:&lt;/b&gt; Reduced FDG avidity in m...</td>\n",
       "      <td>NaN</td>\n",
       "      <td>[[&lt;], [p&gt;&lt;b, &gt;], [Background:&lt;/b, &gt;, Reduced, ...</td>\n",
       "      <td>[[&lt;], [p&gt;&lt;b, &gt;], [background:&lt;/b, &gt;, reduce, f...</td>\n",
       "    </tr>\n",
       "    <tr>\n",
       "      <th>62551</th>\n",
       "      <td>2011</td>\n",
       "      <td>Health Services Research</td>\n",
       "      <td>Impact of travel distance on early diagnosis o...</td>\n",
       "      <td>J. A. Holmes</td>\n",
       "      <td>&lt;p&gt;&lt;b&gt;Background:&lt;/b&gt; Patients with an elevate...</td>\n",
       "      <td>NaN</td>\n",
       "      <td>[[&lt;], [p&gt;&lt;b, &gt;], [Background:&lt;/b, &gt;, Patients,...</td>\n",
       "      <td>[[&lt;], [p&gt;&lt;b, &gt;], [background:&lt;/b, &gt;, patient, ...</td>\n",
       "    </tr>\n",
       "    <tr>\n",
       "      <th>62561</th>\n",
       "      <td>2011</td>\n",
       "      <td>Developmental TherapeuticsÑExperimental Therap...</td>\n",
       "      <td>Poly(ADP ribose) polymerase (PARP) inhibition ...</td>\n",
       "      <td>D. R. Shalinsky</td>\n",
       "      <td>&lt;p&gt;&lt;b&gt;Background:&lt;/b&gt; PARP activity in PBLs or...</td>\n",
       "      <td>NaN</td>\n",
       "      <td>[[&lt;], [p&gt;&lt;b, &gt;], [Background:&lt;/b, &gt;, PARP, act...</td>\n",
       "      <td>[[&lt;], [p&gt;&lt;b, &gt;], [background:&lt;/b, &gt;, parp, act...</td>\n",
       "    </tr>\n",
       "    <tr>\n",
       "      <th>62564</th>\n",
       "      <td>2011</td>\n",
       "      <td>Pediatric Oncology</td>\n",
       "      <td>A phase I study of ifosfamide, oxaliplatin, an...</td>\n",
       "      <td>L. M. McGregor</td>\n",
       "      <td>&lt;p&gt; &lt;b&gt;Background:&lt;/b&gt; Carboplatin and cisplat...</td>\n",
       "      <td>NaN</td>\n",
       "      <td>[[&lt;, p, &gt;, &lt;, b, &gt;], [Background:&lt;/b, &gt;], [Car...</td>\n",
       "      <td>[[&lt;, p, &gt;, &lt;, b, &gt;], [background:&lt;/b, &gt;], [car...</td>\n",
       "    </tr>\n",
       "    <tr>\n",
       "      <th>62568</th>\n",
       "      <td>2011</td>\n",
       "      <td>Lung Cancer - Local-Regional and Adjuvant Ther...</td>\n",
       "      <td>Management of thymic epithelial tumors (TETs) ...</td>\n",
       "      <td>A. Rajan</td>\n",
       "      <td>&lt;p&gt;&lt;b&gt;Background: &lt;/b&gt; TETs are very rare ante...</td>\n",
       "      <td>NaN</td>\n",
       "      <td>[[&lt;], [p&gt;&lt;b, &gt;, Background], [&lt;, /b], [&gt;, TETs...</td>\n",
       "      <td>[[&lt;], [p&gt;&lt;b, &gt;, background], [&lt;, /b], [&gt;, tets...</td>\n",
       "    </tr>\n",
       "    <tr>\n",
       "      <th>62576</th>\n",
       "      <td>2011</td>\n",
       "      <td>Patient and Survivor Care</td>\n",
       "      <td>Spinal or epidural analgesia for cancer pain: ...</td>\n",
       "      <td>N. Yarom</td>\n",
       "      <td>&lt;p&gt;&lt;b&gt;Background:&lt;/b&gt; Cancer pain is occasiona...</td>\n",
       "      <td>NaN</td>\n",
       "      <td>[[&lt;, p&gt;&lt;b, &gt;], [Background:&lt;/b, &gt;, Cancer, pai...</td>\n",
       "      <td>[[&lt;, p&gt;&lt;b, &gt;], [background:&lt;/b, &gt;, cancer, pai...</td>\n",
       "    </tr>\n",
       "    <tr>\n",
       "      <th>62577</th>\n",
       "      <td>2011</td>\n",
       "      <td>Developmental TherapeuticsÑExperimental Therap...</td>\n",
       "      <td>Comparative PARP enzyme inhibition of PF-01367...</td>\n",
       "      <td>K. A. Kern</td>\n",
       "      <td>&lt;p&gt;&lt;b&gt;Background:&lt;/b&gt; Within the past several ...</td>\n",
       "      <td>NaN</td>\n",
       "      <td>[[&lt;, p&gt;&lt;b, &gt;], [Background:&lt;/b, &gt;], [Within, t...</td>\n",
       "      <td>[[&lt;, p&gt;&lt;b, &gt;], [background:&lt;/b, &gt;], [past, yea...</td>\n",
       "    </tr>\n",
       "    <tr>\n",
       "      <th>62585</th>\n",
       "      <td>2011</td>\n",
       "      <td>Genitourinary Cancer</td>\n",
       "      <td>Risk stratification and stage migration effect...</td>\n",
       "      <td>B. B. Desai</td>\n",
       "      <td>&lt;p&gt;&lt;b&gt;Background:&lt;/b&gt; To evaluate the diagnost...</td>\n",
       "      <td>NaN</td>\n",
       "      <td>[[&lt;, p&gt;&lt;b, &gt;], [Background:&lt;/b, &gt;], [To, evalu...</td>\n",
       "      <td>[[&lt;, p&gt;&lt;b, &gt;], [background:&lt;/b, &gt;], [evaluate,...</td>\n",
       "    </tr>\n",
       "    <tr>\n",
       "      <th>62604</th>\n",
       "      <td>2011</td>\n",
       "      <td>Gastrointestinal (Colorectal) Cancer</td>\n",
       "      <td>Impact of preoperative radiation dose escalati...</td>\n",
       "      <td>C. B. Patel</td>\n",
       "      <td>&lt;p&gt;&lt;b&gt;Background:&lt;/b&gt; Compared with postoperat...</td>\n",
       "      <td>NaN</td>\n",
       "      <td>[[&lt;, p&gt;&lt;b, &gt;], [Background:&lt;/b, &gt;], [Compared,...</td>\n",
       "      <td>[[&lt;, p&gt;&lt;b, &gt;], [background:&lt;/b, &gt;], [compare, ...</td>\n",
       "    </tr>\n",
       "  </tbody>\n",
       "</table>\n",
       "<p>48678 rows × 8 columns</p>\n",
       "</div>"
      ],
      "text/plain": [
       "       Year                                   AbstractCategory  \\\n",
       "0      1995                                        Lung Cancer   \n",
       "1      1995                                      Breast Cancer   \n",
       "2      1995                                 Gynecologic Cancer   \n",
       "3      1995                                        Lung Cancer   \n",
       "4      1995                      Other Gastrointestinal Cancer   \n",
       "5      1995                                      Breast Cancer   \n",
       "6      1995                               Genitourinary Cancer   \n",
       "7      1995      Preclinical Experimental Therapeutics - Other   \n",
       "8      1995                                      Tumor Biology   \n",
       "9      1995  Developmental TherapeuticsÑClinical Pharmacolo...   \n",
       "10     1995  Hematologic MalignanciesÑLymphoma and Chronic ...   \n",
       "11     1995  Hematologic MalignanciesÑLymphoma and Chronic ...   \n",
       "12     1995                                      Breast Cancer   \n",
       "13     1995  Hematologic MalignanciesÑLeukemia, Myelodyspla...   \n",
       "14     1995  Hematologic MalignanciesÑLeukemia, Myelodyspla...   \n",
       "15     1995  Developmental TherapeuticsÑClinical Pharmacolo...   \n",
       "16     1995                                      Breast Cancer   \n",
       "17     1995                                      Breast Cancer   \n",
       "18     1995                      Central Nervous System Tumors   \n",
       "19     1995                      Other Gastrointestinal Cancer   \n",
       "20     1995  Developmental TherapeuticsÑClinical Pharmacolo...   \n",
       "21     1995                      Other Gastrointestinal Cancer   \n",
       "22     1995                                      Breast Cancer   \n",
       "23     1995                                      Breast Cancer   \n",
       "24     1995  Developmental TherapeuticsÑClinical Pharmacolo...   \n",
       "25     1995                                            Sarcoma   \n",
       "26     1995                                      Breast Cancer   \n",
       "27     1995  Developmental TherapeuticsÑClinical Pharmacolo...   \n",
       "28     1995                     Psychosocial Aspects of Cancer   \n",
       "29     1995                               Health Care Research   \n",
       "...     ...                                                ...   \n",
       "62348  2011               Gastrointestinal (Colorectal) Cancer   \n",
       "62351  2011                           Health Services Research   \n",
       "62361  2011                          Patient and Survivor Care   \n",
       "62362  2011  Developmental TherapeuticsÑClinical Pharmacolo...   \n",
       "62371  2011  Hematologic MalignanciesÑLeukemia, Myelodyspla...   \n",
       "62386  2011  Breast CancerÑTriple-Negative/Cytotoxics/Local...   \n",
       "62396  2011               Gastrointestinal (Colorectal) Cancer   \n",
       "62402  2011  Developmental TherapeuticsÑClinical Pharmacolo...   \n",
       "62407  2011  Hematologic MalignanciesÑLymphoma and Chronic ...   \n",
       "62414  2011                               Genitourinary Cancer   \n",
       "62431  2011                     Cancer Prevention/Epidemiology   \n",
       "62452  2011                     Cancer Prevention/Epidemiology   \n",
       "62456  2011                              Melanoma/Skin Cancers   \n",
       "62462  2011                           Health Services Research   \n",
       "62467  2011                      Central Nervous System Tumors   \n",
       "62484  2011                      Central Nervous System Tumors   \n",
       "62503  2011                           Health Services Research   \n",
       "62512  2011                           Health Services Research   \n",
       "62515  2011  Developmental TherapeuticsÑExperimental Therap...   \n",
       "62541  2011                           Health Services Research   \n",
       "62543  2011                          Patient and Survivor Care   \n",
       "62544  2011                                      Tumor Biology   \n",
       "62551  2011                           Health Services Research   \n",
       "62561  2011  Developmental TherapeuticsÑExperimental Therap...   \n",
       "62564  2011                                 Pediatric Oncology   \n",
       "62568  2011  Lung Cancer - Local-Regional and Adjuvant Ther...   \n",
       "62576  2011                          Patient and Survivor Care   \n",
       "62577  2011  Developmental TherapeuticsÑExperimental Therap...   \n",
       "62585  2011                               Genitourinary Cancer   \n",
       "62604  2011               Gastrointestinal (Colorectal) Cancer   \n",
       "\n",
       "                                                   Title      FirstAuthor  \\\n",
       "0      Treatment of non-small cell lung cancer with c...  GP Stathopoulos   \n",
       "1      Treatment of primary breast cancer without mas...        A Bluming   \n",
       "2      Treatment of relapsed ovarian carcinoma with e...        M Metzner   \n",
       "3      Treatment of small cell lung cancer (SCLC) wit...    JD Hainsworth   \n",
       "4      Vaccine-based (active specific) chemoimmunothe...     SH Itzkowitz   \n",
       "5      Validation of a model that identifies high ris...         GM Clark   \n",
       "6      Validation of the PROSQOLI: a pragmatic outcom...       M Stockler   \n",
       "7      'In vitro' comparative assay on fluorouracil (...           A Abad   \n",
       "8      'Medical cultural diversity' among medical onc...        R Hochman   \n",
       "9      13-cis-retinoic acid plus low dose recombinant...        GM Turola   \n",
       "10     2-Chlorodeoxyadenosine (2-CDA) leads to partia...       T Lippuner   \n",
       "11     23-year follow-up after radiotherapy (RT) or r...       PH Wiernik   \n",
       "12     15 years follow-up for T4d (inflammatory) brea...         F Morvan   \n",
       "13     2-CDA +/- ara-C is ineffective therapy for rel...       S Kornblau   \n",
       "14     2-chlorodeoxyadenosine (2-CdA) in the treatmen...        M Tallman   \n",
       "15     3 versus 6 versus 24 hour infusions of paclita...        D Rischin   \n",
       "16     3-hr high-dose taxol (T) infusion following st...       E Mamounas   \n",
       "17     3-hr high-dose taxol (T) infusion in advanced ...       E Mamounas   \n",
       "18     3H-paclitaxel (3H-P) tissue concentrations wit...        GJ Lesser   \n",
       "19     5 fluorouracil (5Fu), mitomycin-C, leucovorin ...         GS Soori   \n",
       "20     5-Ethynyluracil (776C85), an inhibitor of dihy...         AA Adjei   \n",
       "21     5-fluorouracil (5FU) + levamisole (LEVA) vs 5F...         P Bruzzi   \n",
       "22     5-Year results of high-dose sequential (HDS) a...        AM Gianni   \n",
       "23     96-hour paclitaxel after prior short taxane in...       AD Seidman   \n",
       "24     96-hour paclitaxel without and with R-verapami...       D Riseberg   \n",
       "25     A Canadian national tumor bank/data base for s...       V Bramwell   \n",
       "26     A Canadian perspective on breast conservative ...        C Kotwall   \n",
       "27     A clinical evaluation of Duragesic (transderma...    J Gardner-Nix   \n",
       "28     A comparison of two quality-of-life (QOL) ques...          MT King   \n",
       "29     A comprehensive analysis of the cost basis of ...          F Khuri   \n",
       "...                                                  ...              ...   \n",
       "62348  Bevacizumab plus capecitabine as maintenance t...        S. Yalcin   \n",
       "62351  The relationship between cost, quality, and ou...    M. J. Hassett   \n",
       "62361  Effect of Medical Qigong on cognitive function...            B. Oh   \n",
       "62362  Tumor-targeted cancer vaccination (GeneVieve P...    J. G. Ignacio   \n",
       "62371  Activity and tolerability of the Bruton&#39;s ...       J. C. Byrd   \n",
       "62386  Lymphocyte infiltration (LI) and immunohistoch...        C. S. Yau   \n",
       "62396  Role of routine adjuvant chemotherapy after ne...      R. P. Kiran   \n",
       "62402  A novel approach to rituximab biosimilar drug ...      S. M. Berry   \n",
       "62407  Long-term safety of lenalidomide (LEN) in rela...      B. G. Durie   \n",
       "62414  Multisolution variance-based optimization (MVB...    M. A. Laviraj   \n",
       "62431  The impact of screening mammography in breast ...        C. Checka   \n",
       "62452  Body mass index: A potential risk factor for b...        V. Sharma   \n",
       "62456  Frequency of mutations associated with targete...         S. Cheng   \n",
       "62462  Rapid improvement in evidence-based, quality c...       M. A. Amin   \n",
       "62467  FLT-PET analysis of early response to everolim...   J. N. Sarkaria   \n",
       "62484  Prognostic factors in elderly patients with gr...         A. Satra   \n",
       "62503  Changes in global patterns of care for first-l...    A. J. Combest   \n",
       "62512  Time to publication of the results of clinical...      H. Katayama   \n",
       "62515  Treatment (Tx) guidelines for skin and mucosal...      M. J. Borad   \n",
       "62541  Barriers to implementing primary HER2 FISH tes...  G. J. Tsongalis   \n",
       "62543  Understanding causes for distress among cancer...     S. A. Taylor   \n",
       "62544  Fluorodeoxiglucose (FDG)-avidity at positron e...        S. Redana   \n",
       "62551  Impact of travel distance on early diagnosis o...     J. A. Holmes   \n",
       "62561  Poly(ADP ribose) polymerase (PARP) inhibition ...  D. R. Shalinsky   \n",
       "62564  A phase I study of ifosfamide, oxaliplatin, an...   L. M. McGregor   \n",
       "62568  Management of thymic epithelial tumors (TETs) ...         A. Rajan   \n",
       "62576  Spinal or epidural analgesia for cancer pain: ...         N. Yarom   \n",
       "62577  Comparative PARP enzyme inhibition of PF-01367...       K. A. Kern   \n",
       "62585  Risk stratification and stage migration effect...      B. B. Desai   \n",
       "62604  Impact of preoperative radiation dose escalati...      C. B. Patel   \n",
       "\n",
       "                                                    Body  \\\n",
       "0      Cisplatin compound is established as the main ...   \n",
       "1      Between March 24, 1977, and March 24, 1983, 15...   \n",
       "2      ECF has established activity and a high respon...   \n",
       "3      In 7/93, we began investigation of a three-dru...   \n",
       "4      Active specific immunotherapy (ASI) is the adm...   \n",
       "5      Breast cancer patients with 10 or more positiv...   \n",
       "6      Rationale: Traditional outcome measures are un...   \n",
       "7      The clinical experience with biochemical modul...   \n",
       "8      Most MO rely on prospective randomized trials....   \n",
       "9      Both interferons and retinoids are known to po...   \n",
       "10     The prognosis of AILD, a rare low grade T-cell...   \n",
       "11     75 patients (pts) with HD pathologic stages IA...   \n",
       "12     From 1979 to 1984, 71 patients with UICC T4d i...   \n",
       "13     Santana et al reported a CR rate of 8/17 (95% ...   \n",
       "14     Since human monocyte cell lines show in vitro ...   \n",
       "15     The infusion duration of paclitaxel has varied...   \n",
       "16     T has shown significant antitumor activity in ...   \n",
       "17     High-dose T has shown significant antitumor ac...   \n",
       "18     Ongoing clinical trials are evaluating the eff...   \n",
       "19     Between 1991 and 1994, 28 patients with gastro...   \n",
       "20     The erratic bioavailability (BA) of oral 5-FU ...   \n",
       "21     To determine whether the addition of 6-S-LV to...   \n",
       "22     To improve the results of adjuvant chemotherap...   \n",
       "23     Paclitaxel (P) via 96 hr infusion has signific...   \n",
       "24     We conducted a two part trial of 96-hr infusio...   \n",
       "25     A network established by a cooperative clinica...   \n",
       "26     Between 5/88 and 6/93, 220 consecutive women w...   \n",
       "27     Between May 1992 and April 1994, 250 patients ...   \n",
       "28     FLIC and QLQ-C30 were administered concurrentl...   \n",
       "29     We have carried out a comprehensive database a...   \n",
       "...                                                  ...   \n",
       "62348  <p><b>Background:</b> Colorectal cancer is one...   \n",
       "62351  <p><b>Background:</b> Breast cancer (BrCa) is ...   \n",
       "62361  <p><b>Background: </b>   Cancer patients often...   \n",
       "62362  <p><b>Background:</b> Rexin-G and Reximmune-C ...   \n",
       "62371  <p><b>Background: </b>  Btk is essential to B-...   \n",
       "62386  <p><b>Background:</b> IHC is a readily availab...   \n",
       "62396  <p><b>Background:</b> The current standard of ...   \n",
       "62402  <p><b>Background:</b>  Regulatory uncertainty ...   \n",
       "62407  <p><b>Background:</b> LEN has significantly ex...   \n",
       "62414  <p><b>Background:</b> Oncentra Prostate real-t...   \n",
       "62431  <p><b>Background:</b> Recent recommendations b...   \n",
       "62452  <p><b>Background:</b> Breast cancer (BC), the ...   \n",
       "62456  <p><b>Background:</b> <i>BRAF</i>,<i> RAS</i>,...   \n",
       "62462  <p><b>Background:</b> ASCO&#39;s Quality Oncol...   \n",
       "62467  <p><b>Background:</b> 18F-fluorodeoxyuridine (...   \n",
       "62484  <p><b>Background:</b> Anaplastic astrocytoma (...   \n",
       "62503  <p><b>Background:</b> Few reports have focused...   \n",
       "62512  <p><b>Background:</b> It was previously report...   \n",
       "62515  <p><b>Background:</b> TH&#8209;302 is essentia...   \n",
       "62541  <p><b>Background:</b> Two HER2/neu testing pro...   \n",
       "62543  <p><b>Background:</b> While both cancer diagno...   \n",
       "62544  <p><b>Background:</b> Reduced FDG avidity in m...   \n",
       "62551  <p><b>Background:</b> Patients with an elevate...   \n",
       "62561  <p><b>Background:</b> PARP activity in PBLs or...   \n",
       "62564  <p> <b>Background:</b> Carboplatin and cisplat...   \n",
       "62568  <p><b>Background: </b> TETs are very rare ante...   \n",
       "62576  <p><b>Background:</b> Cancer pain is occasiona...   \n",
       "62577  <p><b>Background:</b> Within the past several ...   \n",
       "62585  <p><b>Background:</b> To evaluate the diagnost...   \n",
       "62604  <p><b>Background:</b> Compared with postoperat...   \n",
       "\n",
       "      AbstractPublicationID  \\\n",
       "0                      1181   \n",
       "1                       270   \n",
       "2                       784   \n",
       "3                      1197   \n",
       "4                       549   \n",
       "5                        69   \n",
       "6                       649   \n",
       "7                      1609   \n",
       "8                      1633   \n",
       "9                       709   \n",
       "10                     1273   \n",
       "11                     1285   \n",
       "12                      265   \n",
       "13                     1005   \n",
       "14                     1022   \n",
       "15                     1500   \n",
       "16                      207   \n",
       "17                      206   \n",
       "18                      292   \n",
       "19                      575   \n",
       "20                     1478   \n",
       "21                      497   \n",
       "22                       61   \n",
       "23                      151   \n",
       "24                      403   \n",
       "25                     1694   \n",
       "26                      249   \n",
       "27                      390   \n",
       "28                     1651   \n",
       "29                      905   \n",
       "...                     ...   \n",
       "62348                   NaN   \n",
       "62351                   NaN   \n",
       "62361                   NaN   \n",
       "62362                   NaN   \n",
       "62371                   NaN   \n",
       "62386                   NaN   \n",
       "62396                   NaN   \n",
       "62402                   NaN   \n",
       "62407                   NaN   \n",
       "62414                   NaN   \n",
       "62431                   NaN   \n",
       "62452                   NaN   \n",
       "62456                   NaN   \n",
       "62462                   NaN   \n",
       "62467                   NaN   \n",
       "62484                   NaN   \n",
       "62503                   NaN   \n",
       "62512                   NaN   \n",
       "62515                   NaN   \n",
       "62541                   NaN   \n",
       "62543                   NaN   \n",
       "62544                   NaN   \n",
       "62551                   NaN   \n",
       "62561                   NaN   \n",
       "62564                   NaN   \n",
       "62568                   NaN   \n",
       "62576                   NaN   \n",
       "62577                   NaN   \n",
       "62585                   NaN   \n",
       "62604                   NaN   \n",
       "\n",
       "                                         tokenized_sents  \\\n",
       "0      [[Cisplatin, compound, is, established, as, th...   \n",
       "1      [[Between, March, 24, 1977, and, March, 24, 19...   \n",
       "2      [[ECF, has, established, activity, and, a, hig...   \n",
       "3      [[In, 7/93, we, began, investigation, of, a, t...   \n",
       "4      [[Active, specific, immunotherapy, ASI, is, th...   \n",
       "5      [[Breast, cancer, patients, with, 10, or, more...   \n",
       "6      [[Rationale], [Traditional, outcome, measures,...   \n",
       "7      [[The, clinical, experience, with, biochemical...   \n",
       "8      [[Most, MO, rely, on, prospective, randomized,...   \n",
       "9      [[Both, interferons, and, retinoids, are, know...   \n",
       "10     [[The, prognosis, of, AILD, a, rare, low, grad...   \n",
       "11     [[75, patients, pts, with, HD, pathologic, sta...   \n",
       "12     [[From, 1979, to, 1984, 71, patients, with, UI...   \n",
       "13     [[Santana, et, al, reported, a, CR, rate, of, ...   \n",
       "14     [[Since, human, monocyte, cell, lines, show, i...   \n",
       "15     [[The, infusion, duration, of, paclitaxel, has...   \n",
       "16     [[T, has, shown, significant, antitumor, activ...   \n",
       "17     [[High, dose, T, has, shown, significant, anti...   \n",
       "18     [[Ongoing, clinical, trials, are, evaluating, ...   \n",
       "19     [[Between, 1991, and, 1994, 28, patients, with...   \n",
       "20     [[The, erratic, bioavailability, BA, of, oral,...   \n",
       "21     [[To, determine, whether, the, addition, of, 6...   \n",
       "22     [[To, improve, the, results, of, adjuvant, che...   \n",
       "23     [[Paclitaxel, P, via, 96, hr, infusion, has, s...   \n",
       "24     [[We, conducted, a, two, part, trial, of, 96-h...   \n",
       "25     [[A, network, established, by, a, cooperative,...   \n",
       "26     [[Between, 5/88, and, 6/93, 220, consecutive, ...   \n",
       "27     [[Between, May, 1992, and, April, 1994, 250, p...   \n",
       "28     [[FLIC, and, QLQ, C30, were, administered, con...   \n",
       "29     [[We, have, carried, out, a, comprehensive, da...   \n",
       "...                                                  ...   \n",
       "62348  [[<, p><b, >], [Background:</b, >, Colorectal,...   \n",
       "62351  [[<], [p><b, >], [Background:</b, >, Breast, c...   \n",
       "62361  [[<], [p><b, >, Background, <, /b, >], [Cancer...   \n",
       "62362  [[<], [p><b, >], [Background:</b, >, Rexin, G,...   \n",
       "62371  [[<], [p><b, >, Background], [<, /b], [>], [Bt...   \n",
       "62386  [[<], [p><b, >], [Background:</b, >, IHC, is, ...   \n",
       "62396  [[<, p><b, >], [Background:</b, >], [The, curr...   \n",
       "62402  [[<, p><b, >], [Background:</b, >], [Regulator...   \n",
       "62407  [[<], [p><b, >], [Background:</b, >, LEN, has,...   \n",
       "62414  [[<, p><b, >], [Background:</b, >, Oncentra, P...   \n",
       "62431  [[<, p><b, >], [Background:</b, >, Recent, rec...   \n",
       "62452  [[<], [p><b, >], [Background:</b, >, Breast, c...   \n",
       "62456  [[<, p><b, >], [Background:</b, >, <, i], [>, ...   \n",
       "62462  [[<, p><b, >], [Background:</b, >, ASCO&#39;s,...   \n",
       "62467  [[<], [p><b, >], [Background:</b, >, 18F, fluo...   \n",
       "62484  [[<, p><b, >], [Background:</b, >, Anaplastic,...   \n",
       "62503  [[<, p><b, >], [Background:</b, >], [Few, repo...   \n",
       "62512  [[<, p><b, >], [Background:</b, >], [It, was, ...   \n",
       "62515  [[<], [p><b, >], [Background:</b, >, TH&#8209;...   \n",
       "62541  [[<, p><b, >], [Background:</b, >, Two, HER2, ...   \n",
       "62543  [[<, p><b, >], [Background:</b, >], [While, bo...   \n",
       "62544  [[<], [p><b, >], [Background:</b, >, Reduced, ...   \n",
       "62551  [[<], [p><b, >], [Background:</b, >, Patients,...   \n",
       "62561  [[<], [p><b, >], [Background:</b, >, PARP, act...   \n",
       "62564  [[<, p, >, <, b, >], [Background:</b, >], [Car...   \n",
       "62568  [[<], [p><b, >, Background], [<, /b], [>, TETs...   \n",
       "62576  [[<, p><b, >], [Background:</b, >, Cancer, pai...   \n",
       "62577  [[<, p><b, >], [Background:</b, >], [Within, t...   \n",
       "62585  [[<, p><b, >], [Background:</b, >], [To, evalu...   \n",
       "62604  [[<, p><b, >], [Background:</b, >], [Compared,...   \n",
       "\n",
       "                                        normalized_sents  \n",
       "0      [[cisplatin, compound, establish, main, drug, ...  \n",
       "1      [[march, march, woman, primary, breast, cancer...  \n",
       "2      [[ecf, establish, activity, high, response, ra...  \n",
       "3      [[begin, investigation, drug, combination, pac...  \n",
       "4      [[active, specific, immunotherapy, asi, admini...  \n",
       "5      [[breast, cancer, patient, positive, lymph, no...  \n",
       "6      [[rationale], [traditional, outcome, measure, ...  \n",
       "7      [[clinical, experience, biochemical, modulatio...  \n",
       "8      [[mo, rely, prospective, randomize, trial], [o...  \n",
       "9      [[interferon, retinoid, know, possess, antipro...  \n",
       "10     [[prognosis, aild, rare, low, grade, t, cell, ...  \n",
       "11     [[patient, pt, hd, pathologic, stage, ia, iiia...  \n",
       "12     [[patient, uicc, t4d, inflammatory, breast, ca...  \n",
       "13     [[santana, et, al, report, cr, rate, ci, child...  \n",
       "14     [[human, monocyte, cell, line, vitro, sensitiv...  \n",
       "15     [[infusion, duration, paclitaxel, vary, clinic...  \n",
       "16     [[t, show, significant, antitumor, activity, p...  \n",
       "17     [[high, dose, t, show, significant, antitumor,...  \n",
       "18     [[ongoing, clinical, trial, evaluate, efficacy...  \n",
       "19     [[patient, gastro, intestinal, adenocarcinoma,...  \n",
       "20     [[erratic, bioavailability, ba, oral, 5-fu, pr...  \n",
       "21     [[determine, addition, 6-s, lv, combination, 5...  \n",
       "22     [[improve, result, adjuvant, chemotherapy, bre...  \n",
       "23     [[paclitaxel, p, hr, infusion, significant, ac...  \n",
       "24     [[conduct, trial, 96-hr, infusional, paclitaxe...  \n",
       "25     [[network, establish, cooperative, clinical, t...  \n",
       "26     [[consecutive, woman, breast, cancer, undergo,...  \n",
       "27     [[april, patient, enroll, center, clinical, ev...  \n",
       "28     [[flic, qlq, c30, administer, concurrently, co...  \n",
       "29     [[carry, comprehensive, database, analysis, ev...  \n",
       "...                                                  ...  \n",
       "62348  [[<, p><b, >], [background:</b, >, colorectal,...  \n",
       "62351  [[<], [p><b, >], [background:</b, >, breast, c...  \n",
       "62361  [[<], [p><b, >, background, <, /b, >], [cancer...  \n",
       "62362  [[<], [p><b, >], [background:</b, >, rexin, g,...  \n",
       "62371  [[<], [p><b, >, background], [<, /b], [>], [bt...  \n",
       "62386  [[<], [p><b, >], [background:</b, >, ihc, read...  \n",
       "62396  [[<, p><b, >], [background:</b, >], [current, ...  \n",
       "62402  [[<, p><b, >], [background:</b, >], [regulator...  \n",
       "62407  [[<], [p><b, >], [background:</b, >, len, sign...  \n",
       "62414  [[<, p><b, >], [background:</b, >, oncentra, p...  \n",
       "62431  [[<, p><b, >], [background:</b, >, recent, rec...  \n",
       "62452  [[<], [p><b, >], [background:</b, >, breast, c...  \n",
       "62456  [[<, p><b, >], [background:</b, >, <], [>, bra...  \n",
       "62462  [[<, p><b, >], [background:</b, >, asco&#39;s,...  \n",
       "62467  [[<], [p><b, >], [background:</b, >, 18f, fluo...  \n",
       "62484  [[<, p><b, >], [background:</b, >, anaplastic,...  \n",
       "62503  [[<, p><b, >], [background:</b, >], [report, f...  \n",
       "62512  [[<, p><b, >], [background:</b, >], [previousl...  \n",
       "62515  [[<], [p><b, >], [background:</b, >, th&#8209;...  \n",
       "62541  [[<, p><b, >], [background:</b, >, her2, neu, ...  \n",
       "62543  [[<, p><b, >], [background:</b, >], [cancer, d...  \n",
       "62544  [[<], [p><b, >], [background:</b, >, reduce, f...  \n",
       "62551  [[<], [p><b, >], [background:</b, >, patient, ...  \n",
       "62561  [[<], [p><b, >], [background:</b, >, parp, act...  \n",
       "62564  [[<, p, >, <, b, >], [background:</b, >], [car...  \n",
       "62568  [[<], [p><b, >, background], [<, /b], [>, tets...  \n",
       "62576  [[<, p><b, >], [background:</b, >, cancer, pai...  \n",
       "62577  [[<, p><b, >], [background:</b, >], [past, yea...  \n",
       "62585  [[<, p><b, >], [background:</b, >], [evaluate,...  \n",
       "62604  [[<, p><b, >], [background:</b, >], [compare, ...  \n",
       "\n",
       "[48678 rows x 8 columns]"
      ]
     },
     "execution_count": 94,
     "metadata": {},
     "output_type": "execute_result"
    }
   ],
   "source": [
    "ascoDF"
   ]
  },
  {
   "cell_type": "markdown",
   "metadata": {},
   "source": [
    "We will be creating many embeddings so we have created this function to do most of the work. It creates two collections of embeddings, one the original and one the aligned."
   ]
  },
  {
   "cell_type": "code",
   "execution_count": 183,
   "metadata": {},
   "outputs": [],
   "source": [
    "def compareModels(df, category, text_column_name='normalized_sents', sort = True, embeddings_raw={}):\n",
    "    \"\"\"If you are using time as your category sorting is important\"\"\"\n",
    "    if len(embeddings_raw) == 0:\n",
    "        embeddings_raw = rawModels(df, category, text_column_name, sort)\n",
    "    cats = sorted(set(df[category]))\n",
    "    #These are much quicker\n",
    "    embeddings_aligned = {}\n",
    "    for catOuter in cats:\n",
    "        embeddings_aligned[catOuter] = [embeddings_raw[catOuter]]\n",
    "        for catInner in cats:\n",
    "            embeddings_aligned[catOuter].append(smart_procrustes_align_gensim(embeddings_aligned[catOuter][-1], embeddings_raw[catInner]))\n",
    "    return embeddings_raw, embeddings_aligned"
   ]
  },
  {
   "cell_type": "code",
   "execution_count": 184,
   "metadata": {},
   "outputs": [],
   "source": [
    "def rawModels(df, category, text_column_name='normalized_sents', sort = True):\n",
    "    embeddings_raw = {}\n",
    "    cats = sorted(set(df[category]))\n",
    "    for cat in cats:\n",
    "        #This can take a while\n",
    "        print(\"Embedding {}\".format(cat), end = '\\r')\n",
    "        subsetDF = df[df[category] == cat]\n",
    "        #You might want to change the W2V parameters\n",
    "        embeddings_raw[cat] = gensim.models.word2vec.Word2Vec(subsetDF[text_column_name].sum())\n",
    "    return embeddings_raw"
   ]
  },
  {
   "cell_type": "markdown",
   "metadata": {},
   "source": [
    "Now we generate the models:"
   ]
  },
  {
   "cell_type": "code",
   "execution_count": 77,
   "metadata": {},
   "outputs": [
    {
     "name": "stdout",
     "output_type": "stream",
     "text": [
      "Embedding 2011\r"
     ]
    }
   ],
   "source": [
    "rawEmbeddings, comparedEmbeddings = compareModels(ascoDF, 'Year')"
   ]
  },
  {
   "cell_type": "code",
   "execution_count": 95,
   "metadata": {},
   "outputs": [
    {
     "data": {
      "text/plain": [
       "dict_keys([1995, 1996, 1997, 1998, 1999, 2001, 2002, 2003, 2004, 2005, 2006, 2007, 2008, 2009, 2010, 2011])"
      ]
     },
     "execution_count": 95,
     "metadata": {},
     "output_type": "execute_result"
    }
   ],
   "source": [
    "rawEmbeddings.keys()"
   ]
  },
  {
   "cell_type": "markdown",
   "metadata": {},
   "source": [
    "We need to compare them across all permutions so we will define another function to help, we will be using 1 - cosine similarity as that gives a more intitive range of 0-2 with low values meaning little change and high meaning lots of change."
   ]
  },
  {
   "cell_type": "code",
   "execution_count": 78,
   "metadata": {},
   "outputs": [],
   "source": [
    "def getDivergenceDF(word, embeddingsDict):\n",
    "    dists = []\n",
    "    cats = sorted(set(embeddingsDict.keys()))\n",
    "    dists = {}\n",
    "    print(word)\n",
    "    for cat in cats:\n",
    "        dists[cat] = []\n",
    "        for embed in embeddingsDict[cat][1:]:\n",
    "            dists[cat].append(np.abs(1 - sklearn.metrics.pairwise.cosine_similarity(np.expand_dims(embeddingsDict[cat][0][word], axis = 0),\n",
    "                                                                             np.expand_dims(embed[word], axis = 0))[0,0]))\n",
    "    return pandas.DataFrame(dists, index = cats)"
   ]
  },
  {
   "cell_type": "markdown",
   "metadata": {},
   "source": [
    "Lets look at a couple words:"
   ]
  },
  {
   "cell_type": "code",
   "execution_count": 79,
   "metadata": {},
   "outputs": [
    {
     "name": "stdout",
     "output_type": "stream",
     "text": [
      "breast\n"
     ]
    },
    {
     "data": {
      "image/png": "[encoded data removed]",
      "text/plain": [
       "<Figure size 720x504 with 2 Axes>"
      ]
     },
     "metadata": {
      "needs_background": "light"
     },
     "output_type": "display_data"
    }
   ],
   "source": [
    "targetWord = 'breast'\n",
    "\n",
    "pltDF = getDivergenceDF(targetWord, comparedEmbeddings)\n",
    "fig, ax = plt.subplots(figsize = (10, 7))\n",
    "seaborn.heatmap(pltDF, ax = ax, annot = False) #set annot True for a lot more information\n",
    "ax.set_xlabel(\"Starting year\")\n",
    "ax.set_ylabel(\"Final year\")\n",
    "ax.set_ylabel(\"Final year\")\n",
    "ax.set_title(\"Yearly linguistic change for: '{}'\".format(targetWord))\n",
    "plt.show()"
   ]
  },
  {
   "cell_type": "code",
   "execution_count": 80,
   "metadata": {},
   "outputs": [
    {
     "name": "stdout",
     "output_type": "stream",
     "text": [
      "combination\n"
     ]
    },
    {
     "data": {
      "image/png": "[encoded data removed]",
      "text/plain": [
       "<Figure size 720x504 with 2 Axes>"
      ]
     },
     "metadata": {
      "needs_background": "light"
     },
     "output_type": "display_data"
    }
   ],
   "source": [
    "targetWord = 'combination'\n",
    "\n",
    "pltDF = getDivergenceDF(targetWord, comparedEmbeddings)\n",
    "fig, ax = plt.subplots(figsize = (10, 7))\n",
    "seaborn.heatmap(pltDF, ax = ax, annot = False) #set annot True for a lot more information\n",
    "ax.set_xlabel(\"Starting year\")\n",
    "ax.set_ylabel(\"Final year\")\n",
    "ax.set_ylabel(\"Final year\")\n",
    "ax.set_title(\"Yearly linguistic change for: '{}'\".format(targetWord))\n",
    "plt.show()"
   ]
  },
  {
   "cell_type": "code",
   "execution_count": 81,
   "metadata": {},
   "outputs": [],
   "source": [
    "def findDiverence(word, embeddingsDict):\n",
    "    cats = sorted(set(embeddingsDict.keys()))\n",
    "    \n",
    "    dists = []\n",
    "    for embed in embeddingsDict[cats[0]][1:]:\n",
    "        dists.append(1 - sklearn.metrics.pairwise.cosine_similarity(np.expand_dims(embeddingsDict[cats[0]][0][word], axis = 0), np.expand_dims(embed[word], axis = 0))[0,0])\n",
    "    return sum(dists)\n",
    "\n",
    "def findMostDivergent(embeddingsDict):\n",
    "    words = []\n",
    "    for embeds in embeddingsDict.values():\n",
    "        for embed in embeds:\n",
    "            words += list(embed.wv.vocab.keys())\n",
    "    words = set(words)\n",
    "    print(\"Found {} words to compare\".format(len(words)))\n",
    "    return sorted([(w, findDiverence(w, embeddingsDict)) for w in words], key = lambda x: x[1], reverse=True)\n",
    "    "
   ]
  },
  {
   "cell_type": "code",
   "execution_count": 82,
   "metadata": {},
   "outputs": [
    {
     "name": "stdout",
     "output_type": "stream",
     "text": [
      "Found 1571 words to compare\n"
     ]
    }
   ],
   "source": [
    "wordDivergences = findMostDivergent(comparedEmbeddings)"
   ]
  },
  {
   "cell_type": "markdown",
   "metadata": {},
   "source": [
    "The most divergent words are:"
   ]
  },
  {
   "cell_type": "code",
   "execution_count": 83,
   "metadata": {},
   "outputs": [
    {
     "data": {
      "text/plain": [
       "[('t', 13.179612953215837),\n",
       " ('toxicity', 13.154180981218815),\n",
       " ('ml', 13.01737873442471),\n",
       " ('+', 12.853400095365942),\n",
       " ('activity', 12.749210256617516),\n",
       " ('infusion', 12.687976829707623),\n",
       " ('paclitaxel', 12.683675490319729),\n",
       " ('n', 12.662226218730211),\n",
       " ('great', 12.659880327060819),\n",
       " ('level', 12.559175675734878),\n",
       " ('x', 12.508285094052553),\n",
       " ('phase', 12.495868034660816),\n",
       " ('cisplatin', 12.456645250320435),\n",
       " ('combination', 12.417438723146915),\n",
       " ('c', 12.407136777415872),\n",
       " ('p', 12.399663124466315),\n",
       " ('efficacy', 12.373506214469671),\n",
       " ('csf', 12.333098318078555),\n",
       " ('show', 12.330282736569643),\n",
       " ('iv', 12.321207114960998)]"
      ]
     },
     "execution_count": 83,
     "metadata": {},
     "output_type": "execute_result"
    }
   ],
   "source": [
    "wordDivergences[:20]"
   ]
  },
  {
   "cell_type": "markdown",
   "metadata": {},
   "source": [
    "And the least:"
   ]
  },
  {
   "cell_type": "code",
   "execution_count": 84,
   "metadata": {},
   "outputs": [
    {
     "data": {
      "text/plain": [
       "[('answer', 1.7252497673034668),\n",
       " ('device', 1.721915602684021),\n",
       " ('facilitate', 1.720019280910492),\n",
       " ('additionally', 1.685628592967987),\n",
       " ('particular', 1.6720524430274963),\n",
       " ('ensure', 1.6524746417999268),\n",
       " ('context', 1.650183618068695),\n",
       " ('definition', 1.6107643842697144),\n",
       " ('difficulty', 1.6012009978294373),\n",
       " ('discuss', 1.5829300284385681),\n",
       " ('call', 1.5171823501586914),\n",
       " ('traditional', 1.4596245288848877),\n",
       " ('nature', 1.44323068857193),\n",
       " ('constitute', 1.4302696585655212),\n",
       " ('simple', 1.410505771636963),\n",
       " ('practical', 1.3745331764221191),\n",
       " ('special', 1.294035017490387),\n",
       " ('uncertain', 1.2042807936668396),\n",
       " ('situation', 1.1920225620269775),\n",
       " ('view', 1.1317378878593445)]"
      ]
     },
     "execution_count": 84,
     "metadata": {},
     "output_type": "execute_result"
    }
   ],
   "source": [
    "wordDivergences[-20:]"
   ]
  },
  {
   "cell_type": "code",
   "execution_count": 85,
   "metadata": {},
   "outputs": [
    {
     "name": "stdout",
     "output_type": "stream",
     "text": [
      "t\n"
     ]
    },
    {
     "data": {
      "image/png": "[encoded data removed]",
      "text/plain": [
       "<Figure size 720x504 with 2 Axes>"
      ]
     },
     "metadata": {
      "needs_background": "light"
     },
     "output_type": "display_data"
    }
   ],
   "source": [
    "targetWord = wordDivergences[0][0]\n",
    "\n",
    "pltDF = getDivergenceDF(targetWord, comparedEmbeddings)\n",
    "fig, ax = plt.subplots(figsize = (10, 7))\n",
    "seaborn.heatmap(pltDF, ax = ax, annot = False) #set annot True for a lot more information\n",
    "ax.set_xlabel(\"Starting year\")\n",
    "ax.set_ylabel(\"Final year\")\n",
    "ax.set_ylabel(\"Final year\")\n",
    "ax.set_title(\"Yearly linguistic change for: '{}'\".format(targetWord))\n",
    "plt.show()"
   ]
  },
  {
   "cell_type": "code",
   "execution_count": 86,
   "metadata": {},
   "outputs": [
    {
     "name": "stdout",
     "output_type": "stream",
     "text": [
      "view\n"
     ]
    },
    {
     "data": {
      "image/png": "[encoded data removed]",
      "text/plain": [
       "<Figure size 720x504 with 2 Axes>"
      ]
     },
     "metadata": {
      "needs_background": "light"
     },
     "output_type": "display_data"
    }
   ],
   "source": [
    "targetWord = wordDivergences[-1][0]\n",
    "\n",
    "pltDF = getDivergenceDF(targetWord, comparedEmbeddings)\n",
    "fig, ax = plt.subplots(figsize = (10, 7))\n",
    "seaborn.heatmap(pltDF, ax = ax, annot = False) #set annot True for a lot more information\n",
    "ax.set_xlabel(\"Starting year\")\n",
    "ax.set_ylabel(\"Final year\")\n",
    "ax.set_ylabel(\"Final year\")\n",
    "ax.set_title(\"Yearly linguistic change for: '{}'\".format(targetWord))\n",
    "plt.show()"
   ]
  },
  {
   "cell_type": "markdown",
   "metadata": {},
   "source": [
    "## COHA\n",
    "\n",
    "COHA is a historial dataset so it ends up being a good choice to try the same analysis we just did across three different time periods.\n",
    "\n",
    "We will be using the same data loading procedure as the last notebook, so go through the process to make sure you know what's going on."
   ]
  },
  {
   "cell_type": "code",
   "execution_count": 88,
   "metadata": {},
   "outputs": [],
   "source": [
    "corpora_address = \"/Users/bhargavvader/Downloads/Academics_Tech/corpora/COHA\""
   ]
  },
  {
   "cell_type": "code",
   "execution_count": 89,
   "metadata": {},
   "outputs": [
    {
     "name": "stdout",
     "output_type": "stream",
     "text": [
      "text_1940s_bsw.zip\n",
      "text_1920s_gte.zip\n",
      "text_1900s_mse.zip\n",
      "text_1810s_kso.zip\n",
      "text_2000s_scc.zip\n",
      "text_1910s_jue.zip\n",
      "text_1890s_jsq.zip\n",
      "text_1870s_vuy.zip\n",
      "text_1840s_nsq.zip\n",
      "text_1860s_psi.zip\n",
      "text_1950s_ndz.zip\n",
      "text_1820s_jsi.zip\n",
      "text_1980s_bkk.zip\n",
      "text_1930s_bie.zip\n",
      "text_1960s_xus.zip\n",
      "text_1990s_bsj.zip\n",
      "text_1830s_bsu.zip\n",
      "text_1850s_jpr.zip\n",
      "text_1970s_jfy.zip\n",
      "text_1880s_azz.zip\n"
     ]
    }
   ],
   "source": [
    "coha_texts = lucem_illud_2020.loadDavies(corpora_address, return_raw=True)"
   ]
  },
  {
   "cell_type": "markdown",
   "metadata": {},
   "source": [
    "Cool - let us now create our different epochs. This is an important step: I will be using the same 5 epochs I did in the DTM example, but you are recommended to play around with this. I will create a dataframe which logs the year and the genre."
   ]
  },
  {
   "cell_type": "code",
   "execution_count": 114,
   "metadata": {},
   "outputs": [],
   "source": [
    "coha_df = pandas.DataFrame(columns=[\"Year\", \"Genre\", \"Epoch\", \"normalized sents\"])"
   ]
  },
  {
   "cell_type": "code",
   "execution_count": 115,
   "metadata": {},
   "outputs": [],
   "source": [
    "for article in coha_texts:\n",
    "    genre, year, id_ = article.split(\"_\")\n",
    "\n",
    "    year = int(year)\n",
    "    \n",
    "    if year > 1810 and year < 1880:\n",
    "        epoch = 0\n",
    "    if year >= 1880 and year < 1913:\n",
    "        epoch = 1\n",
    "    if year >= 1913 and year < 1950:\n",
    "        epoch = 2\n",
    "    if year >= 1950 and year < 1990:\n",
    "        epoch = 3\n",
    "    if year >= 1990:\n",
    "        epoch = 4\n",
    "    \n",
    "    try:\n",
    "        if len(coha_texts[article][2]) < 1500000:\n",
    "            coha_df.loc[id_] = [year, genre, epoch, lucem_illud_2020.normalizeTokens(coha_texts[article][2].decode(\"utf-8\"), lemma=False)]\n",
    "    except TypeError:\n",
    "        continue\n",
    "    except IndexError:\n",
    "        continue\n"
   ]
  },
  {
   "cell_type": "markdown",
   "metadata": {},
   "source": [
    "We can now arrange our word embeddings by either year, genre, or epoch, and see how the words in each of those contexts change."
   ]
  },
  {
   "cell_type": "code",
   "execution_count": 176,
   "metadata": {},
   "outputs": [
    {
     "name": "stdout",
     "output_type": "stream",
     "text": [
      "Embedding 4\r"
     ]
    }
   ],
   "source": [
    "rawEmbeddings_epoch = rawModels(coha_df, 'Epoch', text_column_name='normalized sents')"
   ]
  },
  {
   "cell_type": "code",
   "execution_count": null,
   "metadata": {},
   "outputs": [],
   "source": [
    "# rawEmbeddings_genre = rawModels(coha_df, 'Genre', text_column_name='normalized sents')"
   ]
  },
  {
   "cell_type": "markdown",
   "metadata": {},
   "source": [
    "We now have the raw embeddings for epoch and genre. You can test out the previous analysis on words of your choice."
   ]
  },
  {
   "cell_type": "code",
   "execution_count": 178,
   "metadata": {},
   "outputs": [],
   "source": [
    "for epoch, embedding in enumerate(rawEmbeddings_epoch):\n",
    "    model = rawEmbeddings_epoch[embedding]\n",
    "    name = \"embedding_epoch_\" + str(epoch)\n",
    "    model.save(name)"
   ]
  },
  {
   "cell_type": "code",
   "execution_count": null,
   "metadata": {},
   "outputs": [],
   "source": [
    "# for embedding in rawEmbeddings_genre:\n",
    "#     model = rawEmbeddings_genre[embedding]\n",
    "#     name = \"embedding_genre_\" + embedding\n",
    "#     model.save(name)"
   ]
  },
  {
   "cell_type": "code",
   "execution_count": 179,
   "metadata": {},
   "outputs": [],
   "source": [
    "from gensim.models import Word2Vec"
   ]
  },
  {
   "cell_type": "code",
   "execution_count": 191,
   "metadata": {},
   "outputs": [],
   "source": [
    "def file_to_embeddings(address, kind):\n",
    "    rawEmbeddings = {}\n",
    "    for file in os.listdir(address):\n",
    "        if \"embedding_\"+kind in file:\n",
    "            e, kind_, kind_type = file.split(\"_\")\n",
    "            kind_type = eval(kind_type)\n",
    "            rawEmbeddings[kind_type] = Word2Vec.load(file)\n",
    "    return rawEmbeddings"
   ]
  },
  {
   "cell_type": "code",
   "execution_count": 192,
   "metadata": {},
   "outputs": [],
   "source": [
    "# rawEmbeddings_genre_load = file_to_embeddings(\".\", \"genre\")"
   ]
  },
  {
   "cell_type": "code",
   "execution_count": 193,
   "metadata": {},
   "outputs": [],
   "source": [
    "rawEmbeddings_epoch_load = file_to_embeddings(\".\", \"epoch\")"
   ]
  },
  {
   "cell_type": "code",
   "execution_count": 194,
   "metadata": {},
   "outputs": [
    {
     "data": {
      "text/plain": [
       "dict_keys([0, 1, 2, 3, 4])"
      ]
     },
     "execution_count": 194,
     "metadata": {},
     "output_type": "execute_result"
    }
   ],
   "source": [
    "rawEmbeddings_epoch_load.keys()"
   ]
  },
  {
   "cell_type": "code",
   "execution_count": 195,
   "metadata": {},
   "outputs": [],
   "source": [
    "rawEmbeddings_epoch, compared_epoch = compareModels(coha_df, 'Epoch', text_column_name='normalized sents', embeddings_raw=rawEmbeddings_epoch_load)"
   ]
  },
  {
   "cell_type": "code",
   "execution_count": null,
   "metadata": {},
   "outputs": [],
   "source": [
    "# rawEmbeddings_genre, compared_genre = compareModels(coha_df, 'Genre', text_column_name='normalized sents', embeddings_raw=rawEmbeddings_genre_load)"
   ]
  },
  {
   "cell_type": "markdown",
   "metadata": {},
   "source": [
    "You now have access to the epoch wise embeddings, and the code to train models genre wise (commented out). \n",
    "You can use the original embeddings, the compared embeddings and such to perform the analysis we did before."
   ]
  },
  {
   "cell_type": "markdown",
   "metadata": {},
   "source": [
    "## <span style=\"color:red\">*Exercise 4b*</span>\n",
    "\n",
    "<span style=\"color:red\">**Do only 4a or 4b.** Construct cells immediately below this that align word embeddings over time or across domains/corpora. Interrogate the spaces that result and ask which words changed most and least over the entire period or between contexts/corpora. What does this reveal about the social game underlying your space? "
   ]
  }
 ],
 "metadata": {
  "anaconda-cloud": {},
  "kernelspec": {
   "display_name": "Python 3",
   "language": "python",
   "name": "python3"
  },
  "language_info": {
   "codemirror_mode": {
    "name": "ipython",
    "version": 3
   },
   "file_extension": ".py",
   "mimetype": "text/x-python",
   "name": "python",
   "nbconvert_exporter": "python",
   "pygments_lexer": "ipython3",
   "version": "3.7.4"
  }
 },
 "nbformat": 4,
 "nbformat_minor": 1
}
